{
 "cells": [
  {
   "cell_type": "markdown",
   "id": "2590fd22-9096-4f87-8412-ad38ff375727",
   "metadata": {
    "tags": []
   },
   "source": [
    "## Load Earth System Science Data (ESSD) datasets\n",
    "\n",
    "Copyright (C) 2021 OS-Climate\n",
    "\n",
    "Permission is hereby granted, free of charge, to any person obtaining a copy of this software and associated documentation files (the \"Software\"), to deal in the Software without restriction, including without limitation the rights to use, copy, modify, merge, publish, distribute, sublicense, and/or sell copies of the Software, and to permit persons to whom the Software is furnished to do so, subject to the following conditions:\n",
    "\n",
    "The above copyright notice and this permission notice shall be included in all copies or substantial portions of the Software.\n",
    "\n",
    "THE SOFTWARE IS PROVIDED \"AS IS\", WITHOUT WARRANTY OF ANY KIND, EXPRESS OR IMPLIED, INCLUDING BUT NOT LIMITED TO THE WARRANTIES OF MERCHANTABILITY, FITNESS FOR A PARTICULAR PURPOSE AND NONINFRINGEMENT. IN NO EVENT SHALL THE AUTHORS OR COPYRIGHT HOLDERS BE LIABLE FOR ANY CLAIM, DAMAGES OR OTHER LIABILITY, WHETHER IN AN ACTION OF CONTRACT, TORT OR OTHERWISE, ARISING FROM, OUT OF OR IN CONNECTION WITH THE SOFTWARE OR THE USE OR OTHER DEALINGS IN THE SOFTWARE.\n",
    "\n",
    "Contributed by Michael Tiemann (Github: MichaelTiemannOSC)"
   ]
  },
  {
   "cell_type": "code",
   "execution_count": 1,
   "id": "c4832a71-b696-4459-96b8-8eb566e25ea0",
   "metadata": {},
   "outputs": [
    {
     "name": "stderr",
     "output_type": "stream",
     "text": [
      "/Users/michael/virtualenvs/itr-test/lib/python3.11/site-packages/tqdm/auto.py:21: TqdmWarning: IProgress not found. Please update jupyter and ipywidgets. See https://ipywidgets.readthedocs.io/en/stable/user_install.html\n",
      "  from .autonotebook import tqdm as notebook_tqdm\n"
     ]
    }
   ],
   "source": [
    "import os\n",
    "import pathlib\n",
    "from pathlib import Path\n",
    "import pandas as pd\n",
    "import numpy as np\n",
    "\n",
    "import pint\n",
    "import pint_pandas\n",
    "import iam_units\n",
    "from openscm_units import unit_registry\n",
    "\n",
    "pint_pandas.PintType.ureg = unit_registry\n",
    "ureg = unit_registry\n",
    "\n",
    "import osc_ingest_trino as osc\n",
    "import trino\n",
    "from sqlalchemy.engine import create_engine\n",
    "from sqlalchemy import text\n",
    "\n",
    "import python_pachyderm\n",
    "import grpc\n",
    "\n",
    "import sys\n",
    "import io\n",
    "import shutil\n",
    "\n",
    "# pandas_profiling is obsolete and unmaintained\n",
    "from ydata_profiling import ProfileReport"
   ]
  },
  {
   "cell_type": "markdown",
   "id": "97cd47b9-ce08-4102-9720-c0401710245c",
   "metadata": {},
   "source": [
    "Load Credentials"
   ]
  },
  {
   "cell_type": "code",
   "execution_count": 2,
   "id": "0c9272c4-2f67-4769-b994-f4f110da425f",
   "metadata": {
    "tags": []
   },
   "outputs": [],
   "source": [
    "# From the AWS Account page, copy the export scripts from the appropriate role using the \"Command Line or Programmatic Access\" link\n",
    "# Paste the copied text into ~/credentials.env\n",
    "\n",
    "# Load environment variables from credentials.env\n",
    "osc.load_credentials_dotenv()"
   ]
  },
  {
   "cell_type": "code",
   "execution_count": 3,
   "id": "81a8f640-11ab-4194-af88-0a7c835d4f1b",
   "metadata": {},
   "outputs": [
    {
     "name": "stdout",
     "output_type": "stream",
     "text": [
      "using connect string: trino://MichaelTiemannOSC@trino-secure-odh-trino.apps.odh-cl2.apps.os-climate.org:443/osc_datacommons_dev\n"
     ]
    }
   ],
   "source": [
    "iceberg_catalog = \"osc_datacommons_dev\"\n",
    "iceberg_schema = \"essd\"\n",
    "essd_table_prefix = \"\"\n",
    "\n",
    "engine = osc.attach_trino_engine(verbose=True, catalog=iceberg_catalog)\n",
    "cxn = engine.connect()"
   ]
  },
  {
   "cell_type": "code",
   "execution_count": 4,
   "id": "80d3dd31-ed8e-4112-9509-e0f6724e6de8",
   "metadata": {},
   "outputs": [],
   "source": [
    "# bucket must be configured with credentials for trino, and accessible to the hive catalog\n",
    "# You may need to use a different prefix here depending on how you name your credentials.env variables\n",
    "hive_bucket = osc.attach_s3_bucket(\"S3_OSCCL2\")"
   ]
  },
  {
   "cell_type": "code",
   "execution_count": 5,
   "id": "4d2316e7-adf5-4fbb-abe7-1ae0019ef968",
   "metadata": {},
   "outputs": [
    {
     "data": {
      "text/plain": [
       "'MichaelTiemannOSC'"
      ]
     },
     "execution_count": 5,
     "metadata": {},
     "output_type": "execute_result"
    }
   ],
   "source": [
    "import os\n",
    "\n",
    "# create demo table named per user\n",
    "# avoids problems with users reusing table names and associated permission problems\n",
    "uniq = os.environ[\"TRINO_USER\"]\n",
    "uniq"
   ]
  },
  {
   "cell_type": "code",
   "execution_count": 6,
   "id": "50fd1de1-f156-459f-bfa4-4c0e83de1115",
   "metadata": {},
   "outputs": [],
   "source": [
    "ingest_catalog = \"osc_datacommons_hive_ingest\"\n",
    "ingest_schema = \"ingest\""
   ]
  },
  {
   "cell_type": "code",
   "execution_count": 7,
   "id": "d4ea5f15-a01c-48d0-bf8a-109279588a75",
   "metadata": {},
   "outputs": [],
   "source": [
    "schema_create = cxn.execute(\n",
    "    text(\n",
    "        f\"\"\"\n",
    "create schema if not exists osc_datacommons_dev.{iceberg_schema}\n",
    "WITH (\n",
    "    location = 's3a://osc-datacommons-s3-bucket-dev02/data/{iceberg_schema}.db/'\n",
    ")\n",
    "\"\"\"\n",
    "    )\n",
    ")\n",
    "if schema_create.returns_rows:\n",
    "    for row in schema_create.fetchall():\n",
    "        print(row)"
   ]
  },
  {
   "cell_type": "code",
   "execution_count": 8,
   "id": "bb96687d-74a7-46d8-9944-b63fddf11bd1",
   "metadata": {},
   "outputs": [
    {
     "name": "stdout",
     "output_type": "stream",
     "text": [
      "('aicoe_osc_demo_results',)\n",
      "('default',)\n",
      "('demo_dv',)\n",
      "('dera',)\n",
      "('essd',)\n",
      "('iceberg_demo',)\n",
      "('information_schema',)\n",
      "('ingest',)\n",
      "('mdt_sandbox',)\n",
      "('pcaf_sovereign_footprint',)\n",
      "('rmi',)\n",
      "('sandbox',)\n",
      "('wri_gppd',)\n"
     ]
    }
   ],
   "source": [
    "# Show available schemas to ensure trino connection is set correctly\n",
    "schema_read = cxn.execute(text(f\"show schemas in {iceberg_catalog}\"))\n",
    "if schema_read.returns_rows:\n",
    "    for row in schema_read.fetchall():\n",
    "        print(row)"
   ]
  },
  {
   "cell_type": "code",
   "execution_count": 9,
   "id": "e36febd0-c520-4b04-b832-fe64d7bc92e2",
   "metadata": {},
   "outputs": [],
   "source": [
    "# Create a pachyderm client by manually setting up host and port\n",
    "try:\n",
    "    client = python_pachyderm.Client(os.environ[\"PACH_ENDPOINT\"], os.environ[\"PACH_PORT\"])\n",
    "    client.health_check()\n",
    "except grpc._channel._InactiveRpcError:\n",
    "    client = python_pachyderm.Client(\"localhost\", os.environ[\"PACH_PORT\"])"
   ]
  },
  {
   "cell_type": "code",
   "execution_count": 10,
   "id": "d80ba556-43d1-4d2b-a45d-0aa3e7a92f40",
   "metadata": {},
   "outputs": [
    {
     "name": "stdout",
     "output_type": "stream",
     "text": [
      "[repo {\n",
      "  name: \"essd\"\n",
      "  type: \"user\"\n",
      "  project {\n",
      "    name: \"default\"\n",
      "  }\n",
      "}\n",
      "created {\n",
      "  seconds: 1714236258\n",
      "  nanos: 737008000\n",
      "}\n",
      "size_bytes_upper_bound: 45686859\n",
      "branches {\n",
      "  repo {\n",
      "    name: \"essd\"\n",
      "    type: \"user\"\n",
      "    project {\n",
      "      name: \"default\"\n",
      "    }\n",
      "  }\n",
      "  name: \"master\"\n",
      "}\n",
      "]\n"
     ]
    }
   ],
   "source": [
    "# Display list of repos\n",
    "print(list(client.list_repo()))"
   ]
  },
  {
   "cell_type": "code",
   "execution_count": 11,
   "id": "45f43241-8eeb-41d6-999c-ad5c63a9d502",
   "metadata": {},
   "outputs": [
    {
     "name": "stdout",
     "output_type": "stream",
     "text": [
      "[file {\n",
      "  commit {\n",
      "    branch {\n",
      "      repo {\n",
      "        name: \"essd\"\n",
      "        type: \"user\"\n",
      "        project {\n",
      "          name: \"default\"\n",
      "        }\n",
      "      }\n",
      "      name: \"master\"\n",
      "    }\n",
      "    id: \"361f019bef814ae69559eb1bcb03e6a6\"\n",
      "    repo {\n",
      "      name: \"essd\"\n",
      "      type: \"user\"\n",
      "      project {\n",
      "        name: \"default\"\n",
      "      }\n",
      "    }\n",
      "  }\n",
      "  path: \"/ESSD/essd-13-5213-2021-supplement.pdf\"\n",
      "  datum: \"default\"\n",
      "}\n",
      "file_type: FILE\n",
      "committed {\n",
      "  seconds: 1714236277\n",
      "  nanos: 741740000\n",
      "}\n",
      "size_bytes: 1108915\n",
      "hash: \"Bw\\332P\\022\\003\\014B\\364\\357e\\317\\032\\'\\016\\350\\353\\323\\362(\\314\\212\\376\\007\\272\\215\\361|\\272X\\257\\377\"\n",
      ", file {\n",
      "  commit {\n",
      "    branch {\n",
      "      repo {\n",
      "        name: \"essd\"\n",
      "        type: \"user\"\n",
      "        project {\n",
      "          name: \"default\"\n",
      "        }\n",
      "      }\n",
      "      name: \"master\"\n",
      "    }\n",
      "    id: \"361f019bef814ae69559eb1bcb03e6a6\"\n",
      "    repo {\n",
      "      name: \"essd\"\n",
      "      type: \"user\"\n",
      "      project {\n",
      "        name: \"default\"\n",
      "      }\n",
      "    }\n",
      "  }\n",
      "  path: \"/ESSD/essd-13-5213-2021.pdf\"\n",
      "  datum: \"default\"\n",
      "}\n",
      "file_type: FILE\n",
      "committed {\n",
      "  seconds: 1714236277\n",
      "  nanos: 741740000\n",
      "}\n",
      "size_bytes: 7243436\n",
      "hash: \"3\\000\\020\\314\\237\\\"\\321R\\202#\\006!\\031\\241ll\\377\\340\\207\\350\\273\\327\\034\\206s\\254\\354\\002\\013r\\354\\246\"\n",
      ", file {\n",
      "  commit {\n",
      "    branch {\n",
      "      repo {\n",
      "        name: \"essd\"\n",
      "        type: \"user\"\n",
      "        project {\n",
      "          name: \"default\"\n",
      "        }\n",
      "      }\n",
      "      name: \"master\"\n",
      "    }\n",
      "    id: \"361f019bef814ae69559eb1bcb03e6a6\"\n",
      "    repo {\n",
      "      name: \"essd\"\n",
      "      type: \"user\"\n",
      "      project {\n",
      "        name: \"default\"\n",
      "      }\n",
      "    }\n",
      "  }\n",
      "  path: \"/ESSD/essd_ghg_data.xlsx\"\n",
      "  datum: \"default\"\n",
      "}\n",
      "file_type: FILE\n",
      "committed {\n",
      "  seconds: 1714236277\n",
      "  nanos: 741740000\n",
      "}\n",
      "size_bytes: 24097257\n",
      "hash: \"\\255\\201_\\342\\303\\373\\340\\001\\301TL\\274\\357\\362\\210Z\\370Yg\\226y\\242\\016\\367\\256\\204\\013\\347E\\323O7\"\n",
      ", file {\n",
      "  commit {\n",
      "    branch {\n",
      "      repo {\n",
      "        name: \"essd\"\n",
      "        type: \"user\"\n",
      "        project {\n",
      "          name: \"default\"\n",
      "        }\n",
      "      }\n",
      "      name: \"master\"\n",
      "    }\n",
      "    id: \"361f019bef814ae69559eb1bcb03e6a6\"\n",
      "    repo {\n",
      "      name: \"essd\"\n",
      "      type: \"user\"\n",
      "      project {\n",
      "        name: \"default\"\n",
      "      }\n",
      "    }\n",
      "  }\n",
      "  path: \"/ESSD/essd_ghg_data_gwp100.xlsx\"\n",
      "  datum: \"default\"\n",
      "}\n",
      "file_type: FILE\n",
      "committed {\n",
      "  seconds: 1714236277\n",
      "  nanos: 741740000\n",
      "}\n",
      "size_bytes: 13123832\n",
      "hash: \"\\034\\277\\201I\\357b\\273\\014^&\\247\\323\\365\\375\\276\\nfGc\\266\\321+\\t=\\302\\001Kt:\\341\\321|\"\n",
      ", file {\n",
      "  commit {\n",
      "    branch {\n",
      "      repo {\n",
      "        name: \"essd\"\n",
      "        type: \"user\"\n",
      "        project {\n",
      "          name: \"default\"\n",
      "        }\n",
      "      }\n",
      "      name: \"master\"\n",
      "    }\n",
      "    id: \"361f019bef814ae69559eb1bcb03e6a6\"\n",
      "    repo {\n",
      "      name: \"essd\"\n",
      "      type: \"user\"\n",
      "      project {\n",
      "        name: \"default\"\n",
      "      }\n",
      "    }\n",
      "  }\n",
      "  path: \"/ESSD/essd_lulucf_data.xlsx\"\n",
      "  datum: \"default\"\n",
      "}\n",
      "file_type: FILE\n",
      "committed {\n",
      "  seconds: 1714236277\n",
      "  nanos: 741740000\n",
      "}\n",
      "size_bytes: 113419\n",
      "hash: \"b\\362l\\2720\\013eT\\001\\006\\275\\007\\277\\3433\\262\\003ZU\\032\\302\\222\\247Z7$\\006\\032\\211\\030\\032<\"\n",
      "]\n"
     ]
    }
   ],
   "source": [
    "# Check the file commit\n",
    "print(list(client.list_file((\"essd\", \"master\"), \"/ESSD/\")))"
   ]
  },
  {
   "cell_type": "markdown",
   "id": "0fda406d-9dbc-4c97-801c-d465779b0b75",
   "metadata": {},
   "source": [
    "Initialize DBT disctionary we will write out as YML at the end"
   ]
  },
  {
   "cell_type": "code",
   "execution_count": 12,
   "id": "c4d58ae4-e045-4ad2-a35a-839768bb0c03",
   "metadata": {},
   "outputs": [],
   "source": [
    "repo_root = Path().resolve().parent\n",
    "models_dir = repo_root.joinpath(\"dbt\", \"essd_transform\", \"models\")\n",
    "dbt_dict = {}\n",
    "dbt_dict[\"models\"] = {}\n",
    "shutil.rmtree(models_dir, ignore_errors=True)\n",
    "os.mkdir(models_dir, mode=0o755)"
   ]
  },
  {
   "cell_type": "markdown",
   "id": "294f893e-ae2e-4ec7-80d3-f3aa5bbd5ada",
   "metadata": {},
   "source": [
    "The following text describes DBT model properties"
   ]
  },
  {
   "cell_type": "raw",
   "id": "bd69c139-4d46-42a6-81e3-8c74d89137c8",
   "metadata": {},
   "source": [
    "version: 2\n",
    "\n",
    "models:\n",
    "  - [name](model_name): <model name>\n",
    "    [description](description): <markdown_string>\n",
    "    [docs](resource-properties/docs):\n",
    "      show: true | false\n",
    "    [config](resource-properties/config):\n",
    "      [<model_config>](model-configs): <config_value>\n",
    "    [tests](resource-properties/tests):\n",
    "      - <test>\n",
    "      - ... # declare additional tests\n",
    "    columns:\n",
    "      - name: <column_name> # required\n",
    "        [description](description): <markdown_string>\n",
    "        [meta](meta): {<dictionary>}\n",
    "        [quote](quote): true | false\n",
    "        [tests](resource-properties/tests):\n",
    "          - <test>\n",
    "          - ... # declare additional tests\n",
    "        [tags](resource-configs/tags): [<string>]\n",
    "\n",
    "      - name: ... # declare properties of additional columns\n"
   ]
  },
  {
   "cell_type": "markdown",
   "id": "de2a2431-55fe-4bdb-be83-c17484492719",
   "metadata": {},
   "source": [
    "The following text describes DBT external properties"
   ]
  },
  {
   "cell_type": "raw",
   "id": "8dc9e54e-7442-4dff-a8c0-b9c4ba55d23c",
   "metadata": {},
   "source": [
    "version: 2\n",
    "\n",
    "sources:\n",
    "  - name: <source_name>\n",
    "    tables:\n",
    "      - name: <table_name>\n",
    "        external:\n",
    "          location: <string>\n",
    "          file_format: <string>\n",
    "          row_format: <string>\n",
    "          tbl_properties: <string>      \n",
    "          partitions:\n",
    "            - name: <column_name>\n",
    "              data_type: <string>\n",
    "              description: <string>\n",
    "              meta: {dictionary}\n",
    "            - ...\n",
    "          <additional_property>: <additional_value>"
   ]
  },
  {
   "cell_type": "code",
   "execution_count": 13,
   "id": "211435a8-59b9-42e5-a352-09449ef294c8",
   "metadata": {
    "tags": []
   },
   "outputs": [],
   "source": [
    "def create_trino_table_and_dbt_metadata(\n",
    "    tablename, df, partition_columns=[], custom_meta_content=\"\", custom_meta_fields=\"\", verbose=False\n",
    "):\n",
    "    global models_dir, engine, cxn\n",
    "    iceberg_table = f\"{essd_table_prefix}{tablename}\"\n",
    "\n",
    "    if custom_meta_content:\n",
    "        dbt_models = dbt_dict[\"models\"]\n",
    "        dbt_models[iceberg_table] = dbt_table = {\"description\": custom_meta_content[\"description\"]}\n",
    "        if custom_meta_fields:\n",
    "            dbt_table[\"columns\"] = dbt_columns = {\n",
    "                name: {\"description\": custom_meta_fields[name][\"Description\"]} for name in custom_meta_fields.keys()\n",
    "            }\n",
    "            for name in custom_meta_fields.keys():\n",
    "                if \"tags\" in custom_meta_fields[name].keys():\n",
    "                    dbt_columns[name][\"tags\"] = custom_meta_fields[name][\"tags\"]\n",
    "    elif custom_meta_fields:\n",
    "        raise VALUE_ERROR\n",
    "\n",
    "    drop_table = cxn.execute(text(f\"drop table if exists {iceberg_schema}.{iceberg_table}_source\"))\n",
    "    if drop_table.returns_rows:\n",
    "        res = drop_table.fetchall()\n",
    "        if verbose:\n",
    "            print(res)\n",
    "\n",
    "    osc.fast_pandas_ingest_via_hive(\n",
    "        df,\n",
    "        engine,\n",
    "        iceberg_catalog,\n",
    "        iceberg_schema,\n",
    "        f\"{iceberg_table}_source\",\n",
    "        hive_bucket,\n",
    "        ingest_catalog,\n",
    "        ingest_schema,\n",
    "        partition_columns=partition_columns,\n",
    "        overwrite=True,\n",
    "        typemap={\"datetime64[ns]\": \"date\"},\n",
    "        verbose=verbose,\n",
    "    )\n",
    "\n",
    "    with open(models_dir.joinpath(f\"{iceberg_table}.sql\"), \"w\", encoding=\"utf-8\") as f:\n",
    "        print(\n",
    "            \"\"\"{{\n",
    "  config(materialized='view',\n",
    "         view_security='invoker',\n",
    "         meta = { 'owner': 'MichaelTiemannOSC' })\n",
    "}}\"\"\"\n",
    "            + f\"\"\"\n",
    "with source_data as (\n",
    "    select {', '.join(df.columns.str.casefold())}\n",
    "    from {iceberg_catalog}.{iceberg_schema}.{iceberg_table}_source\n",
    ")\n",
    "select * from source_data\n",
    "\"\"\",\n",
    "            file=f,\n",
    "        )"
   ]
  },
  {
   "cell_type": "markdown",
   "id": "d4544e38-c59b-4a49-907f-83db1e0bc16b",
   "metadata": {},
   "source": [
    "Load ESSD data file using pandas *read_excel* and using *iceberg_uuid* as the global UUID for this ingestion"
   ]
  },
  {
   "cell_type": "code",
   "execution_count": 14,
   "id": "fec0af92-2120-4ca2-b561-dd066527cdf8",
   "metadata": {},
   "outputs": [],
   "source": [
    "# Use the pachyderm client to check out the source XLSX file\n",
    "xlsx_file_name = \"essd_ghg_data.xlsx\"\n",
    "f = client.get_file((\"essd\", \"master\"), \"/ESSD/\" + xlsx_file_name)\n",
    "essd_bytes = io.BytesIO(f.read())"
   ]
  },
  {
   "cell_type": "code",
   "execution_count": 15,
   "id": "ae08bca0-02c2-450d-82ca-9c4d7ecc78cd",
   "metadata": {},
   "outputs": [],
   "source": [
    "# It takes ~90 seconds (!) to load nearly 600K rows of data\n",
    "df = pd.read_excel(\n",
    "    essd_bytes,\n",
    "    sheet_name=\"data\",\n",
    "    # nrows=100,\n",
    "    converters={\"year\": lambda x: str(pd.to_datetime(x, format=\"%Y\").date())},\n",
    "    dtype={\"gwp100_ar5\": \"int32\", \"value\": \"float64\"},\n",
    "    engine=\"openpyxl\",\n",
    ")\n",
    "df[\"value_units\"] = \"t CO2e\""
   ]
  },
  {
   "cell_type": "code",
   "execution_count": 16,
   "id": "a75e0a3a-1baa-47c9-96c7-3ac826a1886d",
   "metadata": {},
   "outputs": [
    {
     "data": {
      "text/plain": [
       "Index(['ISO', 'country', 'region_ar6_6', 'region_ar6_10', 'region_ar6_22',\n",
       "       'region_ar6_dev', 'sector_title', 'subsector_title', 'gas',\n",
       "       'gwp100_ar5', 'value', 'value_units', 'year'],\n",
       "      dtype='object')"
      ]
     },
     "metadata": {},
     "output_type": "display_data"
    }
   ],
   "source": [
    "# Put year at the end to make for more friendly partitioning\n",
    "essd_data_df = osc.enforce_partition_column_order(df, [\"year\"], inplace=False).convert_dtypes()\n",
    "\n",
    "display(essd_data_df.columns)"
   ]
  },
  {
   "cell_type": "code",
   "execution_count": 17,
   "id": "9ee9613c-8b22-49db-afb4-60d258cbb552",
   "metadata": {},
   "outputs": [
    {
     "name": "stderr",
     "output_type": "stream",
     "text": [
      "Summarize dataset: 100%|██████████████████████████████████████████████████████████████████████████████████████████████████████████████████████████████████████| 19/19 [00:02<00:00,  8.28it/s, Completed]\n",
      "Generate report structure: 100%|███████████████████████████████████████████████████████████████████████████████████████████████████████████████████████████████████████████| 1/1 [00:06<00:00,  6.86s/it]\n",
      "Render HTML: 100%|█████████████████████████████████████████████████████████████████████████████████████████████████████████████████████████████████████████████████████████| 1/1 [00:00<00:00,  2.15it/s]\n",
      "Export report to file: 100%|██████████████████████████████████████████████████████████████████████████████████████████████████████████████████████████████████████████████| 1/1 [00:00<00:00, 196.54it/s]\n"
     ]
    }
   ],
   "source": [
    "# Generate profile for the data set and render it as an HTML report\n",
    "# Note that minimal=True is required due to incompatibility between pandas 1.4.x and pandas-profiling\n",
    "# This disables expensive computations such as correlations and duplicate row detection\n",
    "# Refer to GitHub issue at https://github.com/ydataai/pandas-profiling/issues/911 for information\n",
    "\n",
    "profile = ProfileReport(essd_data_df, title=\"Profiling Report for \" + xlsx_file_name, minimal=True)\n",
    "profile.to_file(\"../reports/profile_df_essd_ghg_data.html\")\n",
    "\n",
    "# The code below allows generating the profile into a HTML version and display it within the notebook\n",
    "# profile.to_notebook_iframe()\n",
    "\n",
    "# The code below allows generating the profile into an interactive widget (not working)\n",
    "# profile.to_widgets()"
   ]
  },
  {
   "cell_type": "markdown",
   "id": "0befb864-3e0c-4357-8b24-5caeaea65de6",
   "metadata": {},
   "source": [
    "Construct the combined metadata by merging existing table metadata and custom metadata.\n",
    "Note: The metadata content must be JSON serialisable and encoded as bytes; the metadata key must also be encoded as bytes."
   ]
  },
  {
   "cell_type": "code",
   "execution_count": 18,
   "id": "166faf5a-9b4e-4bb6-8794-f01f29ce9a04",
   "metadata": {
    "tags": []
   },
   "outputs": [],
   "source": [
    "essd_content_df = pd.read_excel(essd_bytes, sheet_name=\"info\", header=None).dropna(axis=0).set_index(0).T\n",
    "custom_meta_content = {\n",
    "    \"title\": \"Earth System Science Data (ESSD) Dataset\",\n",
    "    \"author\": essd_content_df[[\"Author & contact\"]].squeeze(),\n",
    "    \"contact\": essd_content_df[[\"Author & contact\"]].squeeze(),\n",
    "    \"description\": essd_content_df[[\"Data description\"]].squeeze(),\n",
    "    \"release_date\": essd_content_df[[\"Last date of compilation\"]].squeeze(),\n",
    "    # How should we describe our transformative step here?\n",
    "}"
   ]
  },
  {
   "cell_type": "code",
   "execution_count": 19,
   "id": "bb22e630-ef15-4ec8-a66e-38a6819d54ea",
   "metadata": {
    "tags": []
   },
   "outputs": [],
   "source": [
    "essd_metadata_df = pd.read_excel(essd_bytes, sheet_name=\"metadata\")\n",
    "custom_meta_fields = {\n",
    "    d[\"Variable\"]: {k: v for k, v in d.items() if k != \"Variable\" and v == v}\n",
    "    for d in essd_metadata_df.to_dict(\"records\")\n",
    "}\n",
    "# ??? custom_meta_fields['gas'] is a kind of Unit, namely a species of gas.  How do we explain that?\n",
    "custom_meta_fields[\"value\"][\"Units\"] = \"tons\"  # combined with gas species, we'd get 't ${gas_species}'\n",
    "custom_meta_fields[\"gwp100_ar5\"][\"Units\"] = \"t CO2e/tons\"\n",
    "del essd_metadata_df\n",
    "\n",
    "\n",
    "def description_is(s):\n",
    "    return {\"Description\": s}\n",
    "\n",
    "\n",
    "custom_meta_fields[\"ISO\"] = description_is(\"ISO 3166 3-letter code\")\n",
    "custom_meta_fields[\"country\"] = description_is(\"ISO 3166 country name\")\n",
    "custom_meta_fields[\"region_ar6_6\"] = description_is(\"IPCC ar6 6-region climate boundaries\")\n",
    "custom_meta_fields[\"region_ar6_10\"] = description_is(\"IPCC ar6 10-region climate boundaries\")\n",
    "custom_meta_fields[\"region_ar6_22\"] = description_is(\"IPCC ar6 22-region climate boundaries\")\n",
    "custom_meta_fields[\"region_ar6_dev\"] = description_is(\"IPCC ar6 developed/ldc country\")\n",
    "custom_meta_fields[\"sector_title\"] = description_is(\"IPCC ar6 5 Principal Sector Names\")\n",
    "custom_meta_fields[\"subsector_title\"] = description_is(\"IPCC ar6 Sub-Sector Names\")\n",
    "custom_meta_fields[\"year\"] = description_is(\"Year of Data Observation\")\n",
    "\n",
    "for f in custom_meta_fields:\n",
    "    if \"ISO\" in custom_meta_fields[f][\"Description\"]:\n",
    "        custom_meta_fields[f][\"tags\"] = [\"ISO\"]\n",
    "    elif \"IPCC\" in custom_meta_fields[f][\"Description\"]:\n",
    "        custom_meta_fields[f][\"tags\"] = [\"IPCC\"]\n",
    "    elif f == \"year\":\n",
    "        custom_meta_fields[f][\"tags\"] = [\"annual\"]"
   ]
  },
  {
   "cell_type": "code",
   "execution_count": 20,
   "id": "5e5b88b7-7a70-4394-89f4-7bf019d28a44",
   "metadata": {},
   "outputs": [
    {
     "name": "stdout",
     "output_type": "stream",
     "text": [
      "<class 'pandas.core.frame.DataFrame'>\n",
      "RangeIndex: 568341 entries, 0 to 568340\n",
      "Data columns (total 13 columns):\n",
      " #   Column           Non-Null Count   Dtype  \n",
      "---  ------           --------------   -----  \n",
      " 0   ISO              568341 non-null  string \n",
      " 1   country          568341 non-null  string \n",
      " 2   region_ar6_6     568341 non-null  string \n",
      " 3   region_ar6_10    568341 non-null  string \n",
      " 4   region_ar6_22    568341 non-null  string \n",
      " 5   region_ar6_dev   568341 non-null  string \n",
      " 6   sector_title     568341 non-null  string \n",
      " 7   subsector_title  568341 non-null  string \n",
      " 8   gas              568341 non-null  string \n",
      " 9   gwp100_ar5       568341 non-null  Int32  \n",
      " 10  value            568341 non-null  Float64\n",
      " 11  value_units      568341 non-null  string \n",
      " 12  year             568341 non-null  string \n",
      "dtypes: Float64(1), Int32(1), string(11)\n",
      "memory usage: 55.3 MB\n"
     ]
    }
   ],
   "source": [
    "essd_data_df.info(verbose=True)"
   ]
  },
  {
   "cell_type": "code",
   "execution_count": 21,
   "id": "5a6fa2a4-024d-4d4f-bf5c-436a84621477",
   "metadata": {},
   "outputs": [
    {
     "data": {
      "text/plain": [
       "{'models': {}}"
      ]
     },
     "execution_count": 21,
     "metadata": {},
     "output_type": "execute_result"
    }
   ],
   "source": [
    "dbt_dict"
   ]
  },
  {
   "cell_type": "code",
   "execution_count": 22,
   "id": "36540cbf-2931-4fb7-b835-307be6bb4cfe",
   "metadata": {
    "tags": []
   },
   "outputs": [],
   "source": [
    "create_trino_table_and_dbt_metadata(\"ghg_data\", essd_data_df, [\"year\"], custom_meta_content, custom_meta_fields)"
   ]
  },
  {
   "cell_type": "code",
   "execution_count": 23,
   "id": "5b0e1070-b43b-4c49-ba83-13a43137d34b",
   "metadata": {
    "tags": []
   },
   "outputs": [],
   "source": [
    "del essd_data_df"
   ]
  },
  {
   "cell_type": "markdown",
   "id": "81b90213-e3e3-4cc2-bd74-e4ed0d2946b4",
   "metadata": {},
   "source": [
    "Grab Sector, Region, 100yr GWPs, and GH4_gwps from one of the two main ESSD data tables (they are the same in both)."
   ]
  },
  {
   "cell_type": "code",
   "execution_count": 24,
   "id": "8b6d7129-b487-485a-bb7b-81fb6e962f31",
   "metadata": {},
   "outputs": [
    {
     "data": {
      "text/plain": [
       "Index(['EDGAR_code', 'fossil_bio', 'sector_title', 'description',\n",
       "       'subsector_title', 'IPCC_2006'],\n",
       "      dtype='object')"
      ]
     },
     "metadata": {},
     "output_type": "display_data"
    }
   ],
   "source": [
    "essd_sectors_df = pd.read_excel(\n",
    "    essd_bytes,\n",
    "    sheet_name=\"sector_classification\",\n",
    "    # nrows=100,\n",
    "    engine=\"openpyxl\",\n",
    ").convert_dtypes()\n",
    "display(essd_sectors_df.columns)"
   ]
  },
  {
   "cell_type": "code",
   "execution_count": 25,
   "id": "341b9cfe-c646-4721-b287-48add08422f8",
   "metadata": {},
   "outputs": [],
   "source": [
    "custom_meta_content = {\n",
    "    \"title\": \"Earth System Science Data (ESSD) Sector Classification\",\n",
    "    \"author\": essd_content_df[[\"Author & contact\"]].squeeze(),\n",
    "    \"contact\": essd_content_df[[\"Author & contact\"]].squeeze(),\n",
    "    \"description\": essd_content_df[[\"Sectors\"]].squeeze(),\n",
    "    \"release_date\": essd_content_df[[\"Last date of compilation\"]].squeeze(),\n",
    "    # How should we describe our transformative step here?\n",
    "}\n",
    "\n",
    "custom_meta_fields = {\n",
    "    \"EDGAR_code\": description_is(\"EDGAR Sector Coding [1-7][A-G][1-15][xx]\"),\n",
    "    \"fossil_bio\": description_is(\"CO2e source - fossil or bio\"),\n",
    "    \"sector_title\": description_is(\"IPCC ar6 Sector Names\"),\n",
    "    \"description\": description_is(\"IPCC Sector description\"),\n",
    "    \"subsector_title\": description_is(\"IPCC ar6 Sub-Sector Names\"),\n",
    "    \"IPCC_2006\": description_is(\"IPCC Sector Coding List [1-5].[A-G].[1-9].[a-h].[i-iii].[2-6]\"),\n",
    "}\n",
    "\n",
    "for f in custom_meta_fields:\n",
    "    if \"IPCC\" in custom_meta_fields[f][\"Description\"]:\n",
    "        custom_meta_fields[f][\"tags\"] = [\"IPCC\"]\n",
    "    elif \"EDGAR\" in custom_meta_fields[f][\"Description\"]:\n",
    "        custom_meta_fields[f][\"tags\"] = [\"EDGAR\"]"
   ]
  },
  {
   "cell_type": "code",
   "execution_count": 26,
   "id": "8ee057b9-48a4-4cda-96df-af6344f9f5d7",
   "metadata": {},
   "outputs": [
    {
     "name": "stdout",
     "output_type": "stream",
     "text": [
      "[('ABW', 'Aruba', 'Latin America and Caribbean', 'Latin America and Caribbean', 'Caribbean', 'developing', 'AFOLU', 'Enteric Fermentation (CH4)', 'CH4', 28, 33.937, 't CO2e', '2013-01-01'), ('ABW', 'Aruba', 'Latin America and Caribbean', 'Latin America and Caribbean', 'Caribbean', 'developing', 'AFOLU', 'Managed soils and pasture (CO2, N2O)', 'N2O', 265, 2.3866997, 't CO2e', '2013-01-01'), ('ABW', 'Aruba', 'Latin America and Caribbean', 'Latin America and Caribbean', 'Caribbean', 'developing', 'AFOLU', 'Manure management (N2O, CH4)', 'CH4', 28, 17.343898, 't CO2e', '2013-01-01'), ('ABW', 'Aruba', 'Latin America and Caribbean', 'Latin America and Caribbean', 'Caribbean', 'developing', 'Buildings', 'Residential', 'CO2', 1, 42562.361, 't CO2e', '2013-01-01'), ('ABW', 'Aruba', 'Latin America and Caribbean', 'Latin America and Caribbean', 'Caribbean', 'developing', 'Buildings', 'Residential', 'CH4', 28, 4.14407347, 't CO2e', '2013-01-01'), ('ABW', 'Aruba', 'Latin America and Caribbean', 'Latin America and Caribbean', 'Caribbean', 'developing', 'Buildings', 'Residential', 'N2O', 265, 0.15307238, 't CO2e', '2013-01-01'), ('ABW', 'Aruba', 'Latin America and Caribbean', 'Latin America and Caribbean', 'Caribbean', 'developing', 'AFOLU', 'Manure management (N2O, CH4)', 'N2O', 265, 0.5712797, 't CO2e', '2013-01-01'), ('ABW', 'Aruba', 'Latin America and Caribbean', 'Latin America and Caribbean', 'Caribbean', 'developing', 'Buildings', 'Non-residential', 'CO2', 1, 77482.128, 't CO2e', '2013-01-01'), ('ABW', 'Aruba', 'Latin America and Caribbean', 'Latin America and Caribbean', 'Caribbean', 'developing', 'Buildings', 'Non-residential', 'CH4', 28, 10.5925383, 't CO2e', '2013-01-01'), ('ABW', 'Aruba', 'Latin America and Caribbean', 'Latin America and Caribbean', 'Caribbean', 'developing', 'Buildings', 'Non-residential', 'N2O', 265, 0.6355517, 't CO2e', '2013-01-01')]\n"
     ]
    }
   ],
   "source": [
    "qres = cxn.execute(text(f\"select * from {iceberg_catalog}.{iceberg_schema}.{'ghg_data'}_source limit 10\"))\n",
    "print(qres.fetchall())"
   ]
  },
  {
   "cell_type": "code",
   "execution_count": 27,
   "id": "3786d2e7-f214-420d-8149-5b5d823f36fc",
   "metadata": {},
   "outputs": [
    {
     "name": "stdout",
     "output_type": "stream",
     "text": [
      "[('iso', 'varchar', '', ''), ('country', 'varchar', '', ''), ('region_ar6_6', 'varchar', '', ''), ('region_ar6_10', 'varchar', '', ''), ('region_ar6_22', 'varchar', '', ''), ('region_ar6_dev', 'varchar', '', ''), ('sector_title', 'varchar', '', ''), ('subsector_title', 'varchar', '', ''), ('gas', 'varchar', '', ''), ('gwp100_ar5', 'integer', '', ''), ('value', 'double', '', ''), ('value_units', 'varchar', '', ''), ('year', 'varchar', '', '')]\n"
     ]
    }
   ],
   "source": [
    "qres = cxn.execute(text(f\"describe {iceberg_catalog}.{iceberg_schema}.{'ghg_data'}_source\"))\n",
    "print(qres.fetchall())"
   ]
  },
  {
   "cell_type": "code",
   "execution_count": 28,
   "id": "96d93fee-dde2-4a7d-ada3-00e862921bdb",
   "metadata": {},
   "outputs": [],
   "source": [
    "create_trino_table_and_dbt_metadata(\"sectors\", essd_sectors_df, [], custom_meta_content, custom_meta_fields)"
   ]
  },
  {
   "cell_type": "code",
   "execution_count": 29,
   "id": "5589ee16-44a9-4fd4-a071-edffefc700c6",
   "metadata": {},
   "outputs": [],
   "source": [
    "# dbt_dict['models']"
   ]
  },
  {
   "cell_type": "code",
   "execution_count": 30,
   "id": "1c906de6-b8d4-40de-91c7-2151ae749bca",
   "metadata": {},
   "outputs": [
    {
     "data": {
      "text/plain": [
       "Index(['ISO', 'name', 'region_ar6_6', 'region_ar6_10', 'region_ar6_22',\n",
       "       'region_ar6_dev'],\n",
       "      dtype='object')"
      ]
     },
     "metadata": {},
     "output_type": "display_data"
    }
   ],
   "source": [
    "essd_regions_df = pd.read_excel(\n",
    "    essd_bytes,\n",
    "    sheet_name=\"region_classification\",\n",
    "    # nrows=100,\n",
    "    engine=\"openpyxl\",\n",
    ").convert_dtypes()\n",
    "display(essd_regions_df.columns)"
   ]
  },
  {
   "cell_type": "code",
   "execution_count": 31,
   "id": "281f95dc-bc29-4257-841d-120ad40aad2a",
   "metadata": {},
   "outputs": [],
   "source": [
    "custom_meta_content = {\n",
    "    \"title\": \"Earth System Science Data (ESSD) Region Classification\",\n",
    "    \"author\": essd_content_df[[\"Author & contact\"]].squeeze(),\n",
    "    \"contact\": essd_content_df[[\"Author & contact\"]].squeeze(),\n",
    "    \"description\": essd_content_df[[\"Regions\"]].squeeze(),\n",
    "    \"release_date\": essd_content_df[[\"Last date of compilation\"]].squeeze(),\n",
    "    # How should we describe our transformative step here?\n",
    "}\n",
    "\n",
    "custom_meta_fields = {\n",
    "    \"ISO\": description_is(\"ISO 3166 3-letter code\"),\n",
    "    \"name\": description_is(\"ISO 3166 country name\"),\n",
    "    \"region_ar6_6\": description_is(\"IPCC ar6 6-region climate boundaries\"),\n",
    "    \"region_ar6_10\": description_is(\"IPCC ar6 10-region climate boundaries\"),\n",
    "    \"region_ar6_22\": description_is(\"IPCC ar6 22-region climate boundaries\"),\n",
    "    \"region_ar6_dev\": description_is(\"IPCC ar6 developed/ldc country\"),\n",
    "}\n",
    "\n",
    "for f in custom_meta_fields:\n",
    "    if \"ISO\" in custom_meta_fields[f][\"Description\"]:\n",
    "        custom_meta_fields[f][\"tags\"] = [\"ISO\"]\n",
    "    elif \"IPCC\" in custom_meta_fields[f][\"Description\"]:\n",
    "        custom_meta_fields[f][\"tags\"] = [\"IPCC\"]"
   ]
  },
  {
   "cell_type": "code",
   "execution_count": 32,
   "id": "d6111d76-10a6-4cfc-9fc0-a5cb8c9eed94",
   "metadata": {},
   "outputs": [],
   "source": [
    "create_trino_table_and_dbt_metadata(\"regions\", essd_regions_df, [], custom_meta_content, custom_meta_fields)"
   ]
  },
  {
   "cell_type": "code",
   "execution_count": 33,
   "id": "7b4c974d-10af-4d1e-9402-3d13e3e29915",
   "metadata": {},
   "outputs": [],
   "source": [
    "# dbt_dict['models']"
   ]
  },
  {
   "cell_type": "markdown",
   "id": "e1821108-8a37-498b-b72b-7fc1bca07b97",
   "metadata": {},
   "source": [
    "Now deal with the gas species.  We'll annotate our dataframe with PINT units"
   ]
  },
  {
   "cell_type": "code",
   "execution_count": 34,
   "id": "b8dc2fa6-9ee1-4fd6-a4e3-1726181ef786",
   "metadata": {},
   "outputs": [
    {
     "data": {
      "text/plain": [
       "Index(['gas', 'gwp_ar5'], dtype='object')"
      ]
     },
     "metadata": {},
     "output_type": "display_data"
    }
   ],
   "source": [
    "essd_gwp_df = pd.read_excel(\n",
    "    essd_bytes,\n",
    "    sheet_name=\"100_yr_gwps\",\n",
    "    # nrows=100,\n",
    "    dtype={\"gwp_ar5\": \"int32\"},\n",
    "    engine=\"openpyxl\",\n",
    ")\n",
    "\n",
    "display(essd_gwp_df.columns)"
   ]
  },
  {
   "cell_type": "code",
   "execution_count": 35,
   "id": "b346e53b-2c30-48d8-93f2-c826e65589d8",
   "metadata": {},
   "outputs": [
    {
     "data": {
      "text/plain": [
       "Index(['gas', 'gwp_ar5', 'units'], dtype='object')"
      ]
     },
     "metadata": {},
     "output_type": "display_data"
    }
   ],
   "source": [
    "ureg.define(\"CH4_Combustion = nan CH4\")\n",
    "ureg.define(\"CH4_Fugitive = nan CH4\")\n",
    "ureg.define(\"CH4_Process = nan CH4\")\n",
    "\n",
    "ch4_dict = {\n",
    "    \"CH4 Biogenic\": \"CH4\",\n",
    "    \"CH4 Fossil (Combustion)\": \"CH4_Combustion\",\n",
    "    \"CH4 Fossil (Fugitive)\": \"CH4_Fugitive\",\n",
    "    \"CH4 Fossil (Process)\": \"CH4_Process\",\n",
    "}\n",
    "\n",
    "\n",
    "def convert_gas_to_pint_species(s):\n",
    "    \"\"\"For a series S of gas species, return the species name known to pint\"\"\"\n",
    "    return [ch4_dict[g] if g in ch4_dict else g.replace(\"c-\", \"C\").replace(\"-\", \"\") for g in s.tolist()]\n",
    "\n",
    "\n",
    "essd_gwp_df = essd_gwp_df.assign(units=lambda x: convert_gas_to_pint_species(x.gas)).convert_dtypes()\n",
    "\n",
    "display(essd_gwp_df.columns)"
   ]
  },
  {
   "cell_type": "code",
   "execution_count": 36,
   "id": "77acde64-a1ea-4a0b-95f0-11da6473f569",
   "metadata": {
    "tags": []
   },
   "outputs": [],
   "source": [
    "custom_meta_content = {\n",
    "    \"title\": \"Earth System Science Data (ESSD) Gas Species\",\n",
    "    \"author\": essd_content_df[[\"Author & contact\"]].squeeze(),\n",
    "    \"contact\": essd_content_df[[\"Author & contact\"]].squeeze(),\n",
    "    \"description\": essd_content_df[[\"Regions\"]].squeeze(),\n",
    "    \"release_date\": essd_content_df[[\"Last date of compilation\"]].squeeze(),\n",
    "    # How should we describe our transformative step here?\n",
    "}\n",
    "\n",
    "custom_meta_fields = {\n",
    "    \"gas\": description_is(\"GHG Gas Species\"),\n",
    "    \"gwp_ar5\": description_is(\"IPCC AR5 Global Warming Potential multiplier (GWP)\"),\n",
    "    \"units\": description_is(\"tons of GHG Gas Species\"),\n",
    "}\n",
    "\n",
    "for f in custom_meta_fields:\n",
    "    if \"GHG\" in custom_meta_fields[f][\"Description\"]:\n",
    "        custom_meta_fields[f][\"tags\"] = [\"GHG\"]\n",
    "    elif \"IPCC\" in custom_meta_fields[f][\"Description\"]:\n",
    "        custom_meta_fields[f][\"tags\"] = [\"IPCC\"]"
   ]
  },
  {
   "cell_type": "code",
   "execution_count": 37,
   "id": "0805e979-ac94-4e6e-a84f-9978e815ba77",
   "metadata": {
    "tags": []
   },
   "outputs": [],
   "source": [
    "create_trino_table_and_dbt_metadata(\"gwp_100yr\", essd_gwp_df, [], custom_meta_content, custom_meta_fields)"
   ]
  },
  {
   "cell_type": "code",
   "execution_count": 38,
   "id": "a1f6d982-7589-4e86-8a26-ff6075b7bce1",
   "metadata": {},
   "outputs": [],
   "source": [
    "# dbt_dict['models']"
   ]
  },
  {
   "cell_type": "code",
   "execution_count": 39,
   "id": "1e75dc9d-8b88-4e16-a1c0-abf4faff3215",
   "metadata": {},
   "outputs": [
    {
     "data": {
      "text/plain": [
       "Index(['sector_code', 'fossil_bio', 'gas', 'gwp_ar5_feedbacks', 'gwp_ar5',\n",
       "       'description', 'subsector', 'chapter_title', 'subsector_title'],\n",
       "      dtype='object')"
      ]
     },
     "metadata": {},
     "output_type": "display_data"
    }
   ],
   "source": [
    "essd_ch4_df = pd.read_excel(\n",
    "    essd_bytes,\n",
    "    sheet_name=\"CH4_gwps\",\n",
    "    # nrows=100,\n",
    "    dtype={\"gwp_ar5\": \"int32\", \"subsector\": \"str\"},\n",
    "    engine=\"openpyxl\",\n",
    ").convert_dtypes()\n",
    "\n",
    "display(essd_ch4_df.columns)"
   ]
  },
  {
   "cell_type": "code",
   "execution_count": 40,
   "id": "6674b41b-3789-4c37-866f-f056ce5e6394",
   "metadata": {},
   "outputs": [],
   "source": [
    "custom_meta_content = {\n",
    "    \"title\": \"Earth System Science Data (ESSD) CH4 GWPs\",\n",
    "    \"author\": essd_content_df[[\"Author & contact\"]].squeeze(),\n",
    "    \"contact\": essd_content_df[[\"Author & contact\"]].squeeze(),\n",
    "    \"description\": essd_content_df[[\"Regions\"]].squeeze(),\n",
    "    \"release_date\": essd_content_df[[\"Last date of compilation\"]].squeeze(),\n",
    "    # How should we describe our transformative step here?\n",
    "}\n",
    "\n",
    "custom_meta_fields = {\n",
    "    \"sector_code\": description_is(\"IPCC Sector Coding [1-7][A-G][1-15][xx]\"),\n",
    "    \"fossil_bio\": description_is(\"CO2e source - fossil or bio\"),\n",
    "    \"gas\": description_is(\"GHG Gas Species\"),\n",
    "    \"gwp_ar5_feedbacks\": description_is(\"IPCC AR5 Global Warming Potential Feedback multiplier (GWP)\"),\n",
    "    \"gwp_ar5\": description_is(\"IPCC AR5 Global Warming Potential multiplier (GWP)\"),\n",
    "    \"description\": description_is(\"IPCC Sector description\"),\n",
    "    \"subsector\": description_is(\"IPCC Sub-Sector description\"),\n",
    "    \"chapter_title\": description_is(\"IPCC ar6 Sector Names\"),\n",
    "    \"subsector_title\": description_is(\"IPCC ar6 Sub-Sector Names\"),\n",
    "}\n",
    "\n",
    "for f in custom_meta_fields:\n",
    "    if \"IPCC\" in custom_meta_fields[f][\"Description\"]:\n",
    "        custom_meta_fields[f][\"tags\"] = [\"IPCC\"]\n",
    "    elif \"GHG\" in custom_meta_fields[f][\"Description\"]:\n",
    "        custom_meta_fields[f][\"tags\"] = [\"GHG\"]"
   ]
  },
  {
   "cell_type": "code",
   "execution_count": 41,
   "id": "5b488e7f-0ef3-4eda-9b7e-f64fe32ab564",
   "metadata": {},
   "outputs": [],
   "source": [
    "create_trino_table_and_dbt_metadata(\"ch4_gwp\", essd_ch4_df, [], custom_meta_content, custom_meta_fields)"
   ]
  },
  {
   "cell_type": "code",
   "execution_count": 42,
   "id": "cbf4cb4c-14c0-4556-82b9-68a33dd4e2d5",
   "metadata": {},
   "outputs": [],
   "source": [
    "# dbt_dict['models']"
   ]
  },
  {
   "cell_type": "code",
   "execution_count": 43,
   "id": "4236d322-ec37-41d0-b180-1f6a7a5e427a",
   "metadata": {},
   "outputs": [],
   "source": [
    "# Use the pachyderm client to check out the source XLSX file\n",
    "xlsx_file_name = \"essd_ghg_data_gwp100.xlsx\"\n",
    "f = client.get_file((\"essd\", \"master\"), \"/ESSD/\" + xlsx_file_name)\n",
    "essd_bytes = io.BytesIO(f.read())"
   ]
  },
  {
   "cell_type": "code",
   "execution_count": 44,
   "id": "b269b59b-42e6-463d-90a7-39636c75d190",
   "metadata": {},
   "outputs": [],
   "source": [
    "# This takes about 30sec to execute\n",
    "df = pd.read_excel(\n",
    "    essd_bytes,\n",
    "    sheet_name=\"data\",\n",
    "    # nrows=100,\n",
    "    converters={\"year\": lambda x: str(pd.to_datetime(x, format=\"%Y\").date())},\n",
    "    dtype={\n",
    "        \"gwp100_ar5\": \"int32\",\n",
    "        \"CO2\": \"float64\",\n",
    "        \"CH4\": \"float64\",\n",
    "        \"N2O\": \"float64\",\n",
    "        \"Fgas\": \"float64\",\n",
    "        \"GHG\": \"float64\",\n",
    "    },\n",
    "    engine=\"openpyxl\",\n",
    ")\n",
    "for col in [\"CO2\", \"CH4\", \"N2O\", \"Fgas\", \"GHG\"]:\n",
    "    df.insert(df.columns.get_loc(col) + 1, col + \"_units\", \"t CO2\" if col == \"CO2\" else \"t CO2e\")"
   ]
  },
  {
   "cell_type": "code",
   "execution_count": 45,
   "id": "b2e500de-db6f-4f45-8ba8-ae743c9c8849",
   "metadata": {},
   "outputs": [
    {
     "data": {
      "text/plain": [
       "Index(['ISO', 'country', 'region_ar6_6', 'region_ar6_10', 'region_ar6_22',\n",
       "       'region_ar6_dev', 'sector_title', 'subsector_title', 'CO2', 'CO2_units',\n",
       "       'CH4', 'CH4_units', 'N2O', 'N2O_units', 'Fgas', 'Fgas_units', 'GHG',\n",
       "       'GHG_units', 'year'],\n",
       "      dtype='object')"
      ]
     },
     "metadata": {},
     "output_type": "display_data"
    }
   ],
   "source": [
    "# Put year at the end to make for more friendly partitioning\n",
    "essd_gwp100_df = osc.enforce_partition_column_order(df, [\"year\"], inplace=False).convert_dtypes()\n",
    "\n",
    "display(essd_gwp100_df.columns)"
   ]
  },
  {
   "cell_type": "code",
   "execution_count": 46,
   "id": "ba84a2ea-4e63-4c19-989f-2daf405c7977",
   "metadata": {},
   "outputs": [
    {
     "name": "stderr",
     "output_type": "stream",
     "text": [
      "Summarize dataset: 100%|██████████████████████████████████████████████████████████████████████████████████████████████████████████████████████████████████████| 25/25 [00:01<00:00, 17.77it/s, Completed]\n",
      "Generate report structure: 100%|███████████████████████████████████████████████████████████████████████████████████████████████████████████████████████████████████████████| 1/1 [00:08<00:00,  8.53s/it]\n",
      "Render HTML: 100%|█████████████████████████████████████████████████████████████████████████████████████████████████████████████████████████████████████████████████████████| 1/1 [00:00<00:00,  2.06it/s]\n",
      "Export report to file: 100%|██████████████████████████████████████████████████████████████████████████████████████████████████████████████████████████████████████████████| 1/1 [00:00<00:00, 158.95it/s]\n"
     ]
    }
   ],
   "source": [
    "# Generate profile for the data set and render it as an HTML report\n",
    "# Note that minimal=True is required due to incompatibility between pandas 1.4.x and pandas-profiling\n",
    "# This disables expensive computations such as correlations and duplicate row detection\n",
    "# Refer to GitHub issue at https://github.com/ydataai/pandas-profiling/issues/911 for information\n",
    "\n",
    "profile = ProfileReport(essd_gwp100_df, title=\"Profiling Report for \" + xlsx_file_name, minimal=True)\n",
    "profile.to_file(\"../reports/profile_df_essd_ghg_data_gwp100.html\")\n",
    "\n",
    "# The code below allows generating the profile into a HTML version and display it within the notebook\n",
    "# profile.to_notebook_iframe()\n",
    "\n",
    "# The code below allows generating the profile into an interactive widget (not working)\n",
    "# profile.to_widgets()"
   ]
  },
  {
   "cell_type": "code",
   "execution_count": 47,
   "id": "59161d29-6f20-4905-8db2-88fda45f59ec",
   "metadata": {
    "tags": []
   },
   "outputs": [],
   "source": [
    "essd_gwp100_content_df = pd.read_excel(essd_bytes, sheet_name=\"info\", header=None).dropna(axis=0).set_index(0).T\n",
    "custom_meta_content = {\n",
    "    \"title\": \"Earth System Science Data (ESSD) GWP100 Dataset\",\n",
    "    \"author\": essd_content_df[[\"Author & contact\"]].squeeze(),\n",
    "    \"contact\": essd_content_df[[\"Author & contact\"]].squeeze(),\n",
    "    \"description\": essd_content_df[[\"Data description\"]].squeeze(),\n",
    "    \"release_date\": essd_content_df[[\"Last date of compilation\"]].squeeze(),\n",
    "    # How should we describe our transformative step here?\n",
    "}"
   ]
  },
  {
   "cell_type": "code",
   "execution_count": 48,
   "id": "7c2fd7c9-7b8a-41db-89f5-722bb2d21cfe",
   "metadata": {
    "tags": []
   },
   "outputs": [],
   "source": [
    "essd_gwp100_metadata_df = pd.read_excel(essd_bytes, sheet_name=\"metadata\")\n",
    "custom_meta_fields = {\n",
    "    d[\"Variable\"]: {k: v for k, v in d.items() if k != \"Variable\" and v == v}\n",
    "    for d in essd_gwp100_metadata_df.to_dict(\"records\")\n",
    "}\n",
    "del essd_gwp100_metadata_df\n",
    "\n",
    "custom_meta_fields[\"ISO\"] = description_is(\"ISO 3166 3-letter code\")\n",
    "custom_meta_fields[\"country\"] = description_is(\"ISO 3166 country name\")\n",
    "custom_meta_fields[\"region_ar6_6\"] = description_is(\"IPCC ar6 6-region climate boundaries\")\n",
    "custom_meta_fields[\"region_ar6_10\"] = description_is(\"IPCC ar6 10-region climate boundaries\")\n",
    "custom_meta_fields[\"region_ar6_22\"] = description_is(\"IPCC ar6 22-region climate boundaries\")\n",
    "custom_meta_fields[\"region_ar6_dev\"] = description_is(\"IPCC ar6 developed/ldc country\")\n",
    "custom_meta_fields[\"sector_title\"] = description_is(\"IPCC ar6 5 Principal Sector Names\")\n",
    "custom_meta_fields[\"subsector_title\"] = description_is(\"IPCC ar6 Sub-Sector Names\")\n",
    "custom_meta_fields[\"CO2\"] = description_is(\"tons of CO2\")\n",
    "custom_meta_fields[\"CO2_units\"] = description_is(\"pint[t CO2]\")\n",
    "custom_meta_fields[\"CH4\"] = description_is(\"tons of CH4\")\n",
    "custom_meta_fields[\"CH4_units\"] = description_is(\"pint[t CH4]\")\n",
    "custom_meta_fields[\"N2O\"] = description_is(\"tons of N2O\")\n",
    "custom_meta_fields[\"N2O_units\"] = description_is(\"pint[t N2O]\")\n",
    "custom_meta_fields[\"Fgas\"] = description_is(\"tons of Fgas\")\n",
    "custom_meta_fields[\"Fgas_units\"] = description_is(\"pint[t Fgas]\")\n",
    "custom_meta_fields[\"year\"] = description_is(\"Year of Data Observation\")\n",
    "\n",
    "for f in custom_meta_fields:\n",
    "    if \"ISO\" in custom_meta_fields[f][\"Description\"]:\n",
    "        custom_meta_fields[f][\"tags\"] = [\"ISO\"]\n",
    "    elif \"IPCC\" in custom_meta_fields[f][\"Description\"]:\n",
    "        custom_meta_fields[f][\"tags\"] = [\"IPCC\"]\n",
    "    elif f == \"year\":\n",
    "        custom_meta_fields[f][\"tags\"] = [\"annual\"]"
   ]
  },
  {
   "cell_type": "markdown",
   "id": "fbee9347-b8ab-429d-b4f1-d3c64f037995",
   "metadata": {},
   "source": [
    "Construct the combined metadata by merging existing table metadata and custom metadata.\n",
    "Note: The metadata content must be JSON serialisable and encoded as bytes; the metadata key must also be encoded as bytes."
   ]
  },
  {
   "cell_type": "code",
   "execution_count": 49,
   "id": "bb7d5791-7687-4414-903a-3569c5133a80",
   "metadata": {},
   "outputs": [],
   "source": [
    "create_trino_table_and_dbt_metadata(\"gwp100_data\", essd_gwp100_df, [\"year\"], custom_meta_content, custom_meta_fields)\n",
    "del essd_gwp100_df"
   ]
  },
  {
   "cell_type": "code",
   "execution_count": 50,
   "id": "7c73f6dd-ba53-422e-92d7-e4d825cee069",
   "metadata": {},
   "outputs": [],
   "source": [
    "# dbt_dict['models']"
   ]
  },
  {
   "cell_type": "code",
   "execution_count": 51,
   "id": "cf3169b7-be84-44c3-b7f7-d3eae1ccf8b4",
   "metadata": {},
   "outputs": [],
   "source": [
    "# Use the pachyderm client to check out the source XLSX file\n",
    "xlsx_file_name = \"essd_lulucf_data.xlsx\"\n",
    "f = client.get_file((\"essd\", \"master\"), \"/ESSD/\" + xlsx_file_name)\n",
    "essd_bytes = io.BytesIO(f.read())"
   ]
  },
  {
   "cell_type": "code",
   "execution_count": 52,
   "id": "f8214a50-4cd3-47b7-9653-577b08fdebf5",
   "metadata": {},
   "outputs": [
    {
     "data": {
      "text/plain": [
       "Index(['year', 'region_ar6_6', 'region_ar6_10', 'blue', 'blue_units',\n",
       "       'houghton', 'houghton_units', 'oscar', 'oscar_units', 'mean',\n",
       "       'mean_units'],\n",
       "      dtype='object')"
      ]
     },
     "metadata": {},
     "output_type": "display_data"
    }
   ],
   "source": [
    "df = pd.read_excel(\n",
    "    essd_bytes,\n",
    "    sheet_name=\"data\",\n",
    "    # nrows=100,\n",
    "    converters={\"year\": lambda x: str(pd.to_datetime(x, format=\"%Y\").date())},\n",
    "    engine=\"openpyxl\",\n",
    ")\n",
    "\n",
    "for col in [\"blue\", \"houghton\", \"oscar\", \"mean\"]:\n",
    "    df.insert(df.columns.get_loc(col) + 1, col + \"_units\", \"t CO2e\")\n",
    "\n",
    "# There are >100  years of data, which overflows the 100 partition writers available\n",
    "# lulucf_df = osc.enforce_partition_column_order(df, ['year'], inplace=False).convert_dtypes()\n",
    "# Separately, column order is enforced by osc_ingest_tools so we don't have to do any column management manually\n",
    "\n",
    "lulucf_df = df.convert_dtypes()\n",
    "\n",
    "display(lulucf_df.columns)"
   ]
  },
  {
   "cell_type": "code",
   "execution_count": 53,
   "id": "64710a51-8786-4b7f-a03a-540477aeb5e2",
   "metadata": {},
   "outputs": [
    {
     "name": "stderr",
     "output_type": "stream",
     "text": [
      "Summarize dataset: 100%|█████████████████████████████████████████████████████████████████████████████████████████████████████████████████████████████████████| 17/17 [00:00<00:00, 108.11it/s, Completed]\n",
      "Generate report structure: 100%|███████████████████████████████████████████████████████████████████████████████████████████████████████████████████████████████████████████| 1/1 [00:04<00:00,  4.49s/it]\n",
      "Render HTML: 100%|█████████████████████████████████████████████████████████████████████████████████████████████████████████████████████████████████████████████████████████| 1/1 [00:00<00:00,  4.35it/s]\n",
      "Export report to file: 100%|██████████████████████████████████████████████████████████████████████████████████████████████████████████████████████████████████████████████| 1/1 [00:00<00:00, 265.28it/s]\n"
     ]
    }
   ],
   "source": [
    "# Generate profile for the data set and render it as an HTML report\n",
    "# Note that minimal=True is required due to incompatibility between pandas 1.4.x and pandas-profiling\n",
    "# This disables expensive computations such as correlations and duplicate row detection\n",
    "# Refer to GitHub issue at https://github.com/ydataai/pandas-profiling/issues/911 for information\n",
    "\n",
    "profile = ProfileReport(lulucf_df, title=\"Profiling Report for \" + xlsx_file_name, minimal=True)\n",
    "profile.to_file(\"../reports/profile_df_essd_lulucf.html\")\n",
    "\n",
    "# The code below allows generating the profile into a HTML version and display it within the notebook\n",
    "# profile.to_notebook_iframe()\n",
    "\n",
    "# The code below allows generating the profile into an interactive widget (not working)\n",
    "# profile.to_widgets()"
   ]
  },
  {
   "cell_type": "code",
   "execution_count": 54,
   "id": "85377c1d-874d-4918-bfd8-14c7d99f394f",
   "metadata": {
    "tags": []
   },
   "outputs": [],
   "source": [
    "lulucf_content_df = pd.read_excel(essd_bytes, sheet_name=\"info\", header=None).dropna(axis=0).set_index(0).T\n",
    "custom_meta_content = {\n",
    "    \"title\": \"Earth System Science Data (ESSD) Land Use Change and Forestry Dataset\",\n",
    "    \"author\": lulucf_content_df[[\"Author\"]].squeeze(),\n",
    "    \"contact\": lulucf_content_df[[\"Contact\"]].squeeze(),\n",
    "    \"description\": lulucf_content_df[[\"Info\"]].squeeze(),\n",
    "    \"release_date\": essd_content_df[[\"Last date of compilation\"]].squeeze(),\n",
    "    # How should we describe our transformative step here?\n",
    "}"
   ]
  },
  {
   "cell_type": "code",
   "execution_count": 55,
   "id": "feb26329-2932-4080-b61d-39e58582d7b5",
   "metadata": {
    "tags": []
   },
   "outputs": [],
   "source": [
    "custom_meta_fields = {\n",
    "    \"region_ar6_6\": description_is(\"IPCC ar6 6-region climate boundaries\"),\n",
    "    \"region_ar6_10\": description_is(\"IPCC ar6 10-region climate boundaries\"),\n",
    "}\n",
    "\n",
    "custom_meta_fields[\"blue\"] = description_is(\"land use bookkeeping model BLUE\")\n",
    "custom_meta_fields[\"houghton\"] = description_is(\"land use bookkeeping model of Houghton & Nassikas\")\n",
    "custom_meta_fields[\"oscar\"] = description_is(\"land use bookkeeping model OSCAR\")\n",
    "custom_meta_fields[\"mean\"] = description_is(\"land use bookkeeping model mean of (BLUE, Houghton & Nassikas, OSCAR)\")\n",
    "for k in [\"blue\", \"houghton\", \"oscar\", \"mean\"]:\n",
    "    custom_meta_fields[f\"{k}_units\"] = description_is(\"pint[t CO2]\")\n",
    "custom_meta_fields[\"year\"] = description_is(\"Year of Data Observation\")\n",
    "\n",
    "for f in custom_meta_fields:\n",
    "    if \"IPCC\" in custom_meta_fields[f][\"Description\"]:\n",
    "        custom_meta_fields[f][\"tags\"] = [\"IPCC\"]\n",
    "    elif f == \"year\":\n",
    "        custom_meta_fields[f][\"tags\"] = [\"annual\"]"
   ]
  },
  {
   "cell_type": "code",
   "execution_count": 56,
   "id": "e14c87c2-2216-4e2d-b206-259185656d38",
   "metadata": {},
   "outputs": [],
   "source": [
    "create_trino_table_and_dbt_metadata(\n",
    "    \"lulucf\", lulucf_df, [\"region_ar6_6\", \"region_ar6_10\"], custom_meta_content, custom_meta_fields\n",
    ")\n",
    "del lulucf_df"
   ]
  },
  {
   "cell_type": "code",
   "execution_count": 57,
   "id": "b6765218-23b1-4771-98c3-b7a4aa2923e4",
   "metadata": {},
   "outputs": [],
   "source": [
    "# dbt_dict['models']"
   ]
  },
  {
   "cell_type": "markdown",
   "id": "f4b8912f-1776-44d9-b3f5-94513603ede8",
   "metadata": {},
   "source": [
    "Write out metadata to DBT file"
   ]
  },
  {
   "cell_type": "code",
   "execution_count": 58,
   "id": "10fbfabd-9dbc-4873-bd89-cc405a436283",
   "metadata": {},
   "outputs": [],
   "source": [
    "dbt_yml = open(models_dir.joinpath(\"essd_schema.yml\"), \"w\", encoding=\"utf-8\")"
   ]
  },
  {
   "cell_type": "code",
   "execution_count": 59,
   "id": "915a35c7-85ad-45fe-9b68-3c371a51a473",
   "metadata": {},
   "outputs": [],
   "source": [
    "print(\"version: 2\", file=dbt_yml)\n",
    "\n",
    "indent = 0\n",
    "print(\"\\nmodels:\", file=dbt_yml)\n",
    "indent = indent + 2\n",
    "for name in dbt_dict[\"models\"]:\n",
    "    model = dbt_dict[\"models\"][name]\n",
    "    print(f\"{' '*indent}- name: {name}\", file=dbt_yml)\n",
    "    indent = indent + 2\n",
    "    print(f\"{' '*indent}description: {model['description']}\", file=dbt_yml)\n",
    "    print(f\"\\n{' '*indent}columns:\", file=dbt_yml)\n",
    "    indent = indent + 2\n",
    "    columns = model[\"columns\"]\n",
    "    for col in columns:\n",
    "        print(f\"{' '*indent}- name: {col}\", file=dbt_yml)\n",
    "        indent = indent + 2\n",
    "        for col_meta in columns[col].keys():\n",
    "            print(f\"{' '*indent}{col_meta}: {columns[col][col_meta]}\", file=dbt_yml)\n",
    "        indent = indent - 2\n",
    "    print(\"\", file=dbt_yml)  # newline comes for free...\n",
    "    indent = indent - 4\n",
    "indent = indent - 2\n",
    "assert indent == 0"
   ]
  },
  {
   "cell_type": "code",
   "execution_count": 60,
   "id": "b98dcba2-a8b5-46c6-8d2f-1391f57794dc",
   "metadata": {},
   "outputs": [],
   "source": [
    "dbt_yml.close()"
   ]
  },
  {
   "cell_type": "code",
   "execution_count": null,
   "id": "a675d3e8-0923-4e8f-8e05-335b28c266e2",
   "metadata": {},
   "outputs": [],
   "source": []
  }
 ],
 "metadata": {
  "kernelspec": {
   "display_name": "Python 3 (ipykernel)",
   "language": "python",
   "name": "python3"
  },
  "language_info": {
   "codemirror_mode": {
    "name": "ipython",
    "version": 3
   },
   "file_extension": ".py",
   "mimetype": "text/x-python",
   "name": "python",
   "nbconvert_exporter": "python",
   "pygments_lexer": "ipython3",
   "version": "3.11.4"
  }
 },
 "nbformat": 4,
 "nbformat_minor": 5
}

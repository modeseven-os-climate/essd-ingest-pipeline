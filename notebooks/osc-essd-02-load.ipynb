{
 "cells": [
  {
   "cell_type": "markdown",
   "id": "2590fd22-9096-4f87-8412-ad38ff375727",
   "metadata": {
    "tags": []
   },
   "source": [
    "## Load Earth System Science Data (ESSD) datasets\n",
    "\n",
    "Copyright (C) 2021 OS-Climate\n",
    "\n",
    "Permission is hereby granted, free of charge, to any person obtaining a copy of this software and associated documentation files (the \"Software\"), to deal in the Software without restriction, including without limitation the rights to use, copy, modify, merge, publish, distribute, sublicense, and/or sell copies of the Software, and to permit persons to whom the Software is furnished to do so, subject to the following conditions:\n",
    "\n",
    "The above copyright notice and this permission notice shall be included in all copies or substantial portions of the Software.\n",
    "\n",
    "THE SOFTWARE IS PROVIDED \"AS IS\", WITHOUT WARRANTY OF ANY KIND, EXPRESS OR IMPLIED, INCLUDING BUT NOT LIMITED TO THE WARRANTIES OF MERCHANTABILITY, FITNESS FOR A PARTICULAR PURPOSE AND NONINFRINGEMENT. IN NO EVENT SHALL THE AUTHORS OR COPYRIGHT HOLDERS BE LIABLE FOR ANY CLAIM, DAMAGES OR OTHER LIABILITY, WHETHER IN AN ACTION OF CONTRACT, TORT OR OTHERWISE, ARISING FROM, OUT OF OR IN CONNECTION WITH THE SOFTWARE OR THE USE OR OTHER DEALINGS IN THE SOFTWARE.\n",
    "\n",
    "Contributed by Michael Tiemann (Github: MichaelTiemannOSC)"
   ]
  },
  {
   "cell_type": "code",
   "execution_count": 1,
   "id": "c4832a71-b696-4459-96b8-8eb566e25ea0",
   "metadata": {},
   "outputs": [],
   "source": [
    "import os\n",
    "import pandas as pd\n",
    "import numpy as np\n",
    "\n",
    "import pint\n",
    "import pint_pandas\n",
    "import iam_units\n",
    "from openscm_units import unit_registry\n",
    "pint_pandas.PintType.ureg = unit_registry\n",
    "ureg = unit_registry\n",
    "\n",
    "import osc_ingest_trino as osc\n",
    "import trino\n",
    "from sqlalchemy.engine import create_engine\n",
    "\n",
    "import python_pachyderm\n",
    "\n",
    "import sys\n",
    "import io\n",
    "\n",
    "from pandas_profiling import ProfileReport"
   ]
  },
  {
   "cell_type": "markdown",
   "id": "97cd47b9-ce08-4102-9720-c0401710245c",
   "metadata": {},
   "source": [
    "Load Credentials"
   ]
  },
  {
   "cell_type": "code",
   "execution_count": 2,
   "id": "0c9272c4-2f67-4769-b994-f4f110da425f",
   "metadata": {
    "tags": []
   },
   "outputs": [],
   "source": [
    "# From the AWS Account page, copy the export scripts from the appropriate role using the \"Command Line or Programmatic Access\" link\n",
    "# Paste the copied text into ~/credentials.env\n",
    "\n",
    "# Load environment variables from credentials.env\n",
    "osc.load_credentials_dotenv()"
   ]
  },
  {
   "cell_type": "code",
   "execution_count": 3,
   "id": "daf48b3d-4b39-406b-8bb6-8ad5998a25d4",
   "metadata": {},
   "outputs": [],
   "source": [
    "env_var_prefix = 'TRINO'\n",
    "\n",
    "sqlstring = 'trino://{user}@{host}:{port}/'.format(\n",
    "    user = os.environ[f'{env_var_prefix}_USER'],\n",
    "    host = os.environ[f'{env_var_prefix}_HOST'],\n",
    "    port = os.environ[f'{env_var_prefix}_PORT']\n",
    ")\n",
    "sqlargs = {\n",
    "    'auth': trino.auth.JWTAuthentication(os.environ[f'{env_var_prefix}_PASSWD']),\n",
    "    'http_scheme': 'https',\n",
    "    'catalog': 'osc_datacommons_dev'\n",
    "}\n",
    "engine = create_engine(sqlstring, connect_args = sqlargs)\n",
    "connection = engine.connect()"
   ]
  },
  {
   "cell_type": "code",
   "execution_count": 4,
   "id": "80d3dd31-ed8e-4112-9509-e0f6724e6de8",
   "metadata": {},
   "outputs": [],
   "source": [
    "# bucket must be configured with credentials for trino, and accessible to the hive catalog\n",
    "# You may need to use a different prefix here depending on how you name your credentials.env variables\n",
    "hive_bucket = osc.attach_s3_bucket('S3_OSCCL2')"
   ]
  },
  {
   "cell_type": "code",
   "execution_count": 5,
   "id": "4d2316e7-adf5-4fbb-abe7-1ae0019ef968",
   "metadata": {},
   "outputs": [
    {
     "data": {
      "text/plain": [
       "'MichaelTiemannOSC'"
      ]
     },
     "execution_count": 5,
     "metadata": {},
     "output_type": "execute_result"
    }
   ],
   "source": [
    "import os\n",
    "# create demo table named per user\n",
    "# avoids problems with users reusing table names and associated permission problems\n",
    "uniq = os.environ['TRINO_USER']\n",
    "uniq"
   ]
  },
  {
   "cell_type": "code",
   "execution_count": 6,
   "id": "50fd1de1-f156-459f-bfa4-4c0e83de1115",
   "metadata": {},
   "outputs": [],
   "source": [
    "ingest_catalog = 'osc_datacommons_hive_ingest'\n",
    "ingest_schema = 'ingest'"
   ]
  },
  {
   "cell_type": "code",
   "execution_count": 7,
   "id": "92a0dce7-1762-4605-8617-f2bf6d649f23",
   "metadata": {},
   "outputs": [],
   "source": [
    "iceberg_catalog = 'osc_datacommons_dev'\n",
    "iceberg_schema = 'mdt_sandbox'\n",
    "essd_table_prefix = 'essd_'"
   ]
  },
  {
   "cell_type": "code",
   "execution_count": 8,
   "id": "bb96687d-74a7-46d8-9944-b63fddf11bd1",
   "metadata": {},
   "outputs": [
    {
     "name": "stdout",
     "output_type": "stream",
     "text": [
      "('default',)\n",
      "('demo_dv',)\n",
      "('iceberg_demo',)\n",
      "('information_schema',)\n",
      "('ingest',)\n",
      "('mdt_sandbox',)\n",
      "('pcaf_sovereign_footprint',)\n",
      "('sandbox',)\n"
     ]
    }
   ],
   "source": [
    "# Show available schemas to ensure trino connection is set correctly\n",
    "schema_read = engine.execute(f'show schemas in {iceberg_catalog}')\n",
    "for row in schema_read.fetchall():\n",
    "    print(row)"
   ]
  },
  {
   "cell_type": "code",
   "execution_count": 9,
   "id": "e36febd0-c520-4b04-b832-fe64d7bc92e2",
   "metadata": {},
   "outputs": [],
   "source": [
    "# Create a pachyderm client by manually setting up host and port\n",
    "client = python_pachyderm.Client(os.environ['PACH_ENDPOINT'], os.environ['PACH_PORT'])"
   ]
  },
  {
   "cell_type": "code",
   "execution_count": 10,
   "id": "d80ba556-43d1-4d2b-a45d-0aa3e7a92f40",
   "metadata": {},
   "outputs": [
    {
     "name": "stdout",
     "output_type": "stream",
     "text": [
      "[repo {\n",
      "  name: \"essd\"\n",
      "  type: \"user\"\n",
      "}\n",
      "created {\n",
      "  seconds: 1660385394\n",
      "  nanos: 931518000\n",
      "}\n",
      "size_bytes_upper_bound: 45686859\n",
      "branches {\n",
      "  repo {\n",
      "    name: \"essd\"\n",
      "    type: \"user\"\n",
      "  }\n",
      "  name: \"master\"\n",
      "}\n",
      ", repo {\n",
      "  name: \"wri-gppd\"\n",
      "  type: \"user\"\n",
      "}\n",
      "created {\n",
      "  seconds: 1659790074\n",
      "  nanos: 399079000\n",
      "}\n",
      "size_bytes_upper_bound: 27086020\n",
      "branches {\n",
      "  repo {\n",
      "    name: \"wri-gppd\"\n",
      "    type: \"user\"\n",
      "  }\n",
      "  name: \"master\"\n",
      "}\n",
      "]\n"
     ]
    }
   ],
   "source": [
    "# Display list of repos\n",
    "print(list(client.list_repo()))"
   ]
  },
  {
   "cell_type": "code",
   "execution_count": 11,
   "id": "45f43241-8eeb-41d6-999c-ad5c63a9d502",
   "metadata": {},
   "outputs": [
    {
     "name": "stdout",
     "output_type": "stream",
     "text": [
      "[file {\n",
      "  commit {\n",
      "    branch {\n",
      "      repo {\n",
      "        name: \"essd\"\n",
      "        type: \"user\"\n",
      "      }\n",
      "      name: \"master\"\n",
      "    }\n",
      "    id: \"867e73d0fe764f2791204b7b1302d6ff\"\n",
      "  }\n",
      "  path: \"/ESSD/essd-13-5213-2021-supplement.pdf\"\n",
      "  datum: \"default\"\n",
      "}\n",
      "file_type: FILE\n",
      "committed {\n",
      "  seconds: 1660385399\n",
      "  nanos: 278217000\n",
      "}\n",
      "size_bytes: 1108915\n",
      "hash: \"Bw\\332P\\022\\003\\014B\\364\\357e\\317\\032\\'\\016\\350\\353\\323\\362(\\314\\212\\376\\007\\272\\215\\361|\\272X\\257\\377\"\n",
      ", file {\n",
      "  commit {\n",
      "    branch {\n",
      "      repo {\n",
      "        name: \"essd\"\n",
      "        type: \"user\"\n",
      "      }\n",
      "      name: \"master\"\n",
      "    }\n",
      "    id: \"867e73d0fe764f2791204b7b1302d6ff\"\n",
      "  }\n",
      "  path: \"/ESSD/essd-13-5213-2021.pdf\"\n",
      "  datum: \"default\"\n",
      "}\n",
      "file_type: FILE\n",
      "committed {\n",
      "  seconds: 1660385399\n",
      "  nanos: 278217000\n",
      "}\n",
      "size_bytes: 7243436\n",
      "hash: \"3\\000\\020\\314\\237\\\"\\321R\\202#\\006!\\031\\241ll\\377\\340\\207\\350\\273\\327\\034\\206s\\254\\354\\002\\013r\\354\\246\"\n",
      ", file {\n",
      "  commit {\n",
      "    branch {\n",
      "      repo {\n",
      "        name: \"essd\"\n",
      "        type: \"user\"\n",
      "      }\n",
      "      name: \"master\"\n",
      "    }\n",
      "    id: \"867e73d0fe764f2791204b7b1302d6ff\"\n",
      "  }\n",
      "  path: \"/ESSD/essd_ghg_data.xlsx\"\n",
      "  datum: \"default\"\n",
      "}\n",
      "file_type: FILE\n",
      "committed {\n",
      "  seconds: 1660385399\n",
      "  nanos: 278217000\n",
      "}\n",
      "size_bytes: 24097257\n",
      "hash: \"\\255\\201_\\342\\303\\373\\340\\001\\301TL\\274\\357\\362\\210Z\\370Yg\\226y\\242\\016\\367\\256\\204\\013\\347E\\323O7\"\n",
      ", file {\n",
      "  commit {\n",
      "    branch {\n",
      "      repo {\n",
      "        name: \"essd\"\n",
      "        type: \"user\"\n",
      "      }\n",
      "      name: \"master\"\n",
      "    }\n",
      "    id: \"867e73d0fe764f2791204b7b1302d6ff\"\n",
      "  }\n",
      "  path: \"/ESSD/essd_ghg_data_gwp100.xlsx\"\n",
      "  datum: \"default\"\n",
      "}\n",
      "file_type: FILE\n",
      "committed {\n",
      "  seconds: 1660385399\n",
      "  nanos: 278217000\n",
      "}\n",
      "size_bytes: 13123832\n",
      "hash: \"\\034\\277\\201I\\357b\\273\\014^&\\247\\323\\365\\375\\276\\nfGc\\266\\321+\\t=\\302\\001Kt:\\341\\321|\"\n",
      ", file {\n",
      "  commit {\n",
      "    branch {\n",
      "      repo {\n",
      "        name: \"essd\"\n",
      "        type: \"user\"\n",
      "      }\n",
      "      name: \"master\"\n",
      "    }\n",
      "    id: \"867e73d0fe764f2791204b7b1302d6ff\"\n",
      "  }\n",
      "  path: \"/ESSD/essd_lulucf_data.xlsx\"\n",
      "  datum: \"default\"\n",
      "}\n",
      "file_type: FILE\n",
      "committed {\n",
      "  seconds: 1660385399\n",
      "  nanos: 278217000\n",
      "}\n",
      "size_bytes: 113419\n",
      "hash: \"b\\362l\\2720\\013eT\\001\\006\\275\\007\\277\\3433\\262\\003ZU\\032\\302\\222\\247Z7$\\006\\032\\211\\030\\032<\"\n",
      "]\n"
     ]
    }
   ],
   "source": [
    "# Check the file commit\n",
    "print(list(client.list_file((\"essd\",\"master\"), \"/ESSD/\")))"
   ]
  },
  {
   "cell_type": "markdown",
   "id": "0fda406d-9dbc-4c97-801c-d465779b0b75",
   "metadata": {},
   "source": [
    "Initialize DBT disctionary we will write out as YML at the end"
   ]
  },
  {
   "cell_type": "code",
   "execution_count": 12,
   "id": "c4d58ae4-e045-4ad2-a35a-839768bb0c03",
   "metadata": {},
   "outputs": [],
   "source": [
    "dbt_dict = {}\n",
    "dbt_dict['models'] = {}"
   ]
  },
  {
   "cell_type": "markdown",
   "id": "294f893e-ae2e-4ec7-80d3-f3aa5bbd5ada",
   "metadata": {},
   "source": [
    "The following text describes DBT model properties"
   ]
  },
  {
   "cell_type": "raw",
   "id": "bd69c139-4d46-42a6-81e3-8c74d89137c8",
   "metadata": {},
   "source": [
    "version: 2\n",
    "\n",
    "models:\n",
    "  - [name](model_name): <model name>\n",
    "    [description](description): <markdown_string>\n",
    "    [docs](resource-properties/docs):\n",
    "      show: true | false\n",
    "    [config](resource-properties/config):\n",
    "      [<model_config>](model-configs): <config_value>\n",
    "    [tests](resource-properties/tests):\n",
    "      - <test>\n",
    "      - ... # declare additional tests\n",
    "    columns:\n",
    "      - name: <column_name> # required\n",
    "        [description](description): <markdown_string>\n",
    "        [meta](meta): {<dictionary>}\n",
    "        [quote](quote): true | false\n",
    "        [tests](resource-properties/tests):\n",
    "          - <test>\n",
    "          - ... # declare additional tests\n",
    "        [tags](resource-configs/tags): [<string>]\n",
    "\n",
    "      - name: ... # declare properties of additional columns\n"
   ]
  },
  {
   "cell_type": "markdown",
   "id": "de2a2431-55fe-4bdb-be83-c17484492719",
   "metadata": {},
   "source": [
    "The following text describes DBT external properties"
   ]
  },
  {
   "cell_type": "raw",
   "id": "8dc9e54e-7442-4dff-a8c0-b9c4ba55d23c",
   "metadata": {},
   "source": [
    "version: 2\n",
    "\n",
    "sources:\n",
    "  - name: <source_name>\n",
    "    tables:\n",
    "      - name: <table_name>\n",
    "        external:\n",
    "          location: <string>\n",
    "          file_format: <string>\n",
    "          row_format: <string>\n",
    "          tbl_properties: <string>      \n",
    "          partitions:\n",
    "            - name: <column_name>\n",
    "              data_type: <string>\n",
    "              description: <string>\n",
    "              meta: {dictionary}\n",
    "            - ...\n",
    "          <additional_property>: <additional_value>"
   ]
  },
  {
   "cell_type": "code",
   "execution_count": 13,
   "id": "211435a8-59b9-42e5-a352-09449ef294c8",
   "metadata": {
    "tags": []
   },
   "outputs": [],
   "source": [
    "def create_trino_table_and_dbt_metadata(tablename, df, partition_columns=[], custom_meta_content='', custom_meta_fields='', verbose=False):\n",
    "    iceberg_table = f'{essd_table_prefix}{tablename}'\n",
    "\n",
    "    if custom_meta_content:\n",
    "        dbt_models = dbt_dict['models']\n",
    "        dbt_models[iceberg_table] = dbt_table = { 'description': custom_meta_content['description']}\n",
    "        if custom_meta_fields:\n",
    "            dbt_table['columns'] = dbt_columns = { name: {'description': custom_meta_fields[name]['Description'] } for name in custom_meta_fields.keys() }\n",
    "            for name in custom_meta_fields.keys():\n",
    "                if 'tags' in custom_meta_fields[name].keys():\n",
    "                    dbt_columns[name]['tags'] = custom_meta_fields[name]['tags']\n",
    "    elif custom_meta_field:\n",
    "        raise VALUE_ERROR\n",
    "\n",
    "    drop_table = engine.execute(f\"drop table if exists {iceberg_schema}.{iceberg_table}\")\n",
    "    drop_table.fetchall()\n",
    "    \n",
    "    osc.fast_pandas_ingest_via_hive(\n",
    "        df,\n",
    "        engine,\n",
    "        iceberg_catalog, iceberg_schema, iceberg_table,\n",
    "        hive_bucket, ingest_catalog, ingest_schema,\n",
    "        partition_columns = partition_columns,\n",
    "        overwrite = True,\n",
    "        typemap={'datetime64[ns]':'date'},\n",
    "        verbose = True\n",
    "    )\n",
    "\n",
    "    with open(f\"/opt/app-root/src/essd-ingest-pipeline/dbt/essd_transform/models/{iceberg_table}.sql\", \"w\", encoding=\"utf-8\") as f:\n",
    "        print(\"{{ config(materialized='table') }}\" + f\"\"\"\n",
    "\n",
    "with source_data as (\n",
    "    select {', '.join(df.columns)}\n",
    "    from {iceberg_catalog}.{iceberg_schema}.{iceberg_table}\n",
    ")\n",
    "\n",
    "select * from source_data\n",
    "\"\"\", file=f)"
   ]
  },
  {
   "cell_type": "markdown",
   "id": "d4544e38-c59b-4a49-907f-83db1e0bc16b",
   "metadata": {},
   "source": [
    "Load ESSD data file using pandas *read_excel* and using *iceberg_uuid* as the global UUID for this ingestion"
   ]
  },
  {
   "cell_type": "code",
   "execution_count": 14,
   "id": "fec0af92-2120-4ca2-b561-dd066527cdf8",
   "metadata": {},
   "outputs": [],
   "source": [
    "# Use the pachyderm client to check out the source XLSX file\n",
    "xlsx_file_name = \"essd_ghg_data.xlsx\"\n",
    "f = client.get_file((\"essd\", \"master\"), \"/ESSD/\" + xlsx_file_name)\n",
    "essd_bytes = io.BytesIO(f.read())"
   ]
  },
  {
   "cell_type": "code",
   "execution_count": 15,
   "id": "ae08bca0-02c2-450d-82ca-9c4d7ecc78cd",
   "metadata": {},
   "outputs": [],
   "source": [
    "# It takes ~90 seconds (!) to load nearly 600K rows of data\n",
    "df = pd.read_excel(essd_bytes, sheet_name='data',\n",
    "                   # nrows=100,\n",
    "                   converters={'year': lambda x: str(pd.to_datetime(x, format='%Y').date())},\n",
    "                   dtype={'gwp100_ar5':'int32', 'value':'float64'},\n",
    "                   engine='openpyxl')\n",
    "df['value_units'] = 't CO2e'"
   ]
  },
  {
   "cell_type": "code",
   "execution_count": 16,
   "id": "a75e0a3a-1baa-47c9-96c7-3ac826a1886d",
   "metadata": {},
   "outputs": [
    {
     "data": {
      "text/plain": [
       "Index(['ISO', 'country', 'region_ar6_6', 'region_ar6_10', 'region_ar6_22',\n",
       "       'region_ar6_dev', 'sector_title', 'subsector_title', 'gas',\n",
       "       'gwp100_ar5', 'value', 'value_units', 'year'],\n",
       "      dtype='object')"
      ]
     },
     "metadata": {},
     "output_type": "display_data"
    }
   ],
   "source": [
    "# Put year at the end to make for more friendly partitioning\n",
    "essd_data_df = osc.enforce_partition_column_order(df, ['year'], inplace=False).convert_dtypes()\n",
    "\n",
    "display(essd_data_df.columns)"
   ]
  },
  {
   "cell_type": "code",
   "execution_count": 17,
   "id": "475a4e6f-86fd-4d3a-9151-48e2a52cdc38",
   "metadata": {},
   "outputs": [
    {
     "data": {
      "application/vnd.jupyter.widget-view+json": {
       "model_id": "60ffa8ca349c4f719b422999bdff64dd",
       "version_major": 2,
       "version_minor": 0
      },
      "text/plain": [
       "Summarize dataset:   0%|          | 0/5 [00:00<?, ?it/s]"
      ]
     },
     "metadata": {},
     "output_type": "display_data"
    },
    {
     "data": {
      "application/vnd.jupyter.widget-view+json": {
       "model_id": "fdf7060845f345469a2018526be8079f",
       "version_major": 2,
       "version_minor": 0
      },
      "text/plain": [
       "Generate report structure:   0%|          | 0/1 [00:00<?, ?it/s]"
      ]
     },
     "metadata": {},
     "output_type": "display_data"
    },
    {
     "data": {
      "application/vnd.jupyter.widget-view+json": {
       "model_id": "fd85f2abbceb450198aa3e95ac4f86f7",
       "version_major": 2,
       "version_minor": 0
      },
      "text/plain": [
       "Render HTML:   0%|          | 0/1 [00:00<?, ?it/s]"
      ]
     },
     "metadata": {},
     "output_type": "display_data"
    },
    {
     "data": {
      "application/vnd.jupyter.widget-view+json": {
       "model_id": "7f57dd6ce501424aa4088153783589b2",
       "version_major": 2,
       "version_minor": 0
      },
      "text/plain": [
       "Export report to file:   0%|          | 0/1 [00:00<?, ?it/s]"
      ]
     },
     "metadata": {},
     "output_type": "display_data"
    }
   ],
   "source": [
    "# Generate profile for the data set and render it as an HTML report\n",
    "# Note that minimal=True is required due to incompatibility between pandas 1.4.x and pandas-profiling\n",
    "# This disables expensive computations such as correlations and duplicate row detection\n",
    "# Refer to GitHub issue at https://github.com/ydataai/pandas-profiling/issues/911 for information\n",
    "\n",
    "profile = ProfileReport(essd_data_df, title=\"Profiling Report for \" + xlsx_file_name, minimal=True)\n",
    "profile.to_file(\"../reports/profile_df_essd_ghg_data.html\")\n",
    "\n",
    "# The code below allows generating the profile into a HTML version and display it within the notebook\n",
    "# profile.to_notebook_iframe()\n",
    "\n",
    "# The code below allows generating the profile into an interactive widget (not working)\n",
    "# profile.to_widgets()"
   ]
  },
  {
   "cell_type": "markdown",
   "id": "0befb864-3e0c-4357-8b24-5caeaea65de6",
   "metadata": {},
   "source": [
    "Construct the combined metadata by merging existing table metadata and custom metadata.\n",
    "Note: The metadata content must be JSON serialisable and encoded as bytes; the metadata key must also be encoded as bytes."
   ]
  },
  {
   "cell_type": "code",
   "execution_count": 18,
   "id": "166faf5a-9b4e-4bb6-8794-f01f29ce9a04",
   "metadata": {
    "tags": []
   },
   "outputs": [],
   "source": [
    "essd_content_df = pd.read_excel(essd_bytes, sheet_name='info', header=None).dropna(axis=0).set_index(0).T\n",
    "custom_meta_content = {\n",
    "    'title': 'Earth System Science Data (ESSD) Dataset',\n",
    "    'author': essd_content_df[['Author & contact']].squeeze(),\n",
    "    'contact': essd_content_df[['Author & contact']].squeeze(),\n",
    "    'description': essd_content_df[['Data description']].squeeze(),\n",
    "    'release_date': essd_content_df[['Last date of compilation']].squeeze(),\n",
    "    # How should we describe our transformative step here?\n",
    "}"
   ]
  },
  {
   "cell_type": "code",
   "execution_count": 19,
   "id": "bb22e630-ef15-4ec8-a66e-38a6819d54ea",
   "metadata": {
    "tags": []
   },
   "outputs": [],
   "source": [
    "essd_metadata_df = pd.read_excel(essd_bytes, sheet_name='metadata')\n",
    "custom_meta_fields = { d['Variable']: {k:v for k,v in d.items() if k!='Variable' and v==v} for d in essd_metadata_df.to_dict('records') }\n",
    "# ??? custom_meta_fields['gas'] is a kind of Unit, namely a species of gas.  How do we explain that?\n",
    "custom_meta_fields['value']['Units'] = 'tons' # combined with gas species, we'd get 't ${gas_species}'\n",
    "custom_meta_fields['gwp100_ar5']['Units'] = 't CO2e/tons'\n",
    "del(essd_metadata_df)\n",
    "\n",
    "def description_is (s):\n",
    "    return { 'Description': s}\n",
    "\n",
    "custom_meta_fields['ISO'] = description_is(\"ISO 3166 3-letter code\")\n",
    "custom_meta_fields['country'] = description_is(\"ISO 3166 country name\")\n",
    "custom_meta_fields['region_ar6_6'] = description_is(\"IPCC ar6 6-region climate boundaries\")\n",
    "custom_meta_fields['region_ar6_10'] = description_is(\"IPCC ar6 10-region climate boundaries\")\n",
    "custom_meta_fields['region_ar6_22'] = description_is(\"IPCC ar6 22-region climate boundaries\")\n",
    "custom_meta_fields['region_ar6_dev'] = description_is(\"IPCC ar6 developed/ldc country\")\n",
    "custom_meta_fields['sector_title'] = description_is(\"IPCC ar6 5 Principal Sector Names\")\n",
    "custom_meta_fields['subsector_title'] = description_is(\"IPCC ar6 Sub-Sector Names\")\n",
    "custom_meta_fields['year'] = description_is(\"Year of Data Observation\")\n",
    "\n",
    "for f in custom_meta_fields:\n",
    "    if 'ISO' in custom_meta_fields[f]['Description']:\n",
    "        custom_meta_fields[f]['tags'] = ['ISO']\n",
    "    elif 'IPCC' in custom_meta_fields[f]['Description']:\n",
    "        custom_meta_fields[f]['tags'] = ['IPCC']\n",
    "    elif f == 'year':\n",
    "        custom_meta_fields[f]['tags'] = ['annual']"
   ]
  },
  {
   "cell_type": "code",
   "execution_count": 20,
   "id": "5e5b88b7-7a70-4394-89f4-7bf019d28a44",
   "metadata": {},
   "outputs": [
    {
     "name": "stdout",
     "output_type": "stream",
     "text": [
      "<class 'pandas.core.frame.DataFrame'>\n",
      "RangeIndex: 568341 entries, 0 to 568340\n",
      "Data columns (total 13 columns):\n",
      " #   Column           Non-Null Count   Dtype  \n",
      "---  ------           --------------   -----  \n",
      " 0   ISO              568341 non-null  string \n",
      " 1   country          568341 non-null  string \n",
      " 2   region_ar6_6     568341 non-null  string \n",
      " 3   region_ar6_10    568341 non-null  string \n",
      " 4   region_ar6_22    568341 non-null  string \n",
      " 5   region_ar6_dev   568341 non-null  string \n",
      " 6   sector_title     568341 non-null  string \n",
      " 7   subsector_title  568341 non-null  string \n",
      " 8   gas              568341 non-null  string \n",
      " 9   gwp100_ar5       568341 non-null  Int32  \n",
      " 10  value            568341 non-null  Float64\n",
      " 11  value_units      568341 non-null  string \n",
      " 12  year             568341 non-null  string \n",
      "dtypes: Float64(1), Int32(1), string(11)\n",
      "memory usage: 55.3 MB\n"
     ]
    }
   ],
   "source": [
    "essd_data_df.info(verbose=True)"
   ]
  },
  {
   "cell_type": "code",
   "execution_count": 21,
   "id": "5a6fa2a4-024d-4d4f-bf5c-436a84621477",
   "metadata": {},
   "outputs": [
    {
     "data": {
      "text/plain": [
       "{'models': {}}"
      ]
     },
     "execution_count": 21,
     "metadata": {},
     "output_type": "execute_result"
    }
   ],
   "source": [
    "dbt_dict"
   ]
  },
  {
   "cell_type": "code",
   "execution_count": 22,
   "id": "36540cbf-2931-4fb7-b835-307be6bb4cfe",
   "metadata": {
    "tags": []
   },
   "outputs": [
    {
     "name": "stdout",
     "output_type": "stream",
     "text": [
      "enforcing dataframe partition column order\n",
      "\n",
      "verifying existence of table osc_datacommons_dev.mdt_sandbox.essd_ghg_data\n",
      "create table if not exists osc_datacommons_dev.mdt_sandbox.essd_ghg_data (\n",
      "    ISO varchar,\n",
      "    country varchar,\n",
      "    region_ar6_6 varchar,\n",
      "    region_ar6_10 varchar,\n",
      "    region_ar6_22 varchar,\n",
      "    region_ar6_dev varchar,\n",
      "    sector_title varchar,\n",
      "    subsector_title varchar,\n",
      "    gas varchar,\n",
      "    gwp100_ar5 integer,\n",
      "    value double,\n",
      "    value_units varchar,\n",
      "    year varchar\n",
      ") with (\n",
      "    format = 'parquet',\n",
      "    partitioning = array['year']\n",
      ")\n",
      "[(True,)]\n",
      "\n",
      "staging dataframe parquet to s3 osc-datacommons-s3-bucket-dev02\n",
      "/tmp/ingest_temp_5659faf1/year=1985-01-01/447970f348ae49289a483a1224261e0a-0.parquet  -->  trino/ingest/ingest_temp_5659faf1/year=1985-01-01/447970f348ae49289a483a1224261e0a-0.parquet\n",
      "/tmp/ingest_temp_5659faf1/year=2017-01-01/447970f348ae49289a483a1224261e0a-0.parquet  -->  trino/ingest/ingest_temp_5659faf1/year=2017-01-01/447970f348ae49289a483a1224261e0a-0.parquet\n",
      "/tmp/ingest_temp_5659faf1/year=1986-01-01/447970f348ae49289a483a1224261e0a-0.parquet  -->  trino/ingest/ingest_temp_5659faf1/year=1986-01-01/447970f348ae49289a483a1224261e0a-0.parquet\n",
      "/tmp/ingest_temp_5659faf1/year=1987-01-01/447970f348ae49289a483a1224261e0a-0.parquet  -->  trino/ingest/ingest_temp_5659faf1/year=1987-01-01/447970f348ae49289a483a1224261e0a-0.parquet\n",
      "/tmp/ingest_temp_5659faf1/year=1988-01-01/447970f348ae49289a483a1224261e0a-0.parquet  -->  trino/ingest/ingest_temp_5659faf1/year=1988-01-01/447970f348ae49289a483a1224261e0a-0.parquet\n",
      "/tmp/ingest_temp_5659faf1/year=1989-01-01/447970f348ae49289a483a1224261e0a-0.parquet  -->  trino/ingest/ingest_temp_5659faf1/year=1989-01-01/447970f348ae49289a483a1224261e0a-0.parquet\n",
      "/tmp/ingest_temp_5659faf1/year=2001-01-01/447970f348ae49289a483a1224261e0a-0.parquet  -->  trino/ingest/ingest_temp_5659faf1/year=2001-01-01/447970f348ae49289a483a1224261e0a-0.parquet\n",
      "/tmp/ingest_temp_5659faf1/year=2002-01-01/447970f348ae49289a483a1224261e0a-0.parquet  -->  trino/ingest/ingest_temp_5659faf1/year=2002-01-01/447970f348ae49289a483a1224261e0a-0.parquet\n",
      "/tmp/ingest_temp_5659faf1/year=2003-01-01/447970f348ae49289a483a1224261e0a-0.parquet  -->  trino/ingest/ingest_temp_5659faf1/year=2003-01-01/447970f348ae49289a483a1224261e0a-0.parquet\n",
      "/tmp/ingest_temp_5659faf1/year=2004-01-01/447970f348ae49289a483a1224261e0a-0.parquet  -->  trino/ingest/ingest_temp_5659faf1/year=2004-01-01/447970f348ae49289a483a1224261e0a-0.parquet\n",
      "/tmp/ingest_temp_5659faf1/year=2005-01-01/447970f348ae49289a483a1224261e0a-0.parquet  -->  trino/ingest/ingest_temp_5659faf1/year=2005-01-01/447970f348ae49289a483a1224261e0a-0.parquet\n",
      "/tmp/ingest_temp_5659faf1/year=2006-01-01/447970f348ae49289a483a1224261e0a-0.parquet  -->  trino/ingest/ingest_temp_5659faf1/year=2006-01-01/447970f348ae49289a483a1224261e0a-0.parquet\n",
      "/tmp/ingest_temp_5659faf1/year=2007-01-01/447970f348ae49289a483a1224261e0a-0.parquet  -->  trino/ingest/ingest_temp_5659faf1/year=2007-01-01/447970f348ae49289a483a1224261e0a-0.parquet\n",
      "/tmp/ingest_temp_5659faf1/year=2008-01-01/447970f348ae49289a483a1224261e0a-0.parquet  -->  trino/ingest/ingest_temp_5659faf1/year=2008-01-01/447970f348ae49289a483a1224261e0a-0.parquet\n",
      "/tmp/ingest_temp_5659faf1/year=2009-01-01/447970f348ae49289a483a1224261e0a-0.parquet  -->  trino/ingest/ingest_temp_5659faf1/year=2009-01-01/447970f348ae49289a483a1224261e0a-0.parquet\n",
      "/tmp/ingest_temp_5659faf1/year=2010-01-01/447970f348ae49289a483a1224261e0a-0.parquet  -->  trino/ingest/ingest_temp_5659faf1/year=2010-01-01/447970f348ae49289a483a1224261e0a-0.parquet\n",
      "/tmp/ingest_temp_5659faf1/year=2011-01-01/447970f348ae49289a483a1224261e0a-0.parquet  -->  trino/ingest/ingest_temp_5659faf1/year=2011-01-01/447970f348ae49289a483a1224261e0a-0.parquet\n",
      "/tmp/ingest_temp_5659faf1/year=2012-01-01/447970f348ae49289a483a1224261e0a-0.parquet  -->  trino/ingest/ingest_temp_5659faf1/year=2012-01-01/447970f348ae49289a483a1224261e0a-0.parquet\n",
      "/tmp/ingest_temp_5659faf1/year=2013-01-01/447970f348ae49289a483a1224261e0a-0.parquet  -->  trino/ingest/ingest_temp_5659faf1/year=2013-01-01/447970f348ae49289a483a1224261e0a-0.parquet\n",
      "/tmp/ingest_temp_5659faf1/year=2014-01-01/447970f348ae49289a483a1224261e0a-0.parquet  -->  trino/ingest/ingest_temp_5659faf1/year=2014-01-01/447970f348ae49289a483a1224261e0a-0.parquet\n",
      "/tmp/ingest_temp_5659faf1/year=2015-01-01/447970f348ae49289a483a1224261e0a-0.parquet  -->  trino/ingest/ingest_temp_5659faf1/year=2015-01-01/447970f348ae49289a483a1224261e0a-0.parquet\n",
      "/tmp/ingest_temp_5659faf1/year=2016-01-01/447970f348ae49289a483a1224261e0a-0.parquet  -->  trino/ingest/ingest_temp_5659faf1/year=2016-01-01/447970f348ae49289a483a1224261e0a-0.parquet\n",
      "/tmp/ingest_temp_5659faf1/year=2018-01-01/447970f348ae49289a483a1224261e0a-0.parquet  -->  trino/ingest/ingest_temp_5659faf1/year=2018-01-01/447970f348ae49289a483a1224261e0a-0.parquet\n",
      "/tmp/ingest_temp_5659faf1/year=2019-01-01/447970f348ae49289a483a1224261e0a-0.parquet  -->  trino/ingest/ingest_temp_5659faf1/year=2019-01-01/447970f348ae49289a483a1224261e0a-0.parquet\n",
      "/tmp/ingest_temp_5659faf1/year=2020-01-01/447970f348ae49289a483a1224261e0a-0.parquet  -->  trino/ingest/ingest_temp_5659faf1/year=2020-01-01/447970f348ae49289a483a1224261e0a-0.parquet\n",
      "/tmp/ingest_temp_5659faf1/year=1970-01-01/447970f348ae49289a483a1224261e0a-0.parquet  -->  trino/ingest/ingest_temp_5659faf1/year=1970-01-01/447970f348ae49289a483a1224261e0a-0.parquet\n",
      "/tmp/ingest_temp_5659faf1/year=1971-01-01/447970f348ae49289a483a1224261e0a-0.parquet  -->  trino/ingest/ingest_temp_5659faf1/year=1971-01-01/447970f348ae49289a483a1224261e0a-0.parquet\n",
      "/tmp/ingest_temp_5659faf1/year=1973-01-01/447970f348ae49289a483a1224261e0a-0.parquet  -->  trino/ingest/ingest_temp_5659faf1/year=1973-01-01/447970f348ae49289a483a1224261e0a-0.parquet\n",
      "/tmp/ingest_temp_5659faf1/year=1974-01-01/447970f348ae49289a483a1224261e0a-0.parquet  -->  trino/ingest/ingest_temp_5659faf1/year=1974-01-01/447970f348ae49289a483a1224261e0a-0.parquet\n",
      "/tmp/ingest_temp_5659faf1/year=1975-01-01/447970f348ae49289a483a1224261e0a-0.parquet  -->  trino/ingest/ingest_temp_5659faf1/year=1975-01-01/447970f348ae49289a483a1224261e0a-0.parquet\n",
      "/tmp/ingest_temp_5659faf1/year=1977-01-01/447970f348ae49289a483a1224261e0a-0.parquet  -->  trino/ingest/ingest_temp_5659faf1/year=1977-01-01/447970f348ae49289a483a1224261e0a-0.parquet\n",
      "/tmp/ingest_temp_5659faf1/year=1978-01-01/447970f348ae49289a483a1224261e0a-0.parquet  -->  trino/ingest/ingest_temp_5659faf1/year=1978-01-01/447970f348ae49289a483a1224261e0a-0.parquet\n",
      "/tmp/ingest_temp_5659faf1/year=1979-01-01/447970f348ae49289a483a1224261e0a-0.parquet  -->  trino/ingest/ingest_temp_5659faf1/year=1979-01-01/447970f348ae49289a483a1224261e0a-0.parquet\n",
      "/tmp/ingest_temp_5659faf1/year=1980-01-01/447970f348ae49289a483a1224261e0a-0.parquet  -->  trino/ingest/ingest_temp_5659faf1/year=1980-01-01/447970f348ae49289a483a1224261e0a-0.parquet\n",
      "/tmp/ingest_temp_5659faf1/year=1981-01-01/447970f348ae49289a483a1224261e0a-0.parquet  -->  trino/ingest/ingest_temp_5659faf1/year=1981-01-01/447970f348ae49289a483a1224261e0a-0.parquet\n",
      "/tmp/ingest_temp_5659faf1/year=1982-01-01/447970f348ae49289a483a1224261e0a-0.parquet  -->  trino/ingest/ingest_temp_5659faf1/year=1982-01-01/447970f348ae49289a483a1224261e0a-0.parquet\n",
      "/tmp/ingest_temp_5659faf1/year=1976-01-01/447970f348ae49289a483a1224261e0a-0.parquet  -->  trino/ingest/ingest_temp_5659faf1/year=1976-01-01/447970f348ae49289a483a1224261e0a-0.parquet\n",
      "/tmp/ingest_temp_5659faf1/year=1983-01-01/447970f348ae49289a483a1224261e0a-0.parquet  -->  trino/ingest/ingest_temp_5659faf1/year=1983-01-01/447970f348ae49289a483a1224261e0a-0.parquet\n",
      "/tmp/ingest_temp_5659faf1/year=1984-01-01/447970f348ae49289a483a1224261e0a-0.parquet  -->  trino/ingest/ingest_temp_5659faf1/year=1984-01-01/447970f348ae49289a483a1224261e0a-0.parquet\n",
      "/tmp/ingest_temp_5659faf1/year=1972-01-01/447970f348ae49289a483a1224261e0a-0.parquet  -->  trino/ingest/ingest_temp_5659faf1/year=1972-01-01/447970f348ae49289a483a1224261e0a-0.parquet\n",
      "/tmp/ingest_temp_5659faf1/year=1990-01-01/447970f348ae49289a483a1224261e0a-0.parquet  -->  trino/ingest/ingest_temp_5659faf1/year=1990-01-01/447970f348ae49289a483a1224261e0a-0.parquet\n",
      "/tmp/ingest_temp_5659faf1/year=1991-01-01/447970f348ae49289a483a1224261e0a-0.parquet  -->  trino/ingest/ingest_temp_5659faf1/year=1991-01-01/447970f348ae49289a483a1224261e0a-0.parquet\n",
      "/tmp/ingest_temp_5659faf1/year=1992-01-01/447970f348ae49289a483a1224261e0a-0.parquet  -->  trino/ingest/ingest_temp_5659faf1/year=1992-01-01/447970f348ae49289a483a1224261e0a-0.parquet\n",
      "/tmp/ingest_temp_5659faf1/year=1993-01-01/447970f348ae49289a483a1224261e0a-0.parquet  -->  trino/ingest/ingest_temp_5659faf1/year=1993-01-01/447970f348ae49289a483a1224261e0a-0.parquet\n",
      "/tmp/ingest_temp_5659faf1/year=1994-01-01/447970f348ae49289a483a1224261e0a-0.parquet  -->  trino/ingest/ingest_temp_5659faf1/year=1994-01-01/447970f348ae49289a483a1224261e0a-0.parquet\n",
      "/tmp/ingest_temp_5659faf1/year=1995-01-01/447970f348ae49289a483a1224261e0a-0.parquet  -->  trino/ingest/ingest_temp_5659faf1/year=1995-01-01/447970f348ae49289a483a1224261e0a-0.parquet\n",
      "/tmp/ingest_temp_5659faf1/year=1996-01-01/447970f348ae49289a483a1224261e0a-0.parquet  -->  trino/ingest/ingest_temp_5659faf1/year=1996-01-01/447970f348ae49289a483a1224261e0a-0.parquet\n",
      "/tmp/ingest_temp_5659faf1/year=1997-01-01/447970f348ae49289a483a1224261e0a-0.parquet  -->  trino/ingest/ingest_temp_5659faf1/year=1997-01-01/447970f348ae49289a483a1224261e0a-0.parquet\n",
      "/tmp/ingest_temp_5659faf1/year=1998-01-01/447970f348ae49289a483a1224261e0a-0.parquet  -->  trino/ingest/ingest_temp_5659faf1/year=1998-01-01/447970f348ae49289a483a1224261e0a-0.parquet\n",
      "/tmp/ingest_temp_5659faf1/year=1999-01-01/447970f348ae49289a483a1224261e0a-0.parquet  -->  trino/ingest/ingest_temp_5659faf1/year=1999-01-01/447970f348ae49289a483a1224261e0a-0.parquet\n",
      "/tmp/ingest_temp_5659faf1/year=2000-01-01/447970f348ae49289a483a1224261e0a-0.parquet  -->  trino/ingest/ingest_temp_5659faf1/year=2000-01-01/447970f348ae49289a483a1224261e0a-0.parquet\n",
      "\n",
      "declaring intermediate hive table osc_datacommons_hive_ingest.ingest.ingest_temp_5659faf1\n",
      "create table if not exists osc_datacommons_hive_ingest.ingest.ingest_temp_5659faf1 (\n",
      "    ISO varchar,\n",
      "    country varchar,\n",
      "    region_ar6_6 varchar,\n",
      "    region_ar6_10 varchar,\n",
      "    region_ar6_22 varchar,\n",
      "    region_ar6_dev varchar,\n",
      "    sector_title varchar,\n",
      "    subsector_title varchar,\n",
      "    gas varchar,\n",
      "    gwp100_ar5 integer,\n",
      "    value double,\n",
      "    value_units varchar,\n",
      "    year varchar\n",
      ") with (\n",
      "    format = 'parquet',\n",
      "    partitioned_by = array['year'],\n",
      "    external_location = 's3a://osc-datacommons-s3-bucket-dev02/trino/ingest/ingest_temp_5659faf1/'\n",
      ")\n",
      "[(True,)]\n",
      "\n",
      "syncing partition metadata on intermediate hive table\n",
      "call osc_datacommons_hive_ingest.system.sync_partition_metadata('ingest', 'ingest_temp_5659faf1', 'FULL')\n",
      "[(True,)]\n",
      "\n",
      "overwriting data in osc_datacommons_dev.mdt_sandbox.essd_ghg_data\n",
      "delete from osc_datacommons_dev.mdt_sandbox.essd_ghg_data\n",
      "[(None,)]\n",
      "\n",
      "transferring data: osc_datacommons_hive_ingest.ingest.ingest_temp_5659faf1 -> osc_datacommons_dev.mdt_sandbox.essd_ghg_data\n",
      "insert into osc_datacommons_dev.mdt_sandbox.essd_ghg_data\n",
      "select * from osc_datacommons_hive_ingest.ingest.ingest_temp_5659faf1\n",
      "[(568341,)]\n",
      "\n",
      "deleting table and data for intermediate table osc_datacommons_hive_ingest.ingest.ingest_temp_5659faf1\n",
      "[{'ResponseMetadata': {'RequestId': '0838078B6N92QQXS', 'HostId': 'OhQbRnuHwyV3yZcrIXcBsB2SlHUmzk3ueSIAwvipBJhPEWrt9cs+C8fDZJKz9X43zQGvDnBs+TQ=', 'HTTPStatusCode': 200, 'HTTPHeaders': {'x-amz-id-2': 'OhQbRnuHwyV3yZcrIXcBsB2SlHUmzk3ueSIAwvipBJhPEWrt9cs+C8fDZJKz9X43zQGvDnBs+TQ=', 'x-amz-request-id': '0838078B6N92QQXS', 'date': 'Wed, 17 Aug 2022 10:11:13 GMT', 'content-type': 'application/xml', 'transfer-encoding': 'chunked', 'server': 'AmazonS3', 'connection': 'close'}, 'RetryAttempts': 0}, 'Deleted': [{'Key': 'trino/ingest/ingest_temp_5659faf1/year=1999-01-01/447970f348ae49289a483a1224261e0a-0.parquet'}, {'Key': 'trino/ingest/ingest_temp_5659faf1/year=2009-01-01/447970f348ae49289a483a1224261e0a-0.parquet'}, {'Key': 'trino/ingest/ingest_temp_5659faf1/year=2005-01-01/447970f348ae49289a483a1224261e0a-0.parquet'}, {'Key': 'trino/ingest/ingest_temp_5659faf1/year=1983-01-01/447970f348ae49289a483a1224261e0a-0.parquet'}, {'Key': 'trino/ingest/ingest_temp_5659faf1/year=2020-01-01/447970f348ae49289a483a1224261e0a-0.parquet'}, {'Key': 'trino/ingest/ingest_temp_5659faf1/year=1974-01-01/447970f348ae49289a483a1224261e0a-0.parquet'}, {'Key': 'trino/ingest/ingest_temp_5659faf1/year=1977-01-01/447970f348ae49289a483a1224261e0a-0.parquet'}, {'Key': 'trino/ingest/ingest_temp_5659faf1/year=1981-01-01/447970f348ae49289a483a1224261e0a-0.parquet'}, {'Key': 'trino/ingest/ingest_temp_5659faf1/year=2017-01-01/447970f348ae49289a483a1224261e0a-0.parquet'}, {'Key': 'trino/ingest/ingest_temp_5659faf1/year=2002-01-01/447970f348ae49289a483a1224261e0a-0.parquet'}, {'Key': 'trino/ingest/ingest_temp_5659faf1/year=1980-01-01/447970f348ae49289a483a1224261e0a-0.parquet'}, {'Key': 'trino/ingest/ingest_temp_5659faf1/year=2003-01-01/447970f348ae49289a483a1224261e0a-0.parquet'}, {'Key': 'trino/ingest/ingest_temp_5659faf1/year=1985-01-01/447970f348ae49289a483a1224261e0a-0.parquet'}, {'Key': 'trino/ingest/ingest_temp_5659faf1/year=1994-01-01/447970f348ae49289a483a1224261e0a-0.parquet'}, {'Key': 'trino/ingest/ingest_temp_5659faf1/year=2008-01-01/447970f348ae49289a483a1224261e0a-0.parquet'}, {'Key': 'trino/ingest/ingest_temp_5659faf1/year=2000-01-01/447970f348ae49289a483a1224261e0a-0.parquet'}, {'Key': 'trino/ingest/ingest_temp_5659faf1/year=1973-01-01/447970f348ae49289a483a1224261e0a-0.parquet'}, {'Key': 'trino/ingest/ingest_temp_5659faf1/year=1976-01-01/447970f348ae49289a483a1224261e0a-0.parquet'}, {'Key': 'trino/ingest/ingest_temp_5659faf1/year=1970-01-01/447970f348ae49289a483a1224261e0a-0.parquet'}, {'Key': 'trino/ingest/ingest_temp_5659faf1/year=1989-01-01/447970f348ae49289a483a1224261e0a-0.parquet'}, {'Key': 'trino/ingest/ingest_temp_5659faf1/year=1990-01-01/447970f348ae49289a483a1224261e0a-0.parquet'}, {'Key': 'trino/ingest/ingest_temp_5659faf1/year=1987-01-01/447970f348ae49289a483a1224261e0a-0.parquet'}, {'Key': 'trino/ingest/ingest_temp_5659faf1/year=2016-01-01/447970f348ae49289a483a1224261e0a-0.parquet'}, {'Key': 'trino/ingest/ingest_temp_5659faf1/year=2013-01-01/447970f348ae49289a483a1224261e0a-0.parquet'}, {'Key': 'trino/ingest/ingest_temp_5659faf1/year=1972-01-01/447970f348ae49289a483a1224261e0a-0.parquet'}, {'Key': 'trino/ingest/ingest_temp_5659faf1/year=1997-01-01/447970f348ae49289a483a1224261e0a-0.parquet'}, {'Key': 'trino/ingest/ingest_temp_5659faf1/year=1975-01-01/447970f348ae49289a483a1224261e0a-0.parquet'}, {'Key': 'trino/ingest/ingest_temp_5659faf1/year=1984-01-01/447970f348ae49289a483a1224261e0a-0.parquet'}, {'Key': 'trino/ingest/ingest_temp_5659faf1/year=1982-01-01/447970f348ae49289a483a1224261e0a-0.parquet'}, {'Key': 'trino/ingest/ingest_temp_5659faf1/year=1998-01-01/447970f348ae49289a483a1224261e0a-0.parquet'}, {'Key': 'trino/ingest/ingest_temp_5659faf1/year=2019-01-01/447970f348ae49289a483a1224261e0a-0.parquet'}, {'Key': 'trino/ingest/ingest_temp_5659faf1/year=1991-01-01/447970f348ae49289a483a1224261e0a-0.parquet'}, {'Key': 'trino/ingest/ingest_temp_5659faf1/year=1992-01-01/447970f348ae49289a483a1224261e0a-0.parquet'}, {'Key': 'trino/ingest/ingest_temp_5659faf1/year=1978-01-01/447970f348ae49289a483a1224261e0a-0.parquet'}, {'Key': 'trino/ingest/ingest_temp_5659faf1/year=2007-01-01/447970f348ae49289a483a1224261e0a-0.parquet'}, {'Key': 'trino/ingest/ingest_temp_5659faf1/year=2014-01-01/447970f348ae49289a483a1224261e0a-0.parquet'}, {'Key': 'trino/ingest/ingest_temp_5659faf1/year=1993-01-01/447970f348ae49289a483a1224261e0a-0.parquet'}, {'Key': 'trino/ingest/ingest_temp_5659faf1/year=1971-01-01/447970f348ae49289a483a1224261e0a-0.parquet'}, {'Key': 'trino/ingest/ingest_temp_5659faf1/year=1986-01-01/447970f348ae49289a483a1224261e0a-0.parquet'}, {'Key': 'trino/ingest/ingest_temp_5659faf1/year=2004-01-01/447970f348ae49289a483a1224261e0a-0.parquet'}, {'Key': 'trino/ingest/ingest_temp_5659faf1/year=2001-01-01/447970f348ae49289a483a1224261e0a-0.parquet'}, {'Key': 'trino/ingest/ingest_temp_5659faf1/year=2018-01-01/447970f348ae49289a483a1224261e0a-0.parquet'}, {'Key': 'trino/ingest/ingest_temp_5659faf1/year=1996-01-01/447970f348ae49289a483a1224261e0a-0.parquet'}, {'Key': 'trino/ingest/ingest_temp_5659faf1/year=2011-01-01/447970f348ae49289a483a1224261e0a-0.parquet'}, {'Key': 'trino/ingest/ingest_temp_5659faf1/year=2006-01-01/447970f348ae49289a483a1224261e0a-0.parquet'}, {'Key': 'trino/ingest/ingest_temp_5659faf1/year=2015-01-01/447970f348ae49289a483a1224261e0a-0.parquet'}, {'Key': 'trino/ingest/ingest_temp_5659faf1/year=1979-01-01/447970f348ae49289a483a1224261e0a-0.parquet'}, {'Key': 'trino/ingest/ingest_temp_5659faf1/year=2010-01-01/447970f348ae49289a483a1224261e0a-0.parquet'}, {'Key': 'trino/ingest/ingest_temp_5659faf1/year=2012-01-01/447970f348ae49289a483a1224261e0a-0.parquet'}, {'Key': 'trino/ingest/ingest_temp_5659faf1/year=1988-01-01/447970f348ae49289a483a1224261e0a-0.parquet'}, {'Key': 'trino/ingest/ingest_temp_5659faf1/year=1995-01-01/447970f348ae49289a483a1224261e0a-0.parquet'}]}]\n"
     ]
    }
   ],
   "source": [
    "create_trino_table_and_dbt_metadata('ghg_data', essd_data_df, ['year'], custom_meta_content, custom_meta_fields)"
   ]
  },
  {
   "cell_type": "code",
   "execution_count": 23,
   "id": "5b0e1070-b43b-4c49-ba83-13a43137d34b",
   "metadata": {
    "tags": []
   },
   "outputs": [],
   "source": [
    "del(essd_data_df)"
   ]
  },
  {
   "cell_type": "markdown",
   "id": "81b90213-e3e3-4cc2-bd74-e4ed0d2946b4",
   "metadata": {},
   "source": [
    "Grab Sector, Region, 100yr GWPs, and GH4_gwps from one of the two main ESSD data tables (they are the same in both)."
   ]
  },
  {
   "cell_type": "code",
   "execution_count": 24,
   "id": "8b6d7129-b487-485a-bb7b-81fb6e962f31",
   "metadata": {},
   "outputs": [
    {
     "data": {
      "text/plain": [
       "Index(['EDGAR_code', 'fossil_bio', 'sector_title', 'description',\n",
       "       'subsector_title', 'IPCC_2006'],\n",
       "      dtype='object')"
      ]
     },
     "metadata": {},
     "output_type": "display_data"
    }
   ],
   "source": [
    "essd_sectors_df = pd.read_excel(essd_bytes, sheet_name='sector_classification',\n",
    "                                # nrows=100,\n",
    "                                engine='openpyxl').convert_dtypes()\n",
    "display(essd_sectors_df.columns)"
   ]
  },
  {
   "cell_type": "code",
   "execution_count": 25,
   "id": "341b9cfe-c646-4721-b287-48add08422f8",
   "metadata": {},
   "outputs": [],
   "source": [
    "custom_meta_content = {\n",
    "    'title': 'Earth System Science Data (ESSD) Sector Classification',\n",
    "    'author': essd_content_df[['Author & contact']].squeeze(),\n",
    "    'contact': essd_content_df[['Author & contact']].squeeze(),\n",
    "    'description': essd_content_df[['Sectors']].squeeze(),\n",
    "    'release_date': essd_content_df[['Last date of compilation']].squeeze(),\n",
    "    # How should we describe our transformative step here?\n",
    "}\n",
    "\n",
    "custom_meta_fields = {\n",
    "    \"EDGAR_code\": description_is(\"EDGAR Sector Coding [1-7][A-G][1-15][xx]\"),\n",
    "    \"fossil_bio\": description_is(\"CO2e source - fossil or bio\"),\n",
    "    \"sector_title\": description_is(\"IPCC ar6 Sector Names\"),\n",
    "    \"description\": description_is(\"IPCC Sector description\"),\n",
    "    \"subsector_title\": description_is(\"IPCC ar6 Sub-Sector Names\"),\n",
    "    \"IPCC_2006\": description_is(\"IPCC Sector Coding List [1-5].[A-G].[1-9].[a-h].[i-iii].[2-6]\"),\n",
    "}\n",
    "\n",
    "for f in custom_meta_fields:\n",
    "    if 'IPCC' in custom_meta_fields[f]['Description']:\n",
    "        custom_meta_fields[f]['tags'] = ['IPCC']\n",
    "    elif 'EDGAR' in custom_meta_fields[f]['Description']:\n",
    "        custom_meta_fields[f]['tags'] = ['EDGAR']"
   ]
  },
  {
   "cell_type": "code",
   "execution_count": 26,
   "id": "8ee057b9-48a4-4cda-96df-af6344f9f5d7",
   "metadata": {},
   "outputs": [
    {
     "name": "stdout",
     "output_type": "stream",
     "text": [
      "[('CZE', 'Czech Republic', 'Developed Countries', 'Europe', 'Southern and eastern Europe', 'developed', 'AFOLU', 'Biomass burning (CH4, N2O)', 'CH4', 28, 2570.5761303, 't CO2e', '1988-01-01'), ('CZE', 'Czech Republic', 'Developed Countries', 'Europe', 'Southern and eastern Europe', 'developed', 'AFOLU', 'Biomass burning (CH4, N2O)', 'N2O', 265, 66.64441332, 't CO2e', '1988-01-01'), ('CZE', 'Czech Republic', 'Developed Countries', 'Europe', 'Southern and eastern Europe', 'developed', 'AFOLU', 'Enteric Fermentation (CH4)', 'CH4', 28, 350567.875, 't CO2e', '1988-01-01'), ('CZE', 'Czech Republic', 'Developed Countries', 'Europe', 'Southern and eastern Europe', 'developed', 'AFOLU', 'Synthetic fertilizer application (N2O)', 'N2O', 265, 7612.6777, 't CO2e', '1988-01-01'), ('CZE', 'Czech Republic', 'Developed Countries', 'Europe', 'Southern and eastern Europe', 'developed', 'Buildings', 'Non-CO2 (all buildings)', 'HFC-125', 3170, 0.0, 't CO2e', '1988-01-01'), ('CZE', 'Czech Republic', 'Developed Countries', 'Europe', 'Southern and eastern Europe', 'developed', 'Buildings', 'Non-CO2 (all buildings)', 'HFC-134a', 1300, 0.0, 't CO2e', '1988-01-01'), ('CZE', 'Czech Republic', 'Developed Countries', 'Europe', 'Southern and eastern Europe', 'developed', 'AFOLU', 'Managed soils and pasture (CO2, N2O)', 'CO2', 1, 1691676.1, 't CO2e', '1988-01-01'), ('CZE', 'Czech Republic', 'Developed Countries', 'Europe', 'Southern and eastern Europe', 'developed', 'AFOLU', 'Managed soils and pasture (CO2, N2O)', 'N2O', 265, 9221.3335093, 't CO2e', '1988-01-01'), ('CZE', 'Czech Republic', 'Developed Countries', 'Europe', 'Southern and eastern Europe', 'developed', 'AFOLU', 'Manure management (N2O, CH4)', 'CH4', 28, 51754.00658, 't CO2e', '1988-01-01'), ('CZE', 'Czech Republic', 'Developed Countries', 'Europe', 'Southern and eastern Europe', 'developed', 'AFOLU', 'Manure management (N2O, CH4)', 'N2O', 265, 1691.281628, 't CO2e', '1988-01-01')]\n"
     ]
    }
   ],
   "source": [
    "qres = engine.execute(\"select * from osc_datacommons_dev.mdt_sandbox.essd_ghg_data limit 10\")\n",
    "print(qres.fetchall())"
   ]
  },
  {
   "cell_type": "code",
   "execution_count": 27,
   "id": "3786d2e7-f214-420d-8149-5b5d823f36fc",
   "metadata": {},
   "outputs": [
    {
     "name": "stdout",
     "output_type": "stream",
     "text": [
      "[('iso', 'varchar', '', ''), ('country', 'varchar', '', ''), ('region_ar6_6', 'varchar', '', ''), ('region_ar6_10', 'varchar', '', ''), ('region_ar6_22', 'varchar', '', ''), ('region_ar6_dev', 'varchar', '', ''), ('sector_title', 'varchar', '', ''), ('subsector_title', 'varchar', '', ''), ('gas', 'varchar', '', ''), ('gwp100_ar5', 'integer', '', ''), ('value', 'double', '', ''), ('value_units', 'varchar', '', ''), ('year', 'varchar', '', '')]\n"
     ]
    }
   ],
   "source": [
    "qres = engine.execute(\"describe osc_datacommons_dev.mdt_sandbox.essd_ghg_data\")\n",
    "print(qres.fetchall())"
   ]
  },
  {
   "cell_type": "code",
   "execution_count": 28,
   "id": "96d93fee-dde2-4a7d-ada3-00e862921bdb",
   "metadata": {},
   "outputs": [
    {
     "name": "stdout",
     "output_type": "stream",
     "text": [
      "\n",
      "verifying existence of table osc_datacommons_dev.mdt_sandbox.essd_sectors\n",
      "create table if not exists osc_datacommons_dev.mdt_sandbox.essd_sectors (\n",
      "    EDGAR_code varchar,\n",
      "    fossil_bio varchar,\n",
      "    sector_title varchar,\n",
      "    description varchar,\n",
      "    subsector_title varchar,\n",
      "    IPCC_2006 varchar\n",
      ") with (\n",
      "    format = 'parquet'\n",
      ")\n",
      "[(True,)]\n",
      "\n",
      "staging dataframe parquet to s3 osc-datacommons-s3-bucket-dev02\n",
      "/tmp/d673aad313424f9bad357b49f4624f60.parquet  -->  trino/ingest/ingest_temp_3377553e/d673aad313424f9bad357b49f4624f60.parquet\n",
      "\n",
      "declaring intermediate hive table osc_datacommons_hive_ingest.ingest.ingest_temp_3377553e\n",
      "create table if not exists osc_datacommons_hive_ingest.ingest.ingest_temp_3377553e (\n",
      "    EDGAR_code varchar,\n",
      "    fossil_bio varchar,\n",
      "    sector_title varchar,\n",
      "    description varchar,\n",
      "    subsector_title varchar,\n",
      "    IPCC_2006 varchar\n",
      ") with (\n",
      "    format = 'parquet',\n",
      "    external_location = 's3a://osc-datacommons-s3-bucket-dev02/trino/ingest/ingest_temp_3377553e/'\n",
      ")\n",
      "[(True,)]\n",
      "\n",
      "syncing partition metadata on intermediate hive table\n",
      "\n",
      "overwriting data in osc_datacommons_dev.mdt_sandbox.essd_sectors\n",
      "delete from osc_datacommons_dev.mdt_sandbox.essd_sectors\n",
      "[(None,)]\n",
      "\n",
      "transferring data: osc_datacommons_hive_ingest.ingest.ingest_temp_3377553e -> osc_datacommons_dev.mdt_sandbox.essd_sectors\n",
      "insert into osc_datacommons_dev.mdt_sandbox.essd_sectors\n",
      "select * from osc_datacommons_hive_ingest.ingest.ingest_temp_3377553e\n",
      "[(208,)]\n",
      "\n",
      "deleting table and data for intermediate table osc_datacommons_hive_ingest.ingest.ingest_temp_3377553e\n",
      "[{'ResponseMetadata': {'RequestId': 'X5V2WXKGAZ28PVFM', 'HostId': 'F240CS+mGZRIVApFKimIXBbfKsBzfabVQ7ExWVwTicnkhBk75yk+0JnrcBIOBVhTkuDGVg4hejw=', 'HTTPStatusCode': 200, 'HTTPHeaders': {'x-amz-id-2': 'F240CS+mGZRIVApFKimIXBbfKsBzfabVQ7ExWVwTicnkhBk75yk+0JnrcBIOBVhTkuDGVg4hejw=', 'x-amz-request-id': 'X5V2WXKGAZ28PVFM', 'date': 'Wed, 17 Aug 2022 10:11:18 GMT', 'content-type': 'application/xml', 'transfer-encoding': 'chunked', 'server': 'AmazonS3', 'connection': 'close'}, 'RetryAttempts': 0}, 'Deleted': [{'Key': 'trino/ingest/ingest_temp_3377553e/d673aad313424f9bad357b49f4624f60.parquet'}]}]\n"
     ]
    }
   ],
   "source": [
    "create_trino_table_and_dbt_metadata('sectors', essd_sectors_df, [], custom_meta_content, custom_meta_fields)"
   ]
  },
  {
   "cell_type": "code",
   "execution_count": 29,
   "id": "5589ee16-44a9-4fd4-a071-edffefc700c6",
   "metadata": {},
   "outputs": [],
   "source": [
    "# dbt_dict['models']"
   ]
  },
  {
   "cell_type": "code",
   "execution_count": 30,
   "id": "1c906de6-b8d4-40de-91c7-2151ae749bca",
   "metadata": {},
   "outputs": [
    {
     "data": {
      "text/plain": [
       "Index(['ISO', 'name', 'region_ar6_6', 'region_ar6_10', 'region_ar6_22',\n",
       "       'region_ar6_dev'],\n",
       "      dtype='object')"
      ]
     },
     "metadata": {},
     "output_type": "display_data"
    }
   ],
   "source": [
    "essd_regions_df = pd.read_excel(essd_bytes, sheet_name='region_classification',\n",
    "                                # nrows=100,\n",
    "                                engine='openpyxl').convert_dtypes()\n",
    "display(essd_regions_df.columns)"
   ]
  },
  {
   "cell_type": "code",
   "execution_count": 31,
   "id": "281f95dc-bc29-4257-841d-120ad40aad2a",
   "metadata": {},
   "outputs": [],
   "source": [
    "custom_meta_content = {\n",
    "    'title': 'Earth System Science Data (ESSD) Region Classification',\n",
    "    'author': essd_content_df[['Author & contact']].squeeze(),\n",
    "    'contact': essd_content_df[['Author & contact']].squeeze(),\n",
    "    'description': essd_content_df[['Regions']].squeeze(),\n",
    "    'release_date': essd_content_df[['Last date of compilation']].squeeze(),\n",
    "    # How should we describe our transformative step here?\n",
    "}\n",
    "\n",
    "custom_meta_fields = {\n",
    "    'ISO': description_is(\"ISO 3166 3-letter code\"),\n",
    "    'name': description_is(\"ISO 3166 country name\"),\n",
    "    'region_ar6_6': description_is(\"IPCC ar6 6-region climate boundaries\"),\n",
    "    'region_ar6_10': description_is(\"IPCC ar6 10-region climate boundaries\"),\n",
    "    'region_ar6_22': description_is(\"IPCC ar6 22-region climate boundaries\"),\n",
    "    'region_ar6_dev': description_is(\"IPCC ar6 developed/ldc country\"),\n",
    "}\n",
    "\n",
    "for f in custom_meta_fields:\n",
    "    if 'ISO' in custom_meta_fields[f]['Description']:\n",
    "        custom_meta_fields[f]['tags'] = ['ISO']\n",
    "    elif 'IPCC' in custom_meta_fields[f]['Description']:\n",
    "        custom_meta_fields[f]['tags'] = ['IPCC']"
   ]
  },
  {
   "cell_type": "code",
   "execution_count": 32,
   "id": "d6111d76-10a6-4cfc-9fc0-a5cb8c9eed94",
   "metadata": {},
   "outputs": [
    {
     "name": "stdout",
     "output_type": "stream",
     "text": [
      "\n",
      "verifying existence of table osc_datacommons_dev.mdt_sandbox.essd_regions\n",
      "create table if not exists osc_datacommons_dev.mdt_sandbox.essd_regions (\n",
      "    ISO varchar,\n",
      "    name varchar,\n",
      "    region_ar6_6 varchar,\n",
      "    region_ar6_10 varchar,\n",
      "    region_ar6_22 varchar,\n",
      "    region_ar6_dev varchar\n",
      ") with (\n",
      "    format = 'parquet'\n",
      ")\n",
      "[(True,)]\n",
      "\n",
      "staging dataframe parquet to s3 osc-datacommons-s3-bucket-dev02\n",
      "/tmp/e4720cadcb4f4b48be13bbf5f9f48ca0.parquet  -->  trino/ingest/ingest_temp_699c856b/e4720cadcb4f4b48be13bbf5f9f48ca0.parquet\n",
      "\n",
      "declaring intermediate hive table osc_datacommons_hive_ingest.ingest.ingest_temp_699c856b\n",
      "create table if not exists osc_datacommons_hive_ingest.ingest.ingest_temp_699c856b (\n",
      "    ISO varchar,\n",
      "    name varchar,\n",
      "    region_ar6_6 varchar,\n",
      "    region_ar6_10 varchar,\n",
      "    region_ar6_22 varchar,\n",
      "    region_ar6_dev varchar\n",
      ") with (\n",
      "    format = 'parquet',\n",
      "    external_location = 's3a://osc-datacommons-s3-bucket-dev02/trino/ingest/ingest_temp_699c856b/'\n",
      ")\n",
      "[(True,)]\n",
      "\n",
      "syncing partition metadata on intermediate hive table\n",
      "\n",
      "overwriting data in osc_datacommons_dev.mdt_sandbox.essd_regions\n",
      "delete from osc_datacommons_dev.mdt_sandbox.essd_regions\n",
      "[(None,)]\n",
      "\n",
      "transferring data: osc_datacommons_hive_ingest.ingest.ingest_temp_699c856b -> osc_datacommons_dev.mdt_sandbox.essd_regions\n",
      "insert into osc_datacommons_dev.mdt_sandbox.essd_regions\n",
      "select * from osc_datacommons_hive_ingest.ingest.ingest_temp_699c856b\n",
      "[(250,)]\n",
      "\n",
      "deleting table and data for intermediate table osc_datacommons_hive_ingest.ingest.ingest_temp_699c856b\n",
      "[{'ResponseMetadata': {'RequestId': 'WZT6DMM638E9SDPR', 'HostId': 'nYcPGxnh+vF6e3amVwQC6ViIcwS6+Erqm9kUqUD/pIN37vq6mBkJzNfOTuHxGLD2oqTfN69IDnM=', 'HTTPStatusCode': 200, 'HTTPHeaders': {'x-amz-id-2': 'nYcPGxnh+vF6e3amVwQC6ViIcwS6+Erqm9kUqUD/pIN37vq6mBkJzNfOTuHxGLD2oqTfN69IDnM=', 'x-amz-request-id': 'WZT6DMM638E9SDPR', 'date': 'Wed, 17 Aug 2022 10:11:22 GMT', 'content-type': 'application/xml', 'transfer-encoding': 'chunked', 'server': 'AmazonS3', 'connection': 'close'}, 'RetryAttempts': 0}, 'Deleted': [{'Key': 'trino/ingest/ingest_temp_699c856b/e4720cadcb4f4b48be13bbf5f9f48ca0.parquet'}]}]\n"
     ]
    }
   ],
   "source": [
    "create_trino_table_and_dbt_metadata('regions', essd_regions_df, [], custom_meta_content, custom_meta_fields)"
   ]
  },
  {
   "cell_type": "code",
   "execution_count": 33,
   "id": "7b4c974d-10af-4d1e-9402-3d13e3e29915",
   "metadata": {},
   "outputs": [],
   "source": [
    "# dbt_dict['models']"
   ]
  },
  {
   "cell_type": "markdown",
   "id": "e1821108-8a37-498b-b72b-7fc1bca07b97",
   "metadata": {},
   "source": [
    "Now deal with the gas species.  We'll annotate our dataframe with PINT units"
   ]
  },
  {
   "cell_type": "code",
   "execution_count": 34,
   "id": "b8dc2fa6-9ee1-4fd6-a4e3-1726181ef786",
   "metadata": {},
   "outputs": [
    {
     "data": {
      "text/plain": [
       "Index(['gas', 'gwp_ar5'], dtype='object')"
      ]
     },
     "metadata": {},
     "output_type": "display_data"
    }
   ],
   "source": [
    "essd_gwp_df = pd.read_excel(essd_bytes, sheet_name='100_yr_gwps',\n",
    "                            # nrows=100,\n",
    "                            dtype={'gwp_ar5':'int32'}, engine='openpyxl')\n",
    "\n",
    "display(essd_gwp_df.columns)"
   ]
  },
  {
   "cell_type": "code",
   "execution_count": 35,
   "id": "b346e53b-2c30-48d8-93f2-c826e65589d8",
   "metadata": {},
   "outputs": [
    {
     "data": {
      "text/plain": [
       "Index(['gas', 'gwp_ar5', 'units'], dtype='object')"
      ]
     },
     "metadata": {},
     "output_type": "display_data"
    }
   ],
   "source": [
    "ureg.define(\"CH4_Combustion = nan CH4\")\n",
    "ureg.define(\"CH4_Fugitive = nan CH4\")\n",
    "ureg.define(\"CH4_Process = nan CH4\")\n",
    "\n",
    "ch4_dict = {\n",
    "    'CH4 Biogenic': 'CH4',\n",
    "    'CH4 Fossil (Combustion)': 'CH4_Combustion',\n",
    "    'CH4 Fossil (Fugitive)': 'CH4_Fugitive',\n",
    "    'CH4 Fossil (Process)': 'CH4_Process'\n",
    "}\n",
    "\n",
    "def convert_gas_to_pint_species(s):\n",
    "    \"\"\"For a series S of gas species, return the species name known to pint\"\"\"\n",
    "    return [ch4_dict[g] if g in ch4_dict else g.replace('c-', 'C').replace('-','') for g in s.tolist()]\n",
    "\n",
    "essd_gwp_df = essd_gwp_df.assign(units=lambda x: convert_gas_to_pint_species(x.gas)).convert_dtypes()\n",
    "\n",
    "display(essd_gwp_df.columns)"
   ]
  },
  {
   "cell_type": "code",
   "execution_count": 36,
   "id": "77acde64-a1ea-4a0b-95f0-11da6473f569",
   "metadata": {
    "tags": []
   },
   "outputs": [],
   "source": [
    "custom_meta_content = {\n",
    "    'title': 'Earth System Science Data (ESSD) Gas Species',\n",
    "    'author': essd_content_df[['Author & contact']].squeeze(),\n",
    "    'contact': essd_content_df[['Author & contact']].squeeze(),\n",
    "    'description': essd_content_df[['Regions']].squeeze(),\n",
    "    'release_date': essd_content_df[['Last date of compilation']].squeeze(),\n",
    "    # How should we describe our transformative step here?\n",
    "}\n",
    "\n",
    "custom_meta_fields = {\n",
    "    'gas': description_is(\"GHG Gas Species\"),\n",
    "    'gwp_ar5': description_is(\"IPCC AR5 Global Warming Potential multiplier (GWP)\"),\n",
    "    'units': description_is(\"tons of GHG Gas Species\"),\n",
    "\n",
    "}\n",
    "\n",
    "for f in custom_meta_fields:\n",
    "    if 'GHG' in custom_meta_fields[f]['Description']:\n",
    "        custom_meta_fields[f]['tags'] = ['GHG']\n",
    "    elif 'IPCC' in custom_meta_fields[f]['Description']:\n",
    "        custom_meta_fields[f]['tags'] = ['IPCC']"
   ]
  },
  {
   "cell_type": "code",
   "execution_count": 37,
   "id": "0805e979-ac94-4e6e-a84f-9978e815ba77",
   "metadata": {
    "tags": []
   },
   "outputs": [
    {
     "name": "stdout",
     "output_type": "stream",
     "text": [
      "\n",
      "verifying existence of table osc_datacommons_dev.mdt_sandbox.essd_gwp_100yr\n",
      "create table if not exists osc_datacommons_dev.mdt_sandbox.essd_gwp_100yr (\n",
      "    gas varchar,\n",
      "    gwp_ar5 integer,\n",
      "    units varchar\n",
      ") with (\n",
      "    format = 'parquet'\n",
      ")\n",
      "[(True,)]\n",
      "\n",
      "staging dataframe parquet to s3 osc-datacommons-s3-bucket-dev02\n",
      "/tmp/bb23048013d048789bb26bc920ff4ba4.parquet  -->  trino/ingest/ingest_temp_611e48db/bb23048013d048789bb26bc920ff4ba4.parquet\n",
      "\n",
      "declaring intermediate hive table osc_datacommons_hive_ingest.ingest.ingest_temp_611e48db\n",
      "create table if not exists osc_datacommons_hive_ingest.ingest.ingest_temp_611e48db (\n",
      "    gas varchar,\n",
      "    gwp_ar5 integer,\n",
      "    units varchar\n",
      ") with (\n",
      "    format = 'parquet',\n",
      "    external_location = 's3a://osc-datacommons-s3-bucket-dev02/trino/ingest/ingest_temp_611e48db/'\n",
      ")\n",
      "[(True,)]\n",
      "\n",
      "syncing partition metadata on intermediate hive table\n",
      "\n",
      "overwriting data in osc_datacommons_dev.mdt_sandbox.essd_gwp_100yr\n",
      "delete from osc_datacommons_dev.mdt_sandbox.essd_gwp_100yr\n",
      "[(None,)]\n",
      "\n",
      "transferring data: osc_datacommons_hive_ingest.ingest.ingest_temp_611e48db -> osc_datacommons_dev.mdt_sandbox.essd_gwp_100yr\n",
      "insert into osc_datacommons_dev.mdt_sandbox.essd_gwp_100yr\n",
      "select * from osc_datacommons_hive_ingest.ingest.ingest_temp_611e48db\n",
      "[(33,)]\n",
      "\n",
      "deleting table and data for intermediate table osc_datacommons_hive_ingest.ingest.ingest_temp_611e48db\n",
      "[{'ResponseMetadata': {'RequestId': 'X6BBPWDWFNZD5J2Y', 'HostId': 'cbFQF2wsCtDfwIyLArQmL/CiRYkAEySfcN4QLPCsBo7B9l5vWFpt/Y6V28M7VA+JO3nRv/rYpME=', 'HTTPStatusCode': 200, 'HTTPHeaders': {'x-amz-id-2': 'cbFQF2wsCtDfwIyLArQmL/CiRYkAEySfcN4QLPCsBo7B9l5vWFpt/Y6V28M7VA+JO3nRv/rYpME=', 'x-amz-request-id': 'X6BBPWDWFNZD5J2Y', 'date': 'Wed, 17 Aug 2022 10:11:26 GMT', 'content-type': 'application/xml', 'transfer-encoding': 'chunked', 'server': 'AmazonS3', 'connection': 'close'}, 'RetryAttempts': 0}, 'Deleted': [{'Key': 'trino/ingest/ingest_temp_611e48db/bb23048013d048789bb26bc920ff4ba4.parquet'}]}]\n"
     ]
    }
   ],
   "source": [
    "create_trino_table_and_dbt_metadata('gwp_100yr', essd_gwp_df, [], custom_meta_content, custom_meta_fields)"
   ]
  },
  {
   "cell_type": "code",
   "execution_count": 38,
   "id": "a1f6d982-7589-4e86-8a26-ff6075b7bce1",
   "metadata": {},
   "outputs": [],
   "source": [
    "# dbt_dict['models']"
   ]
  },
  {
   "cell_type": "code",
   "execution_count": 39,
   "id": "1e75dc9d-8b88-4e16-a1c0-abf4faff3215",
   "metadata": {},
   "outputs": [
    {
     "data": {
      "text/plain": [
       "Index(['sector_code', 'fossil_bio', 'gas', 'gwp_ar5_feedbacks', 'gwp_ar5',\n",
       "       'description', 'subsector', 'chapter_title', 'subsector_title'],\n",
       "      dtype='object')"
      ]
     },
     "metadata": {},
     "output_type": "display_data"
    }
   ],
   "source": [
    "essd_ch4_df = pd.read_excel(essd_bytes, sheet_name='CH4_gwps',\n",
    "                            # nrows=100,\n",
    "                            dtype={'gwp_ar5':'int32', 'subsector':'str'}, engine='openpyxl').convert_dtypes()\n",
    "\n",
    "display(essd_ch4_df.columns)"
   ]
  },
  {
   "cell_type": "code",
   "execution_count": 40,
   "id": "6674b41b-3789-4c37-866f-f056ce5e6394",
   "metadata": {},
   "outputs": [],
   "source": [
    "custom_meta_content = {\n",
    "    'title': 'Earth System Science Data (ESSD) CH4 GWPs',\n",
    "    'author': essd_content_df[['Author & contact']].squeeze(),\n",
    "    'contact': essd_content_df[['Author & contact']].squeeze(),\n",
    "    'description': essd_content_df[['Regions']].squeeze(),\n",
    "    'release_date': essd_content_df[['Last date of compilation']].squeeze(),\n",
    "    # How should we describe our transformative step here?\n",
    "}\n",
    "\n",
    "custom_meta_fields = {\n",
    "    \"sector_code\": description_is(\"IPCC Sector Coding [1-7][A-G][1-15][xx]\"),\n",
    "    \"fossil_bio\": description_is(\"CO2e source - fossil or bio\"),\n",
    "    'gas': description_is(\"GHG Gas Species\"),\n",
    "    'gwp_ar5_feedbacks': description_is(\"IPCC AR5 Global Warming Potential Feedback multiplier (GWP)\"),\n",
    "    'gwp_ar5': description_is(\"IPCC AR5 Global Warming Potential multiplier (GWP)\"),\n",
    "    \"description\": description_is(\"IPCC Sector description\"),\n",
    "    \"subsector\": description_is(\"IPCC Sub-Sector description\"),\n",
    "    \"chapter_title\": description_is(\"IPCC ar6 Sector Names\"),\n",
    "    \"subsector_title\": description_is(\"IPCC ar6 Sub-Sector Names\"),\n",
    "}\n",
    "\n",
    "for f in custom_meta_fields:\n",
    "    if 'IPCC' in custom_meta_fields[f]['Description']:\n",
    "        custom_meta_fields[f]['tags'] = ['IPCC']\n",
    "    elif 'GHG' in custom_meta_fields[f]['Description']:\n",
    "        custom_meta_fields[f]['tags'] = ['GHG']"
   ]
  },
  {
   "cell_type": "code",
   "execution_count": 41,
   "id": "5b488e7f-0ef3-4eda-9b7e-f64fe32ab564",
   "metadata": {},
   "outputs": [
    {
     "name": "stdout",
     "output_type": "stream",
     "text": [
      "\n",
      "verifying existence of table osc_datacommons_dev.mdt_sandbox.essd_ch4_gwp\n",
      "create table if not exists osc_datacommons_dev.mdt_sandbox.essd_ch4_gwp (\n",
      "    sector_code varchar,\n",
      "    fossil_bio varchar,\n",
      "    gas varchar,\n",
      "    gwp_ar5_feedbacks bigint,\n",
      "    gwp_ar5 integer,\n",
      "    description varchar,\n",
      "    subsector varchar,\n",
      "    chapter_title varchar,\n",
      "    subsector_title varchar\n",
      ") with (\n",
      "    format = 'parquet'\n",
      ")\n",
      "[(True,)]\n",
      "\n",
      "staging dataframe parquet to s3 osc-datacommons-s3-bucket-dev02\n",
      "/tmp/2cf5daab849c436b891f981a63f08e27.parquet  -->  trino/ingest/ingest_temp_ab82b406/2cf5daab849c436b891f981a63f08e27.parquet\n",
      "\n",
      "declaring intermediate hive table osc_datacommons_hive_ingest.ingest.ingest_temp_ab82b406\n",
      "create table if not exists osc_datacommons_hive_ingest.ingest.ingest_temp_ab82b406 (\n",
      "    sector_code varchar,\n",
      "    fossil_bio varchar,\n",
      "    gas varchar,\n",
      "    gwp_ar5_feedbacks bigint,\n",
      "    gwp_ar5 integer,\n",
      "    description varchar,\n",
      "    subsector varchar,\n",
      "    chapter_title varchar,\n",
      "    subsector_title varchar\n",
      ") with (\n",
      "    format = 'parquet',\n",
      "    external_location = 's3a://osc-datacommons-s3-bucket-dev02/trino/ingest/ingest_temp_ab82b406/'\n",
      ")\n",
      "[(True,)]\n",
      "\n",
      "syncing partition metadata on intermediate hive table\n",
      "\n",
      "overwriting data in osc_datacommons_dev.mdt_sandbox.essd_ch4_gwp\n",
      "delete from osc_datacommons_dev.mdt_sandbox.essd_ch4_gwp\n",
      "[(None,)]\n",
      "\n",
      "transferring data: osc_datacommons_hive_ingest.ingest.ingest_temp_ab82b406 -> osc_datacommons_dev.mdt_sandbox.essd_ch4_gwp\n",
      "insert into osc_datacommons_dev.mdt_sandbox.essd_ch4_gwp\n",
      "select * from osc_datacommons_hive_ingest.ingest.ingest_temp_ab82b406\n",
      "[(122,)]\n",
      "\n",
      "deleting table and data for intermediate table osc_datacommons_hive_ingest.ingest.ingest_temp_ab82b406\n",
      "[{'ResponseMetadata': {'RequestId': '8QBYSN6N3CBY71K7', 'HostId': 'rSe7bRzlDQG9TcCBd8qhqGVHxCNq12ur0ZtuFkv7DyurkQhL+jsqIGMpji0SPnHUvsK+6ne5An4=', 'HTTPStatusCode': 200, 'HTTPHeaders': {'x-amz-id-2': 'rSe7bRzlDQG9TcCBd8qhqGVHxCNq12ur0ZtuFkv7DyurkQhL+jsqIGMpji0SPnHUvsK+6ne5An4=', 'x-amz-request-id': '8QBYSN6N3CBY71K7', 'date': 'Wed, 17 Aug 2022 10:11:29 GMT', 'content-type': 'application/xml', 'transfer-encoding': 'chunked', 'server': 'AmazonS3', 'connection': 'close'}, 'RetryAttempts': 0}, 'Deleted': [{'Key': 'trino/ingest/ingest_temp_ab82b406/2cf5daab849c436b891f981a63f08e27.parquet'}]}]\n"
     ]
    }
   ],
   "source": [
    "create_trino_table_and_dbt_metadata('ch4_gwp', essd_ch4_df, [], custom_meta_content, custom_meta_fields)"
   ]
  },
  {
   "cell_type": "code",
   "execution_count": 42,
   "id": "cbf4cb4c-14c0-4556-82b9-68a33dd4e2d5",
   "metadata": {},
   "outputs": [],
   "source": [
    "# dbt_dict['models']"
   ]
  },
  {
   "cell_type": "code",
   "execution_count": 43,
   "id": "4236d322-ec37-41d0-b180-1f6a7a5e427a",
   "metadata": {},
   "outputs": [],
   "source": [
    "# Use the pachyderm client to check out the source XLSX file\n",
    "xlsx_file_name = \"essd_ghg_data_gwp100.xlsx\"\n",
    "f = client.get_file((\"essd\", \"master\"), \"/ESSD/\" + xlsx_file_name)\n",
    "essd_bytes = io.BytesIO(f.read())"
   ]
  },
  {
   "cell_type": "code",
   "execution_count": 44,
   "id": "b269b59b-42e6-463d-90a7-39636c75d190",
   "metadata": {},
   "outputs": [],
   "source": [
    "# This takes about 30sec to execute\n",
    "df = pd.read_excel(essd_bytes, sheet_name='data',\n",
    "                   # nrows=100,\n",
    "                   converters={'year': lambda x: str(pd.to_datetime(x, format='%Y').date())},\n",
    "                   dtype={'gwp100_ar5':'int32',\n",
    "                          'CO2':'float64','CH4':'float64','N2O':'float64','Fgas':'float64','GHG':'float64'},\n",
    "                   engine='openpyxl')\n",
    "for col in ['CO2','CH4','N2O','Fgas','GHG']:\n",
    "    df.insert(df.columns.get_loc(col)+1, col + \"_units\", \"t CO2\" if col=='CO2' else \"t CO2e\")"
   ]
  },
  {
   "cell_type": "code",
   "execution_count": 45,
   "id": "b2e500de-db6f-4f45-8ba8-ae743c9c8849",
   "metadata": {},
   "outputs": [
    {
     "data": {
      "text/plain": [
       "Index(['ISO', 'country', 'region_ar6_6', 'region_ar6_10', 'region_ar6_22',\n",
       "       'region_ar6_dev', 'sector_title', 'subsector_title', 'CO2', 'CO2_units',\n",
       "       'CH4', 'CH4_units', 'N2O', 'N2O_units', 'Fgas', 'Fgas_units', 'GHG',\n",
       "       'GHG_units', 'year'],\n",
       "      dtype='object')"
      ]
     },
     "metadata": {},
     "output_type": "display_data"
    }
   ],
   "source": [
    "# Put year at the end to make for more friendly partitioning\n",
    "essd_gwp100_df = osc.enforce_partition_column_order(df, ['year'], inplace=False).convert_dtypes()\n",
    "\n",
    "display(essd_gwp100_df.columns)"
   ]
  },
  {
   "cell_type": "code",
   "execution_count": 46,
   "id": "3cbbec74-5499-4ffc-9daa-921a5f73679e",
   "metadata": {},
   "outputs": [
    {
     "data": {
      "application/vnd.jupyter.widget-view+json": {
       "model_id": "b6ee33d4124c482e806a38b8f1146a3d",
       "version_major": 2,
       "version_minor": 0
      },
      "text/plain": [
       "Summarize dataset:   0%|          | 0/5 [00:00<?, ?it/s]"
      ]
     },
     "metadata": {},
     "output_type": "display_data"
    },
    {
     "data": {
      "application/vnd.jupyter.widget-view+json": {
       "model_id": "cf11258b4045428d844416524a0e222c",
       "version_major": 2,
       "version_minor": 0
      },
      "text/plain": [
       "Generate report structure:   0%|          | 0/1 [00:00<?, ?it/s]"
      ]
     },
     "metadata": {},
     "output_type": "display_data"
    },
    {
     "data": {
      "application/vnd.jupyter.widget-view+json": {
       "model_id": "1492ed92088446fb8018114c749972c4",
       "version_major": 2,
       "version_minor": 0
      },
      "text/plain": [
       "Render HTML:   0%|          | 0/1 [00:00<?, ?it/s]"
      ]
     },
     "metadata": {},
     "output_type": "display_data"
    },
    {
     "data": {
      "application/vnd.jupyter.widget-view+json": {
       "model_id": "6884d552e295497da6f351e90762807b",
       "version_major": 2,
       "version_minor": 0
      },
      "text/plain": [
       "Export report to file:   0%|          | 0/1 [00:00<?, ?it/s]"
      ]
     },
     "metadata": {},
     "output_type": "display_data"
    }
   ],
   "source": [
    "# Generate profile for the data set and render it as an HTML report\n",
    "# Note that minimal=True is required due to incompatibility between pandas 1.4.x and pandas-profiling\n",
    "# This disables expensive computations such as correlations and duplicate row detection\n",
    "# Refer to GitHub issue at https://github.com/ydataai/pandas-profiling/issues/911 for information\n",
    "\n",
    "profile = ProfileReport(essd_gwp100_df, title=\"Profiling Report for \" + xlsx_file_name, minimal=True)\n",
    "profile.to_file(\"../reports/profile_df_essd_ghg_data_gwp100.html\")\n",
    "\n",
    "# The code below allows generating the profile into a HTML version and display it within the notebook\n",
    "# profile.to_notebook_iframe()\n",
    "\n",
    "# The code below allows generating the profile into an interactive widget (not working)\n",
    "# profile.to_widgets()"
   ]
  },
  {
   "cell_type": "code",
   "execution_count": 47,
   "id": "59161d29-6f20-4905-8db2-88fda45f59ec",
   "metadata": {
    "tags": []
   },
   "outputs": [],
   "source": [
    "essd_gwp100_content_df = pd.read_excel(essd_bytes, sheet_name='info', header=None).dropna(axis=0).set_index(0).T\n",
    "custom_meta_content = {\n",
    "    'title': 'Earth System Science Data (ESSD) GWP100 Dataset',\n",
    "    'author': essd_content_df[['Author & contact']].squeeze(),\n",
    "    'contact': essd_content_df[['Author & contact']].squeeze(),\n",
    "    'description': essd_content_df[['Data description']].squeeze(),\n",
    "    'release_date': essd_content_df[['Last date of compilation']].squeeze(),\n",
    "    # How should we describe our transformative step here?\n",
    "}"
   ]
  },
  {
   "cell_type": "code",
   "execution_count": 48,
   "id": "7c2fd7c9-7b8a-41db-89f5-722bb2d21cfe",
   "metadata": {
    "tags": []
   },
   "outputs": [],
   "source": [
    "essd_gwp100_metadata_df = pd.read_excel(essd_bytes, sheet_name='metadata')\n",
    "custom_meta_fields = { d['Variable']: {k:v for k,v in d.items() if k!='Variable' and v==v} for d in essd_gwp100_metadata_df.to_dict('records') }\n",
    "del(essd_gwp100_metadata_df)\n",
    "\n",
    "custom_meta_fields['ISO'] = description_is(\"ISO 3166 3-letter code\")\n",
    "custom_meta_fields['country'] = description_is(\"ISO 3166 country name\")\n",
    "custom_meta_fields['region_ar6_6'] = description_is(\"IPCC ar6 6-region climate boundaries\")\n",
    "custom_meta_fields['region_ar6_10'] = description_is(\"IPCC ar6 10-region climate boundaries\")\n",
    "custom_meta_fields['region_ar6_22'] = description_is(\"IPCC ar6 22-region climate boundaries\")\n",
    "custom_meta_fields['region_ar6_dev'] = description_is(\"IPCC ar6 developed/ldc country\")\n",
    "custom_meta_fields['sector_title'] = description_is(\"IPCC ar6 5 Principal Sector Names\")\n",
    "custom_meta_fields['subsector_title'] = description_is(\"IPCC ar6 Sub-Sector Names\")\n",
    "custom_meta_fields['CO2'] = description_is(\"tons of CO2\")\n",
    "custom_meta_fields['CO2_units'] = description_is(\"pint[t CO2]\")\n",
    "custom_meta_fields['CH4'] = description_is(\"tons of CH4\")\n",
    "custom_meta_fields['CH4_units'] = description_is(\"pint[t CH4]\")\n",
    "custom_meta_fields['N2O'] = description_is(\"tons of N2O\")\n",
    "custom_meta_fields['N2O_units'] = description_is(\"pint[t N2O]\")\n",
    "custom_meta_fields['Fgas'] = description_is(\"tons of Fgas\")\n",
    "custom_meta_fields['Fgas_units'] = description_is(\"pint[t Fgas]\")\n",
    "custom_meta_fields['year'] = description_is(\"Year of Data Observation\")\n",
    "\n",
    "for f in custom_meta_fields:\n",
    "    if 'ISO' in custom_meta_fields[f]['Description']:\n",
    "        custom_meta_fields[f]['tags'] = ['ISO']\n",
    "    elif 'IPCC' in custom_meta_fields[f]['Description']:\n",
    "        custom_meta_fields[f]['tags'] = ['IPCC']\n",
    "    elif f == 'year':\n",
    "        custom_meta_fields[f]['tags'] = ['annual']"
   ]
  },
  {
   "cell_type": "markdown",
   "id": "fbee9347-b8ab-429d-b4f1-d3c64f037995",
   "metadata": {},
   "source": [
    "Construct the combined metadata by merging existing table metadata and custom metadata.\n",
    "Note: The metadata content must be JSON serialisable and encoded as bytes; the metadata key must also be encoded as bytes."
   ]
  },
  {
   "cell_type": "code",
   "execution_count": 49,
   "id": "bb7d5791-7687-4414-903a-3569c5133a80",
   "metadata": {},
   "outputs": [
    {
     "name": "stdout",
     "output_type": "stream",
     "text": [
      "enforcing dataframe partition column order\n",
      "\n",
      "verifying existence of table osc_datacommons_dev.mdt_sandbox.essd_gwp100_data\n",
      "create table if not exists osc_datacommons_dev.mdt_sandbox.essd_gwp100_data (\n",
      "    ISO varchar,\n",
      "    country varchar,\n",
      "    region_ar6_6 varchar,\n",
      "    region_ar6_10 varchar,\n",
      "    region_ar6_22 varchar,\n",
      "    region_ar6_dev varchar,\n",
      "    sector_title varchar,\n",
      "    subsector_title varchar,\n",
      "    CO2 double,\n",
      "    CO2_units varchar,\n",
      "    CH4 double,\n",
      "    CH4_units varchar,\n",
      "    N2O double,\n",
      "    N2O_units varchar,\n",
      "    Fgas double,\n",
      "    Fgas_units varchar,\n",
      "    GHG double,\n",
      "    GHG_units varchar,\n",
      "    year varchar\n",
      ") with (\n",
      "    format = 'parquet',\n",
      "    partitioning = array['year']\n",
      ")\n",
      "[(True,)]\n",
      "\n",
      "staging dataframe parquet to s3 osc-datacommons-s3-bucket-dev02\n",
      "/tmp/ingest_temp_8722e8cf/year=1970-01-01/dcb484a9940c43a3b902cf6559fd83e5-0.parquet  -->  trino/ingest/ingest_temp_8722e8cf/year=1970-01-01/dcb484a9940c43a3b902cf6559fd83e5-0.parquet\n",
      "/tmp/ingest_temp_8722e8cf/year=1973-01-01/dcb484a9940c43a3b902cf6559fd83e5-0.parquet  -->  trino/ingest/ingest_temp_8722e8cf/year=1973-01-01/dcb484a9940c43a3b902cf6559fd83e5-0.parquet\n",
      "/tmp/ingest_temp_8722e8cf/year=1971-01-01/dcb484a9940c43a3b902cf6559fd83e5-0.parquet  -->  trino/ingest/ingest_temp_8722e8cf/year=1971-01-01/dcb484a9940c43a3b902cf6559fd83e5-0.parquet\n",
      "/tmp/ingest_temp_8722e8cf/year=1972-01-01/dcb484a9940c43a3b902cf6559fd83e5-0.parquet  -->  trino/ingest/ingest_temp_8722e8cf/year=1972-01-01/dcb484a9940c43a3b902cf6559fd83e5-0.parquet\n",
      "/tmp/ingest_temp_8722e8cf/year=1974-01-01/dcb484a9940c43a3b902cf6559fd83e5-0.parquet  -->  trino/ingest/ingest_temp_8722e8cf/year=1974-01-01/dcb484a9940c43a3b902cf6559fd83e5-0.parquet\n",
      "/tmp/ingest_temp_8722e8cf/year=1975-01-01/dcb484a9940c43a3b902cf6559fd83e5-0.parquet  -->  trino/ingest/ingest_temp_8722e8cf/year=1975-01-01/dcb484a9940c43a3b902cf6559fd83e5-0.parquet\n",
      "/tmp/ingest_temp_8722e8cf/year=1976-01-01/dcb484a9940c43a3b902cf6559fd83e5-0.parquet  -->  trino/ingest/ingest_temp_8722e8cf/year=1976-01-01/dcb484a9940c43a3b902cf6559fd83e5-0.parquet\n",
      "/tmp/ingest_temp_8722e8cf/year=1977-01-01/dcb484a9940c43a3b902cf6559fd83e5-0.parquet  -->  trino/ingest/ingest_temp_8722e8cf/year=1977-01-01/dcb484a9940c43a3b902cf6559fd83e5-0.parquet\n",
      "/tmp/ingest_temp_8722e8cf/year=1978-01-01/dcb484a9940c43a3b902cf6559fd83e5-0.parquet  -->  trino/ingest/ingest_temp_8722e8cf/year=1978-01-01/dcb484a9940c43a3b902cf6559fd83e5-0.parquet\n",
      "/tmp/ingest_temp_8722e8cf/year=1979-01-01/dcb484a9940c43a3b902cf6559fd83e5-0.parquet  -->  trino/ingest/ingest_temp_8722e8cf/year=1979-01-01/dcb484a9940c43a3b902cf6559fd83e5-0.parquet\n",
      "/tmp/ingest_temp_8722e8cf/year=1980-01-01/dcb484a9940c43a3b902cf6559fd83e5-0.parquet  -->  trino/ingest/ingest_temp_8722e8cf/year=1980-01-01/dcb484a9940c43a3b902cf6559fd83e5-0.parquet\n",
      "/tmp/ingest_temp_8722e8cf/year=1981-01-01/dcb484a9940c43a3b902cf6559fd83e5-0.parquet  -->  trino/ingest/ingest_temp_8722e8cf/year=1981-01-01/dcb484a9940c43a3b902cf6559fd83e5-0.parquet\n",
      "/tmp/ingest_temp_8722e8cf/year=1982-01-01/dcb484a9940c43a3b902cf6559fd83e5-0.parquet  -->  trino/ingest/ingest_temp_8722e8cf/year=1982-01-01/dcb484a9940c43a3b902cf6559fd83e5-0.parquet\n",
      "/tmp/ingest_temp_8722e8cf/year=1983-01-01/dcb484a9940c43a3b902cf6559fd83e5-0.parquet  -->  trino/ingest/ingest_temp_8722e8cf/year=1983-01-01/dcb484a9940c43a3b902cf6559fd83e5-0.parquet\n",
      "/tmp/ingest_temp_8722e8cf/year=1984-01-01/dcb484a9940c43a3b902cf6559fd83e5-0.parquet  -->  trino/ingest/ingest_temp_8722e8cf/year=1984-01-01/dcb484a9940c43a3b902cf6559fd83e5-0.parquet\n",
      "/tmp/ingest_temp_8722e8cf/year=1985-01-01/dcb484a9940c43a3b902cf6559fd83e5-0.parquet  -->  trino/ingest/ingest_temp_8722e8cf/year=1985-01-01/dcb484a9940c43a3b902cf6559fd83e5-0.parquet\n",
      "/tmp/ingest_temp_8722e8cf/year=1986-01-01/dcb484a9940c43a3b902cf6559fd83e5-0.parquet  -->  trino/ingest/ingest_temp_8722e8cf/year=1986-01-01/dcb484a9940c43a3b902cf6559fd83e5-0.parquet\n",
      "/tmp/ingest_temp_8722e8cf/year=1987-01-01/dcb484a9940c43a3b902cf6559fd83e5-0.parquet  -->  trino/ingest/ingest_temp_8722e8cf/year=1987-01-01/dcb484a9940c43a3b902cf6559fd83e5-0.parquet\n",
      "/tmp/ingest_temp_8722e8cf/year=1988-01-01/dcb484a9940c43a3b902cf6559fd83e5-0.parquet  -->  trino/ingest/ingest_temp_8722e8cf/year=1988-01-01/dcb484a9940c43a3b902cf6559fd83e5-0.parquet\n",
      "/tmp/ingest_temp_8722e8cf/year=1989-01-01/dcb484a9940c43a3b902cf6559fd83e5-0.parquet  -->  trino/ingest/ingest_temp_8722e8cf/year=1989-01-01/dcb484a9940c43a3b902cf6559fd83e5-0.parquet\n",
      "/tmp/ingest_temp_8722e8cf/year=1991-01-01/dcb484a9940c43a3b902cf6559fd83e5-0.parquet  -->  trino/ingest/ingest_temp_8722e8cf/year=1991-01-01/dcb484a9940c43a3b902cf6559fd83e5-0.parquet\n",
      "/tmp/ingest_temp_8722e8cf/year=1990-01-01/dcb484a9940c43a3b902cf6559fd83e5-0.parquet  -->  trino/ingest/ingest_temp_8722e8cf/year=1990-01-01/dcb484a9940c43a3b902cf6559fd83e5-0.parquet\n",
      "/tmp/ingest_temp_8722e8cf/year=1992-01-01/dcb484a9940c43a3b902cf6559fd83e5-0.parquet  -->  trino/ingest/ingest_temp_8722e8cf/year=1992-01-01/dcb484a9940c43a3b902cf6559fd83e5-0.parquet\n",
      "/tmp/ingest_temp_8722e8cf/year=1993-01-01/dcb484a9940c43a3b902cf6559fd83e5-0.parquet  -->  trino/ingest/ingest_temp_8722e8cf/year=1993-01-01/dcb484a9940c43a3b902cf6559fd83e5-0.parquet\n",
      "/tmp/ingest_temp_8722e8cf/year=1994-01-01/dcb484a9940c43a3b902cf6559fd83e5-0.parquet  -->  trino/ingest/ingest_temp_8722e8cf/year=1994-01-01/dcb484a9940c43a3b902cf6559fd83e5-0.parquet\n",
      "/tmp/ingest_temp_8722e8cf/year=1995-01-01/dcb484a9940c43a3b902cf6559fd83e5-0.parquet  -->  trino/ingest/ingest_temp_8722e8cf/year=1995-01-01/dcb484a9940c43a3b902cf6559fd83e5-0.parquet\n",
      "/tmp/ingest_temp_8722e8cf/year=1996-01-01/dcb484a9940c43a3b902cf6559fd83e5-0.parquet  -->  trino/ingest/ingest_temp_8722e8cf/year=1996-01-01/dcb484a9940c43a3b902cf6559fd83e5-0.parquet\n",
      "/tmp/ingest_temp_8722e8cf/year=1997-01-01/dcb484a9940c43a3b902cf6559fd83e5-0.parquet  -->  trino/ingest/ingest_temp_8722e8cf/year=1997-01-01/dcb484a9940c43a3b902cf6559fd83e5-0.parquet\n",
      "/tmp/ingest_temp_8722e8cf/year=1998-01-01/dcb484a9940c43a3b902cf6559fd83e5-0.parquet  -->  trino/ingest/ingest_temp_8722e8cf/year=1998-01-01/dcb484a9940c43a3b902cf6559fd83e5-0.parquet\n",
      "/tmp/ingest_temp_8722e8cf/year=1999-01-01/dcb484a9940c43a3b902cf6559fd83e5-0.parquet  -->  trino/ingest/ingest_temp_8722e8cf/year=1999-01-01/dcb484a9940c43a3b902cf6559fd83e5-0.parquet\n",
      "/tmp/ingest_temp_8722e8cf/year=2000-01-01/dcb484a9940c43a3b902cf6559fd83e5-0.parquet  -->  trino/ingest/ingest_temp_8722e8cf/year=2000-01-01/dcb484a9940c43a3b902cf6559fd83e5-0.parquet\n",
      "/tmp/ingest_temp_8722e8cf/year=2001-01-01/dcb484a9940c43a3b902cf6559fd83e5-0.parquet  -->  trino/ingest/ingest_temp_8722e8cf/year=2001-01-01/dcb484a9940c43a3b902cf6559fd83e5-0.parquet\n",
      "/tmp/ingest_temp_8722e8cf/year=2002-01-01/dcb484a9940c43a3b902cf6559fd83e5-0.parquet  -->  trino/ingest/ingest_temp_8722e8cf/year=2002-01-01/dcb484a9940c43a3b902cf6559fd83e5-0.parquet\n",
      "/tmp/ingest_temp_8722e8cf/year=2003-01-01/dcb484a9940c43a3b902cf6559fd83e5-0.parquet  -->  trino/ingest/ingest_temp_8722e8cf/year=2003-01-01/dcb484a9940c43a3b902cf6559fd83e5-0.parquet\n",
      "/tmp/ingest_temp_8722e8cf/year=2004-01-01/dcb484a9940c43a3b902cf6559fd83e5-0.parquet  -->  trino/ingest/ingest_temp_8722e8cf/year=2004-01-01/dcb484a9940c43a3b902cf6559fd83e5-0.parquet\n",
      "/tmp/ingest_temp_8722e8cf/year=2005-01-01/dcb484a9940c43a3b902cf6559fd83e5-0.parquet  -->  trino/ingest/ingest_temp_8722e8cf/year=2005-01-01/dcb484a9940c43a3b902cf6559fd83e5-0.parquet\n",
      "/tmp/ingest_temp_8722e8cf/year=2006-01-01/dcb484a9940c43a3b902cf6559fd83e5-0.parquet  -->  trino/ingest/ingest_temp_8722e8cf/year=2006-01-01/dcb484a9940c43a3b902cf6559fd83e5-0.parquet\n",
      "/tmp/ingest_temp_8722e8cf/year=2007-01-01/dcb484a9940c43a3b902cf6559fd83e5-0.parquet  -->  trino/ingest/ingest_temp_8722e8cf/year=2007-01-01/dcb484a9940c43a3b902cf6559fd83e5-0.parquet\n",
      "/tmp/ingest_temp_8722e8cf/year=2008-01-01/dcb484a9940c43a3b902cf6559fd83e5-0.parquet  -->  trino/ingest/ingest_temp_8722e8cf/year=2008-01-01/dcb484a9940c43a3b902cf6559fd83e5-0.parquet\n",
      "/tmp/ingest_temp_8722e8cf/year=2009-01-01/dcb484a9940c43a3b902cf6559fd83e5-0.parquet  -->  trino/ingest/ingest_temp_8722e8cf/year=2009-01-01/dcb484a9940c43a3b902cf6559fd83e5-0.parquet\n",
      "/tmp/ingest_temp_8722e8cf/year=2010-01-01/dcb484a9940c43a3b902cf6559fd83e5-0.parquet  -->  trino/ingest/ingest_temp_8722e8cf/year=2010-01-01/dcb484a9940c43a3b902cf6559fd83e5-0.parquet\n",
      "/tmp/ingest_temp_8722e8cf/year=2011-01-01/dcb484a9940c43a3b902cf6559fd83e5-0.parquet  -->  trino/ingest/ingest_temp_8722e8cf/year=2011-01-01/dcb484a9940c43a3b902cf6559fd83e5-0.parquet\n",
      "/tmp/ingest_temp_8722e8cf/year=2012-01-01/dcb484a9940c43a3b902cf6559fd83e5-0.parquet  -->  trino/ingest/ingest_temp_8722e8cf/year=2012-01-01/dcb484a9940c43a3b902cf6559fd83e5-0.parquet\n",
      "/tmp/ingest_temp_8722e8cf/year=2013-01-01/dcb484a9940c43a3b902cf6559fd83e5-0.parquet  -->  trino/ingest/ingest_temp_8722e8cf/year=2013-01-01/dcb484a9940c43a3b902cf6559fd83e5-0.parquet\n",
      "/tmp/ingest_temp_8722e8cf/year=2014-01-01/dcb484a9940c43a3b902cf6559fd83e5-0.parquet  -->  trino/ingest/ingest_temp_8722e8cf/year=2014-01-01/dcb484a9940c43a3b902cf6559fd83e5-0.parquet\n",
      "/tmp/ingest_temp_8722e8cf/year=2015-01-01/dcb484a9940c43a3b902cf6559fd83e5-0.parquet  -->  trino/ingest/ingest_temp_8722e8cf/year=2015-01-01/dcb484a9940c43a3b902cf6559fd83e5-0.parquet\n",
      "/tmp/ingest_temp_8722e8cf/year=2016-01-01/dcb484a9940c43a3b902cf6559fd83e5-0.parquet  -->  trino/ingest/ingest_temp_8722e8cf/year=2016-01-01/dcb484a9940c43a3b902cf6559fd83e5-0.parquet\n",
      "/tmp/ingest_temp_8722e8cf/year=2017-01-01/dcb484a9940c43a3b902cf6559fd83e5-0.parquet  -->  trino/ingest/ingest_temp_8722e8cf/year=2017-01-01/dcb484a9940c43a3b902cf6559fd83e5-0.parquet\n",
      "/tmp/ingest_temp_8722e8cf/year=2018-01-01/dcb484a9940c43a3b902cf6559fd83e5-0.parquet  -->  trino/ingest/ingest_temp_8722e8cf/year=2018-01-01/dcb484a9940c43a3b902cf6559fd83e5-0.parquet\n",
      "/tmp/ingest_temp_8722e8cf/year=2019-01-01/dcb484a9940c43a3b902cf6559fd83e5-0.parquet  -->  trino/ingest/ingest_temp_8722e8cf/year=2019-01-01/dcb484a9940c43a3b902cf6559fd83e5-0.parquet\n",
      "/tmp/ingest_temp_8722e8cf/year=2020-01-01/dcb484a9940c43a3b902cf6559fd83e5-0.parquet  -->  trino/ingest/ingest_temp_8722e8cf/year=2020-01-01/dcb484a9940c43a3b902cf6559fd83e5-0.parquet\n",
      "\n",
      "declaring intermediate hive table osc_datacommons_hive_ingest.ingest.ingest_temp_8722e8cf\n",
      "create table if not exists osc_datacommons_hive_ingest.ingest.ingest_temp_8722e8cf (\n",
      "    ISO varchar,\n",
      "    country varchar,\n",
      "    region_ar6_6 varchar,\n",
      "    region_ar6_10 varchar,\n",
      "    region_ar6_22 varchar,\n",
      "    region_ar6_dev varchar,\n",
      "    sector_title varchar,\n",
      "    subsector_title varchar,\n",
      "    CO2 double,\n",
      "    CO2_units varchar,\n",
      "    CH4 double,\n",
      "    CH4_units varchar,\n",
      "    N2O double,\n",
      "    N2O_units varchar,\n",
      "    Fgas double,\n",
      "    Fgas_units varchar,\n",
      "    GHG double,\n",
      "    GHG_units varchar,\n",
      "    year varchar\n",
      ") with (\n",
      "    format = 'parquet',\n",
      "    partitioned_by = array['year'],\n",
      "    external_location = 's3a://osc-datacommons-s3-bucket-dev02/trino/ingest/ingest_temp_8722e8cf/'\n",
      ")\n",
      "[(True,)]\n",
      "\n",
      "syncing partition metadata on intermediate hive table\n",
      "call osc_datacommons_hive_ingest.system.sync_partition_metadata('ingest', 'ingest_temp_8722e8cf', 'FULL')\n",
      "[(True,)]\n",
      "\n",
      "overwriting data in osc_datacommons_dev.mdt_sandbox.essd_gwp100_data\n",
      "delete from osc_datacommons_dev.mdt_sandbox.essd_gwp100_data\n",
      "[(None,)]\n",
      "\n",
      "transferring data: osc_datacommons_hive_ingest.ingest.ingest_temp_8722e8cf -> osc_datacommons_dev.mdt_sandbox.essd_gwp100_data\n",
      "insert into osc_datacommons_dev.mdt_sandbox.essd_gwp100_data\n",
      "select * from osc_datacommons_hive_ingest.ingest.ingest_temp_8722e8cf\n",
      "[(196639,)]\n",
      "\n",
      "deleting table and data for intermediate table osc_datacommons_hive_ingest.ingest.ingest_temp_8722e8cf\n",
      "[{'ResponseMetadata': {'RequestId': 'Y0DBBMDBQHPHNGXP', 'HostId': 'GOoCk4vOzkin4/U/oSe7rzfYysVPMADJrvAOWSK+9pBTXsZbxZNNLkogOu46y6PnUNrUryLzGJE=', 'HTTPStatusCode': 200, 'HTTPHeaders': {'x-amz-id-2': 'GOoCk4vOzkin4/U/oSe7rzfYysVPMADJrvAOWSK+9pBTXsZbxZNNLkogOu46y6PnUNrUryLzGJE=', 'x-amz-request-id': 'Y0DBBMDBQHPHNGXP', 'date': 'Wed, 17 Aug 2022 10:12:55 GMT', 'content-type': 'application/xml', 'transfer-encoding': 'chunked', 'server': 'AmazonS3', 'connection': 'close'}, 'RetryAttempts': 0}, 'Deleted': [{'Key': 'trino/ingest/ingest_temp_8722e8cf/year=1992-01-01/dcb484a9940c43a3b902cf6559fd83e5-0.parquet'}, {'Key': 'trino/ingest/ingest_temp_8722e8cf/year=1976-01-01/dcb484a9940c43a3b902cf6559fd83e5-0.parquet'}, {'Key': 'trino/ingest/ingest_temp_8722e8cf/year=2013-01-01/dcb484a9940c43a3b902cf6559fd83e5-0.parquet'}, {'Key': 'trino/ingest/ingest_temp_8722e8cf/year=2011-01-01/dcb484a9940c43a3b902cf6559fd83e5-0.parquet'}, {'Key': 'trino/ingest/ingest_temp_8722e8cf/year=2020-01-01/dcb484a9940c43a3b902cf6559fd83e5-0.parquet'}, {'Key': 'trino/ingest/ingest_temp_8722e8cf/year=2000-01-01/dcb484a9940c43a3b902cf6559fd83e5-0.parquet'}, {'Key': 'trino/ingest/ingest_temp_8722e8cf/year=2004-01-01/dcb484a9940c43a3b902cf6559fd83e5-0.parquet'}, {'Key': 'trino/ingest/ingest_temp_8722e8cf/year=1990-01-01/dcb484a9940c43a3b902cf6559fd83e5-0.parquet'}, {'Key': 'trino/ingest/ingest_temp_8722e8cf/year=2019-01-01/dcb484a9940c43a3b902cf6559fd83e5-0.parquet'}, {'Key': 'trino/ingest/ingest_temp_8722e8cf/year=2001-01-01/dcb484a9940c43a3b902cf6559fd83e5-0.parquet'}, {'Key': 'trino/ingest/ingest_temp_8722e8cf/year=1995-01-01/dcb484a9940c43a3b902cf6559fd83e5-0.parquet'}, {'Key': 'trino/ingest/ingest_temp_8722e8cf/year=1981-01-01/dcb484a9940c43a3b902cf6559fd83e5-0.parquet'}, {'Key': 'trino/ingest/ingest_temp_8722e8cf/year=2012-01-01/dcb484a9940c43a3b902cf6559fd83e5-0.parquet'}, {'Key': 'trino/ingest/ingest_temp_8722e8cf/year=1983-01-01/dcb484a9940c43a3b902cf6559fd83e5-0.parquet'}, {'Key': 'trino/ingest/ingest_temp_8722e8cf/year=1999-01-01/dcb484a9940c43a3b902cf6559fd83e5-0.parquet'}, {'Key': 'trino/ingest/ingest_temp_8722e8cf/year=2008-01-01/dcb484a9940c43a3b902cf6559fd83e5-0.parquet'}, {'Key': 'trino/ingest/ingest_temp_8722e8cf/year=1970-01-01/dcb484a9940c43a3b902cf6559fd83e5-0.parquet'}, {'Key': 'trino/ingest/ingest_temp_8722e8cf/year=1986-01-01/dcb484a9940c43a3b902cf6559fd83e5-0.parquet'}, {'Key': 'trino/ingest/ingest_temp_8722e8cf/year=2015-01-01/dcb484a9940c43a3b902cf6559fd83e5-0.parquet'}, {'Key': 'trino/ingest/ingest_temp_8722e8cf/year=1988-01-01/dcb484a9940c43a3b902cf6559fd83e5-0.parquet'}, {'Key': 'trino/ingest/ingest_temp_8722e8cf/year=1974-01-01/dcb484a9940c43a3b902cf6559fd83e5-0.parquet'}, {'Key': 'trino/ingest/ingest_temp_8722e8cf/year=1982-01-01/dcb484a9940c43a3b902cf6559fd83e5-0.parquet'}, {'Key': 'trino/ingest/ingest_temp_8722e8cf/year=1989-01-01/dcb484a9940c43a3b902cf6559fd83e5-0.parquet'}, {'Key': 'trino/ingest/ingest_temp_8722e8cf/year=1987-01-01/dcb484a9940c43a3b902cf6559fd83e5-0.parquet'}, {'Key': 'trino/ingest/ingest_temp_8722e8cf/year=1979-01-01/dcb484a9940c43a3b902cf6559fd83e5-0.parquet'}, {'Key': 'trino/ingest/ingest_temp_8722e8cf/year=1996-01-01/dcb484a9940c43a3b902cf6559fd83e5-0.parquet'}, {'Key': 'trino/ingest/ingest_temp_8722e8cf/year=1997-01-01/dcb484a9940c43a3b902cf6559fd83e5-0.parquet'}, {'Key': 'trino/ingest/ingest_temp_8722e8cf/year=1991-01-01/dcb484a9940c43a3b902cf6559fd83e5-0.parquet'}, {'Key': 'trino/ingest/ingest_temp_8722e8cf/year=2002-01-01/dcb484a9940c43a3b902cf6559fd83e5-0.parquet'}, {'Key': 'trino/ingest/ingest_temp_8722e8cf/year=2016-01-01/dcb484a9940c43a3b902cf6559fd83e5-0.parquet'}, {'Key': 'trino/ingest/ingest_temp_8722e8cf/year=1978-01-01/dcb484a9940c43a3b902cf6559fd83e5-0.parquet'}, {'Key': 'trino/ingest/ingest_temp_8722e8cf/year=1985-01-01/dcb484a9940c43a3b902cf6559fd83e5-0.parquet'}, {'Key': 'trino/ingest/ingest_temp_8722e8cf/year=1984-01-01/dcb484a9940c43a3b902cf6559fd83e5-0.parquet'}, {'Key': 'trino/ingest/ingest_temp_8722e8cf/year=1994-01-01/dcb484a9940c43a3b902cf6559fd83e5-0.parquet'}, {'Key': 'trino/ingest/ingest_temp_8722e8cf/year=1998-01-01/dcb484a9940c43a3b902cf6559fd83e5-0.parquet'}, {'Key': 'trino/ingest/ingest_temp_8722e8cf/year=2005-01-01/dcb484a9940c43a3b902cf6559fd83e5-0.parquet'}, {'Key': 'trino/ingest/ingest_temp_8722e8cf/year=1971-01-01/dcb484a9940c43a3b902cf6559fd83e5-0.parquet'}, {'Key': 'trino/ingest/ingest_temp_8722e8cf/year=1972-01-01/dcb484a9940c43a3b902cf6559fd83e5-0.parquet'}, {'Key': 'trino/ingest/ingest_temp_8722e8cf/year=2007-01-01/dcb484a9940c43a3b902cf6559fd83e5-0.parquet'}, {'Key': 'trino/ingest/ingest_temp_8722e8cf/year=1977-01-01/dcb484a9940c43a3b902cf6559fd83e5-0.parquet'}, {'Key': 'trino/ingest/ingest_temp_8722e8cf/year=2017-01-01/dcb484a9940c43a3b902cf6559fd83e5-0.parquet'}, {'Key': 'trino/ingest/ingest_temp_8722e8cf/year=2003-01-01/dcb484a9940c43a3b902cf6559fd83e5-0.parquet'}, {'Key': 'trino/ingest/ingest_temp_8722e8cf/year=2010-01-01/dcb484a9940c43a3b902cf6559fd83e5-0.parquet'}, {'Key': 'trino/ingest/ingest_temp_8722e8cf/year=1973-01-01/dcb484a9940c43a3b902cf6559fd83e5-0.parquet'}, {'Key': 'trino/ingest/ingest_temp_8722e8cf/year=2009-01-01/dcb484a9940c43a3b902cf6559fd83e5-0.parquet'}, {'Key': 'trino/ingest/ingest_temp_8722e8cf/year=1975-01-01/dcb484a9940c43a3b902cf6559fd83e5-0.parquet'}, {'Key': 'trino/ingest/ingest_temp_8722e8cf/year=1980-01-01/dcb484a9940c43a3b902cf6559fd83e5-0.parquet'}, {'Key': 'trino/ingest/ingest_temp_8722e8cf/year=2018-01-01/dcb484a9940c43a3b902cf6559fd83e5-0.parquet'}, {'Key': 'trino/ingest/ingest_temp_8722e8cf/year=2006-01-01/dcb484a9940c43a3b902cf6559fd83e5-0.parquet'}, {'Key': 'trino/ingest/ingest_temp_8722e8cf/year=2014-01-01/dcb484a9940c43a3b902cf6559fd83e5-0.parquet'}, {'Key': 'trino/ingest/ingest_temp_8722e8cf/year=1993-01-01/dcb484a9940c43a3b902cf6559fd83e5-0.parquet'}]}]\n"
     ]
    }
   ],
   "source": [
    "create_trino_table_and_dbt_metadata('gwp100_data', essd_gwp100_df, ['year'], custom_meta_content, custom_meta_fields)\n",
    "del(essd_gwp100_df)"
   ]
  },
  {
   "cell_type": "code",
   "execution_count": 50,
   "id": "7c73f6dd-ba53-422e-92d7-e4d825cee069",
   "metadata": {},
   "outputs": [],
   "source": [
    "# dbt_dict['models']"
   ]
  },
  {
   "cell_type": "code",
   "execution_count": 51,
   "id": "cf3169b7-be84-44c3-b7f7-d3eae1ccf8b4",
   "metadata": {},
   "outputs": [],
   "source": [
    "# Use the pachyderm client to check out the source XLSX file\n",
    "xlsx_file_name = \"essd_lulucf_data.xlsx\"\n",
    "f = client.get_file((\"essd\", \"master\"), \"/ESSD/\" + xlsx_file_name)\n",
    "essd_bytes = io.BytesIO(f.read())"
   ]
  },
  {
   "cell_type": "code",
   "execution_count": 52,
   "id": "f8214a50-4cd3-47b7-9653-577b08fdebf5",
   "metadata": {},
   "outputs": [
    {
     "data": {
      "text/plain": [
       "Index(['year', 'region_ar6_6', 'region_ar6_10', 'blue', 'blue_units',\n",
       "       'houghton', 'houghton_units', 'oscar', 'oscar_units', 'mean',\n",
       "       'mean_units'],\n",
       "      dtype='object')"
      ]
     },
     "metadata": {},
     "output_type": "display_data"
    }
   ],
   "source": [
    "df = pd.read_excel(essd_bytes, sheet_name='data',\n",
    "                   # nrows=100,\n",
    "                   converters={'year': lambda x: str(pd.to_datetime(x, format='%Y').date())},\n",
    "                   engine='openpyxl')\n",
    "\n",
    "for col in ['blue', 'houghton', 'oscar', 'mean']:\n",
    "    df.insert(df.columns.get_loc(col)+1, col + \"_units\", \"t CO2e\")\n",
    "\n",
    "# There are >100  years of data, which overflows the 100 partition writers available\n",
    "# lulucf_df = osc.enforce_partition_column_order(df, ['year'], inplace=False).convert_dtypes()\n",
    "# Separately, column order is enforced by osc_ingest_tools so we don't have to do any column management manually\n",
    "\n",
    "lulucf_df = df.convert_dtypes()\n",
    "\n",
    "display(lulucf_df.columns)"
   ]
  },
  {
   "cell_type": "code",
   "execution_count": 53,
   "id": "80090986-a9b7-41f5-9aaf-4e24b5fb3aac",
   "metadata": {},
   "outputs": [
    {
     "data": {
      "application/vnd.jupyter.widget-view+json": {
       "model_id": "61747b18788e4355b270cfa52a5b147b",
       "version_major": 2,
       "version_minor": 0
      },
      "text/plain": [
       "Summarize dataset:   0%|          | 0/5 [00:00<?, ?it/s]"
      ]
     },
     "metadata": {},
     "output_type": "display_data"
    },
    {
     "data": {
      "application/vnd.jupyter.widget-view+json": {
       "model_id": "bcf39783ce9d44aeb61c81db89949d75",
       "version_major": 2,
       "version_minor": 0
      },
      "text/plain": [
       "Generate report structure:   0%|          | 0/1 [00:00<?, ?it/s]"
      ]
     },
     "metadata": {},
     "output_type": "display_data"
    },
    {
     "data": {
      "application/vnd.jupyter.widget-view+json": {
       "model_id": "6f923dd73c75402383db9a9f283e24a0",
       "version_major": 2,
       "version_minor": 0
      },
      "text/plain": [
       "Render HTML:   0%|          | 0/1 [00:00<?, ?it/s]"
      ]
     },
     "metadata": {},
     "output_type": "display_data"
    },
    {
     "data": {
      "application/vnd.jupyter.widget-view+json": {
       "model_id": "6efbdc0f3e7940209deac9c59628203a",
       "version_major": 2,
       "version_minor": 0
      },
      "text/plain": [
       "Export report to file:   0%|          | 0/1 [00:00<?, ?it/s]"
      ]
     },
     "metadata": {},
     "output_type": "display_data"
    }
   ],
   "source": [
    "# Generate profile for the data set and render it as an HTML report\n",
    "# Note that minimal=True is required due to incompatibility between pandas 1.4.x and pandas-profiling\n",
    "# This disables expensive computations such as correlations and duplicate row detection\n",
    "# Refer to GitHub issue at https://github.com/ydataai/pandas-profiling/issues/911 for information\n",
    "\n",
    "profile = ProfileReport(lulucf_df, title=\"Profiling Report for \" + xlsx_file_name, minimal=True)\n",
    "profile.to_file(\"../reports/profile_df_essd_lulucf.html\")\n",
    "\n",
    "# The code below allows generating the profile into a HTML version and display it within the notebook\n",
    "# profile.to_notebook_iframe()\n",
    "\n",
    "# The code below allows generating the profile into an interactive widget (not working)\n",
    "# profile.to_widgets()"
   ]
  },
  {
   "cell_type": "code",
   "execution_count": 54,
   "id": "85377c1d-874d-4918-bfd8-14c7d99f394f",
   "metadata": {
    "tags": []
   },
   "outputs": [],
   "source": [
    "lulucf_content_df = pd.read_excel(essd_bytes, sheet_name='info', header=None).dropna(axis=0).set_index(0).T\n",
    "custom_meta_content = {\n",
    "    'title': 'Earth System Science Data (ESSD) Land Use Change and Forestry Dataset',\n",
    "    'author': lulucf_content_df[['Author']].squeeze(),\n",
    "    'contact': lulucf_content_df[['Contact']].squeeze(),\n",
    "    'description': lulucf_content_df[['Info']].squeeze(),\n",
    "    'release_date': essd_content_df[['Last date of compilation']].squeeze(),\n",
    "    # How should we describe our transformative step here?\n",
    "}"
   ]
  },
  {
   "cell_type": "code",
   "execution_count": 55,
   "id": "feb26329-2932-4080-b61d-39e58582d7b5",
   "metadata": {
    "tags": []
   },
   "outputs": [],
   "source": [
    "custom_meta_fields = {\n",
    "    'region_ar6_6': description_is(\"IPCC ar6 6-region climate boundaries\"),\n",
    "    'region_ar6_10': description_is(\"IPCC ar6 10-region climate boundaries\"),\n",
    "}\n",
    "\n",
    "custom_meta_fields['blue'] = description_is(\"land use bookkeeping model BLUE\")\n",
    "custom_meta_fields['houghton'] = description_is(\"land use bookkeeping model of Houghton & Nassikas\")\n",
    "custom_meta_fields['oscar'] = description_is(\"land use bookkeeping model OSCAR\")\n",
    "custom_meta_fields['mean'] = description_is(\"land use bookkeeping model mean of (BLUE, Houghton & Nassikas, OSCAR)\")\n",
    "for k in ['blue', 'houghton', 'oscar', 'mean']:\n",
    "    custom_meta_fields[f\"{k}_units\"] = description_is(\"pint[t CO2]\")\n",
    "custom_meta_fields['year'] = description_is(\"Year of Data Observation\")\n",
    "\n",
    "for f in custom_meta_fields:\n",
    "    if 'IPCC' in custom_meta_fields[f]['Description']:\n",
    "        custom_meta_fields[f]['tags'] = ['IPCC']\n",
    "    elif f == 'year':\n",
    "        custom_meta_fields[f]['tags'] = ['annual']"
   ]
  },
  {
   "cell_type": "code",
   "execution_count": 56,
   "id": "e14c87c2-2216-4e2d-b206-259185656d38",
   "metadata": {},
   "outputs": [
    {
     "name": "stdout",
     "output_type": "stream",
     "text": [
      "enforcing dataframe partition column order\n",
      "\n",
      "verifying existence of table osc_datacommons_dev.mdt_sandbox.essd_lulucf\n",
      "create table if not exists osc_datacommons_dev.mdt_sandbox.essd_lulucf (\n",
      "    year varchar,\n",
      "    blue double,\n",
      "    blue_units varchar,\n",
      "    houghton double,\n",
      "    houghton_units varchar,\n",
      "    oscar double,\n",
      "    oscar_units varchar,\n",
      "    mean double,\n",
      "    mean_units varchar,\n",
      "    region_ar6_6 varchar,\n",
      "    region_ar6_10 varchar\n",
      ") with (\n",
      "    format = 'parquet',\n",
      "    partitioning = array['region_ar6_6', 'region_ar6_10']\n",
      ")\n",
      "[(True,)]\n",
      "\n",
      "staging dataframe parquet to s3 osc-datacommons-s3-bucket-dev02\n",
      "/tmp/ingest_temp_e7ad4e8b/region_ar6_6=Africa/region_ar6_10=Africa/559026d9603f476484f50849720a4312-0.parquet  -->  trino/ingest/ingest_temp_e7ad4e8b/region_ar6_6=Africa/region_ar6_10=Africa/559026d9603f476484f50849720a4312-0.parquet\n",
      "/tmp/ingest_temp_e7ad4e8b/region_ar6_6=Asia and developing Pacific/region_ar6_10=Eastern Asia/559026d9603f476484f50849720a4312-0.parquet  -->  trino/ingest/ingest_temp_e7ad4e8b/region_ar6_6=Asia and developing Pacific/region_ar6_10=Eastern Asia/559026d9603f476484f50849720a4312-0.parquet\n",
      "/tmp/ingest_temp_e7ad4e8b/region_ar6_6=Asia and developing Pacific/region_ar6_10=Southern Asia/559026d9603f476484f50849720a4312-0.parquet  -->  trino/ingest/ingest_temp_e7ad4e8b/region_ar6_6=Asia and developing Pacific/region_ar6_10=Southern Asia/559026d9603f476484f50849720a4312-0.parquet\n",
      "/tmp/ingest_temp_e7ad4e8b/region_ar6_6=Asia and developing Pacific/region_ar6_10=South-East Asia and developing Pacific/559026d9603f476484f50849720a4312-0.parquet  -->  trino/ingest/ingest_temp_e7ad4e8b/region_ar6_6=Asia and developing Pacific/region_ar6_10=South-East Asia and developing Pacific/559026d9603f476484f50849720a4312-0.parquet\n",
      "/tmp/ingest_temp_e7ad4e8b/region_ar6_6=Eastern Europe and West-Central Asia/region_ar6_10=Eurasia/559026d9603f476484f50849720a4312-0.parquet  -->  trino/ingest/ingest_temp_e7ad4e8b/region_ar6_6=Eastern Europe and West-Central Asia/region_ar6_10=Eurasia/559026d9603f476484f50849720a4312-0.parquet\n",
      "/tmp/ingest_temp_e7ad4e8b/region_ar6_6=Developed Countries/region_ar6_10=Asia-Pacific Developed/559026d9603f476484f50849720a4312-0.parquet  -->  trino/ingest/ingest_temp_e7ad4e8b/region_ar6_6=Developed Countries/region_ar6_10=Asia-Pacific Developed/559026d9603f476484f50849720a4312-0.parquet\n",
      "/tmp/ingest_temp_e7ad4e8b/region_ar6_6=Developed Countries/region_ar6_10=North America/559026d9603f476484f50849720a4312-0.parquet  -->  trino/ingest/ingest_temp_e7ad4e8b/region_ar6_6=Developed Countries/region_ar6_10=North America/559026d9603f476484f50849720a4312-0.parquet\n",
      "/tmp/ingest_temp_e7ad4e8b/region_ar6_6=Developed Countries/region_ar6_10=Europe/559026d9603f476484f50849720a4312-0.parquet  -->  trino/ingest/ingest_temp_e7ad4e8b/region_ar6_6=Developed Countries/region_ar6_10=Europe/559026d9603f476484f50849720a4312-0.parquet\n",
      "/tmp/ingest_temp_e7ad4e8b/region_ar6_6=Latin America and Caribbean/region_ar6_10=Latin America and Caribbean/559026d9603f476484f50849720a4312-0.parquet  -->  trino/ingest/ingest_temp_e7ad4e8b/region_ar6_6=Latin America and Caribbean/region_ar6_10=Latin America and Caribbean/559026d9603f476484f50849720a4312-0.parquet\n",
      "/tmp/ingest_temp_e7ad4e8b/region_ar6_6=Middle East/region_ar6_10=Middle East/559026d9603f476484f50849720a4312-0.parquet  -->  trino/ingest/ingest_temp_e7ad4e8b/region_ar6_6=Middle East/region_ar6_10=Middle East/559026d9603f476484f50849720a4312-0.parquet\n",
      "\n",
      "declaring intermediate hive table osc_datacommons_hive_ingest.ingest.ingest_temp_e7ad4e8b\n",
      "create table if not exists osc_datacommons_hive_ingest.ingest.ingest_temp_e7ad4e8b (\n",
      "    year varchar,\n",
      "    blue double,\n",
      "    blue_units varchar,\n",
      "    houghton double,\n",
      "    houghton_units varchar,\n",
      "    oscar double,\n",
      "    oscar_units varchar,\n",
      "    mean double,\n",
      "    mean_units varchar,\n",
      "    region_ar6_6 varchar,\n",
      "    region_ar6_10 varchar\n",
      ") with (\n",
      "    format = 'parquet',\n",
      "    partitioned_by = array['region_ar6_6', 'region_ar6_10'],\n",
      "    external_location = 's3a://osc-datacommons-s3-bucket-dev02/trino/ingest/ingest_temp_e7ad4e8b/'\n",
      ")\n",
      "[(True,)]\n",
      "\n",
      "syncing partition metadata on intermediate hive table\n",
      "call osc_datacommons_hive_ingest.system.sync_partition_metadata('ingest', 'ingest_temp_e7ad4e8b', 'FULL')\n",
      "[(True,)]\n",
      "\n",
      "overwriting data in osc_datacommons_dev.mdt_sandbox.essd_lulucf\n",
      "delete from osc_datacommons_dev.mdt_sandbox.essd_lulucf\n",
      "[(None,)]\n",
      "\n",
      "transferring data: osc_datacommons_hive_ingest.ingest.ingest_temp_e7ad4e8b -> osc_datacommons_dev.mdt_sandbox.essd_lulucf\n",
      "insert into osc_datacommons_dev.mdt_sandbox.essd_lulucf\n",
      "select * from osc_datacommons_hive_ingest.ingest.ingest_temp_e7ad4e8b\n",
      "[(1700,)]\n",
      "\n",
      "deleting table and data for intermediate table osc_datacommons_hive_ingest.ingest.ingest_temp_e7ad4e8b\n",
      "[{'ResponseMetadata': {'RequestId': '8XR6TNQCBNP30VTT', 'HostId': 'quCjQYSm7qxRsBah+PsgQfaZ4XPjynETrd5NLBmtuTJcynRs0WuolGmij+wuXYiuB/oxuWeD0V4=', 'HTTPStatusCode': 200, 'HTTPHeaders': {'x-amz-id-2': 'quCjQYSm7qxRsBah+PsgQfaZ4XPjynETrd5NLBmtuTJcynRs0WuolGmij+wuXYiuB/oxuWeD0V4=', 'x-amz-request-id': '8XR6TNQCBNP30VTT', 'date': 'Wed, 17 Aug 2022 10:13:09 GMT', 'content-type': 'application/xml', 'transfer-encoding': 'chunked', 'server': 'AmazonS3', 'connection': 'close'}, 'RetryAttempts': 0}, 'Deleted': [{'Key': 'trino/ingest/ingest_temp_e7ad4e8b/region_ar6_6=Eastern Europe and West-Central Asia/region_ar6_10=Eurasia/559026d9603f476484f50849720a4312-0.parquet'}, {'Key': 'trino/ingest/ingest_temp_e7ad4e8b/region_ar6_6=Middle East/region_ar6_10=Middle East/559026d9603f476484f50849720a4312-0.parquet'}, {'Key': 'trino/ingest/ingest_temp_e7ad4e8b/region_ar6_6=Latin America and Caribbean/region_ar6_10=Latin America and Caribbean/559026d9603f476484f50849720a4312-0.parquet'}, {'Key': 'trino/ingest/ingest_temp_e7ad4e8b/region_ar6_6=Asia and developing Pacific/region_ar6_10=Eastern Asia/559026d9603f476484f50849720a4312-0.parquet'}, {'Key': 'trino/ingest/ingest_temp_e7ad4e8b/region_ar6_6=Asia and developing Pacific/region_ar6_10=South-East Asia and developing Pacific/559026d9603f476484f50849720a4312-0.parquet'}, {'Key': 'trino/ingest/ingest_temp_e7ad4e8b/region_ar6_6=Developed Countries/region_ar6_10=Europe/559026d9603f476484f50849720a4312-0.parquet'}, {'Key': 'trino/ingest/ingest_temp_e7ad4e8b/region_ar6_6=Developed Countries/region_ar6_10=Asia-Pacific Developed/559026d9603f476484f50849720a4312-0.parquet'}, {'Key': 'trino/ingest/ingest_temp_e7ad4e8b/region_ar6_6=Africa/region_ar6_10=Africa/559026d9603f476484f50849720a4312-0.parquet'}, {'Key': 'trino/ingest/ingest_temp_e7ad4e8b/region_ar6_6=Asia and developing Pacific/region_ar6_10=Southern Asia/559026d9603f476484f50849720a4312-0.parquet'}, {'Key': 'trino/ingest/ingest_temp_e7ad4e8b/region_ar6_6=Developed Countries/region_ar6_10=North America/559026d9603f476484f50849720a4312-0.parquet'}]}]\n"
     ]
    }
   ],
   "source": [
    "create_trino_table_and_dbt_metadata('lulucf', lulucf_df, ['region_ar6_6', 'region_ar6_10'], custom_meta_content, custom_meta_fields)\n",
    "del(lulucf_df)"
   ]
  },
  {
   "cell_type": "code",
   "execution_count": 57,
   "id": "b6765218-23b1-4771-98c3-b7a4aa2923e4",
   "metadata": {},
   "outputs": [],
   "source": [
    "# dbt_dict['models']"
   ]
  },
  {
   "cell_type": "markdown",
   "id": "f4b8912f-1776-44d9-b3f5-94513603ede8",
   "metadata": {},
   "source": [
    "Write out metadata to DBT file"
   ]
  },
  {
   "cell_type": "code",
   "execution_count": 58,
   "id": "10fbfabd-9dbc-4873-bd89-cc405a436283",
   "metadata": {},
   "outputs": [],
   "source": [
    "dbt_yml = open(\"/opt/app-root/src/essd-ingest-pipeline/dbt/essd_transform/models/essd_schema.yml\", \"w\", encoding=\"utf-8\")"
   ]
  },
  {
   "cell_type": "code",
   "execution_count": 59,
   "id": "915a35c7-85ad-45fe-9b68-3c371a51a473",
   "metadata": {},
   "outputs": [],
   "source": [
    "print(\"version: 2\", file=dbt_yml)\n",
    "\n",
    "indent = 0\n",
    "print(\"\\nmodels:\", file=dbt_yml)\n",
    "indent = indent + 2\n",
    "for name in dbt_dict['models']:\n",
    "    model = dbt_dict['models'][name]\n",
    "    print(f\"{' '*indent}- name: {name}\", file=dbt_yml)\n",
    "    indent = indent + 2\n",
    "    print(f\"{' '*indent}description: {model['description']}\", file=dbt_yml)\n",
    "    print(f\"\\n{' '*indent}columns:\", file=dbt_yml)\n",
    "    indent = indent + 2\n",
    "    columns = model['columns']\n",
    "    for col in columns:\n",
    "        print(f\"{' '*indent}- name: {col}\", file=dbt_yml)\n",
    "        indent = indent + 2\n",
    "        for col_meta in columns[col].keys():\n",
    "            print(f\"{' '*indent}{col_meta}: {columns[col][col_meta]}\", file=dbt_yml)\n",
    "        indent = indent - 2\n",
    "    print(\"\", file=dbt_yml) # newline comes for free...\n",
    "    indent = indent - 4\n",
    "indent = indent - 2\n",
    "assert(indent==0)"
   ]
  },
  {
   "cell_type": "code",
   "execution_count": 60,
   "id": "b98dcba2-a8b5-46c6-8d2f-1391f57794dc",
   "metadata": {},
   "outputs": [],
   "source": [
    "dbt_yml.close()"
   ]
  },
  {
   "cell_type": "code",
   "execution_count": null,
   "id": "0fcaf595-2877-46f1-86c4-37a83efd6e09",
   "metadata": {},
   "outputs": [],
   "source": []
  }
 ],
 "metadata": {
  "kernelspec": {
   "display_name": "Python 3 (ipykernel)",
   "language": "python",
   "name": "python3"
  },
  "language_info": {
   "codemirror_mode": {
    "name": "ipython",
    "version": 3
   },
   "file_extension": ".py",
   "mimetype": "text/x-python",
   "name": "python",
   "nbconvert_exporter": "python",
   "pygments_lexer": "ipython3",
   "version": "3.8.8"
  }
 },
 "nbformat": 4,
 "nbformat_minor": 5
}

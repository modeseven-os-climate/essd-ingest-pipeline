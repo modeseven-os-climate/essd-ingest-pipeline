{
 "cells": [
  {
   "cell_type": "markdown",
   "id": "2590fd22-9096-4f87-8412-ad38ff375727",
   "metadata": {},
   "source": [
    "## Load Earth System Science Data (ESSD) datasets\n",
    "\n",
    "Copyright (C) 2021 OS-Climate\n",
    "\n",
    "Permission is hereby granted, free of charge, to any person obtaining a copy of this software and associated documentation files (the \"Software\"), to deal in the Software without restriction, including without limitation the rights to use, copy, modify, merge, publish, distribute, sublicense, and/or sell copies of the Software, and to permit persons to whom the Software is furnished to do so, subject to the following conditions:\n",
    "\n",
    "The above copyright notice and this permission notice shall be included in all copies or substantial portions of the Software.\n",
    "\n",
    "THE SOFTWARE IS PROVIDED \"AS IS\", WITHOUT WARRANTY OF ANY KIND, EXPRESS OR IMPLIED, INCLUDING BUT NOT LIMITED TO THE WARRANTIES OF MERCHANTABILITY, FITNESS FOR A PARTICULAR PURPOSE AND NONINFRINGEMENT. IN NO EVENT SHALL THE AUTHORS OR COPYRIGHT HOLDERS BE LIABLE FOR ANY CLAIM, DAMAGES OR OTHER LIABILITY, WHETHER IN AN ACTION OF CONTRACT, TORT OR OTHERWISE, ARISING FROM, OUT OF OR IN CONNECTION WITH THE SOFTWARE OR THE USE OR OTHER DEALINGS IN THE SOFTWARE.\n",
    "\n",
    "Contributed by Michael Tiemann (Github: MichaelTiemannOSC)"
   ]
  },
  {
   "cell_type": "markdown",
   "id": "8a6dc33c-ef3a-4820-a196-1b299d04a5da",
   "metadata": {},
   "source": [
    "Load Credentials"
   ]
  },
  {
   "cell_type": "code",
   "execution_count": null,
   "id": "0c9272c4-2f67-4769-b994-f4f110da425f",
   "metadata": {
    "tags": []
   },
   "outputs": [],
   "source": [
    "# From the AWS Account page, copy the export scripts from the appropriate role using the \"Command Line or Programmatic Access\" link\n",
    "# Paste the copied text into ~/credentials.env\n",
    "\n",
    "from dotenv import dotenv_values, load_dotenv\n",
    "import os\n",
    "import pathlib\n",
    "import sys\n",
    "\n",
    "dotenv_dir = os.environ.get('CREDENTIAL_DOTENV_DIR', os.environ.get('PWD', '/opt/app-root/src'))\n",
    "dotenv_path = pathlib.Path(dotenv_dir) / 'credentials.env'\n",
    "if os.path.exists(dotenv_path):\n",
    "    load_dotenv(dotenv_path=dotenv_path,override=True)\n",
    "\n",
    "# import sys\n",
    "# sys.path.append('../src/')"
   ]
  },
  {
   "cell_type": "code",
   "execution_count": null,
   "id": "3ab4a677-d6b3-4aa7-bffd-52d6c7e90273",
   "metadata": {
    "tags": []
   },
   "outputs": [],
   "source": [
    "# import re\n",
    "import pandas as pd\n",
    "import numpy as np\n",
    "\n",
    "import openpyxl\n",
    "\n",
    "import pint\n",
    "import pint_pandas\n",
    "import iam_units\n",
    "from openscm_units import unit_registry\n",
    "pint_pandas.PintType.ureg = unit_registry\n",
    "ureg = unit_registry"
   ]
  },
  {
   "cell_type": "code",
   "execution_count": null,
   "id": "1604f52a-d5dc-424e-8275-8dba4753f7ab",
   "metadata": {},
   "outputs": [],
   "source": [
    "from osc_ingest_trino import *\n",
    "import pyarrow as pa\n",
    "import pyarrow.parquet as pq\n",
    "import json\n",
    "import io\n",
    "import uuid"
   ]
  },
  {
   "cell_type": "markdown",
   "id": "a2554e5b-cac3-4495-b9f5-2b08da83c6b6",
   "metadata": {},
   "source": [
    "Create an S3 resource for the bucket holding source data"
   ]
  },
  {
   "cell_type": "code",
   "execution_count": null,
   "id": "3f457d9c-cd23-41c4-bdb9-051b401a8951",
   "metadata": {},
   "outputs": [],
   "source": [
    "import boto3\n",
    "s3_resource = boto3.resource(\n",
    "    service_name=\"s3\",\n",
    "    endpoint_url=os.environ['S3_LANDING_ENDPOINT'],\n",
    "    aws_access_key_id=os.environ['S3_LANDING_ACCESS_KEY'],\n",
    "    aws_secret_access_key=os.environ['S3_LANDING_SECRET_KEY'],\n",
    ")\n",
    "bucket = s3_resource.Bucket(os.environ['S3_LANDING_BUCKET'])"
   ]
  },
  {
   "cell_type": "code",
   "execution_count": null,
   "id": "31f7dcf7-352a-4df6-bdba-016a3713773c",
   "metadata": {},
   "outputs": [],
   "source": [
    "# Create an S3 client.  We will user later when we write out data and metadata\n",
    "s3 = boto3.client(\n",
    "    service_name=\"s3\",\n",
    "    endpoint_url=os.environ['S3_DEV_ENDPOINT'],\n",
    "    aws_access_key_id=os.environ['S3_DEV_ACCESS_KEY'],\n",
    "    aws_secret_access_key=os.environ['S3_DEV_SECRET_KEY'],\n",
    ")"
   ]
  },
  {
   "cell_type": "code",
   "execution_count": null,
   "id": "d090f71f-b23b-4473-bb9f-b2bebf10cfd0",
   "metadata": {},
   "outputs": [],
   "source": [
    "import trino\n",
    "\n",
    "conn = trino.dbapi.connect(\n",
    "    host=os.environ['TRINO_HOST'],\n",
    "    port=int(os.environ['TRINO_PORT']),\n",
    "    user=os.environ['TRINO_USER'],\n",
    "    http_scheme='https',\n",
    "    auth=trino.auth.JWTAuthentication(os.environ['TRINO_PASSWD']),\n",
    "    verify=True,\n",
    ")\n",
    "cur = conn.cursor()\n",
    "\n",
    "# Show available schemas to ensure trino connection is set correctly\n",
    "cur.execute('show schemas in osc_datacommons_dev')\n",
    "cur.fetchall()"
   ]
  },
  {
   "cell_type": "code",
   "execution_count": null,
   "id": "c00406e4-902d-4791-b0c0-632a7918862c",
   "metadata": {},
   "outputs": [],
   "source": [
    "ingest_uuid = str(uuid.uuid4())\n",
    "\n",
    "custom_meta_key_fields = 'metafields'\n",
    "custom_meta_key = 'metaset'\n",
    "\n",
    "schemaname = 'essd'\n",
    "cur.execute('create schema if not exists osc_datacommons_dev.' + schemaname)\n",
    "cur.fetchall()"
   ]
  },
  {
   "cell_type": "markdown",
   "id": "5b4b9d10-90a9-4592-8bd0-0a343921a617",
   "metadata": {},
   "source": [
    "For osc_datacommons_dev, a trino pipeline is a parquet data stored in the S3_DEV_BUCKET\n",
    "It is a 5-step process to get there from a pandas dataframe"
   ]
  },
  {
   "cell_type": "code",
   "execution_count": null,
   "id": "992c6992-aa20-482e-a4f3-51b6c7277a13",
   "metadata": {},
   "outputs": [],
   "source": [
    "def create_trino_pipeline (s3, schemaname, tablename, timestamp, df, meta_fields, meta_content):\n",
    "    global ingest_uuid\n",
    "    global custom_meta_key_fields, custom_meta_key\n",
    "    \n",
    "    # First convert dataframe to pyarrow for type conversion and basic metadata\n",
    "    table = pa.Table.from_pandas(df)\n",
    "    # Second, since pyarrow tables are immutable, create a new table with additional combined metadata\n",
    "    if meta_fields or meta_content:\n",
    "        meta_json_fields = json.dumps(meta_fields)\n",
    "        meta_json = json.dumps(meta_content)\n",
    "        existing_meta = table.schema.metadata\n",
    "        combined_meta = {\n",
    "            custom_meta_key_fields.encode(): meta_json_fields.encode(),\n",
    "            custom_meta_key.encode(): meta_json.encode(),\n",
    "            **existing_meta\n",
    "        }\n",
    "        table = table.replace_schema_metadata(combined_meta)\n",
    "    # Third, convert table to parquet format (which cannot be written directly to s3)\n",
    "    pq.write_table(table, '/tmp/{sname}.{tname}.{uuid}.{timestamp}.parquet'.format(sname=schemaname, tname=tablename, uuid=ingest_uuid, timestamp=timestamp))\n",
    "    # df.to_parquet('/tmp/{sname}.{tname}.{uuid}.parquet'.format(sname=schemaname, tname=tablename, uuid=ingest_uuid, index=False))\n",
    "    # Fourth, put the parquet-ified data into our S3 bucket for trino.  We cannot compute parquet format directly to S3 but we can copy it once computed\n",
    "    s3.upload_file(\n",
    "        Bucket=os.environ['S3_DEV_BUCKET'],\n",
    "        Key='trino/{sname}/{tname}/{uuid}/{timestamp}/{tname}.parquet'.format(sname=schemaname, tname=tablename, uuid=ingest_uuid, timestamp=timestamp),\n",
    "        Filename='/tmp/{sname}.{tname}.{uuid}.{timestamp}.parquet'.format(sname=schemaname, tname=tablename, uuid=ingest_uuid, timestamp=timestamp)\n",
    "    )\n",
    "    # Finally, create the trino table backed by our parquet files enhanced by our metadata\n",
    "    cur.execute('.'.join(['drop table if exists osc_datacommons_dev', schemaname, tablename]))\n",
    "    print('dropping table: ' + tablename)\n",
    "    cur.fetchall()\n",
    "    \n",
    "    schema = create_table_schema_pairs(df)\n",
    "\n",
    "    tabledef = \"\"\"create table if not exists osc_datacommons_dev.{sname}.{tname}(\n",
    "{schema}\n",
    ") with (\n",
    "    format = 'parquet',\n",
    "    external_location = 's3a://{bucket}/trino/{sname}/{tname}/{uuid}/{timestamp}'\n",
    ")\"\"\".format(schema=schema,bucket=os.environ['S3_DEV_BUCKET'],sname=schemaname,tname=tablename,uuid=ingest_uuid,timestamp=timestamp)\n",
    "    print(tabledef)\n",
    "\n",
    "    # tables created externally may not show up immediately in cloud-beaver\n",
    "    cur.execute(tabledef)\n",
    "    cur.fetchall()"
   ]
  },
  {
   "cell_type": "markdown",
   "id": "d4544e38-c59b-4a49-907f-83db1e0bc16b",
   "metadata": {},
   "source": [
    "Load ESSD data file using pandas *read_excel* and using *ingest_uuid* as the global UUID for this ingestion\n",
    "\n",
    "# Do we really want to add UUID to every row, or better to put into table-level metadata?"
   ]
  },
  {
   "cell_type": "code",
   "execution_count": null,
   "id": "54497409-7ef1-4aff-b07b-23ef754e6617",
   "metadata": {},
   "outputs": [],
   "source": [
    "import io\n",
    "\n",
    "bObj = bucket.Object('ESSD/essd_ghg_data.xlsx')\n",
    "essd_bytes = io.BytesIO(bucket.Object(bObj.key).get()['Body'].read())\n",
    "timestamp = bObj.last_modified.isoformat()\n",
    "\n",
    "# It takes almost a minute (!) to load nearly 600K rows of data\n",
    "%time essd_df = pd.read_excel(essd_bytes, sheet_name='data', converters={'year': lambda x: pd.to_datetime(x, format='%Y')}, dtype={'gwp100_ar5':'int32', 'value':'float64'}, engine='openpyxl')\n",
    "\n",
    "display(essd_df.columns)"
   ]
  },
  {
   "cell_type": "markdown",
   "id": "0befb864-3e0c-4357-8b24-5caeaea65de6",
   "metadata": {},
   "source": [
    "Construct the combined metadata by merging existing table metadata and custom metadata.\n",
    "Note: The metadata content must be JSON serialisable and encoded as bytes; the metadata key must also be encoded as bytes."
   ]
  },
  {
   "cell_type": "code",
   "execution_count": null,
   "id": "caa06ed4-4092-46bd-925e-8701cd367249",
   "metadata": {
    "tags": []
   },
   "outputs": [],
   "source": [
    "essd_content_df = pd.read_excel(essd_bytes, sheet_name='info', header=None).dropna(axis=0).set_index(0).T\n",
    "custom_meta_content = {\n",
    "    'title': 'Earth System Science Data (ESSD) Dataset',\n",
    "    'author': essd_content_df[['Author & contact']].squeeze(),\n",
    "    'contact': essd_content_df[['Author & contact']].squeeze(),\n",
    "    'description': essd_content_df[['Data description']].squeeze(),\n",
    "    'release_date': essd_content_df[['Last date of compilation']].squeeze(),\n",
    "    # How should we describe our transformative step here?\n",
    "}\n",
    "\n",
    "essd_metadata_df = pd.read_excel(essd_bytes, sheet_name='metadata')\n",
    "custom_meta_fields = { d['Variable']: {k:v for k,v in d.items() if k!='Variable' and v==v} for d in essd_metadata_df.to_dict('records') }"
   ]
  },
  {
   "cell_type": "markdown",
   "id": "5c51fc5b-51a1-43a8-a0a0-880f6bf73fa6",
   "metadata": {},
   "source": [
    "The schemaname for this table is `essd`.  Dunno if it's a good idea or simply redundant to prefix the tablename with `essd_`"
   ]
  },
  {
   "cell_type": "code",
   "execution_count": null,
   "id": "2eeeaaba-ab88-48a2-8f29-71a1a80d47e4",
   "metadata": {
    "tags": []
   },
   "outputs": [],
   "source": [
    "tablename = 'ghg_data'\n",
    "create_trino_pipeline (s3, schemaname, tablename, timestamp, essd_df, custom_meta_fields, custom_meta_content)"
   ]
  },
  {
   "cell_type": "markdown",
   "id": "40a88136-839c-4187-bd75-8a1da7da343b",
   "metadata": {},
   "source": [
    "Verify that we can restore data and metadata"
   ]
  },
  {
   "cell_type": "code",
   "execution_count": null,
   "id": "27089453-6573-497b-a096-2c94afcc2a97",
   "metadata": {},
   "outputs": [],
   "source": [
    "# Read the Parquet file into an Arrow table\n",
    "obj = s3.get_object(\n",
    "    Bucket=os.environ['S3_DEV_BUCKET'], \n",
    "    Key='trino/{sname}/{tname}/{uuid}/{timestamp}/{tname}.parquet'.format(sname=schemaname, tname=tablename, uuid=ingest_uuid, timestamp=timestamp)\n",
    ")\n",
    "restored_table = pq.read_table(io.BytesIO(obj['Body'].read()))\n",
    "# Call the table’s to_pandas conversion method to restore the dataframe\n",
    "# This operation uses the Pandas metadata to reconstruct the dataFrame under the hood\n",
    "restored_df = restored_table.to_pandas()\n",
    "# The custom metadata is accessible via the Arrow table’s metadata object\n",
    "# Use the custom metadata key used earlier (taking care to once again encode the key as bytes)\n",
    "restored_meta_json = restored_table.schema.metadata[custom_meta_key.encode()]\n",
    "# Deserialize the json string to get back metadata\n",
    "restored_meta = json.loads(restored_meta_json)\n",
    "# Use the custom metadata fields key used earlier (taking care to once again encode the key as bytes)\n",
    "restored_meta_json_fields = restored_table.schema.metadata[custom_meta_key_fields.encode()]\n",
    "# Deserialize the json string to get back metadata\n",
    "restored_meta_fields = json.loads(restored_meta_json_fields)"
   ]
  },
  {
   "cell_type": "code",
   "execution_count": null,
   "id": "3a8e9216-403f-481b-851d-3123f7c20143",
   "metadata": {
    "tags": []
   },
   "outputs": [],
   "source": [
    "restored_df"
   ]
  },
  {
   "cell_type": "code",
   "execution_count": null,
   "id": "1687e7b0-8ecd-4545-a7f0-a695540273f5",
   "metadata": {
    "tags": []
   },
   "outputs": [],
   "source": [
    "restored_meta"
   ]
  },
  {
   "cell_type": "code",
   "execution_count": null,
   "id": "493c3f2d-8b61-4cf8-a2b8-fc831d119e2e",
   "metadata": {
    "tags": []
   },
   "outputs": [],
   "source": [
    "restored_meta_fields"
   ]
  },
  {
   "cell_type": "markdown",
   "id": "81b90213-e3e3-4cc2-bd74-e4ed0d2946b4",
   "metadata": {},
   "source": [
    "Grab Sector, Region, 100yr GWPs, and GH4_gwps from one of the two main ESSD data tables (they are the same in both)."
   ]
  },
  {
   "cell_type": "code",
   "execution_count": null,
   "id": "406b928c-5379-4db4-8364-2f53a550b6e8",
   "metadata": {},
   "outputs": [],
   "source": [
    "essd_sectors_df = pd.read_excel(essd_bytes, sheet_name='sector_classification', engine='openpyxl')\n",
    "\n",
    "display(essd_sectors_df.columns)"
   ]
  },
  {
   "cell_type": "code",
   "execution_count": null,
   "id": "341b9cfe-c646-4721-b287-48add08422f8",
   "metadata": {},
   "outputs": [],
   "source": [
    "custom_meta_content = {\n",
    "    'title': 'Earth System Science Data (ESSD) Sector Classification',\n",
    "    'author': essd_content_df[['Author & contact']].squeeze(),\n",
    "    'contact': essd_content_df[['Author & contact']].squeeze(),\n",
    "    'description': essd_content_df[['Sectors']].squeeze(),\n",
    "    'release_date': essd_content_df[['Last date of compilation']].squeeze(),\n",
    "    # How should we describe our transformative step here?\n",
    "}\n",
    "\n",
    "custom_meta_fields = None\n",
    "\n",
    "tablename = 'sectors'\n",
    "create_trino_pipeline (s3, schemaname, tablename, timestamp, essd_df, custom_meta_fields, custom_meta_content)"
   ]
  },
  {
   "cell_type": "code",
   "execution_count": null,
   "id": "816c3136-b860-496b-985e-65f8be8f9a5d",
   "metadata": {},
   "outputs": [],
   "source": [
    "essd_regions_df = pd.read_excel(essd_bytes, sheet_name='region_classification', engine='openpyxl')\n",
    "\n",
    "display(essd_regions_df.columns)"
   ]
  },
  {
   "cell_type": "code",
   "execution_count": null,
   "id": "281f95dc-bc29-4257-841d-120ad40aad2a",
   "metadata": {},
   "outputs": [],
   "source": [
    "custom_meta_content = {\n",
    "    'title': 'Earth System Science Data (ESSD) Region Classification',\n",
    "    'author': essd_content_df[['Author & contact']].squeeze(),\n",
    "    'contact': essd_content_df[['Author & contact']].squeeze(),\n",
    "    'description': essd_content_df[['Regions']].squeeze(),\n",
    "    'release_date': essd_content_df[['Last date of compilation']].squeeze(),\n",
    "    # How should we describe our transformative step here?\n",
    "}\n",
    "\n",
    "custom_meta_fields = None\n",
    "\n",
    "tablename = 'regions'\n",
    "create_trino_pipeline (s3, schemaname, tablename, timestamp, essd_df, custom_meta_fields, custom_meta_content)"
   ]
  },
  {
   "cell_type": "markdown",
   "id": "e1821108-8a37-498b-b72b-7fc1bca07b97",
   "metadata": {},
   "source": [
    "Now deal with the gas species.  We'll annotate our dataframe with PINT units"
   ]
  },
  {
   "cell_type": "code",
   "execution_count": null,
   "id": "b8dc2fa6-9ee1-4fd6-a4e3-1726181ef786",
   "metadata": {},
   "outputs": [],
   "source": [
    "essd_gwp_df = pd.read_excel(essd_bytes, sheet_name='100_yr_gwps', dtype={'gwp_ar5':'int32'}, engine='openpyxl')\n",
    "\n",
    "display(essd_gwp_df.columns)"
   ]
  },
  {
   "cell_type": "code",
   "execution_count": null,
   "id": "b346e53b-2c30-48d8-93f2-c826e65589d8",
   "metadata": {},
   "outputs": [],
   "source": [
    "ureg.define(\"CH4_Combustion = nan CH4\")\n",
    "ureg.define(\"CH4_Fugitive = nan CH4\")\n",
    "ureg.define(\"CH4_Process = nan CH4\")\n",
    "\n",
    "ch4_dict = {\n",
    "    'CH4 Biogenic': 'CH4',\n",
    "    'CH4 Fossil (Combustion)': 'CH4_Combustion',\n",
    "    'CH4 Fossil (Fugitive)': 'CH4_Fugitive',\n",
    "    'CH4 Fossil (Process)': 'CH4_Process'\n",
    "}\n",
    "\n",
    "def convert_gas_to_pint_species(s):\n",
    "    \"\"\"For a series S of gas species, return the species name known to pint\"\"\"\n",
    "    return [ch4_dict[g] if g in ch4_dict else g.replace('c-', 'C').replace('-','') for g in s.tolist()]\n",
    "\n",
    "essd_gwp_df = essd_gwp_df.assign(units=lambda x: convert_gas_to_pint_species(x.gas))"
   ]
  },
  {
   "cell_type": "code",
   "execution_count": null,
   "id": "b61246f4-a441-4491-bb8d-920447730812",
   "metadata": {
    "tags": []
   },
   "outputs": [],
   "source": [
    "custom_meta_content = {\n",
    "    'title': 'Earth System Science Data (ESSD) Gas Species',\n",
    "    'author': essd_content_df[['Author & contact']].squeeze(),\n",
    "    'contact': essd_content_df[['Author & contact']].squeeze(),\n",
    "    'description': essd_content_df[['Regions']].squeeze(),\n",
    "    'release_date': essd_content_df[['Last date of compilation']].squeeze(),\n",
    "    # How should we describe our transformative step here?\n",
    "}\n",
    "\n",
    "custom_meta_fields = None\n",
    "\n",
    "tablename = 'gwp_100yr'\n",
    "create_trino_pipeline (s3, schemaname, tablename, timestamp, essd_gwp_df, custom_meta_fields, custom_meta_content)"
   ]
  },
  {
   "cell_type": "code",
   "execution_count": null,
   "id": "1e75dc9d-8b88-4e16-a1c0-abf4faff3215",
   "metadata": {},
   "outputs": [],
   "source": [
    "essd_ch4_df = pd.read_excel(essd_bytes, sheet_name='CH4_gwps', dtype={'gwp_ar5':'int32', 'subsector':'str'}, engine='openpyxl')\n",
    "\n",
    "display(essd_ch4_df.columns)"
   ]
  },
  {
   "cell_type": "code",
   "execution_count": null,
   "id": "6045d1f3-e22c-4766-ac65-76f9f07ffd29",
   "metadata": {},
   "outputs": [],
   "source": [
    "custom_meta_content = {\n",
    "    'title': 'Earth System Science Data (ESSD) CH4 GWPs',\n",
    "    'author': essd_content_df[['Author & contact']].squeeze(),\n",
    "    'contact': essd_content_df[['Author & contact']].squeeze(),\n",
    "    'description': essd_content_df[['Regions']].squeeze(),\n",
    "    'release_date': essd_content_df[['Last date of compilation']].squeeze(),\n",
    "    # How should we describe our transformative step here?\n",
    "}\n",
    "\n",
    "custom_meta_fields = None\n",
    "\n",
    "tablename = 'ch4_gwp'\n",
    "create_trino_pipeline (s3, schemaname, tablename, timestamp, essd_gwp_df, custom_meta_fields, custom_meta_content)"
   ]
  },
  {
   "cell_type": "code",
   "execution_count": null,
   "id": "39dec1ac-a3b3-4fba-ae9e-a95ea8b5cb43",
   "metadata": {
    "tags": []
   },
   "outputs": [],
   "source": [
    "custom_meta_content = {\n",
    "    'title': 'Earth System Science Data (ESSD) Gas Species',\n",
    "    'author': essd_content_df[['Author & contact']].squeeze(),\n",
    "    'contact': essd_content_df[['Author & contact']].squeeze(),\n",
    "    'description': essd_content_df[['Regions']].squeeze(),\n",
    "    'release_date': essd_content_df[['Last date of compilation']].squeeze(),\n",
    "    # How should we describe our transformative step here?\n",
    "}\n",
    "\n",
    "custom_meta_fields = None\n",
    "\n",
    "tablename = 'gwp_100yr'\n",
    "create_trino_pipeline (s3, schemaname, tablename, timestamp, essd_gwp_df, custom_meta_fields, custom_meta_content)"
   ]
  },
  {
   "cell_type": "code",
   "execution_count": null,
   "id": "32a60318-3dce-4106-920f-0c0d8f29b7f9",
   "metadata": {},
   "outputs": [],
   "source": []
  },
  {
   "cell_type": "code",
   "execution_count": null,
   "id": "cd652039-0578-48ca-8c41-70df83c0a012",
   "metadata": {},
   "outputs": [],
   "source": [
    "import io\n",
    "\n",
    "bObj = bucket.Object('ESSD/essd_ghg_data_gwp100.xlsx')\n",
    "essd_gwp100_bytes = io.BytesIO(bucket.Object(bObj.key).get()['Body'].read())\n",
    "timestamp = bObj.last_modified.isoformat()\n",
    "\n",
    "%time essd_gwp100_df = pd.read_excel(essd_gwp100_bytes, sheet_name='data', converters={'year': lambda x: pd.to_datetime(x, format='%Y')}, dtype={'gwp100_ar5':'int32', 'value':'float64'}, engine='openpyxl')\n",
    "\n",
    "display(essd_gwp100_df.columns)"
   ]
  },
  {
   "cell_type": "code",
   "execution_count": null,
   "id": "59161d29-6f20-4905-8db2-88fda45f59ec",
   "metadata": {
    "tags": []
   },
   "outputs": [],
   "source": [
    "essd_gwp100_content_df = pd.read_excel(essd_gwp100_bytes, sheet_name='info', header=None).dropna(axis=0).set_index(0).T\n",
    "custom_meta_content = {\n",
    "    'title': 'Earth System Science Data (ESSD) GWP100 Dataset',\n",
    "    'author': essd_content_df[['Author & contact']].squeeze(),\n",
    "    'contact': essd_content_df[['Author & contact']].squeeze(),\n",
    "    'description': essd_content_df[['Data description']].squeeze(),\n",
    "    'release_date': essd_content_df[['Last date of compilation']].squeeze(),\n",
    "    # How should we describe our transformative step here?\n",
    "}\n",
    "\n",
    "essd_gwp100_metadata_df = pd.read_excel(essd_gwp100_bytes, sheet_name='metadata')\n",
    "custom_meta_fields = { d['Variable']: {k:v for k,v in d.items() if k!='Variable' and v==v} for d in essd_metadata_df.to_dict('records') }"
   ]
  },
  {
   "cell_type": "code",
   "execution_count": null,
   "id": "e543e243-a12f-4acd-a526-3b381424ac98",
   "metadata": {},
   "outputs": [],
   "source": [
    "custom_meta_content"
   ]
  },
  {
   "cell_type": "markdown",
   "id": "fbee9347-b8ab-429d-b4f1-d3c64f037995",
   "metadata": {},
   "source": [
    "Construct the combined metadata by merging existing table metadata and custom metadata.\n",
    "Note: The metadata content must be JSON serialisable and encoded as bytes; the metadata key must also be encoded as bytes."
   ]
  },
  {
   "cell_type": "code",
   "execution_count": null,
   "id": "bb7d5791-7687-4414-903a-3569c5133a80",
   "metadata": {},
   "outputs": [],
   "source": [
    "tablename = 'gwp100_data'\n",
    "create_trino_pipeline (s3, schemaname, tablename, timestamp, essd_gwp100_df, custom_meta_fields, custom_meta_content)"
   ]
  },
  {
   "cell_type": "code",
   "execution_count": null,
   "id": "0fa3c54e-b9c3-46a3-9632-360cd0d79c17",
   "metadata": {},
   "outputs": [],
   "source": [
    "# Read the Parquet file into an Arrow table\n",
    "obj = s3.get_object(\n",
    "    Bucket=os.environ['S3_DEV_BUCKET'], \n",
    "    Key='trino/{sname}/{tname}/{uuid}/{timestamp}/{tname}.parquet'.format(sname=schemaname, tname=tablename, uuid=ingest_uuid, timestamp=timestamp)\n",
    ")\n",
    "restored_table = pq.read_table(io.BytesIO(obj['Body'].read()))\n",
    "# Call the table’s to_pandas conversion method to restore the dataframe\n",
    "# This operation uses the Pandas metadata to reconstruct the dataFrame under the hood\n",
    "restored_df = restored_table.to_pandas()\n",
    "# The custom metadata is accessible via the Arrow table’s metadata object\n",
    "# Use the custom metadata key used earlier (taking care to once again encode the key as bytes)\n",
    "restored_meta_json = restored_table.schema.metadata[custom_meta_key.encode()]\n",
    "# Deserialize the json string to get back metadata\n",
    "restored_meta = json.loads(restored_meta_json)\n",
    "# Use the custom metadata fields key used earlier (taking care to once again encode the key as bytes)\n",
    "restored_meta_json_fields = restored_table.schema.metadata[custom_meta_key_fields.encode()]\n",
    "# Deserialize the json string to get back metadata\n",
    "restored_meta_fields = json.loads(restored_meta_json_fields)"
   ]
  },
  {
   "cell_type": "code",
   "execution_count": null,
   "id": "cf2b76fc-5adb-4272-9971-f6cf1afc9b4e",
   "metadata": {
    "tags": []
   },
   "outputs": [],
   "source": [
    "restored_df"
   ]
  },
  {
   "cell_type": "code",
   "execution_count": null,
   "id": "f8214a50-4cd3-47b7-9653-577b08fdebf5",
   "metadata": {},
   "outputs": [],
   "source": [
    "bObj = bucket.Object('ESSD/essd_lulucf_data.xlsx')\n",
    "lulucf_bytes = io.BytesIO(bucket.Object(bObj.key).get()['Body'].read())\n",
    "timestamp = bObj.last_modified.isoformat()\n",
    "\n",
    "lulucf_df = pd.read_excel(lulucf_bytes, sheet_name='data', converters={'year': lambda x: pd.to_datetime(x, format='%Y')}, engine='openpyxl')\n",
    "\n",
    "display(lulucf_df.columns)"
   ]
  },
  {
   "cell_type": "code",
   "execution_count": null,
   "id": "65f2a649-36bd-4ac8-9c95-bdbf2666e794",
   "metadata": {
    "tags": []
   },
   "outputs": [],
   "source": [
    "lulucf_content_df = pd.read_excel(lulucf_bytes, sheet_name='info', header=None).dropna(axis=0).set_index(0).T\n",
    "custom_meta_content = {\n",
    "    'title': 'Earth System Science Data (ESSD) Land Use Change and Forestry Dataset',\n",
    "    'author': lulucf_content_df[['Author']].squeeze(),\n",
    "    'contact': lulucf_content_df[['Contact']].squeeze(),\n",
    "    'description': lulucf_content_df[['Info']].squeeze(),\n",
    "    'release_date': essd_content_df[['Last date of compilation']].squeeze(),\n",
    "    # How should we describe our transformative step here?\n",
    "}\n",
    "\n",
    "custom_meta_fields = { 'Units': { k:'tCO2' for k in ['blue', 'houghton', 'oscar', 'mean'] }}"
   ]
  },
  {
   "cell_type": "code",
   "execution_count": null,
   "id": "9f368aae-7ce7-43d0-beea-95b32dc5b5ba",
   "metadata": {},
   "outputs": [],
   "source": [
    "custom_meta_content"
   ]
  },
  {
   "cell_type": "markdown",
   "id": "34775abd-753d-457d-98e4-3bed4fdff440",
   "metadata": {},
   "source": [
    "Construct the combined metadata by merging existing table metadata and custom metadata.\n",
    "Note: The metadata content must be JSON serialisable and encoded as bytes; the metadata key must also be encoded as bytes."
   ]
  },
  {
   "cell_type": "code",
   "execution_count": null,
   "id": "e14c87c2-2216-4e2d-b206-259185656d38",
   "metadata": {},
   "outputs": [],
   "source": [
    "tablename = 'lulucf'\n",
    "create_trino_pipeline (s3, schemaname, tablename, timestamp, lulucf_df, custom_meta_fields, custom_meta_content)"
   ]
  },
  {
   "cell_type": "markdown",
   "id": "679d5cd3-0fa0-49cf-86dd-963d91d53bc0",
   "metadata": {},
   "source": [
    "Restore data and metadata"
   ]
  },
  {
   "cell_type": "code",
   "execution_count": null,
   "id": "1f472489-9f5c-4e11-87db-feec90376709",
   "metadata": {},
   "outputs": [],
   "source": [
    "# Read the Parquet file into an Arrow table\n",
    "obj = s3.get_object(\n",
    "    Bucket=os.environ['S3_DEV_BUCKET'], \n",
    "    Key='trino/{sname}/{tname}/{uuid}/{timestamp}/{tname}.parquet'.format(sname=schemaname, tname=tablename, uuid=ingest_uuid, timestamp=timestamp)\n",
    ")\n",
    "restored_table = pq.read_table(io.BytesIO(obj['Body'].read()))\n",
    "# Call the table’s to_pandas conversion method to restore the dataframe\n",
    "# This operation uses the Pandas metadata to reconstruct the dataFrame under the hood\n",
    "restored_df = restored_table.to_pandas()\n",
    "# The custom metadata is accessible via the Arrow table’s metadata object\n",
    "# Use the custom metadata key used earlier (taking care to once again encode the key as bytes)\n",
    "restored_meta_json = restored_table.schema.metadata[custom_meta_key.encode()]\n",
    "# Deserialize the json string to get back metadata\n",
    "restored_meta = json.loads(restored_meta_json)\n",
    "# Use the custom metadata fields key used earlier (taking care to once again encode the key as bytes)\n",
    "restored_meta_json_fields = restored_table.schema.metadata[custom_meta_key_fields.encode()]\n",
    "# Deserialize the json string to get back metadata\n",
    "restored_meta_fields = json.loads(restored_meta_json_fields)"
   ]
  },
  {
   "cell_type": "code",
   "execution_count": null,
   "id": "72d35800-41d6-4e10-9bbe-3e48aff5e05a",
   "metadata": {
    "tags": []
   },
   "outputs": [],
   "source": [
    "restored_df"
   ]
  },
  {
   "cell_type": "code",
   "execution_count": null,
   "id": "3f4314d9-cf34-4c48-83ef-26a28230fe79",
   "metadata": {},
   "outputs": [],
   "source": [
    "# cur.execute('create schema if not exists osc_datacommons_dev.' + schemaname)\n",
    "\n",
    "cur.execute('show tables in osc_datacommons_dev.essd')\n",
    "cur.fetchall()"
   ]
  },
  {
   "cell_type": "markdown",
   "id": "85ec80d1-600a-4e0b-bb8b-2b2c8ca30f50",
   "metadata": {
    "tags": []
   },
   "source": [
    "## Load metadata following an ingestion process into trino metadata store\n",
    "\n",
    "### The schema is *metastore*, and the table names are *meta_schema*, *meta_table*, *meta_field*"
   ]
  },
  {
   "cell_type": "code",
   "execution_count": null,
   "id": "7988f89c-318a-40f2-a734-3fb791bfd69e",
   "metadata": {},
   "outputs": [],
   "source": [
    "# Create metastore structure\n",
    "metastore = {'catalog':'osc_datacommons_dev',\n",
    "             'schema':'essd',\n",
    "             'table':tablename,\n",
    "             'metadata':custom_meta_content,\n",
    "             'uuid':ingest_uuid}\n",
    "# Create DataFrame\n",
    "df_meta = pd.DataFrame(metastore)\n",
    "# Print the output\n",
    "df_meta\n",
    "\n",
    "# ??? Now what?"
   ]
  },
  {
   "cell_type": "code",
   "execution_count": null,
   "id": "5676e7ad-93b2-433e-8488-4e1eb99d657d",
   "metadata": {},
   "outputs": [],
   "source": []
  }
 ],
 "metadata": {
  "kernelspec": {
   "display_name": "Python 3",
   "language": "python",
   "name": "python3"
  },
  "language_info": {
   "codemirror_mode": {
    "name": "ipython",
    "version": 3
   },
   "file_extension": ".py",
   "mimetype": "text/x-python",
   "name": "python",
   "nbconvert_exporter": "python",
   "pygments_lexer": "ipython3",
   "version": "3.8.3"
  }
 },
 "nbformat": 4,
 "nbformat_minor": 5
}

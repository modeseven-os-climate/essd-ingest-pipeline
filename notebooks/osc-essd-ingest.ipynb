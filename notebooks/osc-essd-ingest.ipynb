{
 "cells": [
  {
   "cell_type": "markdown",
   "id": "2590fd22-9096-4f87-8412-ad38ff375727",
   "metadata": {},
   "source": [
    "## Load Earth System Science Data (ESSD) datasets\n",
    "\n",
    "Copyright (C) 2021 OS-Climate\n",
    "\n",
    "Permission is hereby granted, free of charge, to any person obtaining a copy of this software and associated documentation files (the \"Software\"), to deal in the Software without restriction, including without limitation the rights to use, copy, modify, merge, publish, distribute, sublicense, and/or sell copies of the Software, and to permit persons to whom the Software is furnished to do so, subject to the following conditions:\n",
    "\n",
    "The above copyright notice and this permission notice shall be included in all copies or substantial portions of the Software.\n",
    "\n",
    "THE SOFTWARE IS PROVIDED \"AS IS\", WITHOUT WARRANTY OF ANY KIND, EXPRESS OR IMPLIED, INCLUDING BUT NOT LIMITED TO THE WARRANTIES OF MERCHANTABILITY, FITNESS FOR A PARTICULAR PURPOSE AND NONINFRINGEMENT. IN NO EVENT SHALL THE AUTHORS OR COPYRIGHT HOLDERS BE LIABLE FOR ANY CLAIM, DAMAGES OR OTHER LIABILITY, WHETHER IN AN ACTION OF CONTRACT, TORT OR OTHERWISE, ARISING FROM, OUT OF OR IN CONNECTION WITH THE SOFTWARE OR THE USE OR OTHER DEALINGS IN THE SOFTWARE.\n",
    "\n",
    "Contributed by Michael Tiemann (Github: MichaelTiemannOSC)"
   ]
  },
  {
   "cell_type": "markdown",
   "id": "8a6dc33c-ef3a-4820-a196-1b299d04a5da",
   "metadata": {},
   "source": [
    "Load Credentials"
   ]
  },
  {
   "cell_type": "code",
   "execution_count": 1,
   "id": "0c9272c4-2f67-4769-b994-f4f110da425f",
   "metadata": {
    "tags": []
   },
   "outputs": [],
   "source": [
    "# From the AWS Account page, copy the export scripts from the appropriate role using the \"Command Line or Programmatic Access\" link\n",
    "# Paste the copied text into ~/credentials.env\n",
    "\n",
    "from dotenv import dotenv_values, load_dotenv\n",
    "import os\n",
    "import pathlib\n",
    "import sys\n",
    "\n",
    "dotenv_dir = os.environ.get('CREDENTIAL_DOTENV_DIR', os.environ.get('PWD', '/opt/app-root/src'))\n",
    "dotenv_path = pathlib.Path(dotenv_dir) / 'credentials.env'\n",
    "if os.path.exists(dotenv_path):\n",
    "    load_dotenv(dotenv_path=dotenv_path,override=True)\n",
    "\n",
    "# import sys\n",
    "# sys.path.append('../src/')"
   ]
  },
  {
   "cell_type": "code",
   "execution_count": 2,
   "id": "3ab4a677-d6b3-4aa7-bffd-52d6c7e90273",
   "metadata": {
    "tags": []
   },
   "outputs": [],
   "source": [
    "# import re\n",
    "import pandas as pd\n",
    "import numpy as np\n",
    "\n",
    "import openpyxl\n",
    "\n",
    "import pint\n",
    "import pint_pandas\n",
    "import iam_units\n",
    "from openscm_units import unit_registry\n",
    "pint_pandas.PintType.ureg = unit_registry\n",
    "ureg = unit_registry"
   ]
  },
  {
   "cell_type": "code",
   "execution_count": 3,
   "id": "1604f52a-d5dc-424e-8275-8dba4753f7ab",
   "metadata": {},
   "outputs": [],
   "source": [
    "import osc_ingest_trino as osc\n",
    "# import pyarrow as pa\n",
    "# import pyarrow.parquet as pq\n",
    "# import json\n",
    "import io\n",
    "import uuid"
   ]
  },
  {
   "cell_type": "markdown",
   "id": "a2554e5b-cac3-4495-b9f5-2b08da83c6b6",
   "metadata": {},
   "source": [
    "Create an S3 resource for the bucket holding source data"
   ]
  },
  {
   "cell_type": "code",
   "execution_count": 4,
   "id": "3f457d9c-cd23-41c4-bdb9-051b401a8951",
   "metadata": {},
   "outputs": [],
   "source": [
    "import boto3\n",
    "s3_source = boto3.resource(\n",
    "    service_name=\"s3\",\n",
    "    endpoint_url=os.environ['S3_LANDING_ENDPOINT'],\n",
    "    aws_access_key_id=os.environ['S3_LANDING_ACCESS_KEY'],\n",
    "    aws_secret_access_key=os.environ['S3_LANDING_SECRET_KEY'],\n",
    ")\n",
    "bucket = s3_source.Bucket(os.environ['S3_LANDING_BUCKET'])"
   ]
  },
  {
   "cell_type": "code",
   "execution_count": 5,
   "id": "daf48b3d-4b39-406b-8bb6-8ad5998a25d4",
   "metadata": {},
   "outputs": [],
   "source": [
    "import trino\n",
    "from sqlalchemy.engine import create_engine\n",
    "\n",
    "env_var_prefix = 'TRINO'\n",
    "\n",
    "sqlstring = 'trino://{user}@{host}:{port}/'.format(\n",
    "    user = os.environ[f'{env_var_prefix}_USER'],\n",
    "    host = os.environ[f'{env_var_prefix}_HOST'],\n",
    "    port = os.environ[f'{env_var_prefix}_PORT']\n",
    ")\n",
    "sqlargs = {\n",
    "    'auth': trino.auth.JWTAuthentication(os.environ[f'{env_var_prefix}_PASSWD']),\n",
    "    'http_scheme': 'https',\n",
    "    'catalog': 'osc_datacommons_dev'\n",
    "}\n",
    "engine = create_engine(sqlstring, connect_args = sqlargs)\n",
    "connection = engine.connect()"
   ]
  },
  {
   "cell_type": "code",
   "execution_count": 6,
   "id": "92a0dce7-1762-4605-8617-f2bf6d649f23",
   "metadata": {},
   "outputs": [],
   "source": [
    "ingest_catalog = 'osc_datacommons_dev'\n",
    "ingest_schema = 'sandbox'\n",
    "essd_table_prefix = 'essd_'"
   ]
  },
  {
   "cell_type": "code",
   "execution_count": 7,
   "id": "bb96687d-74a7-46d8-9944-b63fddf11bd1",
   "metadata": {},
   "outputs": [
    {
     "name": "stdout",
     "output_type": "stream",
     "text": [
      "('default',)\n",
      "('demo_dv',)\n",
      "('iceberg_demo',)\n",
      "('information_schema',)\n",
      "('pcaf_sovereign_footprint',)\n",
      "('sandbox',)\n"
     ]
    }
   ],
   "source": [
    "# Show available schemas to ensure trino connection is set correctly\n",
    "schema_read = engine.execute(f'show schemas in {ingest_catalog}')\n",
    "for row in schema_read.fetchall():\n",
    "    print(row)"
   ]
  },
  {
   "cell_type": "code",
   "execution_count": 8,
   "id": "211435a8-59b9-42e5-a352-09449ef294c8",
   "metadata": {
    "tags": []
   },
   "outputs": [],
   "source": [
    "def create_essd_table(tablename, df, partitioning=''):\n",
    "    ingest_table = f'{essd_table_prefix}{tablename}'\n",
    "    columnschema = osc.create_table_schema_pairs(df, typemap={\"datetime64[ns]\":\"timestamp(6)\"})\n",
    "\n",
    "    drop_table = engine.execute(f\"drop table if exists {ingest_schema}.{ingest_table}\")\n",
    "    drop_table.fetchall()\n",
    "\n",
    "    tabledef = f\"\"\"\n",
    "create table if not exists {ingest_catalog}.{ingest_schema}.{ingest_table}(\n",
    "{columnschema}\n",
    ") with (\n",
    "{'partitioning = ' if partitioning else ''}{partitioning}{',' if partitioning else ''}\n",
    "format = 'ORC'\n",
    ")\n",
    "\"\"\"\n",
    "    print(tabledef)\n",
    "    qres = engine.execute(tabledef)\n",
    "    print(qres.fetchall())\n",
    "    df.to_sql(ingest_table,\n",
    "              con=engine, schema=ingest_schema, if_exists='append',\n",
    "              index=False,\n",
    "              method=osc.TrinoBatchInsert(batch_size = 10000, verbose = True))"
   ]
  },
  {
   "cell_type": "markdown",
   "id": "d4544e38-c59b-4a49-907f-83db1e0bc16b",
   "metadata": {},
   "source": [
    "Load ESSD data file using pandas *read_excel* and using *ingest_uuid* as the global UUID for this ingestion"
   ]
  },
  {
   "cell_type": "code",
   "execution_count": 9,
   "id": "ae08bca0-02c2-450d-82ca-9c4d7ecc78cd",
   "metadata": {},
   "outputs": [],
   "source": [
    "# Much better to use disk than memory for large datasets (at least as far as notebook resources are concerned)!\n",
    "s3_essd_file = bObj = bucket.Object('ESSD/essd_ghg_data.xlsx')\n",
    "essd_tmpfile = f'/tmp/essd-data.xlsx'\n",
    "s3_essd_file.download_file(essd_tmpfile)\n",
    "timestamp = bObj.last_modified.isoformat()\n",
    "\n",
    "# It takes ~90 seconds (!) to load nearly 600K rows of data\n",
    "df = pd.read_excel(essd_tmpfile, sheet_name='data',\n",
    "                   # nrows=10,\n",
    "                   converters={'year': lambda x: pd.to_datetime(x, format='%Y')},\n",
    "                   dtype={'gwp100_ar5':'int32', 'value':'float64'},\n",
    "                   engine='openpyxl')\n",
    "df['value_units'] = 't CO2e'"
   ]
  },
  {
   "cell_type": "code",
   "execution_count": 10,
   "id": "a75e0a3a-1baa-47c9-96c7-3ac826a1886d",
   "metadata": {},
   "outputs": [
    {
     "data": {
      "text/plain": [
       "Index(['ISO', 'country', 'region_ar6_6', 'region_ar6_10', 'region_ar6_22',\n",
       "       'region_ar6_dev', 'sector_title', 'subsector_title', 'gas',\n",
       "       'gwp100_ar5', 'value', 'value_units', 'year'],\n",
       "      dtype='object')"
      ]
     },
     "metadata": {},
     "output_type": "display_data"
    }
   ],
   "source": [
    "# Put year at the end to make for more friendly partitioning\n",
    "year_index = df.columns.get_loc('year')\n",
    "essd_data_df = df[df.columns[:year_index].to_list()\n",
    "                  + df.columns[year_index+1:].to_list()\n",
    "                  + [df.columns[year_index]]]\n",
    "essd_data_df = essd_data_df.convert_dtypes()\n",
    "\n",
    "display(essd_data_df.columns)"
   ]
  },
  {
   "cell_type": "markdown",
   "id": "0befb864-3e0c-4357-8b24-5caeaea65de6",
   "metadata": {},
   "source": [
    "Construct the combined metadata by merging existing table metadata and custom metadata.\n",
    "Note: The metadata content must be JSON serialisable and encoded as bytes; the metadata key must also be encoded as bytes."
   ]
  },
  {
   "cell_type": "code",
   "execution_count": 11,
   "id": "caa06ed4-4092-46bd-925e-8701cd367249",
   "metadata": {
    "tags": []
   },
   "outputs": [],
   "source": [
    "essd_content_df = pd.read_excel(essd_tmpfile, sheet_name='info', header=None).dropna(axis=0).set_index(0).T\n",
    "custom_meta_content = {\n",
    "    'title': 'Earth System Science Data (ESSD) Dataset',\n",
    "    'author': essd_content_df[['Author & contact']].squeeze(),\n",
    "    'contact': essd_content_df[['Author & contact']].squeeze(),\n",
    "    'description': essd_content_df[['Data description']].squeeze(),\n",
    "    'release_date': essd_content_df[['Last date of compilation']].squeeze(),\n",
    "    # How should we describe our transformative step here?\n",
    "}\n",
    "\n",
    "essd_metadata_df = pd.read_excel(essd_tmpfile, sheet_name='metadata')\n",
    "custom_meta_fields = { d['Variable']: {k:v for k,v in d.items() if k!='Variable' and v==v} for d in essd_metadata_df.to_dict('records') }"
   ]
  },
  {
   "cell_type": "markdown",
   "id": "5c51fc5b-51a1-43a8-a0a0-880f6bf73fa6",
   "metadata": {},
   "source": [
    "The schemaname for this table is `essd`.  Dunno if it's a good idea or simply redundant to prefix the tablename with `essd_`"
   ]
  },
  {
   "cell_type": "code",
   "execution_count": 12,
   "id": "5e5b88b7-7a70-4394-89f4-7bf019d28a44",
   "metadata": {},
   "outputs": [
    {
     "name": "stdout",
     "output_type": "stream",
     "text": [
      "<class 'pandas.core.frame.DataFrame'>\n",
      "RangeIndex: 568341 entries, 0 to 568340\n",
      "Data columns (total 13 columns):\n",
      " #   Column           Non-Null Count   Dtype         \n",
      "---  ------           --------------   -----         \n",
      " 0   ISO              568341 non-null  string        \n",
      " 1   country          568341 non-null  string        \n",
      " 2   region_ar6_6     568341 non-null  string        \n",
      " 3   region_ar6_10    568341 non-null  string        \n",
      " 4   region_ar6_22    568341 non-null  string        \n",
      " 5   region_ar6_dev   568341 non-null  string        \n",
      " 6   sector_title     568341 non-null  string        \n",
      " 7   subsector_title  568341 non-null  string        \n",
      " 8   gas              568341 non-null  string        \n",
      " 9   gwp100_ar5       568341 non-null  Int32         \n",
      " 10  value            568341 non-null  Float64       \n",
      " 11  value_units      568341 non-null  string        \n",
      " 12  year             568341 non-null  datetime64[ns]\n",
      "dtypes: Float64(1), Int32(1), datetime64[ns](1), string(10)\n",
      "memory usage: 55.3 MB\n"
     ]
    }
   ],
   "source": [
    "essd_data_df.info(verbose=True)"
   ]
  },
  {
   "cell_type": "code",
   "execution_count": 13,
   "id": "6dafbd6f-7555-41d6-8011-d1eaee7cc647",
   "metadata": {
    "tags": []
   },
   "outputs": [
    {
     "name": "stdout",
     "output_type": "stream",
     "text": [
      "\n",
      "create table if not exists osc_datacommons_dev.sandbox.essd_ghg_data(\n",
      "    ISO varchar,\n",
      "    country varchar,\n",
      "    region_ar6_6 varchar,\n",
      "    region_ar6_10 varchar,\n",
      "    region_ar6_22 varchar,\n",
      "    region_ar6_dev varchar,\n",
      "    sector_title varchar,\n",
      "    subsector_title varchar,\n",
      "    gas varchar,\n",
      "    gwp100_ar5 integer,\n",
      "    value double,\n",
      "    value_units varchar,\n",
      "    year timestamp(6)\n",
      ") with (\n",
      "partitioning = array['year'],\n",
      "format = 'ORC'\n",
      ")\n",
      "\n",
      "[(True,)]\n",
      "constructed fully qualified table name as: \"sandbox.essd_ghg_data\"\n",
      "inserting 10000 records\n",
      "  ('ABW', 'Aruba', 'Latin America and Caribbean', 'Latin America and Caribbean', 'Caribbean', 'developing', 'Buildings', 'Residential', 'CO2', 1, 545.2099, 't CO2e', TIMESTAMP '1970-01-01 00:00:00')\n",
      "  ('ABW', 'Aruba', 'Latin America and Caribbean', 'Latin America and Caribbean', 'Caribbean', 'developing', 'Buildings', 'Residential', 'CH4', 28, 0.16094121, 't CO2e', TIMESTAMP '1970-01-01 00:00:00')\n",
      "  ('ABW', 'Aruba', 'Latin America and Caribbean', 'Latin America and Caribbean', 'Caribbean', 'developing', 'Buildings', 'Residential', 'N2O', 265, 0.004802031, 't CO2e', TIMESTAMP '1970-01-01 00:00:00')\n",
      "  ...\n",
      "  ('ALB', 'Albania', 'Developed Countries', 'Europe', 'Southern and eastern Europe', 'developed', 'Industry', 'Other (industry)', 'HFC-32', 677, 0.870974, 't CO2e', TIMESTAMP '2007-01-01 00:00:00')\n",
      "batch insert result: [(10000,)]\n",
      "inserting 10000 records\n",
      "  ('ALB', 'Albania', 'Developed Countries', 'Europe', 'Southern and eastern Europe', 'developed', 'Industry', 'Other (industry)', 'HFC-365mfc', 804, 0.554214, 't CO2e', TIMESTAMP '2007-01-01 00:00:00')\n",
      "  ('ALB', 'Albania', 'Developed Countries', 'Europe', 'Southern and eastern Europe', 'developed', 'Industry', 'Waste', 'CO2', 1, 2254.46, 't CO2e', TIMESTAMP '2007-01-01 00:00:00')\n",
      "  ('ALB', 'Albania', 'Developed Countries', 'Europe', 'Southern and eastern Europe', 'developed', 'Industry', 'Waste', 'CH4', 28, 13937.45179839, 't CO2e', TIMESTAMP '2007-01-01 00:00:00')\n",
      "  ...\n",
      "  ('ARM', 'Armenia', 'Eastern Europe and West-Central Asia', 'Eurasia', 'Eurasia', 'developing', 'Industry', 'Other (industry)', 'CH4', 28, 11.72165, 't CO2e', TIMESTAMP '2014-01-01 00:00:00')\n",
      "batch insert result: [(10000,)]\n",
      "inserting 10000 records\n",
      "  ('ARM', 'Armenia', 'Eastern Europe and West-Central Asia', 'Eurasia', 'Eurasia', 'developing', 'Industry', 'Other (industry)', 'N2O', 265, 1.4789, 't CO2e', TIMESTAMP '2014-01-01 00:00:00')\n",
      "  ('ARM', 'Armenia', 'Eastern Europe and West-Central Asia', 'Eurasia', 'Eurasia', 'developing', 'Industry', 'Other (industry)', 'HCFC-141b', 782, 59.3715, 't CO2e', TIMESTAMP '2014-01-01 00:00:00')\n",
      "  ('ARM', 'Armenia', 'Eastern Europe and West-Central Asia', 'Eurasia', 'Eurasia', 'developing', 'Industry', 'Other (industry)', 'HCFC-142b', 1980, 26.39825, 't CO2e', TIMESTAMP '2014-01-01 00:00:00')\n",
      "  ...\n",
      "  ('AUT', 'Austria', 'Developed Countries', 'Europe', 'Northern and western Europe', 'developed', 'Transport', 'Inland Shipping', 'CH4', 28, 1.519, 't CO2e', TIMESTAMP '1999-01-01 00:00:00')\n",
      "batch insert result: [(10000,)]\n",
      "inserting 10000 records\n",
      "  ('AUT', 'Austria', 'Developed Countries', 'Europe', 'Northern and western Europe', 'developed', 'Transport', 'Inland Shipping', 'N2O', 265, 0.434, 't CO2e', TIMESTAMP '1999-01-01 00:00:00')\n",
      "  ('AUT', 'Austria', 'Developed Countries', 'Europe', 'Northern and western Europe', 'developed', 'Transport', 'Other (transport)', 'CO2', 1, 1206683.0, 't CO2e', TIMESTAMP '1999-01-01 00:00:00')\n",
      "  ('AUT', 'Austria', 'Developed Countries', 'Europe', 'Northern and western Europe', 'developed', 'Transport', 'Other (transport)', 'CH4', 28, 50.7968, 't CO2e', TIMESTAMP '1999-01-01 00:00:00')\n",
      "  ...\n",
      "  ('BEL', 'Belgium', 'Developed Countries', 'Europe', 'Northern and western Europe', 'developed', 'Transport', 'Inland Shipping', 'CO2', 1, 1081424.0, 't CO2e', TIMESTAMP '1998-01-01 00:00:00')\n",
      "batch insert result: [(10000,)]\n",
      "inserting 10000 records\n",
      "  ('BEL', 'Belgium', 'Developed Countries', 'Europe', 'Northern and western Europe', 'developed', 'Transport', 'Inland Shipping', 'CH4', 28, 99.428, 't CO2e', TIMESTAMP '1998-01-01 00:00:00')\n",
      "  ('BEL', 'Belgium', 'Developed Countries', 'Europe', 'Northern and western Europe', 'developed', 'Transport', 'Inland Shipping', 'N2O', 265, 28.408, 't CO2e', TIMESTAMP '1998-01-01 00:00:00')\n",
      "  ('BEL', 'Belgium', 'Developed Countries', 'Europe', 'Northern and western Europe', 'developed', 'Transport', 'Other (transport)', 'CO2', 1, 1736437.2, 't CO2e', TIMESTAMP '1998-01-01 00:00:00')\n",
      "  ...\n",
      "  ('BGR', 'Bulgaria', 'Developed Countries', 'Europe', 'Southern and eastern Europe', 'developed', 'Industry', 'Other (industry)', 'HFC-143a', 4800, 0.0, 't CO2e', TIMESTAMP '1979-01-01 00:00:00')\n",
      "batch insert result: [(10000,)]\n",
      "inserting 10000 records\n",
      "  ('BGR', 'Bulgaria', 'Developed Countries', 'Europe', 'Southern and eastern Europe', 'developed', 'Industry', 'Other (industry)', 'HFC-152a', 138, 0.0, 't CO2e', TIMESTAMP '1979-01-01 00:00:00')\n",
      "  ('BGR', 'Bulgaria', 'Developed Countries', 'Europe', 'Southern and eastern Europe', 'developed', 'Industry', 'Other (industry)', 'HFC-227ea', 3350, 0.0, 't CO2e', TIMESTAMP '1979-01-01 00:00:00')\n",
      "  ('BGR', 'Bulgaria', 'Developed Countries', 'Europe', 'Southern and eastern Europe', 'developed', 'Industry', 'Other (industry)', 'HFC-23', 12400, 0.0, 't CO2e', TIMESTAMP '1979-01-01 00:00:00')\n",
      "  ...\n",
      "  ('BLR', 'Belarus', 'Eastern Europe and West-Central Asia', 'Eurasia', 'Eurasia', 'developed', 'Energy systems', 'Petroleum refining', 'N2O', 265, 19.0523, 't CO2e', TIMESTAMP '1976-01-01 00:00:00')\n",
      "batch insert result: [(10000,)]\n",
      "inserting 10000 records\n",
      "  ('BLR', 'Belarus', 'Eastern Europe and West-Central Asia', 'Eurasia', 'Eurasia', 'developed', 'Industry', 'Cement', 'CO2', 1, 1042040.0, 't CO2e', TIMESTAMP '1976-01-01 00:00:00')\n",
      "  ('BLR', 'Belarus', 'Eastern Europe and West-Central Asia', 'Eurasia', 'Eurasia', 'developed', 'Industry', 'Chemicals', 'CO2', 1, 7481677.337, 't CO2e', TIMESTAMP '1976-01-01 00:00:00')\n",
      "  ('BLR', 'Belarus', 'Eastern Europe and West-Central Asia', 'Eurasia', 'Eurasia', 'developed', 'Industry', 'Chemicals', 'CH4', 28, 127.862, 't CO2e', TIMESTAMP '1976-01-01 00:00:00')\n",
      "  ...\n",
      "  ('BRA', 'Brazil', 'Latin America and Caribbean', 'Latin America and Caribbean', 'South America', 'developing', 'AFOLU', 'Biomass burning (CH4, N2O)', 'N2O', 265, 2142.925802, 't CO2e', TIMESTAMP '1979-01-01 00:00:00')\n",
      "batch insert result: [(10000,)]\n",
      "inserting 10000 records\n",
      "  ('BRA', 'Brazil', 'Latin America and Caribbean', 'Latin America and Caribbean', 'South America', 'developing', 'AFOLU', 'Enteric Fermentation (CH4)', 'CH4', 28, 6456574.5, 't CO2e', TIMESTAMP '1979-01-01 00:00:00')\n",
      "  ('BRA', 'Brazil', 'Latin America and Caribbean', 'Latin America and Caribbean', 'South America', 'developing', 'AFOLU', 'Managed soils and pasture (CO2, N2O)', 'CO2', 1, 11468527.0, 't CO2e', TIMESTAMP '1979-01-01 00:00:00')\n",
      "  ('BRA', 'Brazil', 'Latin America and Caribbean', 'Latin America and Caribbean', 'South America', 'developing', 'AFOLU', 'Managed soils and pasture (CO2, N2O)', 'N2O', 265, 199664.040645, 't CO2e', TIMESTAMP '1979-01-01 00:00:00')\n",
      "  ...\n",
      "  ('BWA', 'Botswana', 'Africa', 'Africa', 'Southern and middle Africa', 'developing', 'Buildings', 'Non-residential', 'N2O', 265, 0.966, 't CO2e', TIMESTAMP '1986-01-01 00:00:00')\n",
      "batch insert result: [(10000,)]\n",
      "inserting 10000 records\n",
      "  ('BWA', 'Botswana', 'Africa', 'Africa', 'Southern and middle Africa', 'developing', 'Buildings', 'Residential', 'CO2', 1, 32118.2, 't CO2e', TIMESTAMP '1986-01-01 00:00:00')\n",
      "  ('BWA', 'Botswana', 'Africa', 'Africa', 'Southern and middle Africa', 'developing', 'Buildings', 'Residential', 'CH4', 28, 5439.984429, 't CO2e', TIMESTAMP '1986-01-01 00:00:00')\n",
      "  ('BWA', 'Botswana', 'Africa', 'Africa', 'Southern and middle Africa', 'developing', 'Buildings', 'Residential', 'N2O', 265, 72.5447665, 't CO2e', TIMESTAMP '1986-01-01 00:00:00')\n",
      "  ...\n",
      "  ('CHE', 'Switzerland', 'Developed Countries', 'Europe', 'Northern and western Europe', 'developed', 'Transport', 'Road', 'CO2', 1, 11234133.048071, 't CO2e', TIMESTAMP '1984-01-01 00:00:00')\n",
      "batch insert result: [(10000,)]\n",
      "inserting 10000 records\n",
      "  ('CHE', 'Switzerland', 'Developed Countries', 'Europe', 'Northern and western Europe', 'developed', 'Transport', 'Road', 'CH4', 28, 5018.455062939, 't CO2e', TIMESTAMP '1984-01-01 00:00:00')\n",
      "  ('CHE', 'Switzerland', 'Developed Countries', 'Europe', 'Northern and western Europe', 'developed', 'Transport', 'Road', 'N2O', 265, 501.1861682002, 't CO2e', TIMESTAMP '1984-01-01 00:00:00')\n",
      "  ('CHE', 'Switzerland', 'Developed Countries', 'Europe', 'Northern and western Europe', 'developed', 'AFOLU', 'Biomass burning (CH4, N2O)', 'CH4', 28, 166.8556511, 't CO2e', TIMESTAMP '1985-01-01 00:00:00')\n",
      "  ...\n",
      "  ('CHN', 'China', 'Asia and developing Pacific', 'Eastern Asia', 'Eastern Asia', 'developing', 'Industry', 'Other (industry)', 'HCFC-142b', 1980, 0.0, 't CO2e', TIMESTAMP '2012-01-01 00:00:00')\n",
      "batch insert result: [(10000,)]\n",
      "inserting 10000 records\n",
      "  ('CHN', 'China', 'Asia and developing Pacific', 'Eastern Asia', 'Eastern Asia', 'developing', 'Industry', 'Other (industry)', 'HFC-125', 3170, 8600.0, 't CO2e', TIMESTAMP '2012-01-01 00:00:00')\n",
      "  ('CHN', 'China', 'Asia and developing Pacific', 'Eastern Asia', 'Eastern Asia', 'developing', 'Industry', 'Other (industry)', 'HFC-134a', 1300, 28000.0, 't CO2e', TIMESTAMP '2012-01-01 00:00:00')\n",
      "  ('CHN', 'China', 'Asia and developing Pacific', 'Eastern Asia', 'Eastern Asia', 'developing', 'Industry', 'Other (industry)', 'HFC-143a', 4800, 3000.0, 't CO2e', TIMESTAMP '2012-01-01 00:00:00')\n",
      "  ...\n",
      "  ('COG', 'Congo, Rep.', 'Africa', 'Africa', 'Southern and middle Africa', 'developing', 'Transport', 'Inland Shipping', 'N2O', 265, 0.806, 't CO2e', TIMESTAMP '2016-01-01 00:00:00')\n",
      "batch insert result: [(10000,)]\n",
      "inserting 10000 records\n",
      "  ('COG', 'Congo, Rep.', 'Africa', 'Africa', 'Southern and middle Africa', 'developing', 'Transport', 'Rail ', 'CO2', 1, 263129.0, 't CO2e', TIMESTAMP '2016-01-01 00:00:00')\n",
      "  ('COG', 'Congo, Rep.', 'Africa', 'Africa', 'Southern and middle Africa', 'developing', 'Transport', 'Rail ', 'CH4', 28, 14.7367, 't CO2e', TIMESTAMP '2016-01-01 00:00:00')\n",
      "  ('COG', 'Congo, Rep.', 'Africa', 'Africa', 'Southern and middle Africa', 'developing', 'Transport', 'Rail ', 'N2O', 265, 101.559, 't CO2e', TIMESTAMP '2016-01-01 00:00:00')\n",
      "  ...\n",
      "  ('CRI', 'Costa Rica', 'Latin America and Caribbean', 'Latin America and Caribbean', 'Meso America', 'developing', 'AFOLU', 'Biomass burning (CH4, N2O)', 'CH4', 28, 1098.073398, 't CO2e', TIMESTAMP '1985-01-01 00:00:00')\n",
      "batch insert result: [(10000,)]\n",
      "inserting 10000 records\n",
      "  ('CRI', 'Costa Rica', 'Latin America and Caribbean', 'Latin America and Caribbean', 'Meso America', 'developing', 'AFOLU', 'Biomass burning (CH4, N2O)', 'N2O', 265, 28.4685928, 't CO2e', TIMESTAMP '1985-01-01 00:00:00')\n",
      "  ('CRI', 'Costa Rica', 'Latin America and Caribbean', 'Latin America and Caribbean', 'Meso America', 'developing', 'AFOLU', 'Enteric Fermentation (CH4)', 'CH4', 28, 141311.1, 't CO2e', TIMESTAMP '1985-01-01 00:00:00')\n",
      "  ('CRI', 'Costa Rica', 'Latin America and Caribbean', 'Latin America and Caribbean', 'Meso America', 'developing', 'AFOLU', 'Managed soils and pasture (CO2, N2O)', 'CO2', 1, 45760.0, 't CO2e', TIMESTAMP '1985-01-01 00:00:00')\n",
      "  ...\n",
      "  ('CZE', 'Czech Republic', 'Developed Countries', 'Europe', 'Southern and eastern Europe', 'developed', 'Energy systems', 'Coal mining fugitive emissions', 'CO2', 1, 5272411.69, 't CO2e', TIMESTAMP '1973-01-01 00:00:00')\n",
      "batch insert result: [(10000,)]\n",
      "inserting 10000 records\n",
      "  ('CZE', 'Czech Republic', 'Developed Countries', 'Europe', 'Southern and eastern Europe', 'developed', 'Energy systems', 'Coal mining fugitive emissions', 'CH4', 30, 238824.69, 't CO2e', TIMESTAMP '1973-01-01 00:00:00')\n",
      "  ('CZE', 'Czech Republic', 'Developed Countries', 'Europe', 'Southern and eastern Europe', 'developed', 'Energy systems', 'Electricity & heat', 'CO2', 1, 38722228.0, 't CO2e', TIMESTAMP '1973-01-01 00:00:00')\n",
      "  ('CZE', 'Czech Republic', 'Developed Countries', 'Europe', 'Southern and eastern Europe', 'developed', 'Energy systems', 'Electricity & heat', 'CH4', 28, 514.8593, 't CO2e', TIMESTAMP '1973-01-01 00:00:00')\n",
      "  ...\n",
      "  ('DJI', 'Djibouti', 'Africa', 'Africa', 'Eastern Africa', 'ldc', 'Industry', 'Other (industry)', 'N2O', 265, 1.47707518, 't CO2e', TIMESTAMP '1999-01-01 00:00:00')\n",
      "batch insert result: [(10000,)]\n",
      "inserting 10000 records\n",
      "  ('DJI', 'Djibouti', 'Africa', 'Africa', 'Eastern Africa', 'ldc', 'Industry', 'Waste', 'CH4', 28, 11816.206118, 't CO2e', TIMESTAMP '1999-01-01 00:00:00')\n",
      "  ('DJI', 'Djibouti', 'Africa', 'Africa', 'Eastern Africa', 'ldc', 'Industry', 'Waste', 'N2O', 265, 21.52962, 't CO2e', TIMESTAMP '1999-01-01 00:00:00')\n",
      "  ('DJI', 'Djibouti', 'Africa', 'Africa', 'Eastern Africa', 'ldc', 'Transport', 'Domestic Aviation', 'CO2', 1, 193992.29, 't CO2e', TIMESTAMP '1999-01-01 00:00:00')\n",
      "  ...\n",
      "  ('DZA', 'Algeria', 'Africa', 'Africa', 'North Africa', 'developing', 'Industry', 'Other (industry)', 'CH4', 28, 50.93, 't CO2e', TIMESTAMP '1977-01-01 00:00:00')\n",
      "batch insert result: [(10000,)]\n",
      "inserting 10000 records\n",
      "  ('DZA', 'Algeria', 'Africa', 'Africa', 'North Africa', 'developing', 'Industry', 'Other (industry)', 'N2O', 265, 10.04843, 't CO2e', TIMESTAMP '1977-01-01 00:00:00')\n",
      "  ('DZA', 'Algeria', 'Africa', 'Africa', 'North Africa', 'developing', 'Industry', 'Other (industry)', 'HCFC-141b', 782, 0.0, 't CO2e', TIMESTAMP '1977-01-01 00:00:00')\n",
      "  ('DZA', 'Algeria', 'Africa', 'Africa', 'North Africa', 'developing', 'Industry', 'Other (industry)', 'HCFC-142b', 1980, 0.0, 't CO2e', TIMESTAMP '1977-01-01 00:00:00')\n",
      "  ...\n",
      "  ('ERI', 'Eritrea', 'Africa', 'Africa', 'Eastern Africa', 'ldc', 'Energy systems', 'Electricity & heat', 'CO2', 1, 289226.34, 't CO2e', TIMESTAMP '2011-01-01 00:00:00')\n",
      "batch insert result: [(10000,)]\n",
      "inserting 10000 records\n",
      "  ('ERI', 'Eritrea', 'Africa', 'Africa', 'Eastern Africa', 'ldc', 'Energy systems', 'Electricity & heat', 'CH4', 28, 10.3059745, 't CO2e', TIMESTAMP '2011-01-01 00:00:00')\n",
      "  ('ERI', 'Eritrea', 'Africa', 'Africa', 'Eastern Africa', 'ldc', 'Energy systems', 'Electricity & heat', 'N2O', 265, 2.1537806, 't CO2e', TIMESTAMP '2011-01-01 00:00:00')\n",
      "  ('ERI', 'Eritrea', 'Africa', 'Africa', 'Eastern Africa', 'ldc', 'Energy systems', 'Other (energy systems)', 'CH4', 28, 13844.6, 't CO2e', TIMESTAMP '2011-01-01 00:00:00')\n",
      "  ...\n",
      "  ('EST', 'Estonia', 'Developed Countries', 'Europe', 'Northern and western Europe', 'developed', 'Industry', 'Chemicals', 'CH4', 28, 3.774, 't CO2e', TIMESTAMP '2008-01-01 00:00:00')\n",
      "batch insert result: [(10000,)]\n",
      "inserting 10000 records\n",
      "  ('EST', 'Estonia', 'Developed Countries', 'Europe', 'Northern and western Europe', 'developed', 'Industry', 'Chemicals', 'N2O', 265, 16.8015973, 't CO2e', TIMESTAMP '2008-01-01 00:00:00')\n",
      "  ('EST', 'Estonia', 'Developed Countries', 'Europe', 'Northern and western Europe', 'developed', 'Industry', 'Metals', 'CO2', 1, 80609.575, 't CO2e', TIMESTAMP '2008-01-01 00:00:00')\n",
      "  ('EST', 'Estonia', 'Developed Countries', 'Europe', 'Northern and western Europe', 'developed', 'Industry', 'Metals', 'CH4', 28, 0.067, 't CO2e', TIMESTAMP '2008-01-01 00:00:00')\n",
      "  ...\n",
      "  ('FLK', 'Falkland Islands (Malvinas)', 'Latin America and Caribbean', 'Latin America and Caribbean', 'South America', 'developing', 'Transport', 'Other (transport)', 'CO2', 1, 45.75101, 't CO2e', TIMESTAMP '1979-01-01 00:00:00')\n",
      "batch insert result: [(10000,)]\n",
      "inserting 10000 records\n",
      "  ('FLK', 'Falkland Islands (Malvinas)', 'Latin America and Caribbean', 'Latin America and Caribbean', 'South America', 'developing', 'Transport', 'Other (transport)', 'CH4', 28, 0.002501869, 't CO2e', TIMESTAMP '1979-01-01 00:00:00')\n",
      "  ('FLK', 'Falkland Islands (Malvinas)', 'Latin America and Caribbean', 'Latin America and Caribbean', 'South America', 'developing', 'Transport', 'Other (transport)', 'N2O', 265, 0.0164433618, 't CO2e', TIMESTAMP '1979-01-01 00:00:00')\n",
      "  ('FLK', 'Falkland Islands (Malvinas)', 'Latin America and Caribbean', 'Latin America and Caribbean', 'South America', 'developing', 'Transport', 'Road', 'CO2', 1, 514.24566, 't CO2e', TIMESTAMP '1979-01-01 00:00:00')\n",
      "  ...\n",
      "  ('GBR', 'United Kingdom', 'Developed Countries', 'Europe', 'Northern and western Europe', 'developed', 'Industry', 'Waste', 'CH4', 30, 290.115, 't CO2e', TIMESTAMP '1972-01-01 00:00:00')\n",
      "batch insert result: [(10000,)]\n",
      "inserting 10000 records\n",
      "  ('GBR', 'United Kingdom', 'Developed Countries', 'Europe', 'Northern and western Europe', 'developed', 'Industry', 'Waste', 'N2O', 265, 3644.85357, 't CO2e', TIMESTAMP '1972-01-01 00:00:00')\n",
      "  ('GBR', 'United Kingdom', 'Developed Countries', 'Europe', 'Northern and western Europe', 'developed', 'Transport', 'Domestic Aviation', 'CO2', 1, 4874462.3, 't CO2e', TIMESTAMP '1972-01-01 00:00:00')\n",
      "  ('GBR', 'United Kingdom', 'Developed Countries', 'Europe', 'Northern and western Europe', 'developed', 'Transport', 'Domestic Aviation', 'CH4', 28, 34.151855, 't CO2e', TIMESTAMP '1972-01-01 00:00:00')\n",
      "  ...\n",
      "  ('GHA', 'Ghana', 'Africa', 'Africa', 'Western Africa', 'developing', 'Industry', 'Other (industry)', 'HFC-143a', 4800, 71.074922, 't CO2e', TIMESTAMP '2018-01-01 00:00:00')\n",
      "batch insert result: [(10000,)]\n",
      "inserting 10000 records\n",
      "  ('GHA', 'Ghana', 'Africa', 'Africa', 'Western Africa', 'developing', 'Industry', 'Other (industry)', 'HFC-245fa', 858, 51.749048, 't CO2e', TIMESTAMP '2018-01-01 00:00:00')\n",
      "  ('GHA', 'Ghana', 'Africa', 'Africa', 'Western Africa', 'developing', 'Industry', 'Other (industry)', 'HFC-32', 677, 16.911521, 't CO2e', TIMESTAMP '2018-01-01 00:00:00')\n",
      "  ('GHA', 'Ghana', 'Africa', 'Africa', 'Western Africa', 'developing', 'Industry', 'Other (industry)', 'HFC-365mfc', 804, 18.412281, 't CO2e', TIMESTAMP '2018-01-01 00:00:00')\n",
      "  ...\n",
      "  ('GNQ', 'Equatorial Guinea', 'Africa', 'Africa', 'Southern and middle Africa', 'developing', 'Transport', 'Domestic Aviation', 'CO2', 1, 14787.523, 't CO2e', TIMESTAMP '1998-01-01 00:00:00')\n",
      "batch insert result: [(10000,)]\n",
      "inserting 10000 records\n",
      "  ('GNQ', 'Equatorial Guinea', 'Africa', 'Africa', 'Southern and middle Africa', 'developing', 'Transport', 'Domestic Aviation', 'CH4', 28, 0.10354252, 't CO2e', TIMESTAMP '1998-01-01 00:00:00')\n",
      "  ('GNQ', 'Equatorial Guinea', 'Africa', 'Africa', 'Southern and middle Africa', 'developing', 'Transport', 'Domestic Aviation', 'N2O', 265, 0.41417066, 't CO2e', TIMESTAMP '1998-01-01 00:00:00')\n",
      "  ('GNQ', 'Equatorial Guinea', 'Africa', 'Africa', 'Southern and middle Africa', 'developing', 'Transport', 'Other (transport)', 'CO2', 1, 1561.09, 't CO2e', TIMESTAMP '1998-01-01 00:00:00')\n",
      "  ...\n",
      "  ('GTM', 'Guatemala', 'Latin America and Caribbean', 'Latin America and Caribbean', 'Meso America', 'developing', 'Energy systems', 'Oil and gas fugitive emissions', 'CH4', 30, 6563.46924, 't CO2e', TIMESTAMP '2001-01-01 00:00:00')\n",
      "batch insert result: [(10000,)]\n",
      "inserting 10000 records\n",
      "  ('GTM', 'Guatemala', 'Latin America and Caribbean', 'Latin America and Caribbean', 'Meso America', 'developing', 'Energy systems', 'Oil and gas fugitive emissions', 'N2O', 265, 0.091364, 't CO2e', TIMESTAMP '2001-01-01 00:00:00')\n",
      "  ('GTM', 'Guatemala', 'Latin America and Caribbean', 'Latin America and Caribbean', 'Meso America', 'developing', 'Energy systems', 'Other (energy systems)', 'CH4', 28, 2837.9, 't CO2e', TIMESTAMP '2001-01-01 00:00:00')\n",
      "  ('GTM', 'Guatemala', 'Latin America and Caribbean', 'Latin America and Caribbean', 'Meso America', 'developing', 'Energy systems', 'Other (energy systems)', 'N2O', 265, 744.3886, 't CO2e', TIMESTAMP '2001-01-01 00:00:00')\n",
      "  ...\n",
      "  ('HRV', 'Croatia', 'Developed Countries', 'Europe', 'Southern and eastern Europe', 'developed', 'Industry', 'Other (industry)', 'HFC-365mfc', 804, 0.0, 't CO2e', TIMESTAMP '1979-01-01 00:00:00')\n",
      "batch insert result: [(10000,)]\n",
      "inserting 10000 records\n",
      "  ('HRV', 'Croatia', 'Developed Countries', 'Europe', 'Southern and eastern Europe', 'developed', 'Industry', 'Other (industry)', 'HFC-41', 116, 0.0, 't CO2e', TIMESTAMP '1979-01-01 00:00:00')\n",
      "  ('HRV', 'Croatia', 'Developed Countries', 'Europe', 'Southern and eastern Europe', 'developed', 'Industry', 'Other (industry)', 'HFC-43-10-mee', 1640, 0.0, 't CO2e', TIMESTAMP '1979-01-01 00:00:00')\n",
      "  ('HRV', 'Croatia', 'Developed Countries', 'Europe', 'Southern and eastern Europe', 'developed', 'Industry', 'Other (industry)', 'NF3', 16100, 0.0, 't CO2e', TIMESTAMP '1979-01-01 00:00:00')\n",
      "  ...\n",
      "  ('IDN', 'Indonesia', 'Asia and developing Pacific', 'South-East Asia and developing Pacific', 'South-East Asia', 'developing', 'Transport', 'Inland Shipping', 'CH4', 28, 20.307, 't CO2e', TIMESTAMP '1975-01-01 00:00:00')\n",
      "batch insert result: [(10000,)]\n",
      "inserting 10000 records\n",
      "  ('IDN', 'Indonesia', 'Asia and developing Pacific', 'South-East Asia and developing Pacific', 'South-East Asia', 'developing', 'Transport', 'Inland Shipping', 'N2O', 265, 5.802, 't CO2e', TIMESTAMP '1975-01-01 00:00:00')\n",
      "  ('IDN', 'Indonesia', 'Asia and developing Pacific', 'South-East Asia and developing Pacific', 'South-East Asia', 'developing', 'Transport', 'Other (transport)', 'CO2', 1, 1081270.0, 't CO2e', TIMESTAMP '1975-01-01 00:00:00')\n",
      "  ('IDN', 'Indonesia', 'Asia and developing Pacific', 'South-East Asia and developing Pacific', 'South-East Asia', 'developing', 'Transport', 'Other (transport)', 'CH4', 28, 60.5568, 't CO2e', TIMESTAMP '1975-01-01 00:00:00')\n",
      "  ...\n",
      "  ('IRL', 'Ireland', 'Developed Countries', 'Europe', 'Northern and western Europe', 'developed', 'Buildings', 'Non-CO2 (all buildings)', 'HFC-23', 12400, 0.0, 't CO2e', TIMESTAMP '2009-01-01 00:00:00')\n",
      "batch insert result: [(10000,)]\n",
      "inserting 10000 records\n",
      "  ('IRL', 'Ireland', 'Developed Countries', 'Europe', 'Northern and western Europe', 'developed', 'Buildings', 'Non-CO2 (all buildings)', 'HFC-236fa', 8060, 0.0, 't CO2e', TIMESTAMP '2009-01-01 00:00:00')\n",
      "  ('IRL', 'Ireland', 'Developed Countries', 'Europe', 'Northern and western Europe', 'developed', 'Buildings', 'Non-CO2 (all buildings)', 'SF6', 23500, 0.1418189, 't CO2e', TIMESTAMP '2009-01-01 00:00:00')\n",
      "  ('IRL', 'Ireland', 'Developed Countries', 'Europe', 'Northern and western Europe', 'developed', 'Buildings', 'Non-residential', 'CO2', 1, 2356736.8, 't CO2e', TIMESTAMP '2009-01-01 00:00:00')\n",
      "  ...\n",
      "  ('ISR', 'Israel', 'Middle East', 'Middle East', 'Middle East', 'developed', 'AFOLU', 'Biomass burning (CH4, N2O)', 'N2O', 265, 6.198235824, 't CO2e', TIMESTAMP '1974-01-01 00:00:00')\n",
      "batch insert result: [(10000,)]\n",
      "inserting 10000 records\n",
      "  ('ISR', 'Israel', 'Middle East', 'Middle East', 'Middle East', 'developed', 'AFOLU', 'Enteric Fermentation (CH4)', 'CH4', 28, 21651.25, 't CO2e', TIMESTAMP '1974-01-01 00:00:00')\n",
      "  ('ISR', 'Israel', 'Middle East', 'Middle East', 'Middle East', 'developed', 'AFOLU', 'Managed soils and pasture (CO2, N2O)', 'CO2', 1, 106177.09, 't CO2e', TIMESTAMP '1974-01-01 00:00:00')\n",
      "  ('ISR', 'Israel', 'Middle East', 'Middle East', 'Middle East', 'developed', 'AFOLU', 'Managed soils and pasture (CO2, N2O)', 'N2O', 265, 1133.50553218, 't CO2e', TIMESTAMP '1974-01-01 00:00:00')\n",
      "  ...\n",
      "  ('JOR', 'Jordan', 'Middle East', 'Middle East', 'Middle East', 'developing', 'Industry', 'Other (industry)', 'HCFC-142b', 1980, 0.00107685, 't CO2e', TIMESTAMP '1984-01-01 00:00:00')\n",
      "batch insert result: [(10000,)]\n",
      "inserting 10000 records\n",
      "  ('JOR', 'Jordan', 'Middle East', 'Middle East', 'Middle East', 'developing', 'Industry', 'Other (industry)', 'HFC-125', 3170, 0.0, 't CO2e', TIMESTAMP '1984-01-01 00:00:00')\n",
      "  ('JOR', 'Jordan', 'Middle East', 'Middle East', 'Middle East', 'developing', 'Industry', 'Other (industry)', 'HFC-134a', 1300, 0.0, 't CO2e', TIMESTAMP '1984-01-01 00:00:00')\n",
      "  ('JOR', 'Jordan', 'Middle East', 'Middle East', 'Middle East', 'developing', 'Industry', 'Other (industry)', 'HFC-143a', 4800, 0.0, 't CO2e', TIMESTAMP '1984-01-01 00:00:00')\n",
      "  ...\n",
      "  ('KAZ', 'Kazakhstan', 'Eastern Europe and West-Central Asia', 'Eurasia', 'Eurasia', 'developing', 'Energy systems', 'Oil and gas fugitive emissions', 'CH4', 30, 524875.47659, 't CO2e', TIMESTAMP '2007-01-01 00:00:00')\n",
      "batch insert result: [(10000,)]\n",
      "inserting 10000 records\n",
      "  ('KAZ', 'Kazakhstan', 'Eastern Europe and West-Central Asia', 'Eurasia', 'Eurasia', 'developing', 'Energy systems', 'Oil and gas fugitive emissions', 'N2O', 265, 158.6835281, 't CO2e', TIMESTAMP '2007-01-01 00:00:00')\n",
      "  ('KAZ', 'Kazakhstan', 'Eastern Europe and West-Central Asia', 'Eurasia', 'Eurasia', 'developing', 'Energy systems', 'Other (energy systems)', 'CO2', 1, 38499035.0, 't CO2e', TIMESTAMP '2007-01-01 00:00:00')\n",
      "  ('KAZ', 'Kazakhstan', 'Eastern Europe and West-Central Asia', 'Eurasia', 'Eurasia', 'developing', 'Energy systems', 'Other (energy systems)', 'CH4', 28, 3040.37, 't CO2e', TIMESTAMP '2007-01-01 00:00:00')\n",
      "  ...\n",
      "  ('KNA', 'St. Kitts and Nevis', 'Latin America and Caribbean', 'Latin America and Caribbean', 'Caribbean', 'developing', 'Buildings', 'Residential', 'CO2', 1, 3424.5264, 't CO2e', TIMESTAMP '1984-01-01 00:00:00')\n",
      "batch insert result: [(10000,)]\n",
      "inserting 10000 records\n",
      "  ('KNA', 'St. Kitts and Nevis', 'Latin America and Caribbean', 'Latin America and Caribbean', 'Caribbean', 'developing', 'Buildings', 'Residential', 'CH4', 28, 0.39942724, 't CO2e', TIMESTAMP '1984-01-01 00:00:00')\n",
      "  ('KNA', 'St. Kitts and Nevis', 'Latin America and Caribbean', 'Latin America and Caribbean', 'Caribbean', 'developing', 'Buildings', 'Residential', 'N2O', 265, 0.021697775, 't CO2e', TIMESTAMP '1984-01-01 00:00:00')\n",
      "  ('KNA', 'St. Kitts and Nevis', 'Latin America and Caribbean', 'Latin America and Caribbean', 'Caribbean', 'developing', 'Energy systems', 'Electricity & heat', 'CO2', 1, 25284.465, 't CO2e', TIMESTAMP '1984-01-01 00:00:00')\n",
      "  ...\n",
      "  ('LBN', 'Lebanon', 'Middle East', 'Middle East', 'Middle East', 'developing', 'Industry', 'Other (industry)', 'HFC-143a', 4800, 0.0, 't CO2e', TIMESTAMP '1981-01-01 00:00:00')\n",
      "batch insert result: [(10000,)]\n",
      "inserting 10000 records\n",
      "  ('LBN', 'Lebanon', 'Middle East', 'Middle East', 'Middle East', 'developing', 'Industry', 'Other (industry)', 'HFC-245fa', 858, 0.0, 't CO2e', TIMESTAMP '1981-01-01 00:00:00')\n",
      "  ('LBN', 'Lebanon', 'Middle East', 'Middle East', 'Middle East', 'developing', 'Industry', 'Other (industry)', 'HFC-32', 677, 0.0, 't CO2e', TIMESTAMP '1981-01-01 00:00:00')\n",
      "  ('LBN', 'Lebanon', 'Middle East', 'Middle East', 'Middle East', 'developing', 'Industry', 'Other (industry)', 'HFC-365mfc', 804, 0.0, 't CO2e', TIMESTAMP '1981-01-01 00:00:00')\n",
      "  ...\n",
      "  ('LKA', 'Sri Lanka', 'Asia and developing Pacific', 'Southern Asia', 'India & Sri Lanka', 'developing', 'Industry', 'Cement', 'CO2', 1, 872100.0, 't CO2e', TIMESTAMP '2009-01-01 00:00:00')\n",
      "batch insert result: [(10000,)]\n",
      "inserting 10000 records\n",
      "  ('LKA', 'Sri Lanka', 'Asia and developing Pacific', 'Southern Asia', 'India & Sri Lanka', 'developing', 'Industry', 'Chemicals', 'CO2', 1, 76676.9016, 't CO2e', TIMESTAMP '2009-01-01 00:00:00')\n",
      "  ('LKA', 'Sri Lanka', 'Asia and developing Pacific', 'Southern Asia', 'India & Sri Lanka', 'developing', 'Industry', 'Chemicals', 'N2O', 265, 6.049326, 't CO2e', TIMESTAMP '2009-01-01 00:00:00')\n",
      "  ('LKA', 'Sri Lanka', 'Asia and developing Pacific', 'Southern Asia', 'India & Sri Lanka', 'developing', 'Industry', 'Metals', 'CO2', 1, 1720.0, 't CO2e', TIMESTAMP '2009-01-01 00:00:00')\n",
      "  ...\n",
      "  ('LUX', 'Luxembourg', 'Developed Countries', 'Europe', 'Northern and western Europe', 'developed', 'Buildings', 'Non-residential', 'CO2', 1, 573152.2, 't CO2e', TIMESTAMP '2017-01-01 00:00:00')\n",
      "batch insert result: [(10000,)]\n",
      "inserting 10000 records\n",
      "  ('LUX', 'Luxembourg', 'Developed Countries', 'Europe', 'Northern and western Europe', 'developed', 'Buildings', 'Non-residential', 'CH4', 28, 64.56, 't CO2e', TIMESTAMP '2017-01-01 00:00:00')\n",
      "  ('LUX', 'Luxembourg', 'Developed Countries', 'Europe', 'Northern and western Europe', 'developed', 'Buildings', 'Non-residential', 'N2O', 265, 2.8428, 't CO2e', TIMESTAMP '2017-01-01 00:00:00')\n",
      "  ('LUX', 'Luxembourg', 'Developed Countries', 'Europe', 'Northern and western Europe', 'developed', 'Buildings', 'Residential', 'CO2', 1, 1094208.4, 't CO2e', TIMESTAMP '2017-01-01 00:00:00')\n",
      "  ...\n",
      "  ('MDA', 'Moldova', 'Eastern Europe and West-Central Asia', 'Eurasia', 'Eurasia', 'developed', 'Industry', 'Metals', 'CO2', 1, 20560.0, 't CO2e', TIMESTAMP '2002-01-01 00:00:00')\n",
      "batch insert result: [(10000,)]\n",
      "inserting 10000 records\n",
      "  ('MDA', 'Moldova', 'Eastern Europe and West-Central Asia', 'Eurasia', 'Eurasia', 'developed', 'Industry', 'Other (industry)', 'CO2', 1, 528253.5, 't CO2e', TIMESTAMP '2002-01-01 00:00:00')\n",
      "  ('MDA', 'Moldova', 'Eastern Europe and West-Central Asia', 'Eurasia', 'Eurasia', 'developed', 'Industry', 'Other (industry)', 'CH4', 28, 11.39345, 't CO2e', TIMESTAMP '2002-01-01 00:00:00')\n",
      "  ('MDA', 'Moldova', 'Eastern Europe and West-Central Asia', 'Eurasia', 'Eurasia', 'developed', 'Industry', 'Other (industry)', 'N2O', 265, 1.3737917, 't CO2e', TIMESTAMP '2002-01-01 00:00:00')\n",
      "  ...\n",
      "  ('MKD', 'Macedonia, FYR', 'Eastern Europe and West-Central Asia', 'Eurasia', 'Eurasia', 'developed', 'Transport', 'Road', 'N2O', 265, 22.822334, 't CO2e', TIMESTAMP '1990-01-01 00:00:00')\n",
      "batch insert result: [(10000,)]\n",
      "inserting 10000 records\n",
      "  ('MKD', 'Macedonia, FYR', 'Eastern Europe and West-Central Asia', 'Eurasia', 'Eurasia', 'developed', 'AFOLU', 'Biomass burning (CH4, N2O)', 'CH4', 28, 322.5191365, 't CO2e', TIMESTAMP '1991-01-01 00:00:00')\n",
      "  ('MKD', 'Macedonia, FYR', 'Eastern Europe and West-Central Asia', 'Eurasia', 'Eurasia', 'developed', 'AFOLU', 'Biomass burning (CH4, N2O)', 'N2O', 265, 8.36160022, 't CO2e', TIMESTAMP '1991-01-01 00:00:00')\n",
      "  ('MKD', 'Macedonia, FYR', 'Eastern Europe and West-Central Asia', 'Eurasia', 'Eurasia', 'developed', 'AFOLU', 'Enteric Fermentation (CH4)', 'CH4', 28, 42971.249, 't CO2e', TIMESTAMP '1991-01-01 00:00:00')\n",
      "  ...\n",
      "  ('MNG', 'Mongolia', 'Asia and developing Pacific', 'Eastern Asia', 'Eastern Asia', 'developing', 'AFOLU', 'Biomass burning (CH4, N2O)', 'CH4', 28, 44.55711, 't CO2e', TIMESTAMP '1987-01-01 00:00:00')\n",
      "batch insert result: [(10000,)]\n",
      "inserting 10000 records\n",
      "  ('MNG', 'Mongolia', 'Asia and developing Pacific', 'Eastern Asia', 'Eastern Asia', 'developing', 'AFOLU', 'Biomass burning (CH4, N2O)', 'N2O', 265, 1.1551843, 't CO2e', TIMESTAMP '1987-01-01 00:00:00')\n",
      "  ('MNG', 'Mongolia', 'Asia and developing Pacific', 'Eastern Asia', 'Eastern Asia', 'developing', 'AFOLU', 'Enteric Fermentation (CH4)', 'CH4', 28, 269910.265, 't CO2e', TIMESTAMP '1987-01-01 00:00:00')\n",
      "  ('MNG', 'Mongolia', 'Asia and developing Pacific', 'Eastern Asia', 'Eastern Asia', 'developing', 'AFOLU', 'Managed soils and pasture (CO2, N2O)', 'CO2', 1, 3992.71, 't CO2e', TIMESTAMP '1987-01-01 00:00:00')\n",
      "  ...\n",
      "  ('MUS', 'Mauritius', 'Africa', 'Africa', 'Eastern Africa', 'developing', 'AFOLU', 'Biomass burning (CH4, N2O)', 'CH4', 28, 503.9513947, 't CO2e', TIMESTAMP '1978-01-01 00:00:00')\n",
      "batch insert result: [(10000,)]\n",
      "inserting 10000 records\n",
      "  ('MUS', 'Mauritius', 'Africa', 'Africa', 'Eastern Africa', 'developing', 'AFOLU', 'Biomass burning (CH4, N2O)', 'N2O', 265, 13.065376887, 't CO2e', TIMESTAMP '1978-01-01 00:00:00')\n",
      "  ('MUS', 'Mauritius', 'Africa', 'Africa', 'Eastern Africa', 'developing', 'AFOLU', 'Enteric Fermentation (CH4)', 'CH4', 28, 1362.009, 't CO2e', TIMESTAMP '1978-01-01 00:00:00')\n",
      "  ('MUS', 'Mauritius', 'Africa', 'Africa', 'Eastern Africa', 'developing', 'AFOLU', 'Managed soils and pasture (CO2, N2O)', 'CO2', 1, 4840.0, 't CO2e', TIMESTAMP '1978-01-01 00:00:00')\n",
      "  ...\n",
      "  ('NCL', 'New Caledonia', 'Asia and developing Pacific', 'South-East Asia and developing Pacific', 'Developing Pacific', 'developing', 'AFOLU', 'Biomass burning (CH4, N2O)', 'CH4', 28, 3.6578805, 't CO2e', TIMESTAMP '1984-01-01 00:00:00')\n",
      "batch insert result: [(10000,)]\n",
      "inserting 10000 records\n",
      "  ('NCL', 'New Caledonia', 'Asia and developing Pacific', 'South-East Asia and developing Pacific', 'Developing Pacific', 'developing', 'AFOLU', 'Biomass burning (CH4, N2O)', 'N2O', 265, 0.094834, 't CO2e', TIMESTAMP '1984-01-01 00:00:00')\n",
      "  ('NCL', 'New Caledonia', 'Asia and developing Pacific', 'South-East Asia and developing Pacific', 'Developing Pacific', 'developing', 'AFOLU', 'Enteric Fermentation (CH4)', 'CH4', 28, 7261.527, 't CO2e', TIMESTAMP '1984-01-01 00:00:00')\n",
      "  ('NCL', 'New Caledonia', 'Asia and developing Pacific', 'South-East Asia and developing Pacific', 'Developing Pacific', 'developing', 'AFOLU', 'Managed soils and pasture (CO2, N2O)', 'CO2', 1, 53.9286, 't CO2e', TIMESTAMP '1984-01-01 00:00:00')\n",
      "  ...\n",
      "  ('NIU', 'Niue', 'Asia and developing Pacific', 'South-East Asia and developing Pacific', 'Developing Pacific', 'developing', 'AFOLU', 'Manure management (N2O, CH4)', 'CH4', 28, 27.43, 't CO2e', TIMESTAMP '2013-01-01 00:00:00')\n",
      "batch insert result: [(10000,)]\n",
      "inserting 10000 records\n",
      "  ('NIU', 'Niue', 'Asia and developing Pacific', 'South-East Asia and developing Pacific', 'Developing Pacific', 'developing', 'AFOLU', 'Manure management (N2O, CH4)', 'N2O', 265, 0.21451482, 't CO2e', TIMESTAMP '2013-01-01 00:00:00')\n",
      "  ('NIU', 'Niue', 'Asia and developing Pacific', 'South-East Asia and developing Pacific', 'Developing Pacific', 'developing', 'Buildings', 'Residential', 'CH4', 28, 0.0177, 't CO2e', TIMESTAMP '2013-01-01 00:00:00')\n",
      "  ('NIU', 'Niue', 'Asia and developing Pacific', 'South-East Asia and developing Pacific', 'Developing Pacific', 'developing', 'Buildings', 'Residential', 'N2O', 265, 8.85e-05, 't CO2e', TIMESTAMP '2013-01-01 00:00:00')\n",
      "  ...\n",
      "  ('NPL', 'Nepal', 'Asia and developing Pacific', 'Southern Asia', 'Rest of Southern Asia', 'ldc', 'Industry', 'Other (industry)', 'N2O', 265, 9.50366, 't CO2e', TIMESTAMP '1986-01-01 00:00:00')\n",
      "batch insert result: [(10000,)]\n",
      "inserting 10000 records\n",
      "  ('NPL', 'Nepal', 'Asia and developing Pacific', 'Southern Asia', 'Rest of Southern Asia', 'ldc', 'Industry', 'Waste', 'CH4', 28, 74502.50877, 't CO2e', TIMESTAMP '1986-01-01 00:00:00')\n",
      "  ('NPL', 'Nepal', 'Asia and developing Pacific', 'Southern Asia', 'Rest of Southern Asia', 'ldc', 'Industry', 'Waste', 'N2O', 265, 525.315, 't CO2e', TIMESTAMP '1986-01-01 00:00:00')\n",
      "  ('NPL', 'Nepal', 'Asia and developing Pacific', 'Southern Asia', 'Rest of Southern Asia', 'ldc', 'Transport', 'Other (transport)', 'CO2', 1, 64763.4, 't CO2e', TIMESTAMP '1986-01-01 00:00:00')\n",
      "  ...\n",
      "  ('PAK', 'Pakistan', 'Asia and developing Pacific', 'Southern Asia', 'Rest of Southern Asia', 'developing', 'Industry', 'Other (industry)', 'CH4', 28, 4188.965, 't CO2e', TIMESTAMP '1998-01-01 00:00:00')\n",
      "batch insert result: [(10000,)]\n",
      "inserting 10000 records\n",
      "  ('PAK', 'Pakistan', 'Asia and developing Pacific', 'Southern Asia', 'Rest of Southern Asia', 'developing', 'Industry', 'Other (industry)', 'N2O', 265, 832.5776, 't CO2e', TIMESTAMP '1998-01-01 00:00:00')\n",
      "  ('PAK', 'Pakistan', 'Asia and developing Pacific', 'Southern Asia', 'Rest of Southern Asia', 'developing', 'Industry', 'Other (industry)', 'HFC-125', 3170, 0.825816, 't CO2e', TIMESTAMP '1998-01-01 00:00:00')\n",
      "  ('PAK', 'Pakistan', 'Asia and developing Pacific', 'Southern Asia', 'Rest of Southern Asia', 'developing', 'Industry', 'Other (industry)', 'HFC-134a', 1300, 116.85453, 't CO2e', TIMESTAMP '1998-01-01 00:00:00')\n",
      "  ...\n",
      "  ('PHL', 'Philippines', 'Asia and developing Pacific', 'South-East Asia and developing Pacific', 'South-East Asia', 'developing', 'Buildings', 'Non-residential', 'CO2', 1, 6416067.0, 't CO2e', TIMESTAMP '2019-01-01 00:00:00')\n",
      "batch insert result: [(10000,)]\n",
      "inserting 10000 records\n",
      "  ('PHL', 'Philippines', 'Asia and developing Pacific', 'South-East Asia and developing Pacific', 'South-East Asia', 'developing', 'Buildings', 'Non-residential', 'CH4', 28, 4466.08727467629, 't CO2e', TIMESTAMP '2019-01-01 00:00:00')\n",
      "  ('PHL', 'Philippines', 'Asia and developing Pacific', 'South-East Asia and developing Pacific', 'South-East Asia', 'developing', 'Buildings', 'Non-residential', 'N2O', 265, 80.0267284838512, 't CO2e', TIMESTAMP '2019-01-01 00:00:00')\n",
      "  ('PHL', 'Philippines', 'Asia and developing Pacific', 'South-East Asia and developing Pacific', 'South-East Asia', 'developing', 'Buildings', 'Residential', 'CO2', 1, 3190983.0, 't CO2e', TIMESTAMP '2019-01-01 00:00:00')\n",
      "  ...\n",
      "  ('PRK', 'Korea, Dem. People''s Rep.', 'Asia and developing Pacific', 'Eastern Asia', 'Eastern Asia', 'developing', 'Industry', 'Other (industry)', 'CO2', 1, 53399130.0, 't CO2e', TIMESTAMP '1978-01-01 00:00:00')\n",
      "batch insert result: [(10000,)]\n",
      "inserting 10000 records\n",
      "  ('PRK', 'Korea, Dem. People''s Rep.', 'Asia and developing Pacific', 'Eastern Asia', 'Eastern Asia', 'developing', 'Industry', 'Other (industry)', 'CH4', 28, 5557.585, 't CO2e', TIMESTAMP '1978-01-01 00:00:00')\n",
      "  ('PRK', 'Korea, Dem. People''s Rep.', 'Asia and developing Pacific', 'Eastern Asia', 'Eastern Asia', 'developing', 'Industry', 'Other (industry)', 'N2O', 265, 866.6237, 't CO2e', TIMESTAMP '1978-01-01 00:00:00')\n",
      "  ('PRK', 'Korea, Dem. People''s Rep.', 'Asia and developing Pacific', 'Eastern Asia', 'Eastern Asia', 'developing', 'Industry', 'Other (industry)', 'HCFC-141b', 782, 0.0, 't CO2e', TIMESTAMP '1978-01-01 00:00:00')\n",
      "  ...\n",
      "  ('PYF', 'French Polynesia', 'Asia and developing Pacific', 'South-East Asia and developing Pacific', 'Developing Pacific', 'developing', 'Transport', 'Domestic Aviation', 'N2O', 265, 1.6403681, 't CO2e', TIMESTAMP '1999-01-01 00:00:00')\n",
      "batch insert result: [(10000,)]\n",
      "inserting 10000 records\n",
      "  ('PYF', 'French Polynesia', 'Asia and developing Pacific', 'South-East Asia and developing Pacific', 'Developing Pacific', 'developing', 'Transport', 'Inland Shipping', 'CO2', 1, 8115.36, 't CO2e', TIMESTAMP '1999-01-01 00:00:00')\n",
      "  ('PYF', 'French Polynesia', 'Asia and developing Pacific', 'South-East Asia and developing Pacific', 'Developing Pacific', 'developing', 'Transport', 'Inland Shipping', 'CH4', 28, 0.774224, 't CO2e', TIMESTAMP '1999-01-01 00:00:00')\n",
      "  ('PYF', 'French Polynesia', 'Asia and developing Pacific', 'South-East Asia and developing Pacific', 'Developing Pacific', 'developing', 'Transport', 'Inland Shipping', 'N2O', 265, 0.221207, 't CO2e', TIMESTAMP '1999-01-01 00:00:00')\n",
      "  ...\n",
      "  ('RUS', 'Russian Federation', 'Eastern Europe and West-Central Asia', 'Eurasia', 'Eurasia', 'developed', 'Buildings', 'Non-CO2 (all buildings)', 'HFC-236fa', 8060, 0.0, 't CO2e', TIMESTAMP '1975-01-01 00:00:00')\n",
      "batch insert result: [(10000,)]\n",
      "inserting 10000 records\n",
      "  ('RUS', 'Russian Federation', 'Eastern Europe and West-Central Asia', 'Eurasia', 'Eurasia', 'developed', 'Buildings', 'Non-residential', 'CO2', 1, 103130520.0, 't CO2e', TIMESTAMP '1975-01-01 00:00:00')\n",
      "  ('RUS', 'Russian Federation', 'Eastern Europe and West-Central Asia', 'Eurasia', 'Eurasia', 'developed', 'Buildings', 'Non-residential', 'CH4', 28, 27929.88, 't CO2e', TIMESTAMP '1975-01-01 00:00:00')\n",
      "  ('RUS', 'Russian Federation', 'Eastern Europe and West-Central Asia', 'Eurasia', 'Eurasia', 'developed', 'Buildings', 'Non-residential', 'N2O', 265, 1732.9705, 't CO2e', TIMESTAMP '1975-01-01 00:00:00')\n",
      "  ...\n",
      "  ('SCG', 'Serbia and Montenegro', 'Eastern Europe and West-Central Asia', 'Eurasia', 'Eurasia', 'developed', 'AFOLU', 'Enteric Fermentation (CH4)', 'CH4', 28, 264474.73, 't CO2e', TIMESTAMP '1985-01-01 00:00:00')\n",
      "batch insert result: [(10000,)]\n",
      "inserting 10000 records\n",
      "  ('SCG', 'Serbia and Montenegro', 'Eastern Europe and West-Central Asia', 'Eurasia', 'Eurasia', 'developed', 'AFOLU', 'Managed soils and pasture (CO2, N2O)', 'CO2', 1, 90302.361, 't CO2e', TIMESTAMP '1985-01-01 00:00:00')\n",
      "  ('SCG', 'Serbia and Montenegro', 'Eastern Europe and West-Central Asia', 'Eurasia', 'Eurasia', 'developed', 'AFOLU', 'Managed soils and pasture (CO2, N2O)', 'N2O', 265, 9598.04227, 't CO2e', TIMESTAMP '1985-01-01 00:00:00')\n",
      "  ('SCG', 'Serbia and Montenegro', 'Eastern Europe and West-Central Asia', 'Eurasia', 'Eurasia', 'developed', 'AFOLU', 'Manure management (N2O, CH4)', 'CH4', 28, 51218.8978, 't CO2e', TIMESTAMP '1985-01-01 00:00:00')\n",
      "  ...\n",
      "  ('SGP', 'Singapore', 'Asia and developing Pacific', 'South-East Asia and developing Pacific', 'South-East Asia', 'developing', 'Industry', 'Other (industry)', 'CH4', 28, 217.069725, 't CO2e', TIMESTAMP '2018-01-01 00:00:00')\n",
      "batch insert result: [(10000,)]\n",
      "inserting 10000 records\n",
      "  ('SGP', 'Singapore', 'Asia and developing Pacific', 'South-East Asia and developing Pacific', 'South-East Asia', 'developing', 'Industry', 'Other (industry)', 'N2O', 265, 34.7525955, 't CO2e', TIMESTAMP '2018-01-01 00:00:00')\n",
      "  ('SGP', 'Singapore', 'Asia and developing Pacific', 'South-East Asia and developing Pacific', 'South-East Asia', 'developing', 'Industry', 'Other (industry)', 'c-C4F8', 9540, 2.749876, 't CO2e', TIMESTAMP '2018-01-01 00:00:00')\n",
      "  ('SGP', 'Singapore', 'Asia and developing Pacific', 'South-East Asia and developing Pacific', 'South-East Asia', 'developing', 'Industry', 'Other (industry)', 'C2F6', 11100, 48.170046, 't CO2e', TIMESTAMP '2018-01-01 00:00:00')\n",
      "  ...\n",
      "  ('SOM', 'Somalia', 'Africa', 'Africa', 'Eastern Africa', 'ldc', 'Buildings', 'Residential', 'N2O', 265, 611.3108914, 't CO2e', TIMESTAMP '2009-01-01 00:00:00')\n",
      "batch insert result: [(10000,)]\n",
      "inserting 10000 records\n",
      "  ('SOM', 'Somalia', 'Africa', 'Africa', 'Eastern Africa', 'ldc', 'Energy systems', 'Electricity & heat', 'CO2', 1, 156694.63, 't CO2e', TIMESTAMP '2009-01-01 00:00:00')\n",
      "  ('SOM', 'Somalia', 'Africa', 'Africa', 'Eastern Africa', 'ldc', 'Energy systems', 'Electricity & heat', 'CH4', 28, 2.64756583, 't CO2e', TIMESTAMP '2009-01-01 00:00:00')\n",
      "  ('SOM', 'Somalia', 'Africa', 'Africa', 'Eastern Africa', 'ldc', 'Energy systems', 'Electricity & heat', 'N2O', 265, 0.859895383, 't CO2e', TIMESTAMP '2009-01-01 00:00:00')\n",
      "  ...\n",
      "  ('SVK', 'Slovak Republic', 'Developed Countries', 'Europe', 'Southern and eastern Europe', 'developed', 'Industry', 'Metals', 'CH4', 30, 2375.38696765639, 't CO2e', TIMESTAMP '2019-01-01 00:00:00')\n",
      "batch insert result: [(10000,)]\n",
      "inserting 10000 records\n",
      "  ('SVK', 'Slovak Republic', 'Developed Countries', 'Europe', 'Southern and eastern Europe', 'developed', 'Industry', 'Metals', 'N2O', 265, 18.7754146745495, 't CO2e', TIMESTAMP '2019-01-01 00:00:00')\n",
      "  ('SVK', 'Slovak Republic', 'Developed Countries', 'Europe', 'Southern and eastern Europe', 'developed', 'Industry', 'Metals', 'C2F6', 11100, 0.3133548, 't CO2e', TIMESTAMP '2019-01-01 00:00:00')\n",
      "  ('SVK', 'Slovak Republic', 'Developed Countries', 'Europe', 'Southern and eastern Europe', 'developed', 'Industry', 'Metals', 'CF4', 6630, 3.2902254, 't CO2e', TIMESTAMP '2019-01-01 00:00:00')\n",
      "  ...\n",
      "  ('SWZ', 'Swaziland', 'Africa', 'Africa', 'Southern and middle Africa', 'developing', 'Industry', 'Other (industry)', 'N2O', 265, 19.15049369, 't CO2e', TIMESTAMP '1999-01-01 00:00:00')\n",
      "batch insert result: [(10000,)]\n",
      "inserting 10000 records\n",
      "  ('SWZ', 'Swaziland', 'Africa', 'Africa', 'Southern and middle Africa', 'developing', 'Industry', 'Waste', 'CH4', 28, 18777.89662262, 't CO2e', TIMESTAMP '1999-01-01 00:00:00')\n",
      "  ('SWZ', 'Swaziland', 'Africa', 'Africa', 'Southern and middle Africa', 'developing', 'Industry', 'Waste', 'N2O', 265, 39.6929, 't CO2e', TIMESTAMP '1999-01-01 00:00:00')\n",
      "  ('SWZ', 'Swaziland', 'Africa', 'Africa', 'Southern and middle Africa', 'developing', 'Transport', 'Domestic Aviation', 'CO2', 1, 55746.588, 't CO2e', TIMESTAMP '1999-01-01 00:00:00')\n",
      "  ...\n",
      "  ('TGO', 'Togo', 'Africa', 'Africa', 'Western Africa', 'ldc', 'Transport', 'Road', 'CO2', 1, 643238.53, 't CO2e', TIMESTAMP '2004-01-01 00:00:00')\n",
      "batch insert result: [(10000,)]\n",
      "inserting 10000 records\n",
      "  ('TGO', 'Togo', 'Africa', 'Africa', 'Western Africa', 'ldc', 'Transport', 'Road', 'CH4', 28, 167.903947, 't CO2e', TIMESTAMP '2004-01-01 00:00:00')\n",
      "  ('TGO', 'Togo', 'Africa', 'Africa', 'Western Africa', 'ldc', 'Transport', 'Road', 'N2O', 265, 13.5013304, 't CO2e', TIMESTAMP '2004-01-01 00:00:00')\n",
      "  ('TGO', 'Togo', 'Africa', 'Africa', 'Western Africa', 'ldc', 'AFOLU', 'Biomass burning (CH4, N2O)', 'CH4', 28, 926.369768, 't CO2e', TIMESTAMP '2005-01-01 00:00:00')\n",
      "  ...\n",
      "  ('TLS', 'Timor-Leste', 'Asia and developing Pacific', 'South-East Asia and developing Pacific', 'South-East Asia', 'ldc', 'Industry', 'Other (industry)', 'CO2', 1, 54607.531, 't CO2e', TIMESTAMP '2015-01-01 00:00:00')\n",
      "batch insert result: [(10000,)]\n",
      "inserting 10000 records\n",
      "  ('TLS', 'Timor-Leste', 'Asia and developing Pacific', 'South-East Asia and developing Pacific', 'South-East Asia', 'ldc', 'Industry', 'Other (industry)', 'CH4', 28, 4.5787621, 't CO2e', TIMESTAMP '2015-01-01 00:00:00')\n",
      "  ('TLS', 'Timor-Leste', 'Asia and developing Pacific', 'South-East Asia and developing Pacific', 'South-East Asia', 'ldc', 'Industry', 'Other (industry)', 'N2O', 265, 0.74851635, 't CO2e', TIMESTAMP '2015-01-01 00:00:00')\n",
      "  ('TLS', 'Timor-Leste', 'Asia and developing Pacific', 'South-East Asia and developing Pacific', 'South-East Asia', 'ldc', 'Industry', 'Waste', 'CO2', 1, 131.029, 't CO2e', TIMESTAMP '2015-01-01 00:00:00')\n",
      "  ...\n",
      "  ('TUR', 'Turkey', 'Developed Countries', 'Europe', 'Southern and eastern Europe', 'developed', 'Transport', 'Domestic Aviation', 'CH4', 28, 15.50149, 't CO2e', TIMESTAMP '2000-01-01 00:00:00')\n",
      "batch insert result: [(10000,)]\n",
      "inserting 10000 records\n",
      "  ('TUR', 'Turkey', 'Developed Countries', 'Europe', 'Southern and eastern Europe', 'developed', 'Transport', 'Domestic Aviation', 'N2O', 265, 62.00598, 't CO2e', TIMESTAMP '2000-01-01 00:00:00')\n",
      "  ('TUR', 'Turkey', 'Developed Countries', 'Europe', 'Southern and eastern Europe', 'developed', 'Transport', 'Inland Shipping', 'CO2', 1, 610089.0, 't CO2e', TIMESTAMP '2000-01-01 00:00:00')\n",
      "  ('TUR', 'Turkey', 'Developed Countries', 'Europe', 'Southern and eastern Europe', 'developed', 'Transport', 'Inland Shipping', 'CH4', 28, 56.511, 't CO2e', TIMESTAMP '2000-01-01 00:00:00')\n",
      "  ...\n",
      "  ('UKR', 'Ukraine', 'Developed Countries', 'Europe', 'Southern and eastern Europe', 'developed', 'Transport', 'Other (transport)', 'CH4', 28, 2873.53, 't CO2e', TIMESTAMP '1974-01-01 00:00:00')\n",
      "batch insert result: [(10000,)]\n",
      "inserting 10000 records\n",
      "  ('UKR', 'Ukraine', 'Developed Countries', 'Europe', 'Southern and eastern Europe', 'developed', 'Transport', 'Other (transport)', 'N2O', 265, 2822.0772, 't CO2e', TIMESTAMP '1974-01-01 00:00:00')\n",
      "  ('UKR', 'Ukraine', 'Developed Countries', 'Europe', 'Southern and eastern Europe', 'developed', 'Transport', 'Rail ', 'CO2', 1, 3911740.0, 't CO2e', TIMESTAMP '1974-01-01 00:00:00')\n",
      "  ('UKR', 'Ukraine', 'Developed Countries', 'Europe', 'Southern and eastern Europe', 'developed', 'Transport', 'Rail ', 'CH4', 28, 219.079, 't CO2e', TIMESTAMP '1974-01-01 00:00:00')\n",
      "  ...\n",
      "  ('USA', 'United States', 'Developed Countries', 'North America', 'USA & Canada', 'developed', 'Industry', 'Other (industry)', 'N2O', 265, 7775.9917, 't CO2e', TIMESTAMP '2004-01-01 00:00:00')\n",
      "batch insert result: [(10000,)]\n",
      "inserting 10000 records\n",
      "  ('USA', 'United States', 'Developed Countries', 'North America', 'USA & Canada', 'developed', 'Industry', 'Other (industry)', 'c-C4F8', 9540, 8.314488, 't CO2e', TIMESTAMP '2004-01-01 00:00:00')\n",
      "  ('USA', 'United States', 'Developed Countries', 'North America', 'USA & Canada', 'developed', 'Industry', 'Other (industry)', 'C2F6', 11100, 181.9924797, 't CO2e', TIMESTAMP '2004-01-01 00:00:00')\n",
      "  ('USA', 'United States', 'Developed Countries', 'North America', 'USA & Canada', 'developed', 'Industry', 'Other (industry)', 'C3F8', 8900, 9.143919, 't CO2e', TIMESTAMP '2004-01-01 00:00:00')\n",
      "  ...\n",
      "  ('VGB', 'British Virgin Islands', 'Latin America and Caribbean', 'Latin America and Caribbean', 'Caribbean', 'developing', 'Energy systems', 'Electricity & heat', 'N2O', 265, 0.176498264, 't CO2e', TIMESTAMP '1997-01-01 00:00:00')\n",
      "batch insert result: [(10000,)]\n",
      "inserting 10000 records\n",
      "  ('VGB', 'British Virgin Islands', 'Latin America and Caribbean', 'Latin America and Caribbean', 'Caribbean', 'developing', 'Energy systems', 'Other (energy systems)', 'CO2', 1, 13467.7808, 't CO2e', TIMESTAMP '1997-01-01 00:00:00')\n",
      "  ('VGB', 'British Virgin Islands', 'Latin America and Caribbean', 'Latin America and Caribbean', 'Caribbean', 'developing', 'Energy systems', 'Other (energy systems)', 'CH4', 28, 2.0380768, 't CO2e', TIMESTAMP '1997-01-01 00:00:00')\n",
      "  ('VGB', 'British Virgin Islands', 'Latin America and Caribbean', 'Latin America and Caribbean', 'Caribbean', 'developing', 'Energy systems', 'Other (energy systems)', 'N2O', 265, 3.4226705236, 't CO2e', TIMESTAMP '1997-01-01 00:00:00')\n",
      "  ...\n",
      "  ('ZAF', 'South Africa', 'Africa', 'Africa', 'Southern and middle Africa', 'developing', 'Industry', 'Metals', 'CH4', 28, 2420.412, 't CO2e', TIMESTAMP '1973-01-01 00:00:00')\n",
      "batch insert result: [(10000,)]\n",
      "inserting 8341 records\n",
      "  ('ZAF', 'South Africa', 'Africa', 'Africa', 'Southern and middle Africa', 'developing', 'Industry', 'Metals', 'CH4', 30, 14330.618, 't CO2e', TIMESTAMP '1973-01-01 00:00:00')\n",
      "  ('ZAF', 'South Africa', 'Africa', 'Africa', 'Southern and middle Africa', 'developing', 'Industry', 'Metals', 'N2O', 265, 359.9747, 't CO2e', TIMESTAMP '1973-01-01 00:00:00')\n",
      "  ('ZAF', 'South Africa', 'Africa', 'Africa', 'Southern and middle Africa', 'developing', 'Industry', 'Metals', 'C2F6', 11100, 2.134953, 't CO2e', TIMESTAMP '1973-01-01 00:00:00')\n",
      "  ...\n",
      "  ('ZWE', 'Zimbabwe', 'Africa', 'Africa', 'Eastern Africa', 'developing', 'Transport', 'Road', 'CO2', 1, 2236932.3, 't CO2e', TIMESTAMP '2020-01-01 00:00:00')\n",
      "batch insert result: [(8341,)]\n"
     ]
    }
   ],
   "source": [
    "create_essd_table('ghg_data', essd_data_df, \"array['year']\")\n",
    "del(essd_data_df)"
   ]
  },
  {
   "cell_type": "markdown",
   "id": "40a88136-839c-4187-bd75-8a1da7da343b",
   "metadata": {},
   "source": [
    "Verify that we can restore data and metadata"
   ]
  },
  {
   "cell_type": "markdown",
   "id": "81b90213-e3e3-4cc2-bd74-e4ed0d2946b4",
   "metadata": {},
   "source": [
    "Grab Sector, Region, 100yr GWPs, and GH4_gwps from one of the two main ESSD data tables (they are the same in both)."
   ]
  },
  {
   "cell_type": "code",
   "execution_count": 14,
   "id": "341b9cfe-c646-4721-b287-48add08422f8",
   "metadata": {},
   "outputs": [],
   "source": [
    "custom_meta_content = {\n",
    "    'title': 'Earth System Science Data (ESSD) Sector Classification',\n",
    "    'author': essd_content_df[['Author & contact']].squeeze(),\n",
    "    'contact': essd_content_df[['Author & contact']].squeeze(),\n",
    "    'description': essd_content_df[['Sectors']].squeeze(),\n",
    "    'release_date': essd_content_df[['Last date of compilation']].squeeze(),\n",
    "    # How should we describe our transformative step here?\n",
    "}\n",
    "\n",
    "custom_meta_fields = None"
   ]
  },
  {
   "cell_type": "code",
   "execution_count": 15,
   "id": "406b928c-5379-4db4-8364-2f53a550b6e8",
   "metadata": {},
   "outputs": [
    {
     "data": {
      "text/plain": [
       "Index(['EDGAR_code', 'fossil_bio', 'sector_title', 'description',\n",
       "       'subsector_title', 'IPCC_2006'],\n",
       "      dtype='object')"
      ]
     },
     "metadata": {},
     "output_type": "display_data"
    },
    {
     "name": "stdout",
     "output_type": "stream",
     "text": [
      "\n",
      "create table if not exists osc_datacommons_dev.sandbox.essd_sectors(\n",
      "    EDGAR_code varchar,\n",
      "    fossil_bio varchar,\n",
      "    sector_title varchar,\n",
      "    description varchar,\n",
      "    subsector_title varchar,\n",
      "    IPCC_2006 varchar\n",
      ") with (\n",
      "\n",
      "format = 'ORC'\n",
      ")\n",
      "\n",
      "[(True,)]\n",
      "constructed fully qualified table name as: \"sandbox.essd_sectors\"\n",
      "inserting 208 records\n",
      "  ('1A1a1', 'bio', 'Energy systems', 'Public Electricity Generation (biomass)', 'Electricity & heat', '1.A.1.a.i')\n",
      "  ('1A1a1', 'fossil', 'Energy systems', 'Public Electricity Generation ', 'Electricity & heat', '1.A.1.a.i')\n",
      "  ('1A1a2', 'bio', 'Energy systems', 'Public Combined Heat and Power gen. (biom.)', 'Electricity & heat', '1.A.1.a.ii')\n",
      "  ...\n",
      "  ('7C2', 'fossil', 'Industry', 'Indirect N2O from NH3 emitted in cat. 2-3', 'Other (industry)', '5.A')\n",
      "batch insert result: [(208,)]\n"
     ]
    }
   ],
   "source": [
    "essd_sectors_df = pd.read_excel(essd_tmpfile, sheet_name='sector_classification',\n",
    "                                # nrows=10,\n",
    "                                engine='openpyxl').convert_dtypes()\n",
    "display(essd_sectors_df.columns)\n",
    "\n",
    "create_essd_table('sectors', essd_sectors_df)"
   ]
  },
  {
   "cell_type": "code",
   "execution_count": 16,
   "id": "816c3136-b860-496b-985e-65f8be8f9a5d",
   "metadata": {},
   "outputs": [
    {
     "data": {
      "text/plain": [
       "Index(['ISO', 'name', 'region_ar6_6', 'region_ar6_10', 'region_ar6_22',\n",
       "       'region_ar6_dev'],\n",
       "      dtype='object')"
      ]
     },
     "metadata": {},
     "output_type": "display_data"
    },
    {
     "name": "stdout",
     "output_type": "stream",
     "text": [
      "\n",
      "create table if not exists osc_datacommons_dev.sandbox.essd_regions(\n",
      "    ISO varchar,\n",
      "    name varchar,\n",
      "    region_ar6_6 varchar,\n",
      "    region_ar6_10 varchar,\n",
      "    region_ar6_22 varchar,\n",
      "    region_ar6_dev varchar\n",
      ") with (\n",
      "\n",
      "format = 'ORC'\n",
      ")\n",
      "\n",
      "[(True,)]\n",
      "constructed fully qualified table name as: \"sandbox.essd_regions\"\n",
      "inserting 250 records\n",
      "  ('AFG', 'Afghanistan', 'Asia and developing Pacific', 'Southern Asia', 'Rest of Southern Asia', 'ldc')\n",
      "  ('ALA', 'Åland Islands', 'Developed Countries', 'Europe', 'Northern and western Europe', 'developed')\n",
      "  ('ALB', 'Albania', 'Developed Countries', 'Europe', 'Southern and eastern Europe', 'developed')\n",
      "  ...\n",
      "  ('SCG', 'Serbia and Montenegro', 'Eastern Europe and West-Central Asia', 'Eurasia', 'Eurasia', 'developed')\n",
      "batch insert result: [(250,)]\n"
     ]
    }
   ],
   "source": [
    "essd_regions_df = pd.read_excel(essd_tmpfile, sheet_name='region_classification',\n",
    "                                # nrows=10,\n",
    "                                engine='openpyxl').convert_dtypes()\n",
    "display(essd_regions_df.columns)\n",
    "\n",
    "create_essd_table('regions', essd_regions_df)"
   ]
  },
  {
   "cell_type": "code",
   "execution_count": 17,
   "id": "281f95dc-bc29-4257-841d-120ad40aad2a",
   "metadata": {},
   "outputs": [],
   "source": [
    "custom_meta_content = {\n",
    "    'title': 'Earth System Science Data (ESSD) Region Classification',\n",
    "    'author': essd_content_df[['Author & contact']].squeeze(),\n",
    "    'contact': essd_content_df[['Author & contact']].squeeze(),\n",
    "    'description': essd_content_df[['Regions']].squeeze(),\n",
    "    'release_date': essd_content_df[['Last date of compilation']].squeeze(),\n",
    "    # How should we describe our transformative step here?\n",
    "}\n",
    "\n",
    "custom_meta_fields = None"
   ]
  },
  {
   "cell_type": "markdown",
   "id": "e1821108-8a37-498b-b72b-7fc1bca07b97",
   "metadata": {},
   "source": [
    "Now deal with the gas species.  We'll annotate our dataframe with PINT units"
   ]
  },
  {
   "cell_type": "code",
   "execution_count": 18,
   "id": "b8dc2fa6-9ee1-4fd6-a4e3-1726181ef786",
   "metadata": {},
   "outputs": [
    {
     "data": {
      "text/plain": [
       "Index(['gas', 'gwp_ar5'], dtype='object')"
      ]
     },
     "metadata": {},
     "output_type": "display_data"
    }
   ],
   "source": [
    "essd_gwp_df = pd.read_excel(essd_tmpfile, sheet_name='100_yr_gwps',\n",
    "                            # nrows=10,\n",
    "                            dtype={'gwp_ar5':'int32'}, engine='openpyxl')\n",
    "\n",
    "display(essd_gwp_df.columns)"
   ]
  },
  {
   "cell_type": "code",
   "execution_count": 19,
   "id": "b346e53b-2c30-48d8-93f2-c826e65589d8",
   "metadata": {},
   "outputs": [],
   "source": [
    "ureg.define(\"CH4_Combustion = nan CH4\")\n",
    "ureg.define(\"CH4_Fugitive = nan CH4\")\n",
    "ureg.define(\"CH4_Process = nan CH4\")\n",
    "\n",
    "ch4_dict = {\n",
    "    'CH4 Biogenic': 'CH4',\n",
    "    'CH4 Fossil (Combustion)': 'CH4_Combustion',\n",
    "    'CH4 Fossil (Fugitive)': 'CH4_Fugitive',\n",
    "    'CH4 Fossil (Process)': 'CH4_Process'\n",
    "}\n",
    "\n",
    "def convert_gas_to_pint_species(s):\n",
    "    \"\"\"For a series S of gas species, return the species name known to pint\"\"\"\n",
    "    return [ch4_dict[g] if g in ch4_dict else g.replace('c-', 'C').replace('-','') for g in s.tolist()]\n",
    "\n",
    "essd_gwp_df = essd_gwp_df.assign(units=lambda x: convert_gas_to_pint_species(x.gas)).convert_dtypes()"
   ]
  },
  {
   "cell_type": "code",
   "execution_count": 20,
   "id": "b61246f4-a441-4491-bb8d-920447730812",
   "metadata": {
    "tags": []
   },
   "outputs": [
    {
     "name": "stdout",
     "output_type": "stream",
     "text": [
      "\n",
      "create table if not exists osc_datacommons_dev.sandbox.essd_gwp_100yr(\n",
      "    gas varchar,\n",
      "    gwp_ar5 integer,\n",
      "    units varchar\n",
      ") with (\n",
      "\n",
      "format = 'ORC'\n",
      ")\n",
      "\n",
      "[(True,)]\n",
      "constructed fully qualified table name as: \"sandbox.essd_gwp_100yr\"\n",
      "inserting 33 records\n",
      "  ('C2F6', 11100, 'C2F6')\n",
      "  ('C3F8', 8900, 'C3F8')\n",
      "  ('C4F10', 9200, 'C4F10')\n",
      "  ...\n",
      "  ('SF6', 23500, 'SF6')\n",
      "batch insert result: [(33,)]\n"
     ]
    }
   ],
   "source": [
    "custom_meta_content = {\n",
    "    'title': 'Earth System Science Data (ESSD) Gas Species',\n",
    "    'author': essd_content_df[['Author & contact']].squeeze(),\n",
    "    'contact': essd_content_df[['Author & contact']].squeeze(),\n",
    "    'description': essd_content_df[['Regions']].squeeze(),\n",
    "    'release_date': essd_content_df[['Last date of compilation']].squeeze(),\n",
    "    # How should we describe our transformative step here?\n",
    "}\n",
    "\n",
    "custom_meta_fields = None\n",
    "\n",
    "create_essd_table('gwp_100yr', essd_gwp_df)"
   ]
  },
  {
   "cell_type": "code",
   "execution_count": 21,
   "id": "1e75dc9d-8b88-4e16-a1c0-abf4faff3215",
   "metadata": {},
   "outputs": [
    {
     "data": {
      "text/plain": [
       "Index(['sector_code', 'fossil_bio', 'gas', 'gwp_ar5_feedbacks', 'gwp_ar5',\n",
       "       'description', 'subsector', 'chapter_title', 'subsector_title'],\n",
       "      dtype='object')"
      ]
     },
     "metadata": {},
     "output_type": "display_data"
    }
   ],
   "source": [
    "essd_ch4_df = pd.read_excel(essd_tmpfile, sheet_name='CH4_gwps',\n",
    "                            # nrows=10,\n",
    "                            dtype={'gwp_ar5':'int32', 'subsector':'str'}, engine='openpyxl').convert_dtypes()\n",
    "\n",
    "display(essd_ch4_df.columns)"
   ]
  },
  {
   "cell_type": "code",
   "execution_count": 22,
   "id": "6045d1f3-e22c-4766-ac65-76f9f07ffd29",
   "metadata": {},
   "outputs": [
    {
     "name": "stdout",
     "output_type": "stream",
     "text": [
      "\n",
      "create table if not exists osc_datacommons_dev.sandbox.essd_ch4_gwp(\n",
      "    sector_code varchar,\n",
      "    fossil_bio varchar,\n",
      "    gas varchar,\n",
      "    gwp_ar5_feedbacks bigint,\n",
      "    gwp_ar5 integer,\n",
      "    description varchar,\n",
      "    subsector varchar,\n",
      "    chapter_title varchar,\n",
      "    subsector_title varchar\n",
      ") with (\n",
      "\n",
      "format = 'ORC'\n",
      ")\n",
      "\n",
      "[(True,)]\n",
      "constructed fully qualified table name as: \"sandbox.essd_ch4_gwp\"\n",
      "inserting 122 records\n",
      "  ('1A1a1', 'bio', 'CH4 Biogenic', 34, 28, 'Public Electricity Generation', '6.2', 'Energy systems', 'Biomass energy systems')\n",
      "  ('1A1a1', 'fossil', 'CH4 Fossil (Combustion)', 34, 28, 'Public Electricity Generation', '6.1', 'Energy systems', 'Electricity & heat')\n",
      "  ('1A1a2', 'bio', 'CH4 Biogenic', 34, 28, 'Public Combined Heat and Power gen.', '6.2', 'Energy systems', 'Biomass energy systems')\n",
      "  ...\n",
      "  ('4E', 'bio', 'CH4 Biogenic', 34, 28, 'Savannah fires', '7.6', 'AFOLU', 'Biomass burning (CO2, CH4)')\n",
      "batch insert result: [(122,)]\n"
     ]
    }
   ],
   "source": [
    "custom_meta_content = {\n",
    "    'title': 'Earth System Science Data (ESSD) CH4 GWPs',\n",
    "    'author': essd_content_df[['Author & contact']].squeeze(),\n",
    "    'contact': essd_content_df[['Author & contact']].squeeze(),\n",
    "    'description': essd_content_df[['Regions']].squeeze(),\n",
    "    'release_date': essd_content_df[['Last date of compilation']].squeeze(),\n",
    "    # How should we describe our transformative step here?\n",
    "}\n",
    "\n",
    "custom_meta_fields = None\n",
    "\n",
    "create_essd_table('ch4_gwp', essd_ch4_df)"
   ]
  },
  {
   "cell_type": "code",
   "execution_count": 23,
   "id": "b269b59b-42e6-463d-90a7-39636c75d190",
   "metadata": {},
   "outputs": [],
   "source": [
    "s3_gwp100_file = bObj = bucket.Object('ESSD/essd_ghg_data_gwp100.xlsx')\n",
    "essd_gwp100_tmpfile = f'/tmp/essd-gwp100.xlsx'\n",
    "s3_gwp100_file.download_file(essd_gwp100_tmpfile)\n",
    "timestamp = bObj.last_modified.isoformat()\n",
    "\n",
    "# This takes about 30sec to execute\n",
    "df = pd.read_excel(essd_gwp100_tmpfile, sheet_name='data',\n",
    "                   # nrows=10,\n",
    "                   converters={'year': lambda x: pd.to_datetime(x, format='%Y')},\n",
    "                   dtype={'gwp100_ar5':'int32',\n",
    "                          'CO2':'float64','CH4':'float64','N2O':'float64','Fgas':'float64','GHG':'float64'},\n",
    "                   engine='openpyxl')\n",
    "for col in ['CO2','CH4','N2O','Fgas','GHG']:\n",
    "    df.insert(df.columns.get_loc(col)+1, col + \"_units\", \"t CO2\" if col=='CO2' else \"t CO2e\")"
   ]
  },
  {
   "cell_type": "code",
   "execution_count": 27,
   "id": "b2e500de-db6f-4f45-8ba8-ae743c9c8849",
   "metadata": {},
   "outputs": [
    {
     "data": {
      "text/plain": [
       "Index(['ISO', 'country', 'region_ar6_6', 'region_ar6_10', 'region_ar6_22',\n",
       "       'region_ar6_dev', 'sector_title', 'subsector_title', 'CO2', 'CO2_units',\n",
       "       'CH4', 'CH4_units', 'N2O', 'N2O_units', 'Fgas', 'Fgas_units', 'GHG',\n",
       "       'GHG_units', 'year'],\n",
       "      dtype='object')"
      ]
     },
     "metadata": {},
     "output_type": "display_data"
    }
   ],
   "source": [
    "# Put year at the end to make for more friendly partitioning\n",
    "year_index = df.columns.get_loc('year')\n",
    "essd_gwp100_df = df[df.columns[:year_index].to_list()\n",
    "                    + df.columns[year_index+1:].to_list()\n",
    "                    + [df.columns[year_index]]]\n",
    "essd_gwp100_df = essd_gwp100_df.convert_dtypes()\n",
    "display(essd_gwp100_df.columns)"
   ]
  },
  {
   "cell_type": "code",
   "execution_count": 24,
   "id": "59161d29-6f20-4905-8db2-88fda45f59ec",
   "metadata": {
    "tags": []
   },
   "outputs": [],
   "source": [
    "essd_gwp100_content_df = pd.read_excel(essd_gwp100_tmpfile, sheet_name='info', header=None).dropna(axis=0).set_index(0).T\n",
    "custom_meta_content = {\n",
    "    'title': 'Earth System Science Data (ESSD) GWP100 Dataset',\n",
    "    'author': essd_content_df[['Author & contact']].squeeze(),\n",
    "    'contact': essd_content_df[['Author & contact']].squeeze(),\n",
    "    'description': essd_content_df[['Data description']].squeeze(),\n",
    "    'release_date': essd_content_df[['Last date of compilation']].squeeze(),\n",
    "    # How should we describe our transformative step here?\n",
    "}\n",
    "\n",
    "essd_gwp100_metadata_df = pd.read_excel(essd_gwp100_tmpfile, sheet_name='metadata')\n",
    "custom_meta_fields = { d['Variable']: {k:v for k,v in d.items() if k!='Variable' and v==v} for d in essd_metadata_df.to_dict('records') }"
   ]
  },
  {
   "cell_type": "code",
   "execution_count": 25,
   "id": "e543e243-a12f-4acd-a526-3b381424ac98",
   "metadata": {},
   "outputs": [
    {
     "data": {
      "text/plain": [
       "{'title': 'Earth System Science Data (ESSD) GWP100 Dataset',\n",
       " 'author': 'William F. Lamb (Lamb@mcc-berlin.net) compiled this data from underlying sources (see metadata).',\n",
       " 'contact': 'William F. Lamb (Lamb@mcc-berlin.net) compiled this data from underlying sources (see metadata).',\n",
       " 'description': 'This data file provides global, regional, national, and sectoral estimates of greenhouse gas (GHG) emissions from 1970-2019',\n",
       " 'release_date': '2021-10-13 14:49:22'}"
      ]
     },
     "execution_count": 25,
     "metadata": {},
     "output_type": "execute_result"
    }
   ],
   "source": [
    "custom_meta_content"
   ]
  },
  {
   "cell_type": "markdown",
   "id": "fbee9347-b8ab-429d-b4f1-d3c64f037995",
   "metadata": {},
   "source": [
    "Construct the combined metadata by merging existing table metadata and custom metadata.\n",
    "Note: The metadata content must be JSON serialisable and encoded as bytes; the metadata key must also be encoded as bytes."
   ]
  },
  {
   "cell_type": "code",
   "execution_count": 28,
   "id": "bb7d5791-7687-4414-903a-3569c5133a80",
   "metadata": {},
   "outputs": [
    {
     "name": "stdout",
     "output_type": "stream",
     "text": [
      "\n",
      "create table if not exists osc_datacommons_dev.sandbox.essd_gwp100_data(\n",
      "    ISO varchar,\n",
      "    country varchar,\n",
      "    region_ar6_6 varchar,\n",
      "    region_ar6_10 varchar,\n",
      "    region_ar6_22 varchar,\n",
      "    region_ar6_dev varchar,\n",
      "    sector_title varchar,\n",
      "    subsector_title varchar,\n",
      "    CO2 double,\n",
      "    CO2_units varchar,\n",
      "    CH4 double,\n",
      "    CH4_units varchar,\n",
      "    N2O double,\n",
      "    N2O_units varchar,\n",
      "    Fgas double,\n",
      "    Fgas_units varchar,\n",
      "    GHG double,\n",
      "    GHG_units varchar,\n",
      "    year timestamp(6)\n",
      ") with (\n",
      "partitioning = array['year'],\n",
      "format = 'ORC'\n",
      ")\n",
      "\n",
      "[(True,)]\n",
      "constructed fully qualified table name as: \"sandbox.essd_gwp100_data\"\n",
      "inserting 10000 records\n",
      "  ('ABW', 'Aruba', 'Latin America and Caribbean', 'Latin America and Caribbean', 'Caribbean', 'developing', 'Buildings', 'Residential', 545.2099, 't CO2', 4.34541267, 't CO2e', 1.310954463, 't CO2e', 0.0, 't CO2e', 550.866267133, 't CO2e', TIMESTAMP '1970-01-01 00:00:00')\n",
      "  ('ABW', 'Aruba', 'Latin America and Caribbean', 'Latin America and Caribbean', 'Caribbean', 'developing', 'Energy systems', 'Electricity & heat', 30913.971, 't CO2', 11.220446268, 't CO2e', 36.7172781885, 't CO2e', 0.0, 't CO2e', 30961.9087244565, 't CO2e', TIMESTAMP '1970-01-01 00:00:00')\n",
      "  ('ABW', 'Aruba', 'Latin America and Caribbean', 'Latin America and Caribbean', 'Caribbean', 'developing', 'Energy systems', 'Oil and gas fugitive emissions', 0.00632432, 't CO2', 1142.233938314, 't CO2e', 0.0, 't CO2e', 0.0, 't CO2e', 1142.240262634, 't CO2e', TIMESTAMP '1970-01-01 00:00:00')\n",
      "  ...\n",
      "  ('AUT', 'Austria', 'Developed Countries', 'Europe', 'Northern and western Europe', 'developed', 'Industry', 'Chemicals', 4330147.3, 't CO2', 2603.922, 't CO2e', 2401122.2235, 't CO2e', 0.0, 't CO2e', 6733873.4455, 't CO2e', TIMESTAMP '1976-01-01 00:00:00')\n",
      "batch insert result: [(10000,)]\n",
      "inserting 10000 records\n",
      "  ('AUT', 'Austria', 'Developed Countries', 'Europe', 'Northern and western Europe', 'developed', 'Industry', 'Metals', 7919223.7, 't CO2', 75355.4512, 't CO2e', 7137.039, 't CO2e', 747311.29, 't CO2e', 8749027.4802, 't CO2e', TIMESTAMP '1976-01-01 00:00:00')\n",
      "  ('AUT', 'Austria', 'Developed Countries', 'Europe', 'Northern and western Europe', 'developed', 'Industry', 'Other (industry)', 7412747.8, 't CO2', 9257.517, 't CO2e', 23038.07415, 't CO2e', 171.63, 't CO2e', 7445215.02115, 't CO2e', TIMESTAMP '1976-01-01 00:00:00')\n",
      "  ('AUT', 'Austria', 'Developed Countries', 'Europe', 'Northern and western Europe', 'developed', 'Industry', 'Waste', 4279.02, 't CO2', 5485034.49102, 't CO2e', 153051.89172, 't CO2e', 0.0, 't CO2e', 5642365.40274, 't CO2e', TIMESTAMP '1976-01-01 00:00:00')\n",
      "  ...\n",
      "  ('BIH', 'Bosnia and Herzegovina', 'Developed Countries', 'Europe', 'Southern and eastern Europe', 'developed', 'Transport', 'Road', 953609.7, 't CO2', 5706.97488, 't CO2e', 6447.96243, 't CO2e', 0.0, 't CO2e', 965764.63731, 't CO2e', TIMESTAMP '1994-01-01 00:00:00')\n",
      "batch insert result: [(10000,)]\n",
      "inserting 10000 records\n",
      "  ('BIH', 'Bosnia and Herzegovina', 'Developed Countries', 'Europe', 'Southern and eastern Europe', 'developed', 'AFOLU', 'Biomass burning (CH4, N2O)', 0.0, 't CO2', 5585.729193, 't CO2e', 1464.2426799, 't CO2e', 0.0, 't CO2e', 7049.9718729, 't CO2e', TIMESTAMP '1995-01-01 00:00:00')\n",
      "  ('BIH', 'Bosnia and Herzegovina', 'Developed Countries', 'Europe', 'Southern and eastern Europe', 'developed', 'AFOLU', 'Enteric Fermentation (CH4)', 0.0, 't CO2', 916461.0, 't CO2e', 0.0, 't CO2e', 0.0, 't CO2e', 916461.0, 't CO2e', TIMESTAMP '1995-01-01 00:00:00')\n",
      "  ('BIH', 'Bosnia and Herzegovina', 'Developed Countries', 'Europe', 'Southern and eastern Europe', 'developed', 'AFOLU', 'Managed soils and pasture (CO2, N2O)', 0.171, 't CO2', 0.0, 't CO2e', 323206.3832088, 't CO2e', 0.0, 't CO2e', 323206.5542088, 't CO2e', TIMESTAMP '1995-01-01 00:00:00')\n",
      "  ...\n",
      "  ('CAN', 'Canada', 'Developed Countries', 'North America', 'USA & Canada', 'developed', 'Energy systems', 'Petroleum refining', 19750274.8, 't CO2', 12673.81728, 't CO2e', 19338.228, 't CO2e', 0.0, 't CO2e', 19782286.84528, 't CO2e', TIMESTAMP '1999-01-01 00:00:00')\n",
      "batch insert result: [(10000,)]\n",
      "inserting 10000 records\n",
      "  ('CAN', 'Canada', 'Developed Countries', 'North America', 'USA & Canada', 'developed', 'Industry', 'Cement', 6678000.0, 't CO2', 0.0, 't CO2e', 0.0, 't CO2e', 0.0, 't CO2e', 6678000.0, 't CO2e', TIMESTAMP '1999-01-01 00:00:00')\n",
      "  ('CAN', 'Canada', 'Developed Countries', 'North America', 'USA & Canada', 'developed', 'Industry', 'Chemicals', 26933557.82, 't CO2', 173643.7156, 't CO2e', 1745846.0838, 't CO2e', 3409100.0, 't CO2e', 32262147.6194, 't CO2e', TIMESTAMP '1999-01-01 00:00:00')\n",
      "  ('CAN', 'Canada', 'Developed Countries', 'North America', 'USA & Canada', 'developed', 'Industry', 'Metals', 26466969.2, 't CO2', 161311.2328, 't CO2e', 24791.9763, 't CO2e', 7855632.636, 't CO2e', 34508705.0451, 't CO2e', TIMESTAMP '1999-01-01 00:00:00')\n",
      "  ...\n",
      "  ('COM', 'Comoros', 'Africa', 'Africa', 'Eastern Africa', 'ldc', 'Buildings', 'Residential', 3580.7312, 't CO2', 15165.621258264, 't CO2e', 2049.421022376, 't CO2e', 0.0, 't CO2e', 20795.77348064, 't CO2e', TIMESTAMP '1994-01-01 00:00:00')\n",
      "batch insert result: [(10000,)]\n",
      "inserting 10000 records\n",
      "  ('COM', 'Comoros', 'Africa', 'Africa', 'Eastern Africa', 'ldc', 'Energy systems', 'Electricity & heat', 8627.03, 't CO2', 2.6917866, 't CO2e', 11.54576787, 't CO2e', 0.0, 't CO2e', 8641.26755447, 't CO2e', TIMESTAMP '1994-01-01 00:00:00')\n",
      "  ('COM', 'Comoros', 'Africa', 'Africa', 'Eastern Africa', 'ldc', 'Energy systems', 'Other (energy systems)', 3890.0707, 't CO2', 18722.30733135, 't CO2e', 2067.695250075, 't CO2e', 0.0, 't CO2e', 24680.073281425, 't CO2e', TIMESTAMP '1994-01-01 00:00:00')\n",
      "  ('COM', 'Comoros', 'Africa', 'Africa', 'Eastern Africa', 'ldc', 'Industry', 'Chemicals', 1502.413, 't CO2', 0.0, 't CO2e', 1.388217831, 't CO2e', 0.0, 't CO2e', 1503.801217831, 't CO2e', TIMESTAMP '1994-01-01 00:00:00')\n",
      "  ...\n",
      "  ('DOM', 'Dominican Republic', 'Latin America and Caribbean', 'Latin America and Caribbean', 'Caribbean', 'developing', 'Energy systems', 'Other (energy systems)', 0.0, 't CO2', 441828.0, 't CO2e', 106224.7914, 't CO2e', 0.0, 't CO2e', 548052.7914, 't CO2e', TIMESTAMP '1986-01-01 00:00:00')\n",
      "batch insert result: [(10000,)]\n",
      "inserting 10000 records\n",
      "  ('DOM', 'Dominican Republic', 'Latin America and Caribbean', 'Latin America and Caribbean', 'Caribbean', 'developing', 'Energy systems', 'Petroleum refining', 33235.2, 't CO2', 15.579, 't CO2e', 15.7521, 't CO2e', 0.0, 't CO2e', 33266.5311, 't CO2e', TIMESTAMP '1986-01-01 00:00:00')\n",
      "  ('DOM', 'Dominican Republic', 'Latin America and Caribbean', 'Latin America and Caribbean', 'Caribbean', 'developing', 'Industry', 'Cement', 430304.0, 't CO2', 0.0, 't CO2e', 0.0, 't CO2e', 0.0, 't CO2e', 430304.0, 't CO2e', TIMESTAMP '1986-01-01 00:00:00')\n",
      "  ('DOM', 'Dominican Republic', 'Latin America and Caribbean', 'Latin America and Caribbean', 'Caribbean', 'developing', 'Industry', 'Chemicals', 47501.16, 't CO2', 0.0, 't CO2e', 19.89949962, 't CO2e', 0.0, 't CO2e', 47521.05949962, 't CO2e', TIMESTAMP '1986-01-01 00:00:00')\n",
      "  ...\n",
      "  ('FJI', 'Fiji', 'Asia and developing Pacific', 'South-East Asia and developing Pacific', 'Developing Pacific', 'developing', 'Transport', 'Other (transport)', 10950.1, 't CO2', 16.558074, 't CO2e', 1153.79082, 't CO2e', 0.0, 't CO2e', 12120.448894, 't CO2e', TIMESTAMP '1982-01-01 00:00:00')\n",
      "batch insert result: [(10000,)]\n",
      "inserting 10000 records\n",
      "  ('FJI', 'Fiji', 'Asia and developing Pacific', 'South-East Asia and developing Pacific', 'Developing Pacific', 'developing', 'Transport', 'Road', 286667.983, 't CO2', 2873.860992, 't CO2e', 2505.22010466, 't CO2e', 0.0, 't CO2e', 292047.06409666, 't CO2e', TIMESTAMP '1982-01-01 00:00:00')\n",
      "  ('FJI', 'Fiji', 'Asia and developing Pacific', 'South-East Asia and developing Pacific', 'Developing Pacific', 'developing', 'AFOLU', 'Biomass burning (CH4, N2O)', 0.0, 't CO2', 6117.7893192, 't CO2e', 1603.7166327, 't CO2e', 0.0, 't CO2e', 7721.5059519, 't CO2e', TIMESTAMP '1983-01-01 00:00:00')\n",
      "  ('FJI', 'Fiji', 'Asia and developing Pacific', 'South-East Asia and developing Pacific', 'Developing Pacific', 'developing', 'AFOLU', 'Enteric Fermentation (CH4)', 0.0, 't CO2', 426251.7, 't CO2e', 0.0, 't CO2e', 0.0, 't CO2e', 426251.7, 't CO2e', TIMESTAMP '1983-01-01 00:00:00')\n",
      "  ...\n",
      "  ('GNB', 'Guinea-Bissau', 'Africa', 'Africa', 'Western Africa', 'ldc', 'AFOLU', 'Rice cultivation (CH4)', 0.0, 't CO2', 166735.26, 't CO2e', 0.0, 't CO2e', 0.0, 't CO2e', 166735.26, 't CO2e', TIMESTAMP '1971-01-01 00:00:00')\n",
      "batch insert result: [(10000,)]\n",
      "inserting 10000 records\n",
      "  ('GNB', 'Guinea-Bissau', 'Africa', 'Africa', 'Western Africa', 'ldc', 'Buildings', 'Non-residential', 0.0, 't CO2', 95.0211, 't CO2e', 4.8038445, 't CO2e', 0.0, 't CO2e', 99.8249445, 't CO2e', TIMESTAMP '1971-01-01 00:00:00')\n",
      "  ('GNB', 'Guinea-Bissau', 'Africa', 'Africa', 'Western Africa', 'ldc', 'Buildings', 'Residential', 467.052, 't CO2', 74258.20845387, 't CO2e', 10011.8903779986, 't CO2e', 0.0, 't CO2e', 84737.1508318686, 't CO2e', TIMESTAMP '1971-01-01 00:00:00')\n",
      "  ('GNB', 'Guinea-Bissau', 'Africa', 'Africa', 'Western Africa', 'ldc', 'Energy systems', 'Electricity & heat', 255.563, 't CO2', 0.20113974, 't CO2e', 0.489604752, 't CO2e', 0.0, 't CO2e', 256.253744492, 't CO2e', TIMESTAMP '1971-01-01 00:00:00')\n",
      "  ...\n",
      "  ('HTI', 'Haiti', 'Latin America and Caribbean', 'Latin America and Caribbean', 'Caribbean', 'ldc', 'Industry', 'Waste', 0.0, 't CO2', 1217097.55224, 't CO2e', 55244.9898, 't CO2e', 0.0, 't CO2e', 1272342.54204, 't CO2e', TIMESTAMP '1994-01-01 00:00:00')\n",
      "batch insert result: [(10000,)]\n",
      "inserting 10000 records\n",
      "  ('HTI', 'Haiti', 'Latin America and Caribbean', 'Latin America and Caribbean', 'Caribbean', 'ldc', 'Transport', 'Other (transport)', 64170.6, 't CO2', 70.146, 't CO2e', 141.8508, 't CO2e', 0.0, 't CO2e', 64382.5968, 't CO2e', TIMESTAMP '1994-01-01 00:00:00')\n",
      "  ('HTI', 'Haiti', 'Latin America and Caribbean', 'Latin America and Caribbean', 'Caribbean', 'ldc', 'Transport', 'Road', 49688.1, 't CO2', 375.13962, 't CO2e', 330.551949, 't CO2e', 0.0, 't CO2e', 50393.791569, 't CO2e', TIMESTAMP '1994-01-01 00:00:00')\n",
      "  ('HTI', 'Haiti', 'Latin America and Caribbean', 'Latin America and Caribbean', 'Caribbean', 'ldc', 'AFOLU', 'Biomass burning (CH4, N2O)', 0.0, 't CO2', 24412.343274, 't CO2e', 6399.45044739, 't CO2e', 0.0, 't CO2e', 30811.79372139, 't CO2e', TIMESTAMP '1995-01-01 00:00:00')\n",
      "  ...\n",
      "  ('JAM', 'Jamaica', 'Latin America and Caribbean', 'Latin America and Caribbean', 'Caribbean', 'developing', 'Industry', 'Metals', 198958.0, 't CO2', 217.485, 't CO2e', 439.803, 't CO2e', 0.0, 't CO2e', 199615.288, 't CO2e', TIMESTAMP '1974-01-01 00:00:00')\n",
      "batch insert result: [(10000,)]\n",
      "inserting 10000 records\n",
      "  ('JAM', 'Jamaica', 'Latin America and Caribbean', 'Latin America and Caribbean', 'Caribbean', 'developing', 'Industry', 'Other (industry)', 3004924.8, 't CO2', 3568.752, 't CO2e', 8982.1368, 't CO2e', 0.0, 't CO2e', 3017475.6888, 't CO2e', TIMESTAMP '1974-01-01 00:00:00')\n",
      "  ('JAM', 'Jamaica', 'Latin America and Caribbean', 'Latin America and Caribbean', 'Caribbean', 'developing', 'Industry', 'Waste', 0.0, 't CO2', 350624.81583, 't CO2e', 26591.1555, 't CO2e', 0.0, 't CO2e', 377215.97133, 't CO2e', TIMESTAMP '1974-01-01 00:00:00')\n",
      "  ('JAM', 'Jamaica', 'Latin America and Caribbean', 'Latin America and Caribbean', 'Caribbean', 'developing', 'Transport', 'Domestic Aviation', 9380.0, 't CO2', 1.809, 't CO2e', 73.1641092, 't CO2e', 0.0, 't CO2e', 9454.9731092, 't CO2e', TIMESTAMP '1974-01-01 00:00:00')\n",
      "  ...\n",
      "  ('KWT', 'Kuwait', 'Middle East', 'Middle East', 'Middle East', 'developing', 'Transport', 'Road', 5838860.52, 't CO2', 43522.568352, 't CO2e', 56504.0852103, 't CO2e', 0.0, 't CO2e', 5938887.1735623, 't CO2e', TIMESTAMP '1998-01-01 00:00:00')\n",
      "batch insert result: [(10000,)]\n",
      "inserting 10000 records\n",
      "  ('KWT', 'Kuwait', 'Middle East', 'Middle East', 'Middle East', 'developing', 'AFOLU', 'Biomass burning (CH4, N2O)', 0.0, 't CO2', 100.460358, 't CO2e', 26.33470749, 't CO2e', 0.0, 't CO2e', 126.79506549, 't CO2e', TIMESTAMP '1999-01-01 00:00:00')\n",
      "  ('KWT', 'Kuwait', 'Middle East', 'Middle East', 'Middle East', 'developing', 'AFOLU', 'Enteric Fermentation (CH4)', 0.0, 't CO2', 121103.667, 't CO2e', 0.0, 't CO2e', 0.0, 't CO2e', 121103.667, 't CO2e', TIMESTAMP '1999-01-01 00:00:00')\n",
      "  ('KWT', 'Kuwait', 'Middle East', 'Middle East', 'Middle East', 'developing', 'AFOLU', 'Managed soils and pasture (CO2, N2O)', 1728.57, 't CO2', 0.0, 't CO2e', 94881.4520745, 't CO2e', 0.0, 't CO2e', 96610.0220745, 't CO2e', TIMESTAMP '1999-01-01 00:00:00')\n",
      "  ...\n",
      "  ('MAC', 'Macao SAR, China', 'Asia and developing Pacific', 'Eastern Asia', 'Eastern Asia', 'developing', 'Energy systems', 'Electricity & heat', 530975.356, 't CO2', 163.426232552135, 't CO2e', 662.597162507186, 't CO2e', 0.0, 't CO2e', 531801.379395059, 't CO2e', TIMESTAMP '2019-01-01 00:00:00')\n",
      "batch insert result: [(10000,)]\n",
      "inserting 10000 records\n",
      "  ('MAC', 'Macao SAR, China', 'Asia and developing Pacific', 'Eastern Asia', 'Eastern Asia', 'developing', 'Energy systems', 'Other (energy systems)', 64166.436, 't CO2', 2954.42474122831, 't CO2e', 14325.5906115776, 't CO2e', 0.0, 't CO2e', 81446.4513528059, 't CO2e', TIMESTAMP '2019-01-01 00:00:00')\n",
      "  ('MAC', 'Macao SAR, China', 'Asia and developing Pacific', 'Eastern Asia', 'Eastern Asia', 'developing', 'Industry', 'Cement', 199884.0, 't CO2', 0.0, 't CO2e', 0.0, 't CO2e', 0.0, 't CO2e', 199884.0, 't CO2e', TIMESTAMP '2019-01-01 00:00:00')\n",
      "  ('MAC', 'Macao SAR, China', 'Asia and developing Pacific', 'Eastern Asia', 'Eastern Asia', 'developing', 'Industry', 'Chemicals', 4157.23041, 't CO2', 0.0, 't CO2e', 53.0673955177899, 't CO2e', 0.0, 't CO2e', 4210.29780551779, 't CO2e', TIMESTAMP '2019-01-01 00:00:00')\n",
      "  ...\n",
      "  ('MOZ', 'Mozambique', 'Africa', 'Africa', 'Eastern Africa', 'ldc', 'Buildings', 'Non-CO2 (all buildings)', 0.0, 't CO2', 0.0, 't CO2e', 0.0, 't CO2e', 8820.725752, 't CO2e', 8820.725752, 't CO2e', TIMESTAMP '2008-01-01 00:00:00')\n",
      "batch insert result: [(10000,)]\n",
      "inserting 10000 records\n",
      "  ('MOZ', 'Mozambique', 'Africa', 'Africa', 'Eastern Africa', 'ldc', 'Buildings', 'Non-residential', 51351.3, 't CO2', 187.11, 't CO2e', 113.5134, 't CO2e', 0.0, 't CO2e', 51651.9234, 't CO2e', TIMESTAMP '2008-01-01 00:00:00')\n",
      "  ('MOZ', 'Mozambique', 'Africa', 'Africa', 'Eastern Africa', 'ldc', 'Buildings', 'Residential', 98085.2, 't CO2', 1213037.64, 't CO2e', 163662.408, 't CO2e', 0.0, 't CO2e', 1474785.248, 't CO2e', TIMESTAMP '2008-01-01 00:00:00')\n",
      "  ('MOZ', 'Mozambique', 'Africa', 'Africa', 'Eastern Africa', 'ldc', 'Energy systems', 'Coal mining fugitive emissions', 355.628, 't CO2', 15570.5, 't CO2e', 0.0, 't CO2e', 0.0, 't CO2e', 15926.128, 't CO2e', TIMESTAMP '2008-01-01 00:00:00')\n",
      "  ...\n",
      "  ('NIC', 'Nicaragua', 'Latin America and Caribbean', 'Latin America and Caribbean', 'Meso America', 'developing', 'Buildings', 'Non-residential', 88637.9, 't CO2', 3242.7, 't CO2e', 262.5168, 't CO2e', 0.0, 't CO2e', 92143.1168, 't CO2e', TIMESTAMP '1998-01-01 00:00:00')\n",
      "batch insert result: [(10000,)]\n",
      "inserting 10000 records\n",
      "  ('NIC', 'Nicaragua', 'Latin America and Caribbean', 'Latin America and Caribbean', 'Meso America', 'developing', 'Buildings', 'Residential', 78548.3, 't CO2', 302268.78, 't CO2e', 40821.9084, 't CO2e', 0.0, 't CO2e', 421638.9884, 't CO2e', TIMESTAMP '1998-01-01 00:00:00')\n",
      "  ('NIC', 'Nicaragua', 'Latin America and Caribbean', 'Latin America and Caribbean', 'Meso America', 'developing', 'Energy systems', 'Electricity & heat', 1423606.3, 't CO2', 5960.44575, 't CO2e', 9083.467848, 't CO2e', 0.0, 't CO2e', 1438650.213598, 't CO2e', TIMESTAMP '1998-01-01 00:00:00')\n",
      "  ('NIC', 'Nicaragua', 'Latin America and Caribbean', 'Latin America and Caribbean', 'Meso America', 'developing', 'Energy systems', 'Oil and gas fugitive emissions', 0.651743, 't CO2', 6752.393622, 't CO2e', 0.0, 't CO2e', 0.0, 't CO2e', 6753.045365, 't CO2e', TIMESTAMP '1998-01-01 00:00:00')\n",
      "  ...\n",
      "  ('PHL', 'Philippines', 'Asia and developing Pacific', 'South-East Asia and developing Pacific', 'South-East Asia', 'developing', 'Energy systems', 'Petroleum refining', 1633917.0, 't CO2', 628.56, 't CO2e', 3182.907, 't CO2e', 0.0, 't CO2e', 1637728.467, 't CO2e', TIMESTAMP '2004-01-01 00:00:00')\n",
      "batch insert result: [(10000,)]\n",
      "inserting 10000 records\n",
      "  ('PHL', 'Philippines', 'Asia and developing Pacific', 'South-East Asia and developing Pacific', 'South-East Asia', 'developing', 'Industry', 'Cement', 5606800.0, 't CO2', 0.0, 't CO2e', 0.0, 't CO2e', 0.0, 't CO2e', 5606800.0, 't CO2e', TIMESTAMP '2004-01-01 00:00:00')\n",
      "  ('PHL', 'Philippines', 'Asia and developing Pacific', 'South-East Asia and developing Pacific', 'South-East Asia', 'developing', 'Industry', 'Chemicals', 1854476.05, 't CO2', 766.189644, 't CO2e', 22711.4510805, 't CO2e', 0.0, 't CO2e', 1877953.6907245, 't CO2e', TIMESTAMP '2004-01-01 00:00:00')\n",
      "  ('PHL', 'Philippines', 'Asia and developing Pacific', 'South-East Asia and developing Pacific', 'South-East Asia', 'developing', 'Industry', 'Metals', 1555021.46, 't CO2', 760.185, 't CO2e', 1412.1198, 't CO2e', 0.0, 't CO2e', 1557193.7648, 't CO2e', TIMESTAMP '2004-01-01 00:00:00')\n",
      "  ...\n",
      "  ('ROU', 'Romania', 'Developed Countries', 'Europe', 'Southern and eastern Europe', 'developed', 'Energy systems', 'Electricity & heat', 39337276.03982, 't CO2', 16160.4729288, 't CO2e', 125853.40609842, 't CO2e', 0.0, 't CO2e', 39479289.9188472, 't CO2e', TIMESTAMP '2011-01-01 00:00:00')\n",
      "batch insert result: [(10000,)]\n",
      "inserting 10000 records\n",
      "  ('ROU', 'Romania', 'Developed Countries', 'Europe', 'Southern and eastern Europe', 'developed', 'Energy systems', 'Oil and gas fugitive emissions', 45839.57807, 't CO2', 5127799.42668, 't CO2e', 221.1724788, 't CO2e', 0.0, 't CO2e', 5173860.1772288, 't CO2e', TIMESTAMP '2011-01-01 00:00:00')\n",
      "  ('ROU', 'Romania', 'Developed Countries', 'Europe', 'Southern and eastern Europe', 'developed', 'Energy systems', 'Other (energy systems)', 2201241.8, 't CO2', 29861.406, 't CO2e', 328201.0095, 't CO2e', 43107.8256, 't CO2e', 2602412.0411, 't CO2e', TIMESTAMP '2011-01-01 00:00:00')\n",
      "  ('ROU', 'Romania', 'Developed Countries', 'Europe', 'Southern and eastern Europe', 'developed', 'Energy systems', 'Petroleum refining', 2909811.2, 't CO2', 1519.747677, 't CO2e', 3001.1436, 't CO2e', 0.0, 't CO2e', 2914332.091277, 't CO2e', TIMESTAMP '2011-01-01 00:00:00')\n",
      "  ...\n",
      "  ('SLV', 'El Salvador', 'Latin America and Caribbean', 'Latin America and Caribbean', 'Meso America', 'developing', 'AFOLU', 'Managed soils and pasture (CO2, N2O)', 281128.5, 't CO2', 0.0, 't CO2e', 745818.7118655, 't CO2e', 0.0, 't CO2e', 1026947.2118655, 't CO2e', TIMESTAMP '1997-01-01 00:00:00')\n",
      "batch insert result: [(10000,)]\n",
      "inserting 10000 records\n",
      "  ('SLV', 'El Salvador', 'Latin America and Caribbean', 'Latin America and Caribbean', 'Meso America', 'developing', 'AFOLU', 'Manure management (N2O, CH4)', 0.0, 't CO2', 52901.34813, 't CO2e', 16920.99864, 't CO2e', 0.0, 't CO2e', 69822.34677, 't CO2e', TIMESTAMP '1997-01-01 00:00:00')\n",
      "  ('SLV', 'El Salvador', 'Latin America and Caribbean', 'Latin America and Caribbean', 'Meso America', 'developing', 'AFOLU', 'Rice cultivation (CH4)', 0.0, 't CO2', 51212.2554, 't CO2e', 0.0, 't CO2e', 0.0, 't CO2e', 51212.2554, 't CO2e', TIMESTAMP '1997-01-01 00:00:00')\n",
      "  ('SLV', 'El Salvador', 'Latin America and Caribbean', 'Latin America and Caribbean', 'Meso America', 'developing', 'AFOLU', 'Synthetic fertilizer application (N2O)', 0.0, 't CO2', 0.0, 't CO2e', 309303.3216, 't CO2e', 0.0, 't CO2e', 309303.3216, 't CO2e', TIMESTAMP '1997-01-01 00:00:00')\n",
      "  ...\n",
      "  ('TCD', 'Chad', 'Africa', 'Africa', 'Southern and middle Africa', 'ldc', 'AFOLU', 'Enteric Fermentation (CH4)', 0.0, 't CO2', 5368096.8, 't CO2e', 0.0, 't CO2e', 0.0, 't CO2e', 5368096.8, 't CO2e', TIMESTAMP '1981-01-01 00:00:00')\n",
      "batch insert result: [(10000,)]\n",
      "inserting 10000 records\n",
      "  ('TCD', 'Chad', 'Africa', 'Africa', 'Southern and middle Africa', 'ldc', 'AFOLU', 'Managed soils and pasture (CO2, N2O)', 418.129, 't CO2', 0.0, 't CO2e', 2076574.290882, 't CO2e', 0.0, 't CO2e', 2076992.419882, 't CO2e', TIMESTAMP '1981-01-01 00:00:00')\n",
      "  ('TCD', 'Chad', 'Africa', 'Africa', 'Southern and middle Africa', 'ldc', 'AFOLU', 'Manure management (N2O, CH4)', 0.0, 't CO2', 201765.856581, 't CO2e', 10697.26070322, 't CO2e', 0.0, 't CO2e', 212463.11728422, 't CO2e', TIMESTAMP '1981-01-01 00:00:00')\n",
      "  ('TCD', 'Chad', 'Africa', 'Africa', 'Southern and middle Africa', 'ldc', 'AFOLU', 'Rice cultivation (CH4)', 0.0, 't CO2', 193046.22, 't CO2e', 0.0, 't CO2e', 0.0, 't CO2e', 193046.22, 't CO2e', TIMESTAMP '1981-01-01 00:00:00')\n",
      "  ...\n",
      "  ('TWN', 'Taiwan, China', 'Asia and developing Pacific', 'Eastern Asia', 'Eastern Asia', 'developing', 'Energy systems', 'Other (energy systems)', 509639.87, 't CO2', 15517.683, 't CO2e', 470988.634935, 't CO2e', 0.0, 't CO2e', 996146.187935, 't CO2e', TIMESTAMP '1986-01-01 00:00:00')\n",
      "batch insert result: [(10000,)]\n",
      "inserting 10000 records\n",
      "  ('TWN', 'Taiwan, China', 'Asia and developing Pacific', 'Eastern Asia', 'Eastern Asia', 'developing', 'Energy systems', 'Petroleum refining', 5611593.8, 't CO2', 2635.9695, 't CO2e', 7533.3531, 't CO2e', 0.0, 't CO2e', 5621763.1226, 't CO2e', TIMESTAMP '1986-01-01 00:00:00')\n",
      "  ('TWN', 'Taiwan, China', 'Asia and developing Pacific', 'Eastern Asia', 'Eastern Asia', 'developing', 'Industry', 'Cement', 5904000.0, 't CO2', 0.0, 't CO2e', 0.0, 't CO2e', 0.0, 't CO2e', 5904000.0, 't CO2e', TIMESTAMP '1986-01-01 00:00:00')\n",
      "  ('TWN', 'Taiwan, China', 'Asia and developing Pacific', 'Eastern Asia', 'Eastern Asia', 'developing', 'Industry', 'Chemicals', 9110491.115, 't CO2', 36309.907, 't CO2e', 439811.490846, 't CO2e', 0.0, 't CO2e', 9586612.512846, 't CO2e', TIMESTAMP '1986-01-01 00:00:00')\n",
      "  ...\n",
      "  ('VNM', 'Vietnam', 'Asia and developing Pacific', 'South-East Asia and developing Pacific', 'South-East Asia', 'developing', 'Transport', 'Road', 1435923.6, 't CO2', 18547.438077, 't CO2e', 6525.063909, 't CO2e', 0.0, 't CO2e', 1460996.101986, 't CO2e', TIMESTAMP '1980-01-01 00:00:00')\n",
      "batch insert result: [(10000,)]\n",
      "inserting 6639 records\n",
      "  ('VNM', 'Vietnam', 'Asia and developing Pacific', 'South-East Asia and developing Pacific', 'South-East Asia', 'developing', 'AFOLU', 'Biomass burning (CH4, N2O)', 0.0, 't CO2', 1091119.7529, 't CO2e', 286026.063141, 't CO2e', 0.0, 't CO2e', 1377145.816041, 't CO2e', TIMESTAMP '1981-01-01 00:00:00')\n",
      "  ('VNM', 'Vietnam', 'Asia and developing Pacific', 'South-East Asia and developing Pacific', 'South-East Asia', 'developing', 'AFOLU', 'Enteric Fermentation (CH4)', 0.0, 't CO2', 6237885.6, 't CO2e', 0.0, 't CO2e', 0.0, 't CO2e', 6237885.6, 't CO2e', TIMESTAMP '1981-01-01 00:00:00')\n",
      "  ('VNM', 'Vietnam', 'Asia and developing Pacific', 'South-East Asia and developing Pacific', 'South-East Asia', 'developing', 'AFOLU', 'Managed soils and pasture (CO2, N2O)', 391138.0, 't CO2', 0.0, 't CO2e', 3160756.55259, 't CO2e', 0.0, 't CO2e', 3551894.55259, 't CO2e', TIMESTAMP '1981-01-01 00:00:00')\n",
      "  ...\n",
      "  ('ZWE', 'Zimbabwe', 'Africa', 'Africa', 'Eastern Africa', 'developing', 'Transport', 'Road', 2236932.3, 't CO2', 0.0, 't CO2e', 0.0, 't CO2e', 0.0, 't CO2e', 2236932.3, 't CO2e', TIMESTAMP '2020-01-01 00:00:00')\n",
      "batch insert result: [(6639,)]\n"
     ]
    }
   ],
   "source": [
    "create_essd_table('gwp100_data', essd_gwp100_df, \"array['year']\")\n",
    "del(essd_gwp100_df)"
   ]
  },
  {
   "cell_type": "code",
   "execution_count": 29,
   "id": "f8214a50-4cd3-47b7-9653-577b08fdebf5",
   "metadata": {},
   "outputs": [
    {
     "data": {
      "text/plain": [
       "Index(['region_ar6_6', 'region_ar6_10', 'blue', 'blue_units', 'houghton',\n",
       "       'houghton_units', 'oscar', 'oscar_units', 'mean', 'mean_units', 'year'],\n",
       "      dtype='object')"
      ]
     },
     "metadata": {},
     "output_type": "display_data"
    }
   ],
   "source": [
    "# This table is not so large that we need to load it via the filesystem\n",
    "\n",
    "import io\n",
    "\n",
    "bObj = bucket.Object('ESSD/essd_lulucf_data.xlsx')\n",
    "lulucf_bytes = io.BytesIO(bucket.Object(bObj.key).get()['Body'].read())\n",
    "timestamp = bObj.last_modified.isoformat()\n",
    "\n",
    "df = pd.read_excel(lulucf_bytes, sheet_name='data',\n",
    "                   # nrows=10,\n",
    "                   converters={'year': lambda x: pd.to_datetime(x, format='%Y')}, engine='openpyxl')\n",
    "\n",
    "for col in ['blue', 'houghton', 'oscar', 'mean']:\n",
    "    df.insert(df.columns.get_loc(col)+1, col + \"_units\", \"t CO2e\")\n",
    "\n",
    "# Put year at the end to make for more friendly partitioning\n",
    "year_index = df.columns.get_loc('year')\n",
    "lulucf_df = df[df.columns[:year_index].to_list()\n",
    "               + df.columns[year_index+1:].to_list()\n",
    "               + [df.columns[year_index]]]\n",
    "lulucf_df = lulucf_df.convert_dtypes()\n",
    "\n",
    "display(lulucf_df.columns)"
   ]
  },
  {
   "cell_type": "code",
   "execution_count": 30,
   "id": "65f2a649-36bd-4ac8-9c95-bdbf2666e794",
   "metadata": {
    "tags": []
   },
   "outputs": [],
   "source": [
    "lulucf_content_df = pd.read_excel(lulucf_bytes, sheet_name='info', header=None).dropna(axis=0).set_index(0).T\n",
    "custom_meta_content = {\n",
    "    'title': 'Earth System Science Data (ESSD) Land Use Change and Forestry Dataset',\n",
    "    'author': lulucf_content_df[['Author']].squeeze(),\n",
    "    'contact': lulucf_content_df[['Contact']].squeeze(),\n",
    "    'description': lulucf_content_df[['Info']].squeeze(),\n",
    "    'release_date': essd_content_df[['Last date of compilation']].squeeze(),\n",
    "    # How should we describe our transformative step here?\n",
    "}\n",
    "\n",
    "custom_meta_fields = { 'Units': { k:'tCO2' for k in ['blue', 'houghton', 'oscar', 'mean'] }}"
   ]
  },
  {
   "cell_type": "code",
   "execution_count": 31,
   "id": "9f368aae-7ce7-43d0-beea-95b32dc5b5ba",
   "metadata": {},
   "outputs": [
    {
     "data": {
      "text/plain": [
       "{'title': 'Earth System Science Data (ESSD) Land Use Change and Forestry Dataset',\n",
       " 'author': 'Julia Pongratz',\n",
       " 'contact': 'William F. Lamb (Lamb@mcc-berlin.net)',\n",
       " 'description': 'This data file provides historical estimates of CO2 emissions from land use, land use change and forestry. It is based on three land use bookeeping models (BLUE, Houghton & Nassikas, OSCAR). Following a practice established by the global carbon budget, and recently the Working Group I of the IPCC (6th Assessment Report), CO2-LULUCF emissions are taken as the mean of these three models.',\n",
       " 'release_date': '2021-10-13 14:49:22'}"
      ]
     },
     "execution_count": 31,
     "metadata": {},
     "output_type": "execute_result"
    }
   ],
   "source": [
    "custom_meta_content"
   ]
  },
  {
   "cell_type": "markdown",
   "id": "34775abd-753d-457d-98e4-3bed4fdff440",
   "metadata": {},
   "source": [
    "Construct the combined metadata by merging existing table metadata and custom metadata.\n",
    "Note: The metadata content must be JSON serialisable and encoded as bytes; the metadata key must also be encoded as bytes."
   ]
  },
  {
   "cell_type": "code",
   "execution_count": 32,
   "id": "e14c87c2-2216-4e2d-b206-259185656d38",
   "metadata": {},
   "outputs": [
    {
     "name": "stdout",
     "output_type": "stream",
     "text": [
      "\n",
      "create table if not exists osc_datacommons_dev.sandbox.essd_lulucf(\n",
      "    region_ar6_6 varchar,\n",
      "    region_ar6_10 varchar,\n",
      "    blue double,\n",
      "    blue_units varchar,\n",
      "    houghton double,\n",
      "    houghton_units varchar,\n",
      "    oscar double,\n",
      "    oscar_units varchar,\n",
      "    mean double,\n",
      "    mean_units varchar,\n",
      "    year timestamp(6)\n",
      ") with (\n",
      "partitioning = array['year'],\n",
      "format = 'ORC'\n",
      ")\n",
      "\n",
      "[(True,)]\n",
      "constructed fully qualified table name as: \"sandbox.essd_lulucf\"\n",
      "inserting 1700 records\n",
      "  ('Africa', 'Africa', 247575204.928, 't CO2e', 25404728.72, 't CO2e', 107474280.0, 't CO2e', 126818071.216, 't CO2e', TIMESTAMP '1850-01-01 00:00:00')\n",
      "  ('Africa', 'Africa', 229989415.568, 't CO2e', 25494548.016, 't CO2e', 106888040.0, 't CO2e', 120790667.861333, 't CO2e', TIMESTAMP '1851-01-01 00:00:00')\n",
      "  ('Africa', 'Africa', 226338781.84, 't CO2e', 25584817.984, 't CO2e', 106265160.0, 't CO2e', 119396253.274667, 't CO2e', TIMESTAMP '1852-01-01 00:00:00')\n",
      "  ...\n",
      "  ('Middle East', 'Middle East', -5453068.912, 't CO2e', 12088019.648, 't CO2e', -11226496.0, 't CO2e', -1530515.088, 't CO2e', TIMESTAMP '2019-01-01 00:00:00')\n",
      "batch insert result: [(1700,)]\n"
     ]
    }
   ],
   "source": [
    "create_essd_table('lulucf', lulucf_df, \"array['year']\")\n",
    "del(lulucf_df)"
   ]
  },
  {
   "cell_type": "raw",
   "id": "a8aaa695-0f79-47dc-bbb1-995fa7d0cc45",
   "metadata": {},
   "source": [
    "# cur.execute('create schema if not exists osc_datacommons_dev.' + schemaname)\n",
    "\n",
    "cur.execute('show tables in essd')\n",
    "cur.fetchall()"
   ]
  },
  {
   "cell_type": "markdown",
   "id": "85ec80d1-600a-4e0b-bb8b-2b2c8ca30f50",
   "metadata": {
    "tags": []
   },
   "source": [
    "## Load metadata following an ingestion process into trino metadata store\n",
    "\n",
    "### The schema is *metastore*, and the table names are *meta_schema*, *meta_table*, *meta_field*"
   ]
  },
  {
   "cell_type": "raw",
   "id": "1072a510-07ef-4de4-be92-a5ca20922ddc",
   "metadata": {},
   "source": [
    "# Create metastore structure\n",
    "metastore = {'catalog':'osc_datacommons_dev',\n",
    "             'schema':'essd',\n",
    "             'table':tablename,\n",
    "             'metadata':custom_meta_content,\n",
    "             'uuid':ingest_uuid}\n",
    "# Create DataFrame\n",
    "df_meta = pd.DataFrame(metastore)\n",
    "# Print the output\n",
    "df_meta\n",
    "\n",
    "# ??? Now what?"
   ]
  },
  {
   "cell_type": "code",
   "execution_count": null,
   "id": "0fcaf595-2877-46f1-86c4-37a83efd6e09",
   "metadata": {},
   "outputs": [],
   "source": []
  }
 ],
 "metadata": {
  "kernelspec": {
   "display_name": "Python 3 (ipykernel)",
   "language": "python",
   "name": "python3"
  },
  "language_info": {
   "codemirror_mode": {
    "name": "ipython",
    "version": 3
   },
   "file_extension": ".py",
   "mimetype": "text/x-python",
   "name": "python",
   "nbconvert_exporter": "python",
   "pygments_lexer": "ipython3",
   "version": "3.9.12"
  }
 },
 "nbformat": 4,
 "nbformat_minor": 5
}

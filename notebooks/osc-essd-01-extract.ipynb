{
 "cells": [
  {
   "cell_type": "markdown",
   "id": "2590fd22-9096-4f87-8412-ad38ff375727",
   "metadata": {
    "tags": []
   },
   "source": [
    "## Extract Earth System Science Data (ESSD) datasets from S3 into Pachyderm\n",
    "\n",
    "Copyright (C) 2021 OS-Climate\n",
    "\n",
    "Permission is hereby granted, free of charge, to any person obtaining a copy of this software and associated documentation files (the \"Software\"), to deal in the Software without restriction, including without limitation the rights to use, copy, modify, merge, publish, distribute, sublicense, and/or sell copies of the Software, and to permit persons to whom the Software is furnished to do so, subject to the following conditions:\n",
    "\n",
    "The above copyright notice and this permission notice shall be included in all copies or substantial portions of the Software.\n",
    "\n",
    "THE SOFTWARE IS PROVIDED \"AS IS\", WITHOUT WARRANTY OF ANY KIND, EXPRESS OR IMPLIED, INCLUDING BUT NOT LIMITED TO THE WARRANTIES OF MERCHANTABILITY, FITNESS FOR A PARTICULAR PURPOSE AND NONINFRINGEMENT. IN NO EVENT SHALL THE AUTHORS OR COPYRIGHT HOLDERS BE LIABLE FOR ANY CLAIM, DAMAGES OR OTHER LIABILITY, WHETHER IN AN ACTION OF CONTRACT, TORT OR OTHERWISE, ARISING FROM, OUT OF OR IN CONNECTION WITH THE SOFTWARE OR THE USE OR OTHER DEALINGS IN THE SOFTWARE.\n",
    "\n",
    "Contributed by Michael Tiemann (Github: MichaelTiemannOSC)"
   ]
  },
  {
   "cell_type": "code",
   "execution_count": null,
   "id": "ed12e89e-26d1-4a9f-858f-8ec19e109962",
   "metadata": {},
   "outputs": [],
   "source": [
    "import os\n",
    "import boto3\n",
    "import openpyxl\n",
    "\n",
    "import osc_ingest_trino as osc\n",
    "\n",
    "import python_pachyderm\n",
    "import grpc\n",
    "\n",
    "import io\n",
    "\n",
    "# from pandas_profiling import ProfileReport  # Not compatible with Pydantic >=2.0"
   ]
  },
  {
   "cell_type": "markdown",
   "id": "97cd47b9-ce08-4102-9720-c0401710245c",
   "metadata": {},
   "source": [
    "Load Credentials"
   ]
  },
  {
   "cell_type": "code",
   "execution_count": null,
   "id": "0c9272c4-2f67-4769-b994-f4f110da425f",
   "metadata": {
    "tags": []
   },
   "outputs": [],
   "source": [
    "# From the AWS Account page, copy the export scripts from the appropriate role using the \"Command Line or Programmatic Access\" link\n",
    "# Paste the copied text into ~/credentials.env\n",
    "\n",
    "# Load environment variables from credentials.env\n",
    "osc.load_credentials_dotenv()"
   ]
  },
  {
   "cell_type": "markdown",
   "id": "a2554e5b-cac3-4495-b9f5-2b08da83c6b6",
   "metadata": {},
   "source": [
    "Create an S3 resource for the bucket holding source data"
   ]
  },
  {
   "cell_type": "code",
   "execution_count": null,
   "id": "3f457d9c-cd23-41c4-bdb9-051b401a8951",
   "metadata": {},
   "outputs": [],
   "source": [
    "s3_source = boto3.resource(\n",
    "    service_name=\"s3\",\n",
    "    endpoint_url=os.environ['S3_LANDING_ENDPOINT'],\n",
    "    aws_access_key_id=os.environ['S3_LANDING_ACCESS_KEY'],\n",
    "    aws_secret_access_key=os.environ['S3_LANDING_SECRET_KEY'],\n",
    ")\n",
    "bucket = s3_source.Bucket(os.environ['S3_LANDING_BUCKET'])"
   ]
  },
  {
   "cell_type": "code",
   "execution_count": null,
   "id": "e36febd0-c520-4b04-b832-fe64d7bc92e2",
   "metadata": {},
   "outputs": [],
   "source": [
    "# Create a pachyderm client by manually setting up host and port\n",
    "try:\n",
    "    client = python_pachyderm.Client(os.environ['PACH_ENDPOINT'], os.environ['PACH_PORT'])\n",
    "    client.health_check()\n",
    "except grpc._channel._InactiveRpcError:\n",
    "    client = python_pachyderm.Client(\"localhost\", os.environ['PACH_PORT'])"
   ]
  },
  {
   "cell_type": "code",
   "execution_count": null,
   "id": "64ea3b76-457a-4aa1-a444-cf5186da2477",
   "metadata": {},
   "outputs": [],
   "source": [
    "client.delete_repo(\"essd\")"
   ]
  },
  {
   "cell_type": "code",
   "execution_count": null,
   "id": "f92e16c2-a493-4d2a-8a6a-42b02a6044c8",
   "metadata": {},
   "outputs": [],
   "source": [
    "# Create a new pachyderm repo called `essd`\n",
    "client.create_repo(\"essd\")"
   ]
  },
  {
   "cell_type": "code",
   "execution_count": null,
   "id": "d80ba556-43d1-4d2b-a45d-0aa3e7a92f40",
   "metadata": {},
   "outputs": [],
   "source": [
    "# Display list of repos\n",
    "print(list(client.list_repo()))"
   ]
  },
  {
   "cell_type": "code",
   "execution_count": null,
   "id": "989f3fe7-62cb-40a7-ac22-6e0f22e4e58d",
   "metadata": {},
   "outputs": [],
   "source": [
    "s3_client = boto3.client('s3',\n",
    "                         aws_access_key_id=os.environ['S3_LANDING_ACCESS_KEY'],\n",
    "                         aws_secret_access_key=os.environ['S3_LANDING_SECRET_KEY'],)\n",
    "\n",
    "with client.commit(\"essd\", \"master\") as commit:\n",
    "    for o in bucket.objects.filter(Prefix='ESSD/').all():\n",
    "        (_, path) = o.key.split('/', 1)\n",
    "        if not path:\n",
    "            # Skip ESSD directory all by itself\n",
    "            continue\n",
    "        bytes_buffer = io.BytesIO()\n",
    "        s3_client.download_fileobj(Bucket=bucket.name, Key=o.key, Fileobj=bytes_buffer)\n",
    "        client.put_file_bytes(commit, \"/ESSD/\" + path, bytes_buffer.getvalue())"
   ]
  },
  {
   "cell_type": "code",
   "execution_count": null,
   "id": "45f43241-8eeb-41d6-999c-ad5c63a9d502",
   "metadata": {},
   "outputs": [],
   "source": [
    "# Check the file commit\n",
    "print(list(client.list_file((\"essd\",\"master\"), \"/ESSD/\")))"
   ]
  },
  {
   "cell_type": "code",
   "execution_count": null,
   "id": "4b1550eb-cc2b-4f9b-9617-91eb205acbcc",
   "metadata": {},
   "outputs": [],
   "source": []
  }
 ],
 "metadata": {
  "kernelspec": {
   "display_name": "Python 3 (ipykernel)",
   "language": "python",
   "name": "python3"
  },
  "language_info": {
   "codemirror_mode": {
    "name": "ipython",
    "version": 3
   },
   "file_extension": ".py",
   "mimetype": "text/x-python",
   "name": "python",
   "nbconvert_exporter": "python",
   "pygments_lexer": "ipython3",
   "version": "3.11.4"
  }
 },
 "nbformat": 4,
 "nbformat_minor": 5
}
